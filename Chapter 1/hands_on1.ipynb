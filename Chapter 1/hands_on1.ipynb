{
 "cells": [
  {
   "cell_type": "markdown",
   "id": "e2e26b5d-6987-4470-8c30-702d7af538ec",
   "metadata": {},
   "source": [
    "<h1 style='font-size:40px'> The Fundamentals of Machine Learning</h1>"
   ]
  },
  {
   "cell_type": "markdown",
   "id": "5c5f67bb-910a-4e25-9459-ae3b60503105",
   "metadata": {},
   "source": [
    "<div>\n",
    "    <h2 style='font-size:30px'>Tipos de Machine Learning por forma de aprendizado</h2>\n",
    "    <div>\n",
    "    <h3 style='font-size:30px;font-style:italic'>  Supervised-Learning</h3>\n",
    "    <ul style='font-size:20px'>\n",
    "        <li>\n",
    "            O Aprendizado Supervisonado ocorre quando os dados que treinam o nosso algoritmo contêm os resultados que esperamos que sejam alcançados (variáveis dependentes).\n",
    "        </li>\n",
    "    </ul>\n",
    "    </div>\n",
    "    <div>\n",
    "        <h3 style='font-size:30px;font-style:italic'>Classificação</h3>\n",
    "        <ul style='font-size:20px'>\n",
    "            <li>\n",
    "                A classificação consiste na adivinhação da categoria/classe à qual uma dada instância do dataset pertence.\n",
    "            </li>   \n",
    "        </ul>\n",
    "        <h3 style='font-size:30px;font-style:italic'>Regressão</h3>\n",
    "        <ul style='font-size:20px'>\n",
    "            <li>\n",
    "                É a estimativa de um valor numérico com base nos valores de outras informações fornecidas.\n",
    "            </li>   \n",
    "        </ul>\n",
    "    </div>\n",
    "</div>"
   ]
  },
  {
   "cell_type": "markdown",
   "id": "ecba6d3e-dca1-41c1-828f-7e7f85dc912a",
   "metadata": {},
   "source": [
    "<h3 style='font-size:30px;font-style:italic'> Unsupervised-Learning</h3>\n",
    "<div>\n",
    "    <ul style='font-size:20px'> \n",
    "        <li>\n",
    "            Ocorre quando o dataset de treino não possui os rótulos ou os números das instâncias.\n",
    "        </li>\n",
    "        <li>\n",
    "            <em> Redução de Dimensionalidade</em>: Consiste em reduzir o número de dados que alimentarão o modelo por meio da fusão das diferentes métricas presentes no dataset (por exemplo, tornar a quilometragem e idade de um certo veículo um único índice).\n",
    "        </li>\n",
    "    </ul>\n",
    "</div>"
   ]
  },
  {
   "cell_type": "markdown",
   "id": "8617834a-11cf-469d-b5b5-ec4317e3de6b",
   "metadata": {},
   "source": [
    "<h3 style='font-size:30px;font-style:italic'> Semi-supervised Learning</h3>\n",
    "<div>\n",
    "    <ul style='font-size:20px'>\n",
    "        <li>\n",
    "            Consiste em fazer um algoritmo trabalhar em etapas em que ele fará um aprendizado não-supervisionado e outras nas quais a supervisão será necessária.\n",
    "        </li>\n",
    "        <li>\n",
    "            Por exemplo, em sistemas de reconhecimento facial, o computador aprende a distinguir diferentes pessoas apenas por suas características físicas (aprendizado não-supervisionado). Após esse processo, um ser-humano poderá nomear cada um dos indivíduos identificados (aprendizado supervisionado), de maneira que a máquina aprenderá o nome de cada pessoa que ela reconheceu.\n",
    "        </li>\n",
    "    </ul>\n",
    "</div>"
   ]
  },
  {
   "cell_type": "markdown",
   "id": "a02dc04e-0004-4d7c-8ab6-fe05c8902eb9",
   "metadata": {},
   "source": [
    "<h3 style='font-size:30px;font-style:italic'> Reinforcement Learning</h3>\n",
    "<div>\n",
    "    <ul style='font-size:20px'>\n",
    "        <li>\n",
    "            É o aprendizado por tentativa e erro. Nele, a máquina criar um sistema de pontuação para as suas ações; as práticas consideradas ruins induzem pontos negativos, já as boas, em positivos. Ao final do processo, o computador deverá ter aprendido o conjunto de ações, ou <em>política</em>, ótimo(a).\n",
    "        </li>\n",
    "        <li>\n",
    "            Muitas das inteligências artifiais de videogames aprendem a agir com base no aprendizado reforçado. Por exemplo, o computador que derrotou Gary Kasparov moldou a sua estratégia de xadrez com base na experiência que teve em milhões de jogos em que participou.\n",
    "        </li>\n",
    "    </ul>\n",
    "</div>"
   ]
  },
  {
   "cell_type": "markdown",
   "id": "8c61e298-e2ee-4cd3-b08a-7067fd28591c",
   "metadata": {},
   "source": [
    "<h2 style='font-size:30px'> Tipos de Machine Learning quanto à origem dos dados </h2>\n",
    "<div>\n",
    "    <h3 style='font-size:30px;font-style:italic'>Batch Learning </h3>\n",
    "    <ul style='font-size:20px'>\n",
    "        <li>\n",
    "            Os aprendizados de máquina do tipo batch são alimentados por dados fixos. Ou seja, para modernizar ou aperfeiçoar o modelo, teremos que periodicamente treiná-lo com dataset atualizado.\n",
    "        </li>\n",
    "    </ul>\n",
    "</div>\n",
    "<div>\n",
    "    <h3 style='font-size:30px;font-style:italic'>Online Learning </h3>\n",
    "    <ul style='font-size:20px'>\n",
    "        <li>\n",
    "            Nesse modelo de ML, os dados são fornecidos ao vivo para o modelo. Dessa forma, ele é capaz de se aperfeiçoar initerruptamente.\n",
    "        </li>\n",
    "        <li>\n",
    "            Apesar de possuir <em>online</em> em seu nome, esse tipo de aprendizado pode funcionar em ambientes offline. Um exemplo disso seria o <em>out-of-core learning</em>, que treina o algoritmo iterativamente com pedaços do dataset (muitas vezes por limitações de memória).\n",
    "        </li>\n",
    "    </ul>\n",
    "</div>"
   ]
  },
  {
   "cell_type": "markdown",
   "id": "80b9cca9-20eb-4f0a-a435-b4c262664d76",
   "metadata": {},
   "source": [
    "<h2 style='font-size:30px'> Tipos de Machine Learning quanto à forma de generalização </h2>\n",
    "<div>\n",
    "    <h3 style='font-size:30px;font-style:italic'> Instance-based Learning</h3>\n",
    "    <ul style='font-size:20px'>\n",
    "        <li>\n",
    "            Nele, o modelo memoriza todas as instâncias de teste e suas características. Quando uma entidade desconhecida surge, ele apenas a compara com todos os exemplos que conhece e, a partir disso, designa uma classe ou valor a ela. O KNN é um tipo de Instance-based Learning!\n",
    "        </li>\n",
    "    </ul>\n",
    "</div>\n",
    "<div>\n",
    "    <h3 style='font-size:30px;font-style:italic'> Model-based Learning</h3>\n",
    "    <ul style='font-size:20px'>\n",
    "        <li>\n",
    "            Nele, o aprendizado se dá por meio de um modelo que foi construído com os dados de treino. Um exemplo disso seria a Regressão Linear; sua fórmula nunca é a mesma, pois ela será construída com o dataset de treino.\n",
    "        </li>\n",
    "    </ul>\n",
    "</div>"
   ]
  },
  {
   "cell_type": "markdown",
   "id": "2954755c-3309-404f-adcc-5802ca7e5836",
   "metadata": {},
   "source": [
    "<h2 style='font-size:30px'> Main Challenges of Machine Learning</h2>\n",
    "<div>\n",
    "    <h3 style='font-size:30px;font-style:italic'> Insufficient Quantity of Training Data</h3>\n",
    "    <ul style='font-size:20px'>\n",
    "        <li>\n",
    "            Os modelos devem receber uma quantidade adequada de instâncias de treino para que aprendam de maneira eficaz a generalizar novas entidades.\n",
    "        </li>\n",
    "    </ul>\n",
    "    <h3 style='font-size:30px;font-style:italic'> Nonrepresentative Training Data</h3>\n",
    "    <ul style='font-size:20px'>\n",
    "        <li>\n",
    "            Quando montamos um dataset de treino, é importante que todas as espécies de categorias estejam presentes. Dessa forma, o modelo aprenderá com uma melhor qualidade a prever a ocorrência de cada uma delas.\n",
    "        </li>\n",
    "    </ul>\n",
    "    <h3 style='font-size:30px;font-style:italic'> Poor-Quality Data</h3>\n",
    "    <ul style='font-size:20px'>\n",
    "        <li>\n",
    "            Como é de se esperar, a planilha com a qual você trabalhará pode conter erros. Por isso, é importante verificar a integridade dos dados e, quando possível, limpá-los.\n",
    "        </li>\n",
    "    </ul>\n",
    "    <h3 style='font-size:30px;font-style:italic'> Irrelevant Features</h3>\n",
    "    <ul style='font-size:20px'>\n",
    "        <li>\n",
    "            Priorizar o uso dos fatores mais importantes na alimentação do modelo é algo que pode aumentar a sua velocidade de processamento. Isso pode ser feito com a exclusão das características menos importantes ou com a fusão de várias em uma mais útil (por meio da redução de dimensionalidade, por exemplo).\n",
    "        </li>\n",
    "    </ul>\n",
    "    <h3 style='font-size:30px;font-style:italic'>Overfitting</h3>\n",
    "    <ul style='font-size:20px'>\n",
    "        <li>\n",
    "            Tornar o modelo viciado com os dados de treino pode ser fatal e sua construção. Dessa forma, é essencial buscarmos o equilíbrio entre torná-lo excessivamente simples ou complexo.\n",
    "        </li>\n",
    "        <li>\n",
    "            Por exemplo, podemos reduzir a quantidade de features do dataset de treino ou impor uma <em>regularization</em> sobre o modelo, em outras palavras, limitar a sua capacidade de atuação. Um exemplo desse último caso seria definir um valor para o <em>max_depth</em> de uma Árvore de Decisão.\n",
    "        </li>\n",
    "    </ul>\n",
    "    <h3 style='font-size:30px;font-style:italic'>Underfitting</h3>\n",
    "    <ul style='font-size:20px'>\n",
    "        <li>\n",
    "            Por outro lado, um modelo simples demais também é prejudical. Nesse caso, ele não é capaz de prever acertadamente os dados de treino, tampouco os de teste. Dessa forma, ajustar os parâmetros de <em>regularization</em>, buscar um modelo mais complexo ou fazer uma melhor seleção das features que alimetarão o algoritmo são algumas soluções possíveis.\n",
    "        </li>\n",
    "    </ul>\n",
    "</div>"
   ]
  },
  {
   "cell_type": "markdown",
   "id": "8785084c-a728-496a-861f-fe94780391b6",
   "metadata": {},
   "source": [
    "<h2 style='font-size:30px'> Testing and Validating</h2>\n",
    "<ul style='font-size:20px'>\n",
    "    <li>\n",
    "        Neste tópico, o livro explica a importância de se separar o dataset em uma seção para treino e outra para testes do modelo.\n",
    "    </li>\n",
    "    <li>\n",
    "        A taxa de erro do algoritmo na fase de testes é conhecida como <em>generalization error</em>. Quando se trata apenas de seu treinamento, a medida passa a se chamar <em> training error</em>.\n",
    "    </li>\n",
    "    <li>\n",
    "        A comparação entre essas duas métricas poderá nos informar se o modelo sofre um overfitting ou um underfitting. Por exemplo, quando se tem um <em>generalization error</em> muito maior do que o <em>training error</em>, é bem provável que temos um modelo viciado.\n",
    "    </li>\n",
    "</ul>"
   ]
  },
  {
   "cell_type": "markdown",
   "id": "24cad6cd-93a5-4194-acd0-47b2d8356158",
   "metadata": {},
   "source": [
    "<h2 style='font-size:30px'> Hyperparameter Tuning and Model Selection</h2>\n",
    "<ul style='font-size:20px'>\n",
    "    <li>\n",
    "        Mesmo com a separação em datasets de treino e teste, ainda podemos criar modelos enviesados. É comum que o <em>generalization error</em> acabe sendo muito menor do que a taxa de erro de quando o modelo é posto em ação. Isso pode ocorrer porque os valores dos parâmetros do algoritmo talvez estejam ajustados para que o bom desempenho ocorra apenas com os dados de treino.\n",
    "    </li>\n",
    "    <li>\n",
    "        Uma solução para esse caso seria fazer uma <em>holdout validation</em>, que consistiria em quebrar o próprio dataset de treino em uma seção menor de treino e outra para a validação dos modelos. Nesse contexto, estaríamos fazendo um segundo <em>train_test_split </em>, agora em <em>X_train e y_train</em>. Após isso, treinamos os modelos candidatos com seus diferentes hiperparâmetros no sub-dataset de treino e escolhemos aquele que tiver a melhor performance no sub-dataset de teste.\n",
    "    </li>\n",
    "    <li>\n",
    "        Uma solução ainda mais ousada seria a de fazermos várias vezes esse processo, criando vários sub-datasets de treino e teste diferentes (uma <em>cross validation</em>). O algoritmo que tiver a melhor performance média será escolhido.\n",
    "    </li>\n",
    "</ul>"
   ]
  },
  {
   "cell_type": "markdown",
   "id": "977fbe5e-2e63-4da0-a86f-173b7ea8bb4a",
   "metadata": {},
   "source": [
    "<h2 style='font-size:30px'>No Free Lunch Theorem</h2>\n",
    "<ul style='font-size:20px'>\n",
    "    <li>\n",
    "        A fim de aumentar a nossa produtividade, é interessante termos uma noção geral de quais são os modelos apropriados à tarefa que desempenharemos. Por isso, devemos explorar as particularidades dos dados. Fazer suposições sobre eles deve ser entendido como algo benéfico.\n",
    "    </li>\n",
    "</ul>"
   ]
  }
 ],
 "metadata": {
  "kernelspec": {
   "display_name": "Python 3",
   "language": "python",
   "name": "python3"
  },
  "language_info": {
   "codemirror_mode": {
    "name": "ipython",
    "version": 3
   },
   "file_extension": ".py",
   "mimetype": "text/x-python",
   "name": "python",
   "nbconvert_exporter": "python",
   "pygments_lexer": "ipython3",
   "version": "3.8.8"
  }
 },
 "nbformat": 4,
 "nbformat_minor": 5
}
