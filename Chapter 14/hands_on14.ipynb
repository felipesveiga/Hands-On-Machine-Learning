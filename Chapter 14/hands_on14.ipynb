{
 "cells": [
  {
   "cell_type": "markdown",
   "id": "cfa7d04e-ff97-4646-aeba-65452f0e4f4c",
   "metadata": {},
   "source": [
    "<h1 style='font-size:40px'> Deep Computer Vision Using Convolutional Neural Networks</h1>\n",
    "<div> \n",
    "    <ul style='font-size:20px'>\n",
    "        <li> \n",
    "            Aprenderemos aqui a natureza das Convolutional Neural Networks (CNN's), extremamente usadas no campo de detecção de imagens. \n",
    "        </li>\n",
    "        <li> \n",
    "            Essas mesmas redes também podem ser usadas em NLP e reconhecimento de fala.\n",
    "        </li>\n",
    "    </ul>\n",
    "</div>"
   ]
  },
  {
   "cell_type": "markdown",
   "id": "798f9b12-458e-4b49-8b01-a55ab14b27fa",
   "metadata": {},
   "source": [
    "<h2 style='font-size:30px'> The Architecture of the Visual Cortex</h2>\n",
    "<div> \n",
    "    <ul style='font-size:20px'>\n",
    "        <li> \n",
    "            As CNN's têm a sua estrutura inspirada no córtex visual. Em estudos, foi constatado que cada neurônio visual é acionado quando há estímulo em uma área específica do espaço - os receptive fields.\n",
    "        </li>\n",
    "        <li> \n",
    "            Além disso, certos neurônios são incitados com estímulos mais complexos provenientes de receptive fields maiores. Isso levou à ideia de que células nervosas de maior nível são abastecidas por reações de outras de mais baixo nível.\n",
    "        </li>\n",
    "        <li> \n",
    "            É importante ressaltar que as CNN's possuem camadas parcialmente conectadas, pois imagens costumam ter dimensões maiores do que dados planilhados. Uma fully-conected network requeriaria, portanto, uma quantidade imensa de parâmetros, consumindo muita memória.\n",
    "        </li>\n",
    "    </ul>\n",
    "</div>"
   ]
  },
  {
   "cell_type": "markdown",
   "id": "51a6d41f-3db3-4fc6-8389-d75a8833cb62",
   "metadata": {},
   "source": [
    "<h2 style='font-size:30px'> Convolutional Layers</h2>\n",
    "<div> \n",
    "    <ul style='font-size:20px'>\n",
    "        <li> \n",
    "            As CNN's têm como seu principal componente as Camadas Convolucionais. Os neurônios dessas não se conectam com todos os outputs da camada anterior, sendo uma tentativa de mimetizar um receptive field. O tamanho desse pode ser livremente escolhido.\n",
    "        </li>\n",
    "    </ul>\n",
    "</div>"
   ]
  },
  {
   "cell_type": "markdown",
   "id": "fc2068c6-4130-41e8-adb3-a2206cc25d4d",
   "metadata": {},
   "source": [
    "<p style='color:red'> Procurar uma outra fonte que explique as CNN's</p>"
   ]
  }
 ],
 "metadata": {
  "kernelspec": {
   "display_name": "Python 3 (ipykernel)",
   "language": "python",
   "name": "python3"
  },
  "language_info": {
   "codemirror_mode": {
    "name": "ipython",
    "version": 3
   },
   "file_extension": ".py",
   "mimetype": "text/x-python",
   "name": "python",
   "nbconvert_exporter": "python",
   "pygments_lexer": "ipython3",
   "version": "3.8.10"
  }
 },
 "nbformat": 4,
 "nbformat_minor": 5
}
