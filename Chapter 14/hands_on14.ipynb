{
 "cells": [
  {
   "cell_type": "markdown",
   "id": "cfa7d04e-ff97-4646-aeba-65452f0e4f4c",
   "metadata": {},
   "source": [
    "<h1 style='font-size:40px'> Deep Computer Vision Using Convolutional Neural Networks</h1>\n",
    "<div> \n",
    "    <ul style='font-size:20px'>\n",
    "        <li> \n",
    "            Aprenderemos aqui a natureza das Convolutional Neural Networks (CNN's), extremamente usadas no campo de detecção de imagens. \n",
    "        </li>\n",
    "        <li> \n",
    "            Essas mesmas redes também podem ser usadas em NLP e reconhecimento de fala.\n",
    "        </li>\n",
    "    </ul>\n",
    "</div>"
   ]
  },
  {
   "cell_type": "markdown",
   "id": "fc2068c6-4130-41e8-adb3-a2206cc25d4d",
   "metadata": {},
   "source": [
    "<p style='color:red'> Entender o que é receptive field;The Architecture of the Visual Cortex</p>"
   ]
  }
 ],
 "metadata": {
  "kernelspec": {
   "display_name": "Python 3 (ipykernel)",
   "language": "python",
   "name": "python3"
  },
  "language_info": {
   "codemirror_mode": {
    "name": "ipython",
    "version": 3
   },
   "file_extension": ".py",
   "mimetype": "text/x-python",
   "name": "python",
   "nbconvert_exporter": "python",
   "pygments_lexer": "ipython3",
   "version": "3.8.10"
  }
 },
 "nbformat": 4,
 "nbformat_minor": 5
}
