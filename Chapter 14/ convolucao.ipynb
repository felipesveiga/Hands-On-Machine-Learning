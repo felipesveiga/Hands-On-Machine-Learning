{
 "cells": [
  {
   "cell_type": "markdown",
   "id": "ccc749e4",
   "metadata": {
    "papermill": {
     "duration": 0.002864,
     "end_time": "2023-05-09T15:17:58.074220",
     "exception": false,
     "start_time": "2023-05-09T15:17:58.071356",
     "status": "completed"
    },
    "tags": []
   },
   "source": [
    "<h1 style='font-size:40px'> Convoluções</h1>\n",
    "<div> \n",
    "    <ul style='font-size:20px;margin-bottom:0px'>\n",
    "        <li> \n",
    "             As convoluções são uma espécie de operação da Álgebra Linear que envolve duas matrizes de mesma dimensionalidade, mas de formatos distintos.\n",
    "        </li>\n",
    "        <li> \n",
    "            O que fazemos é sobrepor a menor matriz (kernel) sobre uma seção de mesmo formato da maior e extrair a soma da multiplicação posicional entre cada elemento. Nós iremos realizar esse mesmo procedimento para cada área em que o kernel couber inteiramente e formaremos, assim, uma nova matriz.\n",
    "        </li>\n",
    "        <li> \n",
    "            Se a matriz principal tiver formato $(M,N)$ e o kernel $(m,n)$, o output da convolução será $(M-m+1, N-n+1)$.\n",
    "        </li>\n",
    "    </ul>\n",
    "</div>"
   ]
  },
  {
   "cell_type": "markdown",
   "id": "14eeb04c",
   "metadata": {
    "papermill": {
     "duration": 0.001513,
     "end_time": "2023-05-09T15:17:58.077895",
     "exception": false,
     "start_time": "2023-05-09T15:17:58.076382",
     "status": "completed"
    },
    "tags": []
   },
   "source": [
    "<h2 style='font-size:30px'> Exemplo e Fórmula</h2>\n",
    "<div> \n",
    "    <ul style='font-size:20px;margin-bottom:0px'>\n",
    "        <li> \n",
    "            Dada uma matriz $I=\\begin{bmatrix} I_{1 1} I_{1 2} I_{1 3} \\\\ I_{2 1} I_{2 2} I_{2 3} \\\\ \n",
    "            I_{3 1} I_{3 2} I_{3 3}\\end{bmatrix}$ e um Kernel $K=\\begin{bmatrix} K_{1 1} K_{1 2} \\\\ \n",
    "            K_{2 1} K_{2 2}\\end{bmatrix}$, o valor do elemento superior esquerdo do output será:\n",
    "            <center style='margin-top:20px'> $O_{1 1}=I_{1 1} K_{1 1}+I_{1 2}K_{1 2}+I_{2 1}K_{2 1}+I_{2 2}K_{2 2}$</center>\n",
    "        </li>\n",
    "        <li style='margin-top:20px'> \n",
    "            Um produto de uma dada convolução pode ser expresso pela equação:\n",
    "            <center style='margin-top:20px'> \n",
    "                $O_{(i,j)}=\\sum_{k=1}^{m} \\sum_{l=1}^{n}I(i+k-1, j+l-1)K(k,l)$\n",
    "            </center>\n",
    "        </li>\n",
    "    </ul>\n",
    "</div>"
   ]
  },
  {
   "cell_type": "markdown",
   "id": "c32441d9",
   "metadata": {
    "papermill": {
     "duration": 0.001662,
     "end_time": "2023-05-09T15:17:58.081316",
     "exception": false,
     "start_time": "2023-05-09T15:17:58.079654",
     "status": "completed"
    },
    "tags": []
   },
   "source": [
    "<p style='color:red'> Filters</p>"
   ]
  }
 ],
 "metadata": {
  "kernelspec": {
   "display_name": "Python 3",
   "language": "python",
   "name": "python3"
  },
  "language_info": {
   "codemirror_mode": {
    "name": "ipython",
    "version": 3
   },
   "file_extension": ".py",
   "mimetype": "text/x-python",
   "name": "python",
   "nbconvert_exporter": "python",
   "pygments_lexer": "ipython3",
   "version": "3.7.12"
  },
  "papermill": {
   "default_parameters": {},
   "duration": 13.174932,
   "end_time": "2023-05-09T15:17:58.809739",
   "environment_variables": {},
   "exception": null,
   "input_path": "__notebook__.ipynb",
   "output_path": "__notebook__.ipynb",
   "parameters": {},
   "start_time": "2023-05-09T15:17:45.634807",
   "version": "2.4.0"
  }
 },
 "nbformat": 4,
 "nbformat_minor": 5
}
