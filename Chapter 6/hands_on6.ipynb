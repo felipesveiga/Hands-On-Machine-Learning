{
 "cells": [
  {
   "cell_type": "markdown",
   "id": "d85fb65a-43d0-46c6-90a8-9e309cc01fc3",
   "metadata": {},
   "source": [
    "<h1 style='font-size:40px'> Decision Trees</h1>\n",
    "<div> \n",
    "    <ul style='font-size:20px'>\n",
    "        <li> \n",
    "            As Árvores de Decisão são um dos algoritmos mais poderosos que existem. Suportam tanto tarefas de classificação, quanto de regressão.\n",
    "        </li>\n",
    "        <li> \n",
    "            Uma de suas vantagens é de que requerem pouco tratamento dos dados que as alimentam. O seu principal defeito é a tendência de se viciarem ao dataset de treino. Por isso, é bastante importante as regularizarmos.\n",
    "        </li>\n",
    "    </ul>\n",
    "</div>"
   ]
  },
  {
   "cell_type": "code",
   "execution_count": 1,
   "id": "c652c27d-6778-45d1-acc1-947c39eb7ee7",
   "metadata": {},
   "outputs": [
    {
     "data": {
      "text/plain": [
       "DecisionTreeClassifier(max_depth=2)"
      ]
     },
     "execution_count": 1,
     "metadata": {},
     "output_type": "execute_result"
    }
   ],
   "source": [
    "from sklearn.tree import DecisionTreeClassifier\n",
    "from sklearn.datasets import load_iris\n",
    "\n",
    "# Novamente, usaremos apenas as últimas duas colunas de 'X'.\n",
    "X,y = load_iris(return_X_y=True)\n",
    "X = X[:, 2:]\n",
    "\n",
    "tree_clf = DecisionTreeClassifier(max_depth=2)\n",
    "tree_clf.fit(X,y)"
   ]
  },
  {
   "cell_type": "code",
   "execution_count": 8,
   "id": "26a6649b-a773-406b-93b8-05455a5e6d04",
   "metadata": {},
   "outputs": [],
   "source": [
    "from sklearn.tree import export_graphviz\n",
    "\n",
    "export_graphviz(tree_clf, out_file='iris_tree.dot', feature_names=load_iris()['feature_names'][2:],\n",
    "               class_names=load_iris()['target_names'], rounded=True, filled=True)"
   ]
  },
  {
   "cell_type": "code",
   "execution_count": 9,
   "id": "6aa1f2cb-aac0-40cb-a5be-4d8a36ee5e06",
   "metadata": {},
   "outputs": [],
   "source": [
    "# Com o graphviz instalado, podemos usar o comando 'dot' para criarmos uma imagem png da árvore criada.\n",
    "! dot -Tpng iris_tree.dot -o iris_tree.png"
   ]
  },
  {
   "cell_type": "markdown",
   "id": "27d1d6b3-2c9f-4ea0-8914-7c6cc302decc",
   "metadata": {},
   "source": [
    "<h2 style='font-size:30px'> Making Predictions</h2>\n",
    "<div> \n",
    "    <ul style='font-size:20px'> \n",
    "        <li> \n",
    "            Vamos usar a árvore criada e aprender a interpretar os seus atributos.\n",
    "        </li>\n",
    "    </ul>\n",
    "</div>\n",
    "<center> \n",
    "    <img src='iris_tree.png'>\n",
    "</center>\n",
    "<div> \n",
    "    <ul style='font-size:20px'> \n",
    "        <li> \n",
    "            <i>samples: </i>Número total de instâncias no nó.\n",
    "        </li>\n",
    "        <li> \n",
    "            <i>value: </i>Distribuição das categorias.\n",
    "        </li>\n",
    "        <li> \n",
    "            <i>class: </i>Categoria predominante.\n",
    "        </li>\n",
    "        <li> \n",
    "            <i>gini: </i>Índice de impureza do nó.\n",
    "        </li>\n",
    "    </ul>\n",
    "</div>"
   ]
  },
  {
   "cell_type": "markdown",
   "id": "9a0a013c-ec03-4632-a80e-84dcb6303d95",
   "metadata": {},
   "source": [
    "<center> \n",
    "    <img src='gini1.png'>\n",
    "</center>"
   ]
  },
  {
   "cell_type": "markdown",
   "id": "5d28c8e2-6f07-4cba-8e96-3840de6f9cf4",
   "metadata": {},
   "source": [
    "<div> \n",
    "    <ul style='font-size:20px'> \n",
    "        <li> \n",
    "            Por exemplo, no caso do nó verde-claro, o Gini é igual a: $1-(0/54)-(49/54)-(5/54)\\aprx$\n",
    "        </li>\n",
    "    </ul>\n",
    "</div>"
   ]
  }
 ],
 "metadata": {
  "kernelspec": {
   "display_name": "Python 3 (ipykernel)",
   "language": "python",
   "name": "python3"
  },
  "language_info": {
   "codemirror_mode": {
    "name": "ipython",
    "version": 3
   },
   "file_extension": ".py",
   "mimetype": "text/x-python",
   "name": "python",
   "nbconvert_exporter": "python",
   "pygments_lexer": "ipython3",
   "version": "3.8.10"
  }
 },
 "nbformat": 4,
 "nbformat_minor": 5
}
