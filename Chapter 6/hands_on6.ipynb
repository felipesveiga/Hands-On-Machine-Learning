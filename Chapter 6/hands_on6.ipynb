{
 "cells": [
  {
   "cell_type": "markdown",
   "id": "d85fb65a-43d0-46c6-90a8-9e309cc01fc3",
   "metadata": {},
   "source": [
    "<h1 style='font-size:40px'> Decision Trees</h1>\n",
    "<div> \n",
    "    <ul style='font-size:20px'>\n",
    "        <li> \n",
    "            As Árvores de Decisão são um dos algoritmos mais poderosos que existem. Suportam tanto tarefas de classificação, quanto de regressão.\n",
    "        </li>\n",
    "        <li> \n",
    "            Uma de suas vantagens é de que requerem pouco tratamento dos dados que as alimentam. O seu principal defeito é a tendência de se viciarem ao dataset de treino. Por isso, é bastante importante as regularizarmos.\n",
    "        </li>\n",
    "    </ul>\n",
    "</div>"
   ]
  },
  {
   "cell_type": "code",
   "execution_count": 1,
   "id": "c652c27d-6778-45d1-acc1-947c39eb7ee7",
   "metadata": {},
   "outputs": [
    {
     "data": {
      "text/plain": [
       "DecisionTreeClassifier(max_depth=2)"
      ]
     },
     "execution_count": 1,
     "metadata": {},
     "output_type": "execute_result"
    }
   ],
   "source": [
    "from sklearn.tree import DecisionTreeClassifier\n",
    "from sklearn.datasets import load_iris\n",
    "\n",
    "# Novamente, usaremos apenas as últimas duas colunas de 'X'.\n",
    "X,y = load_iris(return_X_y=True)\n",
    "X = X[:, 2:]\n",
    "\n",
    "tree_clf = DecisionTreeClassifier(max_depth=2)\n",
    "tree_clf.fit(X,y)"
   ]
  },
  {
   "cell_type": "code",
   "execution_count": 8,
   "id": "26a6649b-a773-406b-93b8-05455a5e6d04",
   "metadata": {},
   "outputs": [],
   "source": [
    "from sklearn.tree import export_graphviz\n",
    "\n",
    "# O objeto 'export_graphviz' cria um arquivo dot da árvore. Ele pode ser posteriormente convertido a um 'png'.\n",
    "export_graphviz(tree_clf, out_file='iris_tree.dot', feature_names=load_iris()['feature_names'][2:],\n",
    "               class_names=load_iris()['target_names'], rounded=True, filled=True)"
   ]
  },
  {
   "cell_type": "code",
   "execution_count": 9,
   "id": "6aa1f2cb-aac0-40cb-a5be-4d8a36ee5e06",
   "metadata": {},
   "outputs": [],
   "source": [
    "# Com o graphviz instalado, podemos usar o comando 'dot' para criarmos uma imagem png da árvore criada.\n",
    "! dot -Tpng iris_tree.dot -o iris_tree.png"
   ]
  },
  {
   "cell_type": "markdown",
   "id": "27d1d6b3-2c9f-4ea0-8914-7c6cc302decc",
   "metadata": {},
   "source": [
    "<h2 style='font-size:30px'> Making Predictions</h2>\n",
    "<div> \n",
    "    <ul style='font-size:20px'> \n",
    "        <li> \n",
    "            Vamos usar a árvore criada e aprender a interpretar os seus atributos.\n",
    "        </li>\n",
    "        <li> \n",
    "            Veja que os nós que não são \"folhas\" produzem apenas outros dois nós. Isso porque as Árvores de Decisão são montadas com o algoritmo CART, que possibilita apenas esse tipo de estrutura. No entanto, outros algoritmos como o ID3 podem substanciar um modelo desse tipo.\n",
    "        </li>\n",
    "    </ul>\n",
    "</div>\n",
    "<center> \n",
    "    <img src='iris_tree.png'>\n",
    "</center>\n",
    "<div> \n",
    "    <ul style='font-size:20px'> \n",
    "        <li> \n",
    "            <i>samples: </i>Número total de instâncias no nó.\n",
    "        </li>\n",
    "        <li> \n",
    "            <i>value: </i>Distribuição das categorias.\n",
    "        </li>\n",
    "        <li> \n",
    "            <i>class: </i>Categoria predominante.\n",
    "        </li>\n",
    "        <li> \n",
    "            <i>gini: </i>Índice de impureza do nó.\n",
    "        </li>\n",
    "    </ul>\n",
    "</div>"
   ]
  },
  {
   "cell_type": "markdown",
   "id": "9a0a013c-ec03-4632-a80e-84dcb6303d95",
   "metadata": {},
   "source": [
    "<center> \n",
    "    <img src='gini1.png'>\n",
    "</center>"
   ]
  },
  {
   "cell_type": "markdown",
   "id": "5d28c8e2-6f07-4cba-8e96-3840de6f9cf4",
   "metadata": {},
   "source": [
    "<div> \n",
    "    <ul style='font-size:20px'> \n",
    "        <li> \n",
    "            Por exemplo, no caso do nó verde-claro, o Gini é igual a: $1-(0/54)^{2}-(49/54)^{2}-(5/54)^{2}\\approx 0.168$\n",
    "        </li>\n",
    "    </ul>\n",
    "</div>"
   ]
  },
  {
   "cell_type": "markdown",
   "id": "36f8889f-3cfa-49cc-9e8b-158852f56cdd",
   "metadata": {},
   "source": [
    "<h2 style='font-size:30px'> Model Interpretation: White Box Versus Black Box</h2>\n",
    "<div> \n",
    "    <ul style='font-size:20px'> \n",
    "        <li> \n",
    "            Nós pudemos notar a facilidade de se entender as previsões feitas pela Árvore. Modelos como esse, são denominados como White Box Models, pois é fácil entender o motivo que fundamentou as suas previsões. Por outro lado, existem outros algoritmos, como as Redes Neurais e Random Forests, que fazem estimativas muito difíceis de serem entendidas. Esses, por sua vez, são conhecidos como Black Box Models.\n",
    "        </li>\n",
    "    </ul>\n",
    "</div>"
   ]
  },
  {
   "cell_type": "markdown",
   "id": "40da4a37-2e2c-4c21-86ea-6d3a3232f6c6",
   "metadata": {},
   "source": [
    "<h2 style='font-size:30px'> Estimating Class Probabilities</h2>\n",
    "<div> \n",
    "    <ul style='font-size:20px'> \n",
    "        <li> \n",
    "            Assim como as previsões, calcular as possibilidades de previsão de cada classe para uma certa instância é bastante simples. Digamos que nós temos uma flor cuja pétala tem um comprimento de 5 cm e largura de 1.5 cm. Ao percorrermos a árvore, acabaríamos na folha verde-claro. \n",
    "        </li>\n",
    "        <li> \n",
    "            Assim, para se estimar as probabilidades de classe, basta a nós usar o atributo \"value\" da imagem. Com isso, as probabilidades seriam:\n",
    "            <ul style='list-style-type:square'> \n",
    "                <li> \n",
    "                    <i> Iris-Setosa</i>: 0/54 = 0%\n",
    "                </li>\n",
    "                <li> \n",
    "                    <i> Iris-Versicolor</i>: 49/54 = 90.7%\n",
    "                </li>\n",
    "                <li> \n",
    "                    <i> Iris-Virginica</i>: 5/54 = 9.3%\n",
    "                </li>\n",
    "            </ul>\n",
    "        </li>\n",
    "        <li> \n",
    "            Como é de se esperar, a flor seria rotulada como uma Versicolor.\n",
    "        </li>\n",
    "    </ul>\n",
    "</div>"
   ]
  },
  {
   "cell_type": "code",
   "execution_count": null,
   "id": "b997cbfa-583e-4d41-8461-a692e1b3f38d",
   "metadata": {},
   "outputs": [],
   "source": [
    "tree_clf.predict_proba([5, 1.5]), tree_clf.predict_p([5, 1.5])"
   ]
  },
  {
   "cell_type": "markdown",
   "id": "94c375d5-ac6a-4833-ab1c-e46368433977",
   "metadata": {},
   "source": [
    "<p style='color:red'> Equation 6-1."
   ]
  }
 ],
 "metadata": {
  "kernelspec": {
   "display_name": "Python 3 (ipykernel)",
   "language": "python",
   "name": "python3"
  },
  "language_info": {
   "codemirror_mode": {
    "name": "ipython",
    "version": 3
   },
   "file_extension": ".py",
   "mimetype": "text/x-python",
   "name": "python",
   "nbconvert_exporter": "python",
   "pygments_lexer": "ipython3",
   "version": "3.8.10"
  }
 },
 "nbformat": 4,
 "nbformat_minor": 5
}
