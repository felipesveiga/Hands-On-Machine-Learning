{
 "cells": [
  {
   "cell_type": "markdown",
   "id": "8174a113-5bc3-4ba1-b962-fce10611cf81",
   "metadata": {},
   "source": [
    "<h1 style='font-size:40px'> Support Vector Machines</h1>\n",
    "<div> \n",
    "    <ul style='font-size:20px'> \n",
    "        <li> \n",
    "            As SVM's são um dos modelos mais populares de ML. São frequentemente utilizadas em tarefas de classificação de datasets complexos com pequeno ou médio tamanho. Por outro lado, é possível fazer regressões e até mesmo detecção de outliers com elas.\n",
    "        </li>\n",
    "        <li> \n",
    "            Nota: sempre normalize os dados quando for trabalhar com SVM's.\n",
    "        </li>\n",
    "    </ul>\n",
    "</div>"
   ]
  },
  {
   "cell_type": "markdown",
   "id": "9a49b04f-a5b5-4dd3-89c4-be3f713cace6",
   "metadata": {
    "tags": []
   },
   "source": [
    "<h2 style='font-size:30px'> Linear SVM Classification</h2>\n",
    "<div> \n",
    "    <ul style='font-size:20px'> \n",
    "        <li> \n",
    "           As SVM's com o kernel linear são apropriadas para a segregação de dados linearmente distinguíveis.\n",
    "        </li>\n",
    "        <li> \n",
    "            Na imagem da esquerda, as linhas sólidas representam dois modelos de classificação. Apesar de identificarem corretamente todas as instâncias de treino, note que elas estão muito próximas dos pontos. Isso é um indicativo de que os modelos foram excessivamente adequados a esses dados -possivelmente um overfitting- e que eles falharão em corretamente classificar novas instâncias.\n",
    "        </li>\n",
    "    </ul>\n",
    "</div>\n",
    "<img src='svm_linear1.png'>\n",
    "<div> \n",
    "    <ul style='font-size:20px'> \n",
    "        <li> \n",
    "           No entanto, observe que a linha da imagem à direita (de um SVM Linear) não só gabarita a classificação, como também está bem afastada dos pontos. Isso nos dá uma segurança muito maior de que novos dados serão corretamente classificados.\n",
    "        </li>\n",
    "        <li> \n",
    "            A intenção da linha é estar o mais distante possível das instâncias de treino. Os pontos mais próximos (circulados) são denominados como support vectors.\n",
    "        </li>\n",
    "    </ul>\n",
    "</div>"
   ]
  },
  {
   "cell_type": "markdown",
   "id": "b2ad6015-d710-43ab-8347-9b052f037991",
   "metadata": {},
   "source": [
    "<h3 style='font-size:30px;font-style:italic'>Soft-Margin Classification</h3>\n",
    "<div> \n",
    "    <ul style='font-size:20px'> \n",
    "        <li> \n",
    "           Mas vamos ser honestos. É muito difícil haver um dataset cujas categorias sejam linearmente distinguíveis. Como consequência desse fato, ter um SVM como o da imagem à direita é algo improvável; o modelo provavelmente terá que tolerar que algumas instâncias estejam no lado errado.\n",
    "        </li>\n",
    "        <li> \n",
    "            É considerando isso que é praticada a Soft-Margin Classification. Uma SVM voltada a esse tipo de tarefa precisa ter uma baixa regularização.\n",
    "        </li>\n",
    "        <li> \n",
    "            A regularização de uma SVM é controlada pelo argumento C. Quanto menor, mais regularização.\n",
    "        </li>\n",
    "    </ul>\n",
    "</div>"
   ]
  },
  {
   "cell_type": "markdown",
   "id": "af8f62e3-e9fd-44ab-8ea2-e5cc52b19421",
   "metadata": {},
   "source": [
    "<center> \n",
    "    <h1>Exemplos de SVM com Soft-Margin Classification</h1>\n",
    "    <img src='svm_linear2.png'>\n",
    "</center>\n",
    "<div> \n",
    "    <ul style='font-size:20px'> \n",
    "        <li> \n",
    "          Claramente o modelo à esquerda parece ser o mais apropriado\n",
    "        </li>\n",
    "    </ul>\n",
    "</div>"
   ]
  },
  {
   "cell_type": "code",
   "execution_count": 5,
   "id": "28722e86-1d2b-43ed-a434-67d815ceeded",
   "metadata": {},
   "outputs": [
    {
     "data": {
      "text/plain": [
       "array([1])"
      ]
     },
     "execution_count": 5,
     "metadata": {},
     "output_type": "execute_result"
    }
   ],
   "source": [
    "# Montando uma SVM linear para o dataset de iris.\n",
    "from sklearn.pipeline import Pipeline\n",
    "from sklearn.preprocessing import StandardScaler\n",
    "from sklearn.datasets import load_iris\n",
    "from sklearn.svm import LinearSVC\n",
    "import numpy\n",
    "\n",
    "iris = load_iris()\n",
    "X = iris['data'][:, 2:]\n",
    "y = (iris['target']==2).astype('int')\n",
    "\n",
    "svm_clf = Pipeline([\n",
    "            ('scaler', StandardScaler()),\n",
    "            ('linear_svc', LinearSVC(C=1, loss='hinge'))])\n",
    "svm_clf.fit(X,y)\n",
    "svm_clf.predict([[5.5, 1.7]])"
   ]
  },
  {
   "cell_type": "markdown",
   "id": "2f2c8d46-c29b-4ecf-81a1-b429beb57699",
   "metadata": {},
   "source": [
    "<div> \n",
    "    <ul style='font-size:20px'> \n",
    "        <li> \n",
    "              Seria possível usarmos o objecto SVC com o kernel='linear', mas ele é muito mais lento do que o LinearSVC.\n",
    "        </li>\n",
    "        <li> \n",
    "            Se quiséssemos usar um Stochastic Gradient Descent para o encontro da reta, poderíamos usar o SGDClassifier(loss='hinge', alpha=1/(m*C)). É bastante recomendável para datasets gigantescos.\n",
    "        </li>\n",
    "    </ul>\n",
    "</div>"
   ]
  },
  {
   "cell_type": "markdown",
   "id": "a8333d12-ae0a-428a-95cb-06fddf269937",
   "metadata": {},
   "source": [
    "<h4 style='font-size:30px;font-style:italic;text-decoration:underline'>Dicas</h4>\n",
    "<div> \n",
    "    <ul style='font-size:20px'> \n",
    "        <li> \n",
    "           Para LinearSVC, é recomendável usar o StandardScaler com o dataset. Defina também loss='hinge'. Sette dual=False a não ser que haja mais features do que instâncias de treino.\n",
    "        </li>\n",
    "    </ul>\n",
    "</div>"
   ]
  },
  {
   "cell_type": "markdown",
   "id": "0781789a-e192-4eb5-8447-af9f385a10fa",
   "metadata": {},
   "source": [
    "<h2 style='font-size:30px'> Nonlinear SVM Classification</h2>\n",
    "<div> \n",
    "    <ul style='font-size:20px'> \n",
    "        <li> \n",
    "          Além dos ajustes de regularização,  um outro recurso para lidar com dados não linearmente distinguíveis é utilizar \"PolynomialFeatures\" sobre eles.\n",
    "        </li>\n",
    "    </ul>\n",
    "</div>"
   ]
  },
  {
   "cell_type": "code",
   "execution_count": 37,
   "id": "8c939fd3-5cb0-4d55-9922-09b01623a70c",
   "metadata": {},
   "outputs": [
    {
     "data": {
      "text/plain": [
       "<matplotlib.lines.Line2D at 0x7f3248141760>"
      ]
     },
     "execution_count": 37,
     "metadata": {},
     "output_type": "execute_result"
    },
    {
     "data": {
      "image/png": "[encoded data removed]",
      "text/plain": [
       "<Figure size 432x288 with 2 Axes>"
      ]
     },
     "metadata": {
      "needs_background": "light"
     },
     "output_type": "display_data"
    }
   ],
   "source": [
    "# Observe, as duas classes, com uma única feature, não são linearmente distinguíveis.\n",
    "import matplotlib.pyplot as plt\n",
    "import numpy as np\n",
    "class_1 =np.array([-2,-1,0,1,2])\n",
    "class_2= np.array([-4,-3,3,4])\n",
    "\n",
    "plt.subplot(121)\n",
    "plt.scatter(class_1, [0,0,0,0,0])\n",
    "plt.scatter(class_2,[0,0,0,0])\n",
    "\n",
    "# Mas veja, basta adicionarmos o quadrado da primeira feature (x^2) como uma nova característica que a segregação é possível.\n",
    "plt.subplot(122)\n",
    "plt.scatter(class_1, class_1**2)\n",
    "plt.scatter(class_2, class_2**2)\n",
    "plt.axhline(6, ls='--', lw=1,color='k')"
   ]
  },
  {
   "cell_type": "code",
   "execution_count": 28,
   "id": "bfc15d37-cbe5-433a-be38-bbfa7ed51f3e",
   "metadata": {},
   "outputs": [
    {
     "name": "stderr",
     "output_type": "stream",
     "text": [
      "/home/veiga/.local/lib/python3.8/site-packages/sklearn/svm/_base.py:1206: ConvergenceWarning: Liblinear failed to converge, increase the number of iterations.\n",
      "  warnings.warn(\n"
     ]
    },
    {
     "data": {
      "text/plain": [
       "array([0, 1, 0, 0, 1, 0, 0, 0, 0, 0, 1, 1, 1, 0, 0, 1, 1, 1, 1, 0, 1, 0,\n",
       "       1, 1, 0, 1, 0, 1, 0, 1, 1, 1, 1, 0, 0, 1, 0, 1, 0, 1, 0, 0, 0, 1,\n",
       "       1, 1, 1, 0, 0, 1, 1, 0, 1, 0, 0, 1, 1, 0, 0, 0, 1, 1, 0, 0, 0, 0,\n",
       "       1, 1, 1, 1, 1, 0, 1, 1, 1, 0, 1, 0, 1, 0, 1, 1, 1, 1, 0, 1, 0, 0,\n",
       "       1, 0, 0, 0, 1, 1, 0, 0, 0, 0, 0, 0])"
      ]
     },
     "execution_count": 28,
     "metadata": {},
     "output_type": "execute_result"
    }
   ],
   "source": [
    "# Agora, vamos utilizar, de fato, o PolynomialFeatures.\n",
    "from sklearn.datasets import make_moons\n",
    "from sklearn.preprocessing import StandardScaler, PolynomialFeatures\n",
    "from sklearn.svm import LinearSVC\n",
    "from sklearn.pipeline import Pipeline\n",
    "X,y = make_moons()\n",
    "polynomial_svm_clf = Pipeline([\n",
    "            ('poly_features', PolynomialFeatures(degree=3)),\n",
    "            ('scaler', StandardScaler()),\n",
    "            ('svm_clf', LinearSVC(C=10, loss='hinge'))])\n",
    "\n",
    "polynomial_svm_clf.fit(X,y)\n",
    "polynomial_svm_clf.predict(X)"
   ]
  },
  {
   "cell_type": "markdown",
   "id": "d0b58c0d-caf2-40ab-80d8-bfad2950aa71",
   "metadata": {},
   "source": [
    "<center> \n",
    "    <h1> Fronteiras de Decisão de um SVM Polinomial</h1>\n",
    "    <img src='poly_svm1.png'>\n",
    "</center>"
   ]
  },
  {
   "cell_type": "markdown",
   "id": "6795cfdc-5009-4b9c-960d-8ab81cd4b268",
   "metadata": {},
   "source": [
    "<h3 style='font-size:30px;font-style:italic'> Polynomial Kernel</h3>\n",
    "<div> \n",
    "    <ul style='font-size:20px'> \n",
    "        <li> \n",
    "            O kernel polinomial do objeto SVC produz uma espécie de truque matemático: ele permite que nós obtenhamos a mesma previsão que seria tida ao se aplicar PolynomialFeatures, mesmo sem isso de fato ocorrer. Com isso, o dataset é mantido com as mesmas proporções iniciais.\n",
    "        </li>\n",
    "    </ul>\n",
    "</div>"
   ]
  },
  {
   "cell_type": "code",
   "execution_count": 32,
   "id": "508130d7-ada2-441e-a10a-6216b6b7bd95",
   "metadata": {},
   "outputs": [
    {
     "data": {
      "text/plain": [
       "Pipeline(steps=[('scaler', StandardScaler()),\n",
       "                ('svm_clf', SVC(C=5, coef0=1, kernel='poly'))])"
      ]
     },
     "execution_count": 32,
     "metadata": {},
     "output_type": "execute_result"
    }
   ],
   "source": [
    "# Aplicando o SVC 'poly' com o make_moons.\n",
    "\n",
    "# Apenas tenha cautela ao se definir 'degree', o risco de overfit aumenta conforme o seu valor cresce.\n",
    "\n",
    "# 'coef0' define o quanto o modelo será influenciado por degrees elevados em comparação com os baixos.\n",
    "from sklearn.svm import SVC\n",
    "poly_kernel_svm_clf = Pipeline([\n",
    "                    ('scaler', StandardScaler()),\n",
    "                    ('svm_clf', SVC(kernel='poly', degree=3, C=5, coef0=1))])\n",
    "poly_kernel_svm_clf.fit(X,y)"
   ]
  },
  {
   "cell_type": "markdown",
   "id": "e8c2275a-383c-4ca0-9132-8898f72847e5",
   "metadata": {},
   "source": [
    "<h3 style='font-size:30px;font-style:italic'> Adding Similarity Features</h3>\n",
    "<div> \n",
    "    <ul style='font-size:20px'> \n",
    "        <li> \n",
    "            Outra maneira de criarmos novas features é usando a RBF (Radial Basis Function) Gaussiana. São utilizadas as distâncias de cada feature a <em> landmarks</em> (pontos arbitrários no plano cartesiano) específcos.\n",
    "        </li>\n",
    "    </ul>\n",
    "</div>\n",
    "<center> \n",
    "    <img src='rbf1.png'>\n",
    "</center>"
   ]
  },
  {
   "cell_type": "markdown",
   "id": "6c4c19b4-b97d-4571-8b9b-5cf8a9b01af6",
   "metadata": {},
   "source": [
    "<h3 style='font-size:30px;font-style:italic'> Gaussian RBF Kernel</h3>\n",
    "<div> \n",
    "    <ul style='font-size:20px'> \n",
    "        <li> \n",
    "            O problema de se aplicar essa fórmula diretamente no dataset é que ele sofrerá um aumento de volume considerável.\n",
    "        </li>\n",
    "        <li> \n",
    "            Considerando isso, o objeto SVC é capaz de fazer mais um truque matemático com o kernel 'rbf'. Vamos obter previsões similares às de se tivéssemos adicionado as similarity features sem tendo, de fato, o feito.\n",
    "        </li>\n",
    "        <li> \n",
    "            Este kernel, assim como outros do objeto SVC, contam com o parâmetro \"gamma\". Esse, de maneira similar a \"C\", controla a regularização, só que de forma mais aguda - por isso, tenha bastante cautela ao definir o seu valor.\n",
    "        </li>\n",
    "    </ul>\n",
    "</div>"
   ]
  },
  {
   "cell_type": "code",
   "execution_count": 40,
   "id": "45dcc807-73eb-49a8-92c2-1baed21ef47d",
   "metadata": {},
   "outputs": [
    {
     "data": {
      "text/plain": [
       "Pipeline(steps=[('scaler', StandardScaler()),\n",
       "                ('svm_clf', SVC(C=0.001, gamma=5))])"
      ]
     },
     "execution_count": 40,
     "metadata": {},
     "output_type": "execute_result"
    }
   ],
   "source": [
    "# Montando um SVC de kernel 'rbf'.\n",
    "rbf_kernel_svm_clf = Pipeline([\n",
    "                    ('scaler', StandardScaler()),\n",
    "                    ('svm_clf', SVC(kernel='rbf', gamma=5, C=1e-3))])\n",
    "\n",
    "rbf_kernel_svm_clf.fit(X,y)"
   ]
  },
  {
   "cell_type": "markdown",
   "id": "a53162ce-f80a-4aad-a0ec-a76c53f2d540",
   "metadata": {
    "tags": []
   },
   "source": [
    "<h2 style='font-size:30px'> Computational Complexity</h2>\n",
    "<center> \n",
    "    <img src='comp_complexity.png'>\n",
    "</center>\n",
    "<div> \n",
    "    <ul style='font-size:20px'> \n",
    "        <li> \n",
    "            Observe que a Time Complexity do SVC faz com que o objeto perca eficiência com datasets com muitas instâncias (m).\n",
    "        </li>\n",
    "    </ul>\n",
    "</div>"
   ]
  },
  {
   "cell_type": "markdown",
   "id": "51809e24-afdb-44b2-ae1e-d10a0e6db828",
   "metadata": {},
   "source": [
    "<h2 style='font-size:30px'> SVM Regression</h2>\n",
    "<div> \n",
    "    <ul style='font-size:20px'> \n",
    "        <li> \n",
    "            As Support Vector Machines voltadas à Regressão têm a lógica contrária às de Classificação. A sua intenção é manter o maior número possível de instâncias dentro da \"rua\" delineada.\n",
    "        </li>\n",
    "        <li> \n",
    "            A largura da via é controlada pelo argumento epsilon.\n",
    "        </li>\n",
    "    </ul>\n",
    "</div>\n",
    "<center> \n",
    "    <img src='regression_svm.png'>\n",
    "</center>"
   ]
  },
  {
   "cell_type": "code",
   "execution_count": 70,
   "id": "397e3c5d-1811-473b-bfd8-ed0f510b0b0c",
   "metadata": {},
   "outputs": [
    {
     "name": "stderr",
     "output_type": "stream",
     "text": [
      "/home/veiga/.local/lib/python3.8/site-packages/sklearn/utils/validation.py:993: DataConversionWarning: A column-vector y was passed when a 1d array was expected. Please change the shape of y to (n_samples, ), for example using ravel().\n",
      "  y = column_or_1d(y, warn=True)\n"
     ]
    },
    {
     "data": {
      "text/plain": [
       "[<matplotlib.lines.Line2D at 0x7f32479bee20>]"
      ]
     },
     "execution_count": 70,
     "metadata": {},
     "output_type": "execute_result"
    },
    {
     "data": {
      "image/png": "[encoded data removed]",
      "text/plain": [
       "<Figure size 432x288 with 1 Axes>"
      ]
     },
     "metadata": {
      "needs_background": "light"
     },
     "output_type": "display_data"
    }
   ],
   "source": [
    "from sklearn.svm import SVR\n",
    "# Gerando uma função quadrática.\n",
    "X = np.random.randint(low=-10, high=10, size=100).reshape(-1,1)\n",
    "y = (X**2) \n",
    "\n",
    "# Um array de teste.\n",
    "xs = np.linspace(-10, 10, 101).reshape(-1,1)\n",
    "\n",
    "# Usando um SVR com o kernel 'poly'.\n",
    "svm_reg = SVR(kernel='poly', epsilon=1.5, degree=2)\n",
    "svm_reg.fit(X,y)\n",
    "\n",
    "prediction = svm_reg.predict(xs)\n",
    "\n",
    "plt.scatter(X,y, color='r')\n",
    "plt.plot(xs, prediction, color='grey')"
   ]
  },
  {
   "cell_type": "markdown",
   "id": "3c53adbe-a827-4228-b8c5-79cae011ba7b",
   "metadata": {},
   "source": [
    "<div> \n",
    "    <ul style='font-size:20px'> \n",
    "        <li> \n",
    "            A biblioteca também conta com o objeto LinearSVR, equivalente ao LinearSVC. SVR é equivalente ao SVC.\n",
    "        </li>\n",
    "    </ul>\n",
    "</div>"
   ]
  },
  {
   "cell_type": "markdown",
   "id": "959fc8f2-cedf-4320-bd82-c06050383538",
   "metadata": {},
   "source": [
    "<h2 style='font-size:30px'> SVM para detecção de outliers (<a href='https://towardsdatascience.com/support-vector-machine-svm-for-anomaly-detection-73a8d676c331'>Extra!</a>)</h2>"
   ]
  },
  {
   "cell_type": "markdown",
   "id": "e8deb8c3-e2a4-4708-bb04-3edb798d8363",
   "metadata": {},
   "source": [
    "<div> \n",
    "    <ul style='font-size:20px'> \n",
    "        <li> \n",
    "            O scikit-learn conta com uma classe denominada como OneClassSVM, capaz de detectar anomalias em um conjunto de dados. O objeto pode ser bastante útil no estágio de pré-processamento.\n",
    "        </li>\n",
    "    </ul>\n",
    "</div>"
   ]
  },
  {
   "cell_type": "code",
   "execution_count": 119,
   "id": "6b2c6fda-bcb9-4b1f-8c06-3ff3f1bf7caa",
   "metadata": {},
   "outputs": [
    {
     "data": {
      "text/plain": [
       "<matplotlib.collections.PathCollection at 0x7f324416e5e0>"
      ]
     },
     "execution_count": 119,
     "metadata": {},
     "output_type": "execute_result"
    },
    {
     "data": {
      "image/png": "[encoded data removed]",
      "text/plain": [
       "<Figure size 432x288 with 1 Axes>"
      ]
     },
     "metadata": {
      "needs_background": "light"
     },
     "output_type": "display_data"
    }
   ],
   "source": [
    "from sklearn.datasets import load_iris\n",
    "from sklearn.svm import OneClassSVM\n",
    "import pandas \n",
    "\n",
    "# Carregando os dados. Vamos tornar os valores de 'y' binários.\n",
    "X,y = load_iris(return_X_y=True)\n",
    "X = X[:, 2:]\n",
    "y = (y==2)\n",
    "\n",
    "# Fazendo previsões com o OneClassSVM. Esperamos que 5% do dataset seja composto por outliers (nu).\n",
    "one_class_svm = OneClassSVM(kernel='rbf',nu=0.05).fit(X,y)\n",
    "prediction = one_class_svm.predict(X)\n",
    "\n",
    "# Separando os outliers dos nao outliers.\n",
    "outliers = X[np.where(prediction==-1)]\n",
    "non_outliers = X[np.where(prediction==1)]\n",
    "\n",
    "plt.scatter(non_outliers[:,0], non_outliers[:,1])\n",
    "plt.scatter(outliers[:,0], outliers[:,1], color='r')"
   ]
  },
  {
   "cell_type": "markdown",
   "id": "3f173acf-e485-4885-ad2d-daa1e84a745d",
   "metadata": {},
   "source": [
    "<h2 style='font-size:30px'> Isolation Forests (<a href='https://machinelearningmastery.com/anomaly-detection-with-isolation-forest-and-kernel-density-estimation/'>Extra!</a>)</h2>\n",
    "<div> \n",
    "    <ul style='font-size:20px'> \n",
    "        <li> \n",
    "            O Isolation Forests é um outro algoritmo voltado à detecção de outliers. Ele produz diversas árvores que buscam identificar as anomalias no dataset. As instâncias frequentemente rotuladas como tal são assim classificadas pelo modelo.\n",
    "        </li>\n",
    "    </ul>\n",
    "</div>"
   ]
  },
  {
   "cell_type": "code",
   "execution_count": 131,
   "id": "eb46a43c-c118-46d9-90f5-bbc859bb16c3",
   "metadata": {},
   "outputs": [
    {
     "data": {
      "text/plain": [
       "Text(0, 0.5, 'petal width (cm)')"
      ]
     },
     "execution_count": 131,
     "metadata": {},
     "output_type": "execute_result"
    },
    {
     "data": {
      "image/png": "[encoded data removed]",
      "text/plain": [
       "<Figure size 432x288 with 1 Axes>"
      ]
     },
     "metadata": {
      "needs_background": "light"
     },
     "output_type": "display_data"
    }
   ],
   "source": [
    "from sklearn.ensemble import IsolationForest\n",
    "from sklearn.datasets import load_iris\n",
    "X,y = load_iris(return_X_y=True)\n",
    "X = X[:, 2:]\n",
    "# Invoking the IsolationForest object and setting a contamination percentage of 5%.\n",
    "IF = IsolationForest(n_estimators=250, contamination=0.05,random_state=42)\n",
    "predictions = IF.fit_predict(X)\n",
    "outliers = np.where(predictions==-1)\n",
    "non_outliers = np.where(predictions==1)\n",
    "\n",
    "plt.scatter(X[non_outliers,0], X[non_outliers,1], color='grey')\n",
    "plt.scatter(X[outliers,0], X[outliers, 1], color='r')\n",
    "plt.xlabel('petal length (cm)')\n",
    "plt.ylabel('petal width (cm)')"
   ]
  },
  {
   "cell_type": "markdown",
   "id": "be2c0ff1-b4c3-484d-8175-2c934cd1a8e6",
   "metadata": {},
   "source": [
    "<p style='color:red'> <a href='https://scikit-learn.org/stable/modules/outlier_detection.html'> Artigo de Outlier Detection com SVM</a> \n",
    "</p>\n",
    "<p>\n",
    "    <a href='https://towardsdatascience.com/support-vector-machine-svm-for-anomaly-detection-73a8d676c331'> Artigo sobre One Class SVM</a>\n",
    "</p>\n",
    "<p>\n",
    "    <a href='https://machinelearningmastery.com/anomaly-detection-with-isolation-forest-and-kernel-density-estimation/'> Artigo sobre Isolation Forests</a>\n",
    "</p>"
   ]
  },
  {
   "cell_type": "markdown",
   "id": "28176f22-a2a0-4cb8-9530-5c6fa5343fbe",
   "metadata": {},
   "source": [
    "<p style='color:red'> Ler sobre Isolation Forests"
   ]
  }
 ],
 "metadata": {
  "kernelspec": {
   "display_name": "Python 3 (ipykernel)",
   "language": "python",
   "name": "python3"
  },
  "language_info": {
   "codemirror_mode": {
    "name": "ipython",
    "version": 3
   },
   "file_extension": ".py",
   "mimetype": "text/x-python",
   "name": "python",
   "nbconvert_exporter": "python",
   "pygments_lexer": "ipython3",
   "version": "3.8.10"
  }
 },
 "nbformat": 4,
 "nbformat_minor": 5
}
