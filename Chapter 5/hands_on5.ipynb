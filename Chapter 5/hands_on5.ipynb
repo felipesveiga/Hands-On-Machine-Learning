{
 "cells": [
  {
   "cell_type": "markdown",
   "id": "8174a113-5bc3-4ba1-b962-fce10611cf81",
   "metadata": {},
   "source": [
    "<h1 style='font-size:40px'> Support Vector Machines</h1>\n",
    "<div> \n",
    "    <ul style='font-size:20px'> \n",
    "        <li> \n",
    "            As SVM's são um dos modelos mais populares de ML. São frequentemente utilizadas em tarefas de classificação de datasets complexos com pequeno ou médio tamanho. Por outro lado, é possível fazer regressões e até mesmo detecção de outliers com elas.\n",
    "        </li>\n",
    "        <li> \n",
    "            Nota: sempre normalize os dados quando for trabalhar com SVM's.\n",
    "        </li>\n",
    "    </ul>\n",
    "</div>"
   ]
  },
  {
   "cell_type": "markdown",
   "id": "9a49b04f-a5b5-4dd3-89c4-be3f713cace6",
   "metadata": {},
   "source": [
    "<h2 style='font-size:30px'> Linear SVM Classification</h2>\n",
    "<div> \n",
    "    <ul style='font-size:20px'> \n",
    "        <li> \n",
    "           As SVM's com o kernel linear são apropriadas para a segregação de dados linearmente distinguíveis.\n",
    "        </li>\n",
    "        <li> \n",
    "            Na imagem da esquerda, as linhas sólidas representam dois modelos de classificação. Apesar de identificarem corretamente todas as instâncias de treino, note que elas estâo muito próximas dos pontos. Isso é um indicativo de que os modelos foram excessivamente adequados a esses dados -possivelmente um overfitting- e que eles falharão em corretamente classificar novas instâncias.\n",
    "        </li>\n",
    "    </ul>\n",
    "</div>\n",
    "<img src='svm_linear1.png'>\n",
    "<div> \n",
    "    <ul style='font-size:20px'> \n",
    "        <li> \n",
    "           No entanto, observe que a linha da imagem à direita (de um SVM Linear) não só gabarita a classificação, como também está bem afastada dos pontos. Isso nos dá uma segurança muito maior de que novos dados serão corretamente classificados.\n",
    "        </li>\n",
    "        <li> \n",
    "            A intenção da linha é estar o mais distante possível das instâncias de treino. Os pontos mais próximos (circulados) são denominados como support vectors.\n",
    "        </li>\n",
    "    </ul>\n",
    "</div>"
   ]
  },
  {
   "cell_type": "markdown",
   "id": "b2ad6015-d710-43ab-8347-9b052f037991",
   "metadata": {},
   "source": [
    "<h3 style='font-size:30px;font-style:italic'>Soft-Margin Classification</h3>"
   ]
  }
 ],
 "metadata": {
  "kernelspec": {
   "display_name": "Python 3 (ipykernel)",
   "language": "python",
   "name": "python3"
  },
  "language_info": {
   "codemirror_mode": {
    "name": "ipython",
    "version": 3
   },
   "file_extension": ".py",
   "mimetype": "text/x-python",
   "name": "python",
   "nbconvert_exporter": "python",
   "pygments_lexer": "ipython3",
   "version": "3.8.10"
  }
 },
 "nbformat": 4,
 "nbformat_minor": 5
}
