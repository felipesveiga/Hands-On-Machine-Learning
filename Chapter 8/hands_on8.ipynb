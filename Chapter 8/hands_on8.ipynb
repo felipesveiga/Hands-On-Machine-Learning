{
 "cells": [
  {
   "cell_type": "markdown",
   "id": "5793e2fc-3995-4bcc-9a38-b0285088a63c",
   "metadata": {},
   "source": [
    "<h1 style='font-size:40px'> Dimensionality Reduction</h1>\n",
    "<div> \n",
    "    <ul style='font-size:20px'> \n",
    "        <li> \n",
    "            A Redução de Dimensionalidade, como seu nome sugere, consiste em reduzir o número de dimensões do nosso dataset. No caso, estaríamos excluindo ou condensando features.\n",
    "        </li>\n",
    "        <li> \n",
    "            No caso do dataset MNIST, por exemplo, os pixels localizados nas bordas das imagens poderiam ser facilmente removidos, já que são todos brancos para a maioria das instâncias. Seria interessante também condensarmos pixels vizinhos em um único só extraindo a média de suas intensidades.\n",
    "        </li>\n",
    "    </ul>\n",
    "</div>"
   ]
  },
  {
   "cell_type": "markdown",
   "id": "854aa90d-1b6a-4b00-af0c-98fc1396345c",
   "metadata": {},
   "source": [
    "<h2 style='font-size:30px;'> Mas por que reduzir as dimensões?</h2>\n",
    "<div> \n",
    "    <ul style='font-size:20px'> \n",
    "        <li> \n",
    "            A necessidade de se diminuir as proporções de nossos dados surge da lentidão em treino proporcionada por datasets volumosos. Para a maior parte das empresas, a rapidez dos modelos (juntamente, é claro, com sua qualidade) é algo altamente demandado. \n",
    "        </li>\n",
    "        <li> \n",
    "            Outra vantagem de se fazer essa tarefa é tornar possível a criação de gráficos sobre os dados. Conseguir ter um dataset de 2 a 5 dimensões torna possível a criação de scatter plots (eixo x, y, z, tamanho do scatter, colorbar).\n",
    "        </li>\n",
    "        <li> \n",
    "            Nota: Para grande parte dos casos, reduzir a dimensionalidade dos dados implica um tradeoff entre rapidez de treinamento e qualidade dos algoritmos.\n",
    "        </li>\n",
    "    </ul>\n",
    "</div>"
   ]
  },
  {
   "cell_type": "markdown",
   "id": "6b029fe1-1d2e-447e-988c-77f91f68959f",
   "metadata": {},
   "source": [
    "<h2 style='font-size:30px;'> The Curse of Dimesionality</h2>\n",
    "<div> \n",
    "    <ul style='font-size:20px'> \n",
    "        <li> \n",
    "            O autor expõe nesta seção o fato de que aumentar o número de dimensões do dataset torna mais provável o risco de overfitting. Isso porque, em um espaço multidimensional, a distância média entre dois pontos aleatoriamente escolhidos tende a ser assustadoramente grande.  \n",
    "        </li>\n",
    "        <li> \n",
    "            Com os dados esparsos, encontrar semelhanças entre eles se torna uma tarefa muito mais difícil. Para fazer uma previsão, os modelos terão poucas instâncias em suas mãos para realizarem as devidas comparações. \n",
    "        </li>\n",
    "    </ul>\n",
    "</div>"
   ]
  },
  {
   "cell_type": "markdown",
   "id": "e4d0af11-b865-45d3-8710-428cc12e85b2",
   "metadata": {},
   "source": [
    "<h2 style='font-size:30px;'> Main Approaches for Dimensionality Reduction</h2>\n",
    "<h3 style='font-size:30px;font-style:italic'> Projection</h3>"
   ]
  },
  {
   "cell_type": "markdown",
   "id": "a2b6ad6e-1d50-4648-a410-bb8028ee4f6e",
   "metadata": {},
   "source": [
    "<div> \n",
    "    <ul style='font-size:20px'> \n",
    "        <li> \n",
    "            A Projeção consiste em encontrar um sub-espaço de menores dimensões dentro de um espaço multidimensional no qual projetamos as instâncias de treino.\n",
    "        </li>\n",
    "    </ul>\n",
    "</div>\n",
    "<center> \n",
    "    <h1> Projeção em um espaço 3D</h1>\n",
    "</center>\n",
    "<div>\n",
    "    <img src='projection1.png' width='350px'> \n",
    "    <span style='font-size:30px'> &rarr;</span>\n",
    "    <img src='projection2.png' width='300px'>\n",
    "</div>\n",
    "<div> \n",
    "    <ul style='font-size:20px'> \n",
    "        <li> \n",
    "            Projeções nem sempre são interessantes. No caso de datasets como o da roleta suíça, as instâncias podem acabar se empilhando, tornando a previsão muito mais difícil.\n",
    "        </li>\n",
    "    </ul>\n",
    "</div>"
   ]
  },
  {
   "cell_type": "markdown",
   "id": "0b628222-de9b-4c18-ae25-f704f2c63737",
   "metadata": {},
   "source": [
    "<h3 style='font-size:30px;font-style:italic'> Manifold Learning</h3>\n",
    "<div> \n",
    "    <ul style='font-size:20px'> \n",
    "        <li> \n",
    "            O Manifold Learing tem como suposição básica a de que o dataset com o qual estamos lidando surgiu da torção de um sub-espaço de dimensões muito menores - o Manifold. Tendo isso em vista, as técnicas de Manifold Learning buscam encontrar esse espaço. \n",
    "        </li>\n",
    "    </ul>\n",
    "</div>\n",
    "<center> \n",
    "    <img src='manifold1.png'>\n",
    "</center>\n",
    "<div> \n",
    "    <ul style='font-size:20px'> \n",
    "        <li> \n",
    "            Observe podemos entender a roleta suíça como uma dobra em três dimensões de um manifold 2-D.\n",
    "        </li>\n",
    "    </ul>\n",
    "</div>"
   ]
  },
  {
   "cell_type": "markdown",
   "id": "3d7de277-b6f4-43f8-95ff-298560773f2b",
   "metadata": {},
   "source": [
    "<h2 style='font-size:30px;'> PCA</h2>\n",
    "<div> \n",
    "    <ul style='font-size:20px'> \n",
    "        <li> \n",
    "            PCA é um dos algoritmos de redução de dimensionalidade mais populares atualmente. Ele tenta achar o hiperplano que se encontra mais próximo das instâncias de treino (menor distância ao quadrado média).\n",
    "        </li>\n",
    "    </ul>\n",
    "</div>"
   ]
  },
  {
   "cell_type": "markdown",
   "id": "8f92d55c-6d42-4ed3-adb3-0448842985f7",
   "metadata": {},
   "source": [
    "<h3 style='font-size:30px;font-style:italic'> Preserving the Variance</h3>\n",
    "<div> \n",
    "    <ul style='font-size:20px'> \n",
    "        <li> \n",
    "            O algoritmo PCA escolhe como eixos aqueles que preservam a maior variância possível dos dados. Dessa maneira, o mínimo possível de informações é perdido.\n",
    "        </li>\n",
    "    </ul>\n",
    "</div>\n",
    "<center> \n",
    "    <img src='pca1.png'>\n",
    "</center>"
   ]
  },
  {
   "cell_type": "markdown",
   "id": "1845cd6e-e851-4d82-bd09-150f8d25549d",
   "metadata": {},
   "source": [
    "<div> \n",
    "    <ul style='font-size:20px'> \n",
    "        <li> \n",
    "            Na imagem, o eixo a ser escolhido seria o da linha contínua, pois preserva a maior variância entre as opções. Se quiséssemos dar uma segunda dimensão ao sub-espaço, escolheríamos a linha pontilhada, pois ela é ortogonal ao primeiro eixo e preserva grande parte da variância restante. Cada um dos eixos selecionados pelo PCA são denominados como Principal Components.\n",
    "        </li>\n",
    "        <li> \n",
    "           Se quiséssemos reduzir a dimensionalidade do dataset para duas dimensões, escolheríamos os dois primeiros Principal Components do PCA.\n",
    "        </li>\n",
    "    </ul>\n",
    "</div>"
   ]
  },
  {
   "cell_type": "markdown",
   "id": "fa4f0581-dcaf-4364-8114-d6ebf5b5bbce",
   "metadata": {},
   "source": [
    "<h3 style='font-size:30px;font-style:italic'> Principal Components</h3>\n",
    "<div> \n",
    "    <ul style='font-size:20px'> \n",
    "        <li> \n",
    "            O autor aqui adverte que o PCA é bastante sensível a modificações no set de treino. Por isso, é necessário ter bastante cuidado ao se tratar as informações.\n",
    "        </li>\n",
    "    </ul>\n",
    "</div>"
   ]
  },
  {
   "cell_type": "code",
   "execution_count": 27,
   "id": "6463e03a-3639-4c3c-86f5-ad8b8e0a9b90",
   "metadata": {},
   "outputs": [],
   "source": [
    "# Aplicando PCA manualmente pelo Python.\n",
    "from sklearn.datasets import make_regression\n",
    "import numpy as np\n",
    "# Vamos reduzir a dimensão do dataset para 2.\n",
    "X,y = make_regression(n_features=3, noise=50, bias=2)\n",
    "\n",
    "# Antes de qualquer coisa, temos que centralizar os dados.\n",
    "X_centered = X - X.mean(axis=0)\n",
    "\n",
    "# Extraindo os Principal Components de 'X'.\n",
    "U, s, Vt = np.linalg.svd(X_centered)\n",
    "W2 = Vt.T[:, :2]\n",
    "\n",
    "# Reduzindo a dimensionalidade do dataset.\n",
    "X2D = X_centered.dot(W2)"
   ]
  },
  {
   "cell_type": "code",
   "execution_count": 31,
   "id": "eb9c327b-60a9-404d-9a27-e11d61fb585e",
   "metadata": {},
   "outputs": [
    {
     "data": {
      "text/plain": [
       "(2388.6212670387617, 2458.570542740498)"
      ]
     },
     "execution_count": 31,
     "metadata": {},
     "output_type": "execute_result"
    }
   ],
   "source": [
    "# Veja: não necessariamente o PCA vai aumentar a performance do modelo!\n",
    "from sklearn.metrics import mean_squared_error\n",
    "from sklearn.linear_model import LinearRegression\n",
    "mean_squared_error(y,LinearRegression().fit(X, y).predict(X)), mean_squared_error(y,LinearRegression().fit(X2D, y).predict(X2D))"
   ]
  },
  {
   "cell_type": "markdown",
   "id": "525359dc-8402-49d1-8579-b04af653d91b",
   "metadata": {},
   "source": [
    "<h3 style='font-size:30px;font-style:italic'> Using Scikit-Learn</h3>\n",
    "<div> \n",
    "    <ul style='font-size:20px'> \n",
    "        <li> \n",
    "            O Scikit-learn, no módulo decomposition, possui a classe PCA. Essa é capaz de fazer as mesmas transformações realizadas nas últimas células.\n",
    "        </li>\n",
    "    </ul>\n",
    "</div>"
   ]
  },
  {
   "cell_type": "code",
   "execution_count": 37,
   "id": "2b57c983-55d2-4065-ae9a-0e9b6cbb48a6",
   "metadata": {},
   "outputs": [],
   "source": [
    "# Reduzindo a dimensionalidade de 'X' para 2.\n",
    "from sklearn.decomposition import PCA\n",
    "\n",
    "# Os dados são automaticamente centralizados pelo objeto (mas não normalizados!)\n",
    "pca = PCA(n_components=2)\n",
    "X2D = pca.fit_transform(X)"
   ]
  },
  {
   "cell_type": "code",
   "execution_count": 36,
   "id": "fb86f725-d650-491e-a3f5-fb362f21b610",
   "metadata": {},
   "outputs": [
    {
     "data": {
      "text/plain": [
       "array([-0.12050085,  0.62671072,  0.7698787 ])"
      ]
     },
     "execution_count": 36,
     "metadata": {},
     "output_type": "execute_result"
    }
   ],
   "source": [
    "# Acessando os Princpal Components com o atributo 'components_'.\n",
    "\n",
    "# Primeiro Principal Component.\n",
    "pca.components_[0].T"
   ]
  },
  {
   "cell_type": "markdown",
   "id": "ed08a58f-48ab-4fdf-b050-52e826d53610",
   "metadata": {},
   "source": [
    "<h3 style='font-size:30px;font-style:italic'> Explained Variance Ratio</h3>\n",
    "<div> \n",
    "    <ul style='font-size:20px'> \n",
    "        <li> \n",
    "            Outro atributo de extrema relevância é o 'explained_variance_ratio_'. Ele nos revela a proporção da variância do dataset que se encontra sobre o eixo de cada Principal Component.\n",
    "        </li>\n",
    "    </ul>\n",
    "</div>"
   ]
  },
  {
   "cell_type": "code",
   "execution_count": 38,
   "id": "23e0a256-50ac-4dd0-9fcf-05eb533edfb9",
   "metadata": {},
   "outputs": [
    {
     "data": {
      "text/plain": [
       "array([0.37644482, 0.33293361])"
      ]
     },
     "execution_count": 38,
     "metadata": {},
     "output_type": "execute_result"
    }
   ],
   "source": [
    "# O primeiro PC leva 37.6% da variância, enquanto o outro 33.3%.\n",
    "pca.explained_variance_ratio_"
   ]
  },
  {
   "cell_type": "markdown",
   "id": "0b477ec4-7109-4e28-92a9-5b42c0163486",
   "metadata": {},
   "source": [
    "<h3 style='font-size:30px;font-style:italic'> Choosing the Right Number of Dimensions</h3>\n",
    "<div> \n",
    "    <ul style='font-size:20px'> \n",
    "        <li> \n",
    "            O melhor número de dimensões para o nosso dataset é aquele que preserva a maior parte da sua variância. Para isso, existem duas estratégias para obtermos esse valor, cada uma com a sua vantagem.\n",
    "        </li>\n",
    "    </ul>\n",
    "</div>"
   ]
  },
  {
   "cell_type": "code",
   "execution_count": 80,
   "id": "59e67833-a49f-45ec-bd55-f6b44d0a75c3",
   "metadata": {},
   "outputs": [
    {
     "data": {
      "text/plain": [
       "(100, 50)"
      ]
     },
     "execution_count": 80,
     "metadata": {},
     "output_type": "execute_result"
    }
   ],
   "source": [
    "# Escolhendo um dataset com mais dimensões.\n",
    "from sklearn.datasets import load_breast_cancer\n",
    "X,y = make_regression(n_features=50, noise=50, bias=2)\n",
    "\n",
    "# Há 30 dimensões em X. Qual seria o número de dimensões que preservaria 95% da variância?\n",
    "X.shape"
   ]
  },
  {
   "cell_type": "code",
   "execution_count": 65,
   "id": "f9548946-60cd-4082-895e-7b962dc3e585",
   "metadata": {},
   "outputs": [],
   "source": [
    "# Podemos especificar a 'explained_variance_ratio' desejado em 'n_components_'\n",
    "from sklearn.decomposition import PCA\n",
    "pca = PCA(n_components=0.95)\n",
    "X_reduced = pca.fit_transform(X)"
   ]
  },
  {
   "cell_type": "code",
   "execution_count": 82,
   "id": "e2597ac9-db06-48fb-b2cf-78a45c293da6",
   "metadata": {},
   "outputs": [],
   "source": [
    "# Ou também conseguimos obter o valor exato de dimensões com o código abaixo.\n",
    "# Sua vantagem é de que podemos usar 'cumsum' para plotar um gráfico com a variância preservada em função do número de dimensões.\n",
    "\n",
    "\n",
    "# Invocando PCA sem um 'n_components' específico.\n",
    "pca = PCA()\n",
    "pca.fit(X)\n",
    "cumsum = np.cumsum(pca.explained_variance_ratio_)\n",
    "\n",
    "# Obtendo o número de dimensões desejado com np.where.\n",
    "d = np.argmax(cumsum>=0.95)+1"
   ]
  },
  {
   "cell_type": "code",
   "execution_count": 87,
   "id": "ba515538-6615-4392-af6a-3241c0847a72",
   "metadata": {},
   "outputs": [
    {
     "data": {
      "text/plain": [
       "[<matplotlib.lines.Line2D at 0x7f4892634dc0>]"
      ]
     },
     "execution_count": 87,
     "metadata": {},
     "output_type": "execute_result"
    },
    {
     "data": {
      "image/png": "[encoded data removed]",
      "text/plain": [
       "<Figure size 432x288 with 1 Axes>"
      ]
     },
     "metadata": {
      "needs_background": "light"
     },
     "output_type": "display_data"
    }
   ],
   "source": [
    "# Montando o gráfico.\n",
    "import matplotlib.pyplot as plt\n",
    "plt.plot([i+1 for i in range(len(cumsum))], cumsum)"
   ]
  },
  {
   "cell_type": "code",
   "execution_count": 86,
   "id": "f41aca4f-e0ee-48ab-8bd5-60a51256aa27",
   "metadata": {},
   "outputs": [
    {
     "data": {
      "text/plain": [
       "array([0.05796646, 0.10872648, 0.1557608 , 0.20222471, 0.24703052,\n",
       "       0.28764546, 0.32752354, 0.36314469, 0.39810362, 0.43100949,\n",
       "       0.46356074, 0.4952065 , 0.52440906, 0.55326346, 0.58103072,\n",
       "       0.60808503, 0.63192519, 0.65506843, 0.67739336, 0.69938125,\n",
       "       0.72020989, 0.74052511, 0.75910358, 0.77742456, 0.79517274,\n",
       "       0.81093178, 0.82543563, 0.83977693, 0.85243102, 0.86489189,\n",
       "       0.87725104, 0.8888001 , 0.89928961, 0.90929897, 0.91860425,\n",
       "       0.92726472, 0.93574936, 0.94371196, 0.95122297, 0.95825319,\n",
       "       0.96500821, 0.9709281 , 0.97614064, 0.98115453, 0.98518184,\n",
       "       0.98908186, 0.99245225, 0.99530368, 0.99785086, 1.        ])"
      ]
     },
     "execution_count": 86,
     "metadata": {},
     "output_type": "execute_result"
    }
   ],
   "source": [
    "cumsum"
   ]
  },
  {
   "cell_type": "markdown",
   "id": "59d3ca19-ed79-418d-af65-36ec334f7f4b",
   "metadata": {},
   "source": [
    "<p style='color:red'>Using Sckit-Learn"
   ]
  }
 ],
 "metadata": {
  "kernelspec": {
   "display_name": "Python 3 (ipykernel)",
   "language": "python",
   "name": "python3"
  },
  "language_info": {
   "codemirror_mode": {
    "name": "ipython",
    "version": 3
   },
   "file_extension": ".py",
   "mimetype": "text/x-python",
   "name": "python",
   "nbconvert_exporter": "python",
   "pygments_lexer": "ipython3",
   "version": "3.8.10"
  }
 },
 "nbformat": 4,
 "nbformat_minor": 5
}
