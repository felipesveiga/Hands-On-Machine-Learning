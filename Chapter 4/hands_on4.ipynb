{
 "cells": [
  {
   "cell_type": "markdown",
   "id": "81163af5-a53e-4101-9c0e-0599011a534f",
   "metadata": {},
   "source": [
    "<h1 style='font-size:40px'> Training Models</h1>"
   ]
  },
  {
   "cell_type": "markdown",
   "id": "77ab8629-613e-45d2-85ed-d7916e883b65",
   "metadata": {},
   "source": [
    "<h2 style='font-size:30px;'> Ajuste de modelos</h2>\n",
    "<div> \n",
    "    <ul style='font-size:20px'> \n",
    "        <li> \n",
    "            Neste capítulo, aprenderemos a ajustar os parâmetros de modelos, a começar pela Regressão Linear.\n",
    "        </li>\n",
    "        <li> \n",
    "            Com relação a ela, podemos tuná-la com o uso de uma equação que, prontamente, retorna os parâmetros que minimizam a função de custo. Ou, somos capazes também de usar uma abordagem conhecida como Gradient Descent, que iterativamente, modifica esses argumentos até que a função-custo seja a menor possível.\n",
    "        </li>\n",
    "    </ul>\n",
    "</div>"
   ]
  },
  {
   "cell_type": "markdown",
   "id": "e455c610-127f-4595-8543-d1749fe643d8",
   "metadata": {},
   "source": [
    "<h2 style='font-size:30px;'> Linear Regression</h2>\n",
    "<center>\n",
    "    <h1> Forma Vetorizada</h1>\n",
    "    <img src='linreg2.png'>\n",
    "</center>"
   ]
  },
  {
   "cell_type": "markdown",
   "id": "c5ff62a7-a1c1-4932-ba2c-905926e03d9c",
   "metadata": {},
   "source": [
    "<div> \n",
    "    <ul style='font-size:20px'> \n",
    "        <li> \n",
    "            Lembrando que uma das métricas mais utilizadas é a soma dos erros elevados ao quadrado do modelo (MSE).\n",
    "        </li>\n",
    "    </ul>\n",
    "</div>\n",
    "<center> \n",
    "    <h1> Fórmula Vetorizada do MSE</h1>\n",
    "    <img src='mse.png'>\n",
    "</center>"
   ]
  },
  {
   "cell_type": "markdown",
   "id": "4590ce11-d9c0-4a6d-b4b0-b4838dcba3fd",
   "metadata": {},
   "source": [
    "<h2 style='font-size:30px'> The Normal Equation</h2>\n",
    "<div> \n",
    "    <ul style='font-size:20px'> \n",
    "        <li> \n",
    "            A Normal Equation é aquela responsável por definir os coeficientes da Regressão Linear.\n",
    "        </li>\n",
    "    </ul>\n",
    "</div>\n",
    "<center> \n",
    "    <h1> Fórmula da Normal Equation</h1>\n",
    "    <img src='normalequation.png'>\n",
    "</center>"
   ]
  },
  {
   "cell_type": "markdown",
   "id": "9f8f20fb-17f9-42bc-97fa-e49833d58126",
   "metadata": {},
   "source": [
    "<h2 style='font-size:30px'> Gradient Descent</h2>\n",
    "<div> \n",
    "    <ul style='font-size:20px'> \n",
    "        <li> \n",
    "            Como dito no início, o Gradient Descent, ajusta, iterativamente, os coeficientes da regressão até que a função de custo (por exemplo, o MSE) chegue a um valor mínimo.\n",
    "        </li>\n",
    "        <li>\n",
    "            Os coeficientes recebem valores aleatórios de início, e eles são melhorados de acordo com uma learning rate definida. No entanto, dar um valor muito alto a ela pode fazer o modelo adquirir coeficientes inadequados.\n",
    "        </li>\n",
    "        <li> \n",
    "            Ademais, o autor recomenda que nós coloquemos todas as features dentro de uma mesma escala. Essa prática faz com que menos iterações sejam necessárias para que o valor mínimo da função-custo seja alcançado.\n",
    "        </li>\n",
    "    </ul>\n",
    "</div>\n",
    "<center> \n",
    "    <h1> O impacto de diferentes Learning Rates em uma Regressão</h1>\n",
    "    <img src='learning_rate1.png'>\n",
    "</center>"
   ]
  },
  {
   "cell_type": "markdown",
   "id": "a17fdc1e-e975-4367-a26a-dcc14f3805aa",
   "metadata": {},
   "source": [
    "<h3 style='font-size:30px;font-style:italic'> Batch Gradient Descent</h3>\n",
    "<div> \n",
    "    <ul style='font-size:20px'> \n",
    "        <li> \n",
    "            Bastante eficiente em treinamentos de datasets com muitas features. No entanto, perde eficiência conforme o número de instâncias aumenta!\n",
    "        </li>\n",
    "        <li> \n",
    "            Sua learning rate adequada pode ser descoberta com o GridSearch. \n",
    "        </li>\n",
    "    </ul>\n",
    "</div>"
   ]
  },
  {
   "cell_type": "markdown",
   "id": "123251a5-203a-4122-a3b7-931a28bfe4f9",
   "metadata": {},
   "source": [
    "<h3 style='font-size:30px;font-style:italic'> Stochastic Gradient Descent</h3>\n",
    "<div> \n",
    "    <ul style='font-size:20px'> \n",
    "        <li> \n",
    "            Treinamento mais veloz em datasets grandes, mas peca em encontrar o valor-ótimo dos coeficientes.\n",
    "        </li>\n",
    "        <li> \n",
    "            Uma maneira que minimiza esse problema é o ajuste da learning rate periodicamente durante as iterações.\n",
    "        </li>\n",
    "    </ul>\n",
    "</div>"
   ]
  },
  {
   "cell_type": "code",
   "execution_count": 49,
   "id": "38296da3-6ff8-4440-ac13-9aca532cfca6",
   "metadata": {},
   "outputs": [
    {
     "name": "stdout",
     "output_type": "stream",
     "text": [
      "[41.74109964] [-3.33178376e-07]\n"
     ]
    }
   ],
   "source": [
    "# Fazendo uma regressão com o SGDRegressor.\n",
    "from sklearn.datasets import make_regression\n",
    "from sklearn.linear_model import SGDRegressor\n",
    "dataset = make_regression(n_samples=100, n_features=1, random_state=42)\n",
    "X = dataset[0]\n",
    "y = dataset[1]\n",
    "\n",
    "# O regressor fará 1000 (max_iter) iterações para descobrir os coeficientes adequados.\n",
    "# A learning rate inicial (eta0) é 1%.\n",
    "# A função de custo deve ter uma perda de menor do que 1e-3 (tol) por 5 iterações (n_iter_no_change) para que o processo de treinamento\n",
    "# termine antes.\n",
    "sgd_reg=SGDRegressor(max_iter=1000, n_iter_no_change=5,tol=1e-3, penalty=None, eta0=0.1)\n",
    "sgd_reg.fit(X, y)\n",
    "\n",
    "# Inclinação da curva e ponto de interceptação.\n",
    "print(sgd_reg.coef_, sgd_reg.intercept_)"
   ]
  },
  {
   "cell_type": "markdown",
   "id": "f59f7d8e-3d2f-4260-94a9-c70e94c8a87f",
   "metadata": {},
   "source": [
    "<h3 style='font-size:30px;font-style:italic'> Mini-batch Gradient Descent</h3>\n",
    "<div> \n",
    "    <ul style='font-size:20px'> \n",
    "        <li>\n",
    "            Este algoritmo de treinamento tem uma estratégia considerada como um meio-termo em comparação com o Batch Gradient Descent e o Stochastic Gradient Descent.\n",
    "        </li>\n",
    "    </ul>\n",
    "</div>"
   ]
  },
  {
   "cell_type": "markdown",
   "id": "c90686fb-50cb-457e-8391-0a3f0484ea9e",
   "metadata": {},
   "source": [
    "<center> \n",
    "    <h1> Tabela-resumo dos algoritmos de regressão</h1>\n",
    "    <img src='gradient_table.png'>\n",
    "</center>"
   ]
  },
  {
   "cell_type": "markdown",
   "id": "8bce8924-2cdc-481d-bdb6-c8c95aa7f38a",
   "metadata": {},
   "source": [
    "<h2 style='font-size:30px'> Polynomial Regression</h2>\n",
    "<div> \n",
    "    <ul style='font-size:20px'> \n",
    "        <li>\n",
    "            Na maior parte das vezes, uma simples reta não poderá nos fornecer uma boa previsão. Por exemplo, digamos que tivéssemos que fazer uma regressão com dados cuja distribuição espacial se aproxima com a de uma função quadrática.\n",
    "        </li>\n",
    "    </ul>\n",
    "</div>"
   ]
  },
  {
   "cell_type": "code",
   "execution_count": 60,
   "id": "e66a6fd2-69bc-45d3-8b06-b49d9467b0bb",
   "metadata": {},
   "outputs": [
    {
     "data": {
      "text/plain": [
       "<matplotlib.collections.PathCollection at 0x7fbbe57d3d30>"
      ]
     },
     "execution_count": 60,
     "metadata": {},
     "output_type": "execute_result"
    },
    {
     "data": {
      "image/png": "[encoded data removed]",
      "text/plain": [
       "<Figure size 432x288 with 1 Axes>"
      ]
     },
     "metadata": {
      "needs_background": "light"
     },
     "output_type": "display_data"
    }
   ],
   "source": [
    "samples = 100\n",
    "X = 6*np.random.rand(samples, 1)-3\n",
    "\n",
    "# Os valores-alvo serão a aplicação de 'X' como argumento de uma função quadrática.\n",
    "y = 0.5 * (X**2) + X + 2 + np.random.rand(samples,1)\n",
    "\n",
    "# Como uma linha reta pode nos fornecer um baixo RMSE com esses dados?\n",
    "plt.scatter(X,y, s=10)"
   ]
  },
  {
   "cell_type": "markdown",
   "id": "afebaeb3-ab1a-4f19-8337-30fb68c660b8",
   "metadata": {},
   "source": [
    "<div> \n",
    "    <ul style='font-size:20px'> \n",
    "        <li>\n",
    "            Neste contexto, o scikit-learn tem a classe PolynomialFeatures, que retorna  os dados originais mais cada um dos resultados de sua soma elevada a n (sem os coeficientes).\n",
    "        </li>\n",
    "        <li> \n",
    "            Por exemplo, com um dataset de duas features (a,b), ao usarmos PolynomialFeatures com degree=2, o valor retornado será, além de a e b, $a^2, ab, b^2 $\n",
    "        </li>\n",
    "        <li> \n",
    "            Tendo o array inicial n features, o output final da transformação, em função de degree (d), possuirá  $ \\frac{(n+d)!}{d!n!}!$ colunas.\n",
    "        </li>\n",
    "    </ul>\n",
    "</div>"
   ]
  },
  {
   "cell_type": "code",
   "execution_count": 67,
   "id": "1990603a-1495-429f-a9fc-92609e7b0607",
   "metadata": {},
   "outputs": [
    {
     "data": {
      "text/plain": [
       "array([-1.57494397,  2.4804485 ])"
      ]
     },
     "execution_count": 67,
     "metadata": {},
     "output_type": "execute_result"
    }
   ],
   "source": [
    "from sklearn.preprocessing import PolynomialFeatures\n",
    "poly_features = PolynomialFeatures(degree=2, include_bias=False)\n",
    "X_poly = poly_features.fit_transform(X)\n",
    "\n",
    "# Esta versão extendida de 'X' contém agora 2 features: a original e o seu quadrado.\n",
    "X_poly[0]"
   ]
  },
  {
   "cell_type": "code",
   "execution_count": 69,
   "id": "71f84b2f-a941-41e8-b79c-a80fd528372e",
   "metadata": {},
   "outputs": [
    {
     "data": {
      "text/plain": [
       "(array([[1.00515912, 0.50602725]]), array([2.51520238]))"
      ]
     },
     "execution_count": 69,
     "metadata": {},
     "output_type": "execute_result"
    }
   ],
   "source": [
    "# Aplicando um modelo de Regressão Linear.\n",
    "from sklearn.linear_model import LinearRegression\n",
    "lin_reg = LinearRegression()\n",
    "lin_reg.fit(X_poly, y)\n",
    "\n",
    "# Pronto! Temos todos os coeficientes de uma função quadrática (axˆ2 + bx +c).\n",
    "lin_reg.coef_, lin_reg.intercept_"
   ]
  },
  {
   "cell_type": "code",
   "execution_count": 87,
   "id": "41f53bb9-07ef-4377-baab-97a5815dd0e3",
   "metadata": {},
   "outputs": [
    {
     "data": {
      "text/plain": [
       "<matplotlib.collections.PathCollection at 0x7fbbe7a632b0>"
      ]
     },
     "execution_count": 87,
     "metadata": {},
     "output_type": "execute_result"
    },
    {
     "data": {
      "image/png": "[encoded data removed]",
      "text/plain": [
       "<Figure size 432x288 with 1 Axes>"
      ]
     },
     "metadata": {
      "needs_background": "light"
     },
     "output_type": "display_data"
    }
   ],
   "source": [
    "# A hipérbole gerada se adequa muito bem aos dados.\n",
    "xs = np.linspace(-3,3,101)\n",
    "xs_poly = poly_features.transform(xs.reshape(-1,1))\n",
    "ys = lin_reg.predict(xs_poly)\n",
    "plt.plot(xs, ys)\n",
    "plt.scatter(X,y, color='orange', s=10)"
   ]
  },
  {
   "cell_type": "markdown",
   "id": "5efd5878-5848-4d1a-9fd4-5fa738c71eaf",
   "metadata": {},
   "source": [
    "<h2 style='font-size:30px'> Learning Curves</h2>\n",
    "<div> \n",
    "    <ul style='font-size:20px'> \n",
    "        <li>\n",
    "            Para estudarmos a qualidade do modelo conforme aumentamos o número de instâncias de treino, existem as learning curves. No scikit-learn, uma validação cruzada gradativa ocorrerá. Para cada fold feito, o modelo será treinado em fatias cada vez maiores do conjunto de treino e testado neste e nos dados de validação.\n",
    "        </li>\n",
    "    </ul>\n",
    "</div>"
   ]
  },
  {
   "cell_type": "code",
   "execution_count": 134,
   "id": "e78df913-3b60-4a4c-a256-bf1569a06591",
   "metadata": {},
   "outputs": [
    {
     "name": "stderr",
     "output_type": "stream",
     "text": [
      "/Users/felipeveiga/opt/anaconda3/lib/python3.8/site-packages/sklearn/model_selection/_validation.py:1471: RuntimeWarning: Removed duplicate entries from 'train_sizes'. Number of ticks will be less than the size of 'train_sizes' 80 instead of 100).\n",
      "  warnings.warn(\"Removed duplicate entries from 'train_sizes'. Number \"\n"
     ]
    }
   ],
   "source": [
    "from sklearn.model_selection import learning_curve\n",
    "# O objeto 'learning_curve' retornará o tamanho da fatia do conjunto de treino e as pontuações de treino e validação.\n",
    "# Nota: estamos usando a variável independente sem a transformação polinomial!\n",
    "train_sizes, train_scores, test_scores= learning_curve(lin_reg, X, y, \n",
    "                                                       train_sizes=np.linspace(0.01,1,100), random_state=42,\n",
    "                                                       cv=5, scoring='neg_mean_squared_error')\n",
    "\n",
    "# Como queremos ter apenas uma visão geral da performance, extrairemos a média das pontuações dos folds com cada tamanho de fatia\n",
    "# de treino.\n",
    "train_scores = np.sqrt(-train_scores).mean(axis=1)\n",
    "test_scores = np.sqrt(-test_scores).mean(axis=1)"
   ]
  },
  {
   "cell_type": "code",
   "execution_count": 135,
   "id": "2a42741b-4874-4809-bf0d-5a0fe677d89c",
   "metadata": {},
   "outputs": [
    {
     "data": {
      "text/plain": [
       "<matplotlib.legend.Legend at 0x7fbbe81b6640>"
      ]
     },
     "execution_count": 135,
     "metadata": {},
     "output_type": "execute_result"
    },
    {
     "data": {
      "image/png": "[encoded data removed]",
      "text/plain": [
       "<Figure size 432x288 with 1 Axes>"
      ]
     },
     "metadata": {
      "needs_background": "light"
     },
     "output_type": "display_data"
    }
   ],
   "source": [
    "# Plotando as curvas de aprendizado.\n",
    "plt.plot(train_sizes, train_scores, label='Train')\n",
    "plt.plot(train_sizes,test_scores, label='Test')\n",
    "plt.legend()"
   ]
  },
  {
   "cell_type": "markdown",
   "id": "a74efc7f-800f-4b75-9252-e3c2586859aa",
   "metadata": {},
   "source": [
    "<p style='color:red'> apagar depois (célula abaixo)"
   ]
  },
  {
   "cell_type": "markdown",
   "id": "558dc72b-5087-4756-a549-65c77f395c3a",
   "metadata": {},
   "source": [
    "<div> \n",
    "    <ul style='font-size:20px'> \n",
    "        <li>\n",
    "            Com poucas instâncias de treino, o modelo tem um baixo índice de erro entre elas, mas um alto valor para o conjunto de teste. Conforme os dados disponíveis crescem,a taxa de erro no treinamento tende a crescer, enquanto que na validação cai. Em certo ponto, ambas as curvas atingem um plateau, em que não conseguem atingir índices melhores ou piores.\n",
    "        </li>\n",
    "    </ul>\n",
    "</div>"
   ]
  },
  {
   "cell_type": "code",
   "execution_count": 148,
   "id": "f991ad0a-37e5-4ad6-913e-15f205e9f131",
   "metadata": {},
   "outputs": [
    {
     "name": "stderr",
     "output_type": "stream",
     "text": [
      "/Users/felipeveiga/opt/anaconda3/lib/python3.8/site-packages/ipykernel/ipkernel.py:287: DeprecationWarning: `should_run_async` will not call `transform_cell` automatically in the future. Please pass the result to `transformed_cell` argument and any exception that happen during thetransform in `preprocessing_exc_tuple` in IPython 7.17 and above.\n",
      "  and should_run_async(code)\n",
      "/Users/felipeveiga/opt/anaconda3/lib/python3.8/site-packages/sklearn/model_selection/_validation.py:1471: RuntimeWarning: Removed duplicate entries from 'train_sizes'. Number of ticks will be less than the size of 'train_sizes' 80 instead of 100).\n",
      "  warnings.warn(\"Removed duplicate entries from 'train_sizes'. Number \"\n"
     ]
    }
   ],
   "source": [
    "from sklearn.model_selection import learning_curve\n",
    "\n",
    "# Fazendo o mesmo procedimento com 'X_poly'.\n",
    "train_sizes_poly, train_scores_poly, test_scores_poly= learning_curve(lin_reg, X_poly, y, \n",
    "                                                       train_sizes=np.linspace(0.01,1,100), random_state=42,\n",
    "                                                       cv=5, scoring='neg_mean_squared_error')\n",
    "\n",
    "train_scores_poly = np.sqrt(-train_scores_poly).mean(axis=1)\n",
    "test_scores_poly = np.sqrt(-test_scores_poly).mean(axis=1)"
   ]
  },
  {
   "cell_type": "code",
   "execution_count": 149,
   "id": "e951e47d-b6f2-4041-b5be-a899d2ca1d83",
   "metadata": {},
   "outputs": [
    {
     "name": "stderr",
     "output_type": "stream",
     "text": [
      "/Users/felipeveiga/opt/anaconda3/lib/python3.8/site-packages/ipykernel/ipkernel.py:287: DeprecationWarning: `should_run_async` will not call `transform_cell` automatically in the future. Please pass the result to `transformed_cell` argument and any exception that happen during thetransform in `preprocessing_exc_tuple` in IPython 7.17 and above.\n",
      "  and should_run_async(code)\n"
     ]
    },
    {
     "data": {
      "text/plain": [
       "<matplotlib.legend.Legend at 0x7fbbe90649a0>"
      ]
     },
     "execution_count": 149,
     "metadata": {},
     "output_type": "execute_result"
    },
    {
     "data": {
      "image/png": "[encoded data removed]",
      "text/plain": [
       "<Figure size 432x288 with 1 Axes>"
      ]
     },
     "metadata": {
      "needs_background": "light"
     },
     "output_type": "display_data"
    }
   ],
   "source": [
    "# Veja, o plateau é atingido com uma taxa de erro muito menor!\n",
    "plt.plot(train_sizes_poly, train_scores_poly, label='Train')\n",
    "plt.plot(train_sizes_poly,test_scores_poly, label='Test')\n",
    "plt.legend()"
   ]
  },
  {
   "cell_type": "markdown",
   "id": "551ecead-3360-4491-ac19-df5e174a5bac",
   "metadata": {},
   "source": [
    "<h2 style='font-size:30px'>  Regularized Linear Models</h2>\n",
    "<div> \n",
    "    <ul style='font-size:20px'> \n",
    "        <li>\n",
    "          Os modelos lineares regularizados são versões adapatadas do LinearRegression. O seu intuito é restringir os valores dos coeficientes, evitando assim o vício do algoritmo.\n",
    "        </li>\n",
    "        <li> \n",
    "          É importante frisar que modelos regularizados costumam exigir que os dados com os quais lidarão estejam normalizados!\n",
    "        </li>\n",
    "    </ul>\n",
    "</div>"
   ]
  },
  {
   "cell_type": "markdown",
   "id": "f08aae02-b6f3-4a04-9c05-ea345e8a864f",
   "metadata": {},
   "source": [
    "<h3 style='font-size:30px;font-style:italic'> Ridge Regression</h3>\n",
    "<div> \n",
    "    <ul style='font-size:20px'> \n",
    "        <li>\n",
    "            A regressão Ridge reduz os coeficientes da fórmula. Quanto maior o argumento $\\alpha$, mais regularizada ela estará e, assim, mais próximos de 0 esses números estarão.\n",
    "        </li>\n",
    "    </ul>\n",
    "</div>"
   ]
  },
  {
   "cell_type": "markdown",
   "id": "c72a2663-026f-4a11-9ef8-625a6886c960",
   "metadata": {},
   "source": [
    "<p style='color:red'> Seção grifad</p>"
   ]
  },
  {
   "cell_type": "code",
   "execution_count": 50,
   "id": "9bc8aaf1-e9fb-48a6-a430-464d9fc156d9",
   "metadata": {},
   "outputs": [],
   "source": [
    "! mv  /Users/felipeveiga/Desktop/Screen\\ Shot\\ 2022-05-14\\ at\\ 16.24.04.png ./gradient_table.png"
   ]
  }
 ],
 "metadata": {
  "kernelspec": {
   "display_name": "Python 3",
   "language": "python",
   "name": "python3"
  },
  "language_info": {
   "codemirror_mode": {
    "name": "ipython",
    "version": 3
   },
   "file_extension": ".py",
   "mimetype": "text/x-python",
   "name": "python",
   "nbconvert_exporter": "python",
   "pygments_lexer": "ipython3",
   "version": "3.8.8"
  }
 },
 "nbformat": 4,
 "nbformat_minor": 5
}
