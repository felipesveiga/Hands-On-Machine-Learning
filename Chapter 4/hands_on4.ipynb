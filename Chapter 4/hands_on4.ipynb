{
 "cells": [
  {
   "cell_type": "markdown",
   "id": "81163af5-a53e-4101-9c0e-0599011a534f",
   "metadata": {},
   "source": [
    "<h1 style='font-size:40px'> Training Models</h1>"
   ]
  },
  {
   "cell_type": "markdown",
   "id": "77ab8629-613e-45d2-85ed-d7916e883b65",
   "metadata": {},
   "source": [
    "<h2 style='font-size:30px;'> Ajuste de modelos</h2>\n",
    "<div> \n",
    "    <ul style='font-size:20px'> \n",
    "        <li> \n",
    "            Neste capítulo, aprenderemos a ajustar os parâmetros de modelos, a começar pela Regressão Linear.\n",
    "        </li>\n",
    "        <li> \n",
    "            Com relação a ela, podemos tuná-la com o uso de uma equação que, prontamente, retorna os parâmetros que minimizam a função de custo. Ou, somos capazes também de usar uma abordagem conhecida como Gradient Descent, que iterativamente, modifica esses argumentos até que a função-custo seja a menor possível.\n",
    "        </li>\n",
    "    </ul>\n",
    "</div>"
   ]
  },
  {
   "cell_type": "markdown",
   "id": "e455c610-127f-4595-8543-d1749fe643d8",
   "metadata": {},
   "source": [
    "<h2 style='font-size:30px;'> Linear Regression</h2>\n",
    "<center>\n",
    "    <h1> Forma Vetorizada</h1>\n",
    "    <img src='linreg2.png'>\n",
    "</center>"
   ]
  },
  {
   "cell_type": "markdown",
   "id": "c5ff62a7-a1c1-4932-ba2c-905926e03d9c",
   "metadata": {},
   "source": [
    "<div> \n",
    "    <ul style='font-size:20px'> \n",
    "        <li> \n",
    "            Lembrando que uma das métricas mais utilizadas é a soma dos erros elevados ao quadrado do modelo (MSE).\n",
    "        </li>\n",
    "    </ul>\n",
    "</div>\n",
    "<center> \n",
    "    <h1> Fórmula Vetorizada do MSE</h1>\n",
    "    <img src='mse.png'>\n",
    "</center>"
   ]
  },
  {
   "cell_type": "markdown",
   "id": "4590ce11-d9c0-4a6d-b4b0-b4838dcba3fd",
   "metadata": {},
   "source": [
    "<h2 style='font-size:30px'> The Normal Equation</h2>\n",
    "<div> \n",
    "    <ul style='font-size:20px'> \n",
    "        <li> \n",
    "            A Normal Equation é aquela responsável por definir os coeficientes da Regressão Linear.\n",
    "        </li>\n",
    "    </ul>\n",
    "</div>\n",
    "<center> \n",
    "    <h1> Fórmula da Normal Equation</h1>\n",
    "    <img src='normalequation.png'>\n",
    "</center>"
   ]
  },
  {
   "cell_type": "markdown",
   "id": "9f8f20fb-17f9-42bc-97fa-e49833d58126",
   "metadata": {},
   "source": [
    "<h2 style='font-size:30px'> Gradient Descent</h2>\n",
    "<div> \n",
    "    <ul style='font-size:20px'> \n",
    "        <li> \n",
    "            Como dito no início, o Gradient Descent, ajusta, iterativamente, os coeficientes da regressão até que a função de custo (por exemplo, o MSE) chegue a um valor mínimo.\n",
    "        </li>\n",
    "        <li>\n",
    "            Os coeficientes recebem valores aleatórios de início, e eles são melhorados de acordo com uma learning rate definida. No entanto, dar um valor muito alto a ela pode fazer o modelo adquirir coeficientes inadequados.\n",
    "        </li>\n",
    "        <li> \n",
    "            Ademais, o autor recomenda que nós coloquemos todas as features dentro de uma mesma escala. Essa prática faz com que menos iterações sejam necessárias para que o valor mínimo da função-custo seja alcançado.\n",
    "        </li>\n",
    "    </ul>\n",
    "</div>\n",
    "<center> \n",
    "    <h1> O impacto de diferentes Learning Rates em uma Regressão</h1>\n",
    "    <img src='learning_rate1.png'>\n",
    "</center>"
   ]
  },
  {
   "cell_type": "markdown",
   "id": "a17fdc1e-e975-4367-a26a-dcc14f3805aa",
   "metadata": {},
   "source": [
    "<h3 style='font-size:30px;font-style:italic'> Batch Gradient Descent</h3>\n",
    "<div> \n",
    "    <ul style='font-size:20px'> \n",
    "        <li> \n",
    "            Bastante eficiente em treinamentos de datasets com muitas features. No entanto, perde eficiência conforme o número de instâncias aumenta!\n",
    "        </li>\n",
    "        <li> \n",
    "            Sua learning rate adequada pode ser descoberta com o GridSearch. \n",
    "        </li>\n",
    "    </ul>\n",
    "</div>"
   ]
  },
  {
   "cell_type": "markdown",
   "id": "123251a5-203a-4122-a3b7-931a28bfe4f9",
   "metadata": {},
   "source": [
    "<h3 style='font-size:30px;font-style:italic'> Stochastic Gradient Descent</h3>\n",
    "<div> \n",
    "    <ul style='font-size:20px'> \n",
    "        <li> \n",
    "            Treinamento mais veloz em datasets grandes, mas peca em encontrar o valor-ótimo dos coeficientes.\n",
    "        </li>\n",
    "        <li> \n",
    "            Uma maneira que minimiza esse problema é o ajuste da learning rate periodicamente durante as iterações.\n",
    "        </li>\n",
    "    </ul>\n",
    "</div>"
   ]
  },
  {
   "cell_type": "code",
   "execution_count": 2,
   "id": "38296da3-6ff8-4440-ac13-9aca532cfca6",
   "metadata": {},
   "outputs": [
    {
     "name": "stdout",
     "output_type": "stream",
     "text": [
      "[41.74109962] [-3.21256539e-07]\n"
     ]
    }
   ],
   "source": [
    "# Fazendo uma regressão com o SGDRegressor.\n",
    "from sklearn.datasets import make_regression\n",
    "from sklearn.linear_model import SGDRegressor\n",
    "dataset = make_regression(n_samples=100, n_features=1, random_state=42)\n",
    "X = dataset[0]\n",
    "y = dataset[1]\n",
    "\n",
    "# O regressor fará 1000 (max_iter) iterações para descobrir os coeficientes adequados.\n",
    "# A learning rate inicial (eta0) é 1%.\n",
    "# A função de custo deve ter uma perda de menor do que 1e-3 (tol) por 5 iterações (n_iter_no_change) para que o processo de treinamento\n",
    "# termine antes.\n",
    "sgd_reg=SGDRegressor(max_iter=1000, n_iter_no_change=5,tol=1e-3, penalty=None, eta0=0.1)\n",
    "sgd_reg.fit(X, y)\n",
    "\n",
    "# Inclinação da curva e ponto de interceptação.\n",
    "print(sgd_reg.coef_, sgd_reg.intercept_)"
   ]
  },
  {
   "cell_type": "markdown",
   "id": "f59f7d8e-3d2f-4260-94a9-c70e94c8a87f",
   "metadata": {},
   "source": [
    "<h3 style='font-size:30px;font-style:italic'> Mini-batch Gradient Descent</h3>\n",
    "<div> \n",
    "    <ul style='font-size:20px'> \n",
    "        <li>\n",
    "            Este algoritmo de treinamento tem uma estratégia considerada como um meio-termo em comparação com o Batch Gradient Descent e o Stochastic Gradient Descent.\n",
    "        </li>\n",
    "    </ul>\n",
    "</div>"
   ]
  },
  {
   "cell_type": "markdown",
   "id": "c90686fb-50cb-457e-8391-0a3f0484ea9e",
   "metadata": {},
   "source": [
    "<center> \n",
    "    <h1> Tabela-resumo dos algoritmos de regressão</h1>\n",
    "    <img src='gradient_table.png'>\n",
    "</center>"
   ]
  },
  {
   "cell_type": "markdown",
   "id": "8bce8924-2cdc-481d-bdb6-c8c95aa7f38a",
   "metadata": {},
   "source": [
    "<h2 style='font-size:30px'> Polynomial Regression</h2>\n",
    "<div> \n",
    "    <ul style='font-size:20px'> \n",
    "        <li>\n",
    "            Na maior parte das vezes, uma simples reta não poderá nos fornecer uma boa previsão. Por exemplo, digamos que tivéssemos que fazer uma regressão com dados cuja distribuição espacial se aproxima com a de uma função quadrática.\n",
    "        </li>\n",
    "    </ul>\n",
    "</div>"
   ]
  },
  {
   "cell_type": "code",
   "execution_count": 3,
   "id": "e66a6fd2-69bc-45d3-8b06-b49d9467b0bb",
   "metadata": {},
   "outputs": [
    {
     "data": {
      "text/plain": [
       "<matplotlib.collections.PathCollection at 0x7f21355ec6a0>"
      ]
     },
     "execution_count": 3,
     "metadata": {},
     "output_type": "execute_result"
    },
    {
     "data": {
      "image/png": "[encoded data removed]",
      "text/plain": [
       "<Figure size 432x288 with 1 Axes>"
      ]
     },
     "metadata": {
      "needs_background": "light"
     },
     "output_type": "display_data"
    }
   ],
   "source": [
    "import numpy as np\n",
    "import matplotlib.pyplot as plt\n",
    "samples = 100\n",
    "X = 6*np.random.rand(samples, 1)-3\n",
    "\n",
    "# Os valores-alvo serão a aplicação de 'X' como argumento de uma função quadrática.\n",
    "y = 0.5 * (X**2) + X + 2 + np.random.rand(samples,1)\n",
    "\n",
    "# Como uma linha reta pode nos fornecer um baixo RMSE com esses dados?\n",
    "plt.scatter(X,y, s=10)"
   ]
  },
  {
   "cell_type": "markdown",
   "id": "afebaeb3-ab1a-4f19-8337-30fb68c660b8",
   "metadata": {},
   "source": [
    "<div> \n",
    "    <ul style='font-size:20px'> \n",
    "        <li>\n",
    "            Neste contexto, o scikit-learn tem a classe PolynomialFeatures, que retorna  os dados originais mais cada um dos resultados de sua soma elevada a n (sem os coeficientes).\n",
    "        </li>\n",
    "        <li> \n",
    "            Por exemplo, com um dataset de duas features (a,b), ao usarmos PolynomialFeatures com degree=2, o valor retornado será, além de a e b, $a^2, ab, b^2 $\n",
    "        </li>\n",
    "        <li> \n",
    "            Tendo o array inicial n features, o output final da transformação, em função de degree (d), possuirá  $ \\frac{(n+d)!}{d!n!}!$ colunas.\n",
    "        </li>\n",
    "    </ul>\n",
    "</div>"
   ]
  },
  {
   "cell_type": "code",
   "execution_count": 4,
   "id": "1990603a-1495-429f-a9fc-92609e7b0607",
   "metadata": {},
   "outputs": [
    {
     "data": {
      "text/plain": [
       "array([-1.78885002,  3.19998439])"
      ]
     },
     "execution_count": 4,
     "metadata": {},
     "output_type": "execute_result"
    }
   ],
   "source": [
    "from sklearn.preprocessing import PolynomialFeatures\n",
    "poly_features = PolynomialFeatures(degree=2, include_bias=False)\n",
    "X_poly = poly_features.fit_transform(X)\n",
    "\n",
    "# Esta versão extendida de 'X' contém agora 2 features: a original e o seu quadrado.\n",
    "X_poly[0]"
   ]
  },
  {
   "cell_type": "code",
   "execution_count": 5,
   "id": "71f84b2f-a941-41e8-b79c-a80fd528372e",
   "metadata": {},
   "outputs": [
    {
     "data": {
      "text/plain": [
       "(array([[1.00364043, 0.50491892]]), array([2.49070732]))"
      ]
     },
     "execution_count": 5,
     "metadata": {},
     "output_type": "execute_result"
    }
   ],
   "source": [
    "# Aplicando um modelo de Regressão Linear.\n",
    "from sklearn.linear_model import LinearRegression\n",
    "lin_reg = LinearRegression()\n",
    "lin_reg.fit(X_poly, y)\n",
    "\n",
    "# Pronto! Temos todos os coeficientes de uma função quadrática (axˆ2 + bx +c).\n",
    "lin_reg.coef_, lin_reg.intercept_"
   ]
  },
  {
   "cell_type": "code",
   "execution_count": 6,
   "id": "41f53bb9-07ef-4377-baab-97a5815dd0e3",
   "metadata": {},
   "outputs": [
    {
     "data": {
      "text/plain": [
       "<matplotlib.collections.PathCollection at 0x7f213149a220>"
      ]
     },
     "execution_count": 6,
     "metadata": {},
     "output_type": "execute_result"
    },
    {
     "data": {
      "image/png": "[encoded data removed]",
      "text/plain": [
       "<Figure size 432x288 with 1 Axes>"
      ]
     },
     "metadata": {
      "needs_background": "light"
     },
     "output_type": "display_data"
    }
   ],
   "source": [
    "# A hipérbole gerada se adequa muito bem aos dados.\n",
    "xs = np.linspace(-3,3,101)\n",
    "xs_poly = poly_features.transform(xs.reshape(-1,1))\n",
    "ys = lin_reg.predict(xs_poly)\n",
    "plt.plot(xs, ys)\n",
    "plt.scatter(X,y, color='orange', s=10)"
   ]
  },
  {
   "cell_type": "markdown",
   "id": "5efd5878-5848-4d1a-9fd4-5fa738c71eaf",
   "metadata": {},
   "source": [
    "<h2 style='font-size:30px'> Learning Curves</h2>\n",
    "<div> \n",
    "    <ul style='font-size:20px'> \n",
    "        <li>\n",
    "            Para estudarmos a qualidade do modelo conforme aumentamos o número de instâncias de treino, existem as learning curves. No scikit-learn, uma validação cruzada gradativa ocorrerá. Para cada fold feito, o modelo será treinado em fatias cada vez maiores do conjunto de treino e testado neste e nos dados de validação.\n",
    "        </li>\n",
    "    </ul>\n",
    "</div>"
   ]
  },
  {
   "cell_type": "code",
   "execution_count": 7,
   "id": "e78df913-3b60-4a4c-a256-bf1569a06591",
   "metadata": {},
   "outputs": [
    {
     "name": "stderr",
     "output_type": "stream",
     "text": [
      "/home/veiga/.local/lib/python3.8/site-packages/sklearn/model_selection/_validation.py:1646: RuntimeWarning: Removed duplicate entries from 'train_sizes'. Number of ticks will be less than the size of 'train_sizes': 80 instead of 100.\n",
      "  warnings.warn(\n"
     ]
    }
   ],
   "source": [
    "from sklearn.model_selection import learning_curve\n",
    "# O objeto 'learning_curve' retornará o tamanho da fatia do conjunto de treino e as pontuações de treino e validação.\n",
    "# Nota: estamos usando a variável independente sem a transformação polinomial!\n",
    "train_sizes, train_scores, test_scores= learning_curve(lin_reg, X, y, \n",
    "                                                       train_sizes=np.linspace(0.01,1,100), random_state=42,\n",
    "                                                       cv=5, scoring='neg_mean_squared_error')\n",
    "\n",
    "# Como queremos ter apenas uma visão geral da performance, extrairemos a média das pontuações dos folds com cada tamanho de fatia\n",
    "# de treino.\n",
    "train_scores = np.sqrt(-train_scores).mean(axis=1)\n",
    "test_scores = np.sqrt(-test_scores).mean(axis=1)"
   ]
  },
  {
   "cell_type": "code",
   "execution_count": 8,
   "id": "2a42741b-4874-4809-bf0d-5a0fe677d89c",
   "metadata": {},
   "outputs": [
    {
     "data": {
      "text/plain": [
       "<matplotlib.legend.Legend at 0x7f21314199a0>"
      ]
     },
     "execution_count": 8,
     "metadata": {},
     "output_type": "execute_result"
    },
    {
     "data": {
      "image/png": "[encoded data removed]",
      "text/plain": [
       "<Figure size 432x288 with 1 Axes>"
      ]
     },
     "metadata": {
      "needs_background": "light"
     },
     "output_type": "display_data"
    }
   ],
   "source": [
    "# Plotando as curvas de aprendizado.\n",
    "plt.plot(train_sizes, train_scores, label='Train')\n",
    "plt.plot(train_sizes,test_scores, label='Test')\n",
    "plt.legend()"
   ]
  },
  {
   "cell_type": "markdown",
   "id": "a74efc7f-800f-4b75-9252-e3c2586859aa",
   "metadata": {},
   "source": [
    "<p style='color:red'> apagar depois (célula abaixo)"
   ]
  },
  {
   "cell_type": "markdown",
   "id": "558dc72b-5087-4756-a549-65c77f395c3a",
   "metadata": {},
   "source": [
    "<div> \n",
    "    <ul style='font-size:20px'> \n",
    "        <li>\n",
    "            Com poucas instâncias de treino, o modelo tem um baixo índice de erro entre elas, mas um alto valor para o conjunto de teste. Conforme os dados disponíveis crescem,a taxa de erro no treinamento tende a aumentar, enquanto que na validação cai. Em certo ponto, ambas as curvas atingem um plateau, em que não conseguem atingir índices melhores ou piores.\n",
    "        </li>\n",
    "    </ul>\n",
    "</div>"
   ]
  },
  {
   "cell_type": "code",
   "execution_count": 9,
   "id": "f991ad0a-37e5-4ad6-913e-15f205e9f131",
   "metadata": {},
   "outputs": [
    {
     "name": "stderr",
     "output_type": "stream",
     "text": [
      "/home/veiga/.local/lib/python3.8/site-packages/sklearn/model_selection/_validation.py:1646: RuntimeWarning: Removed duplicate entries from 'train_sizes'. Number of ticks will be less than the size of 'train_sizes': 80 instead of 100.\n",
      "  warnings.warn(\n"
     ]
    }
   ],
   "source": [
    "from sklearn.model_selection import learning_curve\n",
    "\n",
    "# Fazendo o mesmo procedimento com 'X_poly'.\n",
    "train_sizes_poly, train_scores_poly, test_scores_poly= learning_curve(lin_reg, X_poly, y, \n",
    "                                                       train_sizes=np.linspace(0.01,1,100), random_state=42,\n",
    "                                                       cv=5, scoring='neg_mean_squared_error')\n",
    "\n",
    "train_scores_poly = np.sqrt(-train_scores_poly).mean(axis=1)\n",
    "test_scores_poly = np.sqrt(-test_scores_poly).mean(axis=1)"
   ]
  },
  {
   "cell_type": "code",
   "execution_count": 10,
   "id": "e951e47d-b6f2-4041-b5be-a899d2ca1d83",
   "metadata": {},
   "outputs": [
    {
     "data": {
      "text/plain": [
       "<matplotlib.legend.Legend at 0x7f21313cee20>"
      ]
     },
     "execution_count": 10,
     "metadata": {},
     "output_type": "execute_result"
    },
    {
     "data": {
      "image/png": "[encoded data removed]",
      "text/plain": [
       "<Figure size 432x288 with 1 Axes>"
      ]
     },
     "metadata": {
      "needs_background": "light"
     },
     "output_type": "display_data"
    }
   ],
   "source": [
    "# Veja, o plateau é atingido com uma taxa de erro muito menor!\n",
    "plt.plot(train_sizes_poly, train_scores_poly, label='Train')\n",
    "plt.plot(train_sizes_poly,test_scores_poly, label='Test')\n",
    "plt.ylim([0,3])\n",
    "plt.legend()"
   ]
  },
  {
   "cell_type": "markdown",
   "id": "551ecead-3360-4491-ac19-df5e174a5bac",
   "metadata": {},
   "source": [
    "<h2 style='font-size:30px'>  Regularized Linear Models</h2>\n",
    "<div> \n",
    "    <ul style='font-size:20px'> \n",
    "        <li>\n",
    "          Os modelos lineares regularizados são versões adapatadas do LinearRegression. O seu intuito é restringir os valores dos coeficientes, evitando assim o vício do algoritmo.\n",
    "        </li>\n",
    "        <li> \n",
    "          É importante frisar que modelos regularizados costumam exigir que os dados com os quais lidarão estejam normalizados!\n",
    "        </li>\n",
    "    </ul>\n",
    "</div>"
   ]
  },
  {
   "cell_type": "markdown",
   "id": "f08aae02-b6f3-4a04-9c05-ea345e8a864f",
   "metadata": {},
   "source": [
    "<h3 style='font-size:30px;font-style:italic'> Ridge Regression</h3>\n",
    "<div> \n",
    "    <ul style='font-size:20px'> \n",
    "        <li>\n",
    "            A regressão Ridge reduz os coeficientes da fórmula. Quanto maior o argumento $\\alpha$, mais regularizada ela estará e, assim, mais próximos de 0 esses números estarão.\n",
    "        </li>\n",
    "        <li> \n",
    "            Podemos fazer essa Regressão usando a equação fechada ou Gradient Descents.\n",
    "        </li>\n",
    "    </ul>\n",
    "</div>"
   ]
  },
  {
   "cell_type": "code",
   "execution_count": 11,
   "id": "d9b5305c-55fe-4f7d-917b-2d67f7ec4ff4",
   "metadata": {},
   "outputs": [
    {
     "data": {
      "text/plain": [
       "(array([3.70327526]), array([[1.0159738]]))"
      ]
     },
     "execution_count": 11,
     "metadata": {},
     "output_type": "execute_result"
    }
   ],
   "source": [
    "# Closed-form equation.\n",
    "from sklearn.linear_model import Ridge\n",
    "ridge_reg = Ridge(alpha=1, solver='cholesky')\n",
    "ridge_reg.fit(X,y)\n",
    "ridge_reg.intercept_, ridge_reg.coef_"
   ]
  },
  {
   "cell_type": "code",
   "execution_count": 12,
   "id": "392600f0-0123-4141-b1b8-3d0b8fd7c02d",
   "metadata": {},
   "outputs": [
    {
     "data": {
      "text/plain": [
       "(array([3.69929064]), array([0.72306181]))"
      ]
     },
     "execution_count": 12,
     "metadata": {},
     "output_type": "execute_result"
    }
   ],
   "source": [
    "# Fazendo por SGD.\n",
    "from sklearn.linear_model import SGDRegressor\n",
    "sgd_reg = SGDRegressor(alpha=1, penalty='l2')\n",
    "\n",
    "# Converta 'y' para um array 1-D usando 'ravel'.\n",
    "sgd_reg.fit(X,y.ravel())\n",
    "sgd_reg.intercept_, sgd_reg.coef_"
   ]
  },
  {
   "cell_type": "markdown",
   "id": "78ced128-deee-43e2-a168-90719e8fd370",
   "metadata": {},
   "source": [
    "<h3 style='font-size:30px;font-style:italic'> Lasso Regression</h3>\n",
    "<div> \n",
    "    <ul style='font-size:20px'> \n",
    "        <li>\n",
    "            A Regressão Lasso tende a zerar os coeficientes de variáveis pouco relevantes à previsão.\n",
    "        </li>\n",
    "    </ul>\n",
    "</div>"
   ]
  },
  {
   "cell_type": "code",
   "execution_count": 13,
   "id": "18a4c597-2229-471b-877b-9ee5e8eeeb8b",
   "metadata": {},
   "outputs": [
    {
     "data": {
      "text/plain": [
       "(3.706524981176245, array([0.97847966]))"
      ]
     },
     "execution_count": 13,
     "metadata": {},
     "output_type": "execute_result"
    }
   ],
   "source": [
    "# Closed-form\n",
    "from sklearn.linear_model import Lasso\n",
    "lasso_reg = Lasso(alpha=0.1).fit(X,y.ravel())\n",
    "lasso_reg.intercept_,lasso_reg.coef_"
   ]
  },
  {
   "cell_type": "code",
   "execution_count": 14,
   "id": "2dae81a7-ae82-48ca-b925-83e1141e2bd3",
   "metadata": {},
   "outputs": [
    {
     "data": {
      "text/plain": [
       "(array([3.67633787]), array([1.02826199]))"
      ]
     },
     "execution_count": 14,
     "metadata": {},
     "output_type": "execute_result"
    }
   ],
   "source": [
    "# SGD.\n",
    "sgd_lasso = SGDRegressor(penalty='l1').fit(X, y.ravel())\n",
    "sgd_lasso.intercept_, sgd_lasso.coef_"
   ]
  },
  {
   "cell_type": "markdown",
   "id": "4a5ad290-991f-4689-ab87-46c76ea51138",
   "metadata": {},
   "source": [
    "<h3 style='font-size:30px;font-style:italic'> Elastic Net</h3>\n",
    "<div> \n",
    "    <ul style='font-size:20px'> \n",
    "        <li>\n",
    "            Elastic Net é o meio termo entre a Ridge e Lasso. O seu argumento <em> l1_ratio</em> controla a \"personalidade\" do algoritmo. Quando 0, o modelo tem o comportamento de uma Regressão Ridge; quando 1, uma Lasso Regression é feita.\n",
    "        </li>\n",
    "    </ul>\n",
    "</div>"
   ]
  },
  {
   "cell_type": "code",
   "execution_count": 15,
   "id": "07588f30-d9b6-4690-bab4-4bd43ac9837b",
   "metadata": {},
   "outputs": [
    {
     "data": {
      "text/plain": [
       "(array([3.70648685]), array([0.97891955]))"
      ]
     },
     "execution_count": 15,
     "metadata": {},
     "output_type": "execute_result"
    }
   ],
   "source": [
    "from sklearn.linear_model import ElasticNet\n",
    "\n",
    "# Aqui, 'l1_ratio' faz a ElasticNet ser algo entre uma Ridge e Lasso.\n",
    "elastic_net = ElasticNet(alpha=0.1, l1_ratio=0.5)\n",
    "elastic_net.fit(X,y)\n",
    "elastic_net.intercept_, elastic_net.coef_"
   ]
  },
  {
   "cell_type": "markdown",
   "id": "7930488e-7863-41dd-b327-5ce129d5568c",
   "metadata": {},
   "source": [
    "<h2 style='font-size:30px'>  Early Stopping</h2>\n",
    "<div> \n",
    "    <ul style='font-size:20px'> \n",
    "        <li>\n",
    "          Uma estratégia alternativa de aprendizado seria fazer o modelo interromper a sua examinação dos dados assim que a taxa de erro no conjunto de validação comece a subir. Assim, impedimos que o algoritmo sofra um overfitting.\n",
    "        </li>\n",
    "        <li> \n",
    "            Como as curvas de aprendizado do SGD e mini-batch GD não são regulares, é difícil saber quando o modelo está, de fato, se deteriorando. Nesse sentido, seria conveniente esperar para ver se a tendência de alta da taxa de erro se confirma e, caso o seja, interromper o aprendizado e escalar as configurações que dão a melhor algoritmo.\n",
    "        </li>\n",
    "    </ul>\n",
    "</div>"
   ]
  },
  {
   "cell_type": "code",
   "execution_count": 16,
   "id": "8d779abd-3ec4-41a8-bfe7-e6d0fc6622e0",
   "metadata": {},
   "outputs": [
    {
     "name": "stdout",
     "output_type": "stream",
     "text": [
      "Minimum Error: 0.11119045093423426\n",
      "Best Epoch: 999\n",
      "Best Model: SGDRegressor(eta0=0.0005, learning_rate='constant', max_iter=1, penalty=None,\n",
      "             tol=inf, warm_start=True)\n"
     ]
    }
   ],
   "source": [
    "# Até onde vi, o scikit-learn não oferece um objeto pronto para o Early Stopping. Portanto, teremos que fazer esse método\n",
    "# por meio de loops.\n",
    "from sklearn.model_selection import train_test_split\n",
    "from sklearn.pipeline import Pipeline\n",
    "from sklearn.preprocessing import StandardScaler\n",
    "from sklearn.preprocessing import PolynomialFeatures\n",
    "from sklearn.metrics import mean_squared_error\n",
    "# 'clone' criará uma cópia do melhor modelo.\n",
    "from sklearn.base import clone\n",
    "X_train, X_val, y_train, y_val = train_test_split(X, y, test_size=0.2, random_state=42)\n",
    "\n",
    "from warnings import filterwarnings\n",
    "filterwarnings('ignore')\n",
    "# Criando uma pipeline de tratamento das variáveis independentes.\n",
    "poly_scaler = Pipeline([\n",
    "    ('poly_features', PolynomialFeatures(90, include_bias=False)),\n",
    "    ('std_scaler', StandardScaler())\n",
    "        ])\n",
    "\n",
    "X_train_poly_scaled = poly_scaler.fit_transform(X_train)\n",
    "X_val_poly_scaled = poly_scaler.transform(X_val)\n",
    "\n",
    "# Agora, fazendo o regressor.\n",
    "sgd_reg = SGDRegressor(max_iter=1,tol=np.infty, warm_start=True, penalty=None, learning_rate='constant', eta0=5e-4)\n",
    "\n",
    "# Essas variáveis armazenarão informações sobre o melhor modelo criado.\n",
    "minimum_val_error=float('inf')\n",
    "best_epoch=None\n",
    "best_model=None\n",
    "\n",
    "for epoch in range(1000):\n",
    "    sgd_reg.fit(X_train_poly_scaled, y_train.ravel())\n",
    "    y_val_predict = sgd_reg.predict(X_val_poly_scaled)\n",
    "    val_error = mean_squared_error(y_val, y_val_predict.ravel())\n",
    "    if val_error < minimum_val_error:\n",
    "        minimum_val_error=val_error\n",
    "        best_epoch=epoch\n",
    "        best_model = clone(sgd_reg)\n",
    "\n",
    "# Aqui estão os dados sobre o melhor modelo.\n",
    "print(f'Minimum Error: {minimum_val_error}')\n",
    "print(f'Best Epoch: {best_epoch}')\n",
    "print(f'Best Model: {best_model}')"
   ]
  },
  {
   "cell_type": "markdown",
   "id": "8e48b07a-c64f-4d89-a94f-190ed873ee0c",
   "metadata": {},
   "source": [
    "<h2 style='font-size:30px'> Logistic Regression</h2>\n",
    "<div> \n",
    "    <ul style='font-size:20px'> \n",
    "        <li>\n",
    "          A Regressão Logística, a rigor, computa a probabilidade de uma instância pertencer a uma classe a despeito de outra.\n",
    "        </li>\n",
    "        <li> \n",
    "            Quando as chances forem maiores ou iguais a 50%, o dado é designado à classe positiva; caso o contrário, à classe negativa.\n",
    "        </li>\n",
    "        <li> \n",
    "            O formato final da função é um S.\n",
    "        </li>\n",
    "    </ul>\n",
    "</div>"
   ]
  },
  {
   "cell_type": "markdown",
   "id": "02edf390-49b5-4b06-8258-01e1f9df4694",
   "metadata": {},
   "source": [
    "<h3 style='font-size:30px;font-style:italic'> Training and Cost Function</h3>\n",
    "<div> \n",
    "    <ul style='font-size:20px'> \n",
    "        <li>\n",
    "          Um bom modelo de Regressão Logística deve retornar um alta probabilidade para instâncias positivas e um valor baixo para as negativas. Afinal de contas, é importante que ele faça as suas previsões com uma taxa de certeza elevada.\n",
    "        </li>\n",
    "    </ul>\n",
    "</div>"
   ]
  },
  {
   "cell_type": "markdown",
   "id": "5f5951d9-eb60-43db-9cde-05a82b24430a",
   "metadata": {},
   "source": [
    "<center> \n",
    "    <img src='logistic1.png'>\n",
    "</center>"
   ]
  },
  {
   "cell_type": "markdown",
   "id": "aa4f829f-9bd0-4ce0-9e56-4faca570f308",
   "metadata": {},
   "source": [
    "<h3 style='font-size:30px;font-style:italic'> Decision Boundaries</h3>\n",
    "<div> \n",
    "    <ul style='font-size:20px'> \n",
    "        <li>\n",
    "          Vamos construir um modelo de Regressão Linear com o dataset sobre as flores iris a fim de termos uma noção melhor sobre as fronteiras de decisão da Regressão Logística.\n",
    "        </li>\n",
    "    </ul>\n",
    "</div>"
   ]
  },
  {
   "cell_type": "code",
   "execution_count": 17,
   "id": "327c73e7-50c9-447a-9c70-6e5c1ea2733c",
   "metadata": {},
   "outputs": [],
   "source": [
    "# O previsor verificará se a flor é da espécie Virginica ou não apenas com base no comprimento das pétalas.\n",
    "from sklearn.datasets import load_iris\n",
    "\n",
    "# Comprimento das pétalas\n",
    "X = load_iris()['data'][:, 3:]\n",
    "\n",
    "# Curiosidade: converter um array booleano para o tipo 'integer' transformará os 'Trues' em 1 e 'Falses' em 0\n",
    "y = (load_iris()['target'] == 2).astype(np.int)"
   ]
  },
  {
   "cell_type": "code",
   "execution_count": 18,
   "id": "339686d7-02ee-4945-bccf-deb404511a44",
   "metadata": {},
   "outputs": [
    {
     "data": {
      "text/plain": [
       "LogisticRegression()"
      ]
     },
     "execution_count": 18,
     "metadata": {},
     "output_type": "execute_result"
    }
   ],
   "source": [
    "# Montando o modelo.\n",
    "from sklearn.linear_model import LogisticRegression\n",
    "log_reg = LogisticRegression()\n",
    "log_reg.fit(X, y)"
   ]
  },
  {
   "cell_type": "code",
   "execution_count": 19,
   "id": "3900ef53-e281-4ccc-9fbd-078f551a02ad",
   "metadata": {},
   "outputs": [],
   "source": [
    "# Agora, como o modelo farás as previsões com base em pétalas de comprimento de 0 a 3 cms?\n",
    "X_new = np.linspace(0, 3,1000).reshape(-1,1)\n",
    "y_proba = log_reg.predict_proba(X_new)"
   ]
  },
  {
   "cell_type": "code",
   "execution_count": 20,
   "id": "5d5fd30d-2057-4a26-9d51-7a6eeeb196a4",
   "metadata": {},
   "outputs": [
    {
     "data": {
      "image/png": "[encoded data removed]",
      "text/plain": [
       "<Figure size 432x288 with 1 Axes>"
      ]
     },
     "metadata": {
      "needs_background": "light"
     },
     "output_type": "display_data"
    }
   ],
   "source": [
    "# Plotando as curvas de probabilidade do modelo. A linha vertical sinaliza a fronteira de decisão.\n",
    "ax = plt.plot(X_new, y_proba[:,1], label='Virginica', c='r')\n",
    "plt.plot(X_new, y_proba[:,0], label='Non-Virginica', c='grey')\n",
    "plt.axvline(X_new[np.argmax(y_proba[:,1]>0.5)], lw=0.5, color='k', ls='--')\n",
    "plt.legend()\n",
    "plt.gca().spines['top'].set_visible(False)\n",
    "plt.gca().spines['right'].set_visible(False)\n",
    "plt.show()"
   ]
  },
  {
   "cell_type": "code",
   "execution_count": 124,
   "id": "65f7dd91-95e0-40f9-b598-55384d8ee155",
   "metadata": {},
   "outputs": [
    {
     "data": {
      "text/plain": [
       "Text(0.5, 0.6, 'Non-Virginica')"
      ]
     },
     "execution_count": 124,
     "metadata": {},
     "output_type": "execute_result"
    },
    {
     "data": {
      "image/png": "[encoded data removed]",
      "text/plain": [
       "<Figure size 864x576 with 1 Axes>"
      ]
     },
     "metadata": {
      "needs_background": "light"
     },
     "output_type": "display_data"
    }
   ],
   "source": [
    "# E se adicionássemos mais uma feature para o previsor? \n",
    "from sklearn.datasets import load_iris\n",
    "from mpl_toolkits.mplot3d import Axes3D\n",
    "from mpl_toolkits.mplot3d.art3d import Poly3DCollection\n",
    "# Comprimento das pétalas\n",
    "X = load_iris()['data'][:, 2:]\n",
    "y = (load_iris()['target'] == 2).astype(np.int)\n",
    "\n",
    "log_reg = LogisticRegression()\n",
    "log_reg.fit(X, y)\n",
    "\n",
    "X_new = np.array([np.linspace(0,7,1000), np.linspace(0,3 ,1000)]).transpose()\n",
    "y_proba = log_reg.predict_proba(X_new)\n",
    "\n",
    "fig = plt.figure(figsize=(12,8))\n",
    "ax = plt.subplot(111, projection='3d')\n",
    "ax.plot(X_new[:,0], X_new[:,1],y_proba[:,1])\n",
    "ax.scatter(X[:,0], X[:,1], y, c=y, marker='o', cmap='viridis')\n",
    "ax.set_xlabel('Petal Length')\n",
    "ax.set_ylabel('Petal Width')\n",
    "ax.set_zlabel('Proba - Virginica')\n",
    "ax.text(5,2.3, 1.1, 'Virginica', c='k', fontsize=12)\n",
    "ax.text(0.5,0.6, .1, 'Non-Virginica', c='k', fontsize=12)"
   ]
  },
  {
   "cell_type": "markdown",
   "id": "0578ed2c-7d86-49f8-8310-fdde5b50a9bd",
   "metadata": {},
   "source": [
    "<div> \n",
    "    <ul style='font-size:20px'> \n",
    "        <li>\n",
    "          A Regressão Logística também possui as penalidades l1 e l2. O seu parâmetro de regularização é C (o inverso de alpha); quanto maior o seu valor, menos regularização haverá.\n",
    "        </li>\n",
    "    </ul>\n",
    "</div>"
   ]
  },
  {
   "cell_type": "markdown",
   "id": "c72a2663-026f-4a11-9ef8-625a6886c960",
   "metadata": {},
   "source": [
    "<p style='color:red'> Softmax Regression</p>"
   ]
  },
  {
   "cell_type": "code",
   "execution_count": null,
   "id": "9bc8aaf1-e9fb-48a6-a430-464d9fc156d9",
   "metadata": {},
   "outputs": [],
   "source": [
    "#! mv  /Users/felipeveiga/Desktop/Screen\\ Shot\\ 2022-05-14\\ at\\ 16.24.04.png ./gradient_table.png"
   ]
  }
 ],
 "metadata": {
  "kernelspec": {
   "display_name": "Python 3 (ipykernel)",
   "language": "python",
   "name": "python3"
  },
  "language_info": {
   "codemirror_mode": {
    "name": "ipython",
    "version": 3
   },
   "file_extension": ".py",
   "mimetype": "text/x-python",
   "name": "python",
   "nbconvert_exporter": "python",
   "pygments_lexer": "ipython3",
   "version": "3.8.10"
  }
 },
 "nbformat": 4,
 "nbformat_minor": 5
}
