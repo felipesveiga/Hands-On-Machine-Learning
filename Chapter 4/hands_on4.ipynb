{
 "cells": [
  {
   "cell_type": "markdown",
   "id": "81163af5-a53e-4101-9c0e-0599011a534f",
   "metadata": {},
   "source": [
    "<h1 style='font-size:40px'> Training Models</h1>"
   ]
  },
  {
   "cell_type": "markdown",
   "id": "77ab8629-613e-45d2-85ed-d7916e883b65",
   "metadata": {},
   "source": [
    "<h2 style='font-size:30px;'> Ajuste de modelos</h2>\n",
    "<div> \n",
    "    <ul style='font-size:20px'> \n",
    "        <li> \n",
    "            Neste capítulo, aprenderemos a ajustar os parâmetros de modelos, a começar pela Regressão Linear.\n",
    "        </li>\n",
    "        <li> \n",
    "            Com relação a ela, podemos tuná-la com o uso de uma equação que, prontamente, retorna os parâmetros que minimizam a função de custo. Ou, somos capazes também de usar uma abordagem conhecida como Gradient Descent, que iterativamente, modifica esses argumentos até que a função-custo seja a menor possível.\n",
    "        </li>\n",
    "    </ul>\n",
    "</div>"
   ]
  },
  {
   "cell_type": "markdown",
   "id": "e455c610-127f-4595-8543-d1749fe643d8",
   "metadata": {},
   "source": [
    "<h2 style='font-size:30px;'> Linear Regression</h2>\n",
    "<center>\n",
    "    <h1> Forma Vetorizada</h1>\n",
    "    <img src='linreg2.png'>\n",
    "</center>"
   ]
  }
 ],
 "metadata": {
  "kernelspec": {
   "display_name": "Python 3 (ipykernel)",
   "language": "python",
   "name": "python3"
  },
  "language_info": {
   "codemirror_mode": {
    "name": "ipython",
    "version": 3
   },
   "file_extension": ".py",
   "mimetype": "text/x-python",
   "name": "python",
   "nbconvert_exporter": "python",
   "pygments_lexer": "ipython3",
   "version": "3.8.10"
  }
 },
 "nbformat": 4,
 "nbformat_minor": 5
}
