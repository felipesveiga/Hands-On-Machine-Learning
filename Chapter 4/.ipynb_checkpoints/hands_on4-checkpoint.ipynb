{
 "cells": [
  {
   "cell_type": "markdown",
   "id": "81163af5-a53e-4101-9c0e-0599011a534f",
   "metadata": {},
   "source": [
    "<h1 style='font-size:40px'> Training Models</h1>"
   ]
  },
  {
   "cell_type": "markdown",
   "id": "77ab8629-613e-45d2-85ed-d7916e883b65",
   "metadata": {},
   "source": [
    "<h2 style='font-size:30px;'> Ajuste de modelos</h2>\n",
    "<div> \n",
    "    <ul style='font-size:20px'> \n",
    "        <li> \n",
    "            Neste capítulo, aprenderemos a ajustar os parâmetros de modelos, a começar pela Regressão Linear.\n",
    "        </li>\n",
    "        <li> \n",
    "            Com relação a ela, podemos tuná-la com o uso de uma equação que, prontamente, retorna os parâmetros que minimizam a função de custo. Ou, somos capazes também de usar uma abordagem conhecida como Gradient Descent, que iterativamente, modifica esses argumentos até que a função-custo seja a menor possível.\n",
    "        </li>\n",
    "    </ul>\n",
    "</div>"
   ]
  },
  {
   "cell_type": "markdown",
   "id": "e455c610-127f-4595-8543-d1749fe643d8",
   "metadata": {},
   "source": [
    "<h2 style='font-size:30px;'> Linear Regression</h2>\n",
    "<center>\n",
    "    <h1> Forma Vetorizada</h1>\n",
    "    <img src='linreg2.png'>\n",
    "</center>"
   ]
  },
  {
   "cell_type": "markdown",
   "id": "c5ff62a7-a1c1-4932-ba2c-905926e03d9c",
   "metadata": {},
   "source": [
    "<div> \n",
    "    <ul style='font-size:20px'> \n",
    "        <li> \n",
    "            Lembrando que uma das métricas mais utilizadas é a soma dos erros elevados ao quadrado do modelo (MSE).\n",
    "        </li>\n",
    "    </ul>\n",
    "</div>\n",
    "<center> \n",
    "    <h1> Fórmula Vetorizada do MSE</h1>\n",
    "    <img src='mse.png'>\n",
    "</center>"
   ]
  },
  {
   "cell_type": "markdown",
   "id": "4590ce11-d9c0-4a6d-b4b0-b4838dcba3fd",
   "metadata": {},
   "source": [
    "<h2 style='font-size:30px'> The Normal Equation</h2>\n",
    "<div> \n",
    "    <ul style='font-size:20px'> \n",
    "        <li> \n",
    "            A Normal Equation é aquela responsável por definir os coeficientes da Regressão Linear.\n",
    "        </li>\n",
    "    </ul>\n",
    "</div>\n",
    "<center> \n",
    "    <h1> Fórmula da Normal Equation</h1>\n",
    "    <img src='normalequation.png'>\n",
    "</center>"
   ]
  },
  {
   "cell_type": "markdown",
   "id": "9f8f20fb-17f9-42bc-97fa-e49833d58126",
   "metadata": {},
   "source": [
    "<h2 style='font-size:30px'> Gradient Descent</h2>\n",
    "<div> \n",
    "    <ul style='font-size:20px'> \n",
    "        <li> \n",
    "            Como dito no início, o Gradient Descent, ajusta, iterativamente, os coeficientes da regressão até que a função de custo (por exemplo, o MSE) chegue a um valor mínimo.\n",
    "        </li>\n",
    "        <li>\n",
    "            Os coeficientes recebem valores aleatórios de início, e eles são melhorados de acordo com uma learning rate definida. No entanto, dar um valor muito alto a ela pode fazer o modelo adquirir coeficientes inadequados.\n",
    "        </li>\n",
    "        <li> \n",
    "            Ademais, o autor recomenda que nós coloquemos todas as features dentro de uma mesma escala. Essa prática faz com que menos iterações sejam necessárias para que o valor mínimo da função-custo seja alcançado.\n",
    "        </li>\n",
    "    </ul>\n",
    "</div>\n",
    "<center> \n",
    "    <h1> O impacto de diferentes Learning Rates em uma Regressão</h1>\n",
    "    <img src='learning_rate1.png'>\n",
    "</center>"
   ]
  },
  {
   "cell_type": "markdown",
   "id": "a17fdc1e-e975-4367-a26a-dcc14f3805aa",
   "metadata": {},
   "source": [
    "<h3 style='font-size:30px;font-style:italic'> Batch Gradient Descent</h3>\n",
    "<div> \n",
    "    <ul style='font-size:20px'> \n",
    "        <li> \n",
    "            Bastante eficiente em treinamentos de datasets com muitas features. No entanto, perde eficiência conforme o número de instâncias aumenta!\n",
    "        </li>\n",
    "        <li> \n",
    "            Sua learning rate adequada pode ser descoberta com o GridSearch. \n",
    "        </li>\n",
    "    </ul>\n",
    "</div>"
   ]
  },
  {
   "cell_type": "markdown",
   "id": "123251a5-203a-4122-a3b7-931a28bfe4f9",
   "metadata": {},
   "source": [
    "<h3 style='font-size:30px;font-style:italic'> Stochastic Gradient Descent</h3>\n",
    "<div> \n",
    "    <ul style='font-size:20px'> \n",
    "        <li> \n",
    "            Treinamento mais veloz em datasets grandes, mas peca em encontrar o valor-ótimo dos coeficientes.\n",
    "        </li>\n",
    "        <li> \n",
    "            Uma maneira que minimiza esse problema é o ajuste da learning rate periodicamente durante as iterações.\n",
    "        </li>\n",
    "    </ul>\n",
    "</div>"
   ]
  },
  {
   "cell_type": "code",
   "execution_count": 10,
   "id": "38296da3-6ff8-4440-ac13-9aca532cfca6",
   "metadata": {},
   "outputs": [
    {
     "name": "stdout",
     "output_type": "stream",
     "text": [
      "[41.74109772] [-1.44458017e-06]\n"
     ]
    }
   ],
   "source": [
    "# Fazendo uma regressão com o SGDRegressor.\n",
    "from sklearn.datasets import make_regression\n",
    "from sklearn.linear_model import SGDRegressor\n",
    "dataset = make_regression(n_samples=100, n_features=1, random_state=42)\n",
    "X = dataset[0]\n",
    "y = dataset[1]\n",
    "\n",
    "# O regressor fará 1000 (max_iter) iterações para descobrir os coeficientes adequados.\n",
    "# A learning rate inicial (eta0) é 1%.\n",
    "# A função de custo deve ter uma perda de menor do que 1e-3 (tol) por 5 iterações (n_iter_no_change) para que o processo de treinamento\n",
    "# termine antes.\n",
    "sgd_reg=SGDRegressor(max_iter=1000, n_iter_no_change=5,tol=1e-3, penalty=None, eta0=0.1)\n",
    "sgd_reg.fit(X, y)\n",
    "\n",
    "# Inclinação da curva e ponto de interceptação.\n",
    "print(sgd_reg.coef_, sgd_reg.intercept_)"
   ]
  },
  {
   "cell_type": "markdown",
   "id": "f59f7d8e-3d2f-4260-94a9-c70e94c8a87f",
   "metadata": {},
   "source": [
    "<h3 style='font-size:30px;font-style:italic'> Mini-batch Gradient Descent</h3>\n",
    "<div> \n",
    "    <ul style='font-size:20px'> \n",
    "        <li>\n",
    "            Este algoritmo de treinamento tem uma estratégia considerada como um meio-termo em comparação com o Batch Gradient Descent e o Stochastic Gradient Descent.\n",
    "        </li>\n",
    "    </ul>\n",
    "</div>"
   ]
  },
  {
   "cell_type": "markdown",
   "id": "c90686fb-50cb-457e-8391-0a3f0484ea9e",
   "metadata": {},
   "source": [
    "<center> \n",
    "    <h1> Tabela-resumo dos algoritmos de regressão</h1>\n",
    "    <img src='gradient_table.png'>\n",
    "</center>"
   ]
  },
  {
   "cell_type": "markdown",
   "id": "8bce8924-2cdc-481d-bdb6-c8c95aa7f38a",
   "metadata": {},
   "source": [
    "<h2 style='font-size:30px'> Polynomial Regression</h2>\n",
    "<div> \n",
    "    <ul style='font-size:20px'> \n",
    "        <li>\n",
    "            Na maior parte das vezes, uma simples reta não poderá nos fornecer uma boa previsão. Por exemplo, digamos que tivéssemos que fazer uma regressão com dados cuja distribuição espacial se aproxima com a de uma função quadrática.\n",
    "        </li>\n",
    "    </ul>\n",
    "</div>"
   ]
  },
  {
   "cell_type": "code",
   "execution_count": 12,
   "id": "e66a6fd2-69bc-45d3-8b06-b49d9467b0bb",
   "metadata": {},
   "outputs": [
    {
     "data": {
      "text/plain": [
       "<matplotlib.collections.PathCollection at 0x7f54ef095d30>"
      ]
     },
     "execution_count": 12,
     "metadata": {},
     "output_type": "execute_result"
    },
    {
     "data": {
      "image/png": "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\n",
      "text/plain": [
       "<Figure size 432x288 with 1 Axes>"
      ]
     },
     "metadata": {
      "needs_background": "light"
     },
     "output_type": "display_data"
    }
   ],
   "source": [
    "import numpy as np\n",
    "import matplotlib.pyplot as plt\n",
    "samples = 100\n",
    "X = 6*np.random.rand(samples, 1)-3\n",
    "\n",
    "# Os valores-alvo serão a aplicação de 'X' como argumento de uma função quadrática.\n",
    "y = 0.5 * (X**2) + X + 2 + np.random.rand(samples,1)\n",
    "\n",
    "# Como uma linha reta pode nos fornecer um baixo RMSE com esses dados?\n",
    "plt.scatter(X,y, s=10)"
   ]
  },
  {
   "cell_type": "markdown",
   "id": "afebaeb3-ab1a-4f19-8337-30fb68c660b8",
   "metadata": {},
   "source": [
    "<div> \n",
    "    <ul style='font-size:20px'> \n",
    "        <li>\n",
    "            Neste contexto, o scikit-learn tem a classe PolynomialFeatures, que retorna  os dados originais mais cada um dos resultados de sua soma elevada a n (sem os coeficientes).\n",
    "        </li>\n",
    "        <li> \n",
    "            Por exemplo, com um dataset de duas features (a,b), ao usarmos PolynomialFeatures com degree=2, o valor retornado será, além de a e b, $a^2, ab, b^2 $\n",
    "        </li>\n",
    "        <li> \n",
    "            Tendo o array inicial n features, o output final da transformação, em função de degree (d), possuirá  $ \\frac{(n+d)!}{d!n!}!$ colunas.\n",
    "        </li>\n",
    "    </ul>\n",
    "</div>"
   ]
  },
  {
   "cell_type": "code",
   "execution_count": 13,
   "id": "1990603a-1495-429f-a9fc-92609e7b0607",
   "metadata": {},
   "outputs": [
    {
     "data": {
      "text/plain": [
       "array([1.5254334 , 2.32694706])"
      ]
     },
     "execution_count": 13,
     "metadata": {},
     "output_type": "execute_result"
    }
   ],
   "source": [
    "from sklearn.preprocessing import PolynomialFeatures\n",
    "poly_features = PolynomialFeatures(degree=2, include_bias=False)\n",
    "X_poly = poly_features.fit_transform(X)\n",
    "\n",
    "# Esta versão extendida de 'X' contém agora 2 features: a original e o seu quadrado.\n",
    "X_poly[0]"
   ]
  },
  {
   "cell_type": "code",
   "execution_count": 14,
   "id": "71f84b2f-a941-41e8-b79c-a80fd528372e",
   "metadata": {},
   "outputs": [
    {
     "data": {
      "text/plain": [
       "(array([[1.00564257, 0.50661866]]), array([2.45270765]))"
      ]
     },
     "execution_count": 14,
     "metadata": {},
     "output_type": "execute_result"
    }
   ],
   "source": [
    "# Aplicando um modelo de Regressão Linear.\n",
    "from sklearn.linear_model import LinearRegression\n",
    "lin_reg = LinearRegression()\n",
    "lin_reg.fit(X_poly, y)\n",
    "\n",
    "# Pronto! Temos todos os coeficientes de uma função quadrática (axˆ2 + bx +c).\n",
    "lin_reg.coef_, lin_reg.intercept_"
   ]
  },
  {
   "cell_type": "code",
   "execution_count": 15,
   "id": "41f53bb9-07ef-4377-baab-97a5815dd0e3",
   "metadata": {},
   "outputs": [
    {
     "data": {
      "text/plain": [
       "<matplotlib.collections.PathCollection at 0x7f54ecfb8d60>"
      ]
     },
     "execution_count": 15,
     "metadata": {},
     "output_type": "execute_result"
    },
    {
     "data": {
      "image/png": "iVBORw0KGgoAAAANSUhEUgAAAXAAAAD4CAYAAAD1jb0+AAAAOXRFWHRTb2Z0d2FyZQBNYXRwbG90bGliIHZlcnNpb24zLjUuMSwgaHR0cHM6Ly9tYXRwbG90bGliLm9yZy/YYfK9AAAACXBIWXMAAAsTAAALEwEAmpwYAAAotklEQVR4nO3dd3zV1f3H8dfJIiSEJCQhJIQhQ6ayIiC4UXAgKFatrbuKAy22dVZbbdVax8/RohZbRUUEFVdwIAo4UEH2khEIBEJYCRAyyD6/P24iIWTe3OSu9/Px8AG5+X7v93PD9X1PzvcMY61FRES8T4C7CxAREecowEVEvJQCXETESynARUS8lAJcRMRLBbXkxWJjY23Xrl1b8pIiIl5v+fLlWdbauOqPt2iAd+3alWXLlrXkJUVEvJ4xJr2mx9WFIiLipRTgIiJeSgEuIuKlFOAiIl5KAS4i4qUU4CIiXqreADfGvGaM2WeMWVflsXbGmC+NMakVf0Y3b5kiIlJdQ1rgrwPnV3vsfmC+tbYnML/iaxERqWZfbiGPffIzB/OLXf7c9Qa4tfZb4EC1h8cDb1T8/Q3gEteWJSLiG/41P5XXf9hOzpESlz+3s33g8dba3RV/3wPE13agMWaiMWaZMWbZ/v37nbyciIj32Z6Vz6yfdnLV0M50jQ13+fM3+SamdWzpU+u2PtbaV6y1ydba5Li446byi4j4rGfmbSI4MIA7R/Volud3NsD3GmMSACr+3Oe6kkREvN/ajBw+WbObm04/gfYRoc1yDWcDPAW4ruLv1wEfu6YcERHf8OTcjUSHBTPxjG7Ndo2GDCOcCfwI9DLGZBhjfgf8EzjPGJMKnFvxtYiIAN+l7mfRliwmnd2DiNDgZrtOvcvJWmuvquVbo1xci4iI1ysvt/zz8410jGrN1cO7NOu1NBNTRMSFUlZnsj7zMPeM6UVocGCzXksBLiLiIkWlZTz9xSb6JbZl3IDEZr+eAlxExEWm/5jOrkNHeOCCPgQEmGa/ngJcRMQFcgpK+PeCLZzeM5bTesa2yDVbdE9MERFf9dKcuRw+Yrh/8N4Wu6Za4CIiTZTxcwrTVpVyafQC+m2+CjJSWuS6CnARkSZ6ZuEeDJa746dDWQHsntci11WAi4g0wZqMQ3y0syM3tf+UxJAsCAyDhNEtcm31gYuIOMlayz8+20BMeAi3jh8P2a0d4Z00rkWurwAXEXHS/A37WJx2gEfH9yOiW1fo1jLBXUldKCIiTigpK+cfn2+gW1w4vx7a2S01KMBFRJzw9pIdpO3P588X9CE40D1RqgAXEWmknCMlPP/VZkZ0j2FUn/Zuq0MBLiJSn4wUWHrHL+O7X1y4hUNHSnjwoj4Y0/xT5mujm5giInXJSIHvr3KM706bRnr/mbz+fTC/GpxEv8RIt5amFriISF12z3OEN0BZAf9csJ/AAMPdY3q5ty4U4CIidUsY7ZicAywuGMLnuzpw21ndiW/bPPtcNoa6UERE6pI0DkbOpCxzHo9+dz6JkaHcfHrz7XPZGGqBi4jUJ2kc75v7WL/fcN8FvWkd0rw77TSUWuAiIvXIS0vhqU9KGdwhpEV22mkotcBFROqSkcKLH6eQVdSKv7b9M2bXHHdX9AsFuIhIHdJTF/HqvrFMiFrAwNC1LbZUbEMowEVE6vDY5jMIMmXcl/B6iy4V2xDqAxcRqcV3qfv5cpvh3lNDiE+8qkWXim0IBbiISA1Kysr5+5yf6dwujBsvPAOCL3Z3ScdRF4qISA3eWpxO6r48HrqoD6HBnjFssDoFuIhINdl5RTz35WZO6xHLeX3j3V1OrRTgIiLVPP3FJgqKy3hkXF+3rjZYHwW4iEgVazIO8c6ynVw/ois92ke4u5w6KcBFxL9UW9u7qvJyy18/Xk9MeCsmn9uzzmM9gQJcRPxH5dreqS86/qwWzO+vyGDVzkPcf0FvIrI+r/NYT6AAFxH/UW1t76qzKnOOlPDk3I0M6hzFhEEd6zzWUyjARcR/VFnbu/qsyue+3MyB/GIeHd+fgABT57GeQhN5RMR/VKztze55x8yqXJ+Zw5s/bue3w7rQv2Nkncd6EgW4iPiXpHHHhHHljcuosBDuHt2rzmM9jbpQRMSvfbByF8vTD3L/Bb2JDAt2dzmNogAXEb91qKCYJz7bwKDOUfxqcJK7y2k0BbiI+K2nv9jEwYJiHruk4salh4/7rq5JAW6M+YMxZr0xZp0xZqYxxv3bNIuINMCqnYd4+6cdXDeiK/0SI+sdI+6JnA5wY0xH4PdAsrW2PxAI/NpVhYmINJeycstDH60lrk0r/njeiY4HvWDcd3VN7UIJAlobY4KAMCCz6SWJiDSvGUvSWbfrMH8Z25eI0Iobl14w7rs6p4cRWmt3GWOeAXYAR4B51trjPrKMMROBiQCdO3d29nIiIi6x73AhT8/dxGk9Yhl7csLRb3jBuO/qmtKFEg2MB04AEoFwY8zV1Y+z1r5irU221ibHxcU5X6mIiAv8/ZOfKSor59FL+h+/VGzSODhlileENzStC+VcYJu1dr+1tgT4ABjhmrJERFzvm837+WTNbiad1YMTYsPdXU6TNSXAdwDDjTFhxvExNgrY4JqyRERcq7CkjL98tI5uceHcelY3d5fjEk3pA19ijJkNrABKgZXAK64qTETElaZ8/Bk7DgTw9iVltAryzD0uG6tJo1CstQ9ba3tba/tba6+x1ha5qjAREVfZtDqF/ywrZ0L0fEake8cY74bQYlYi4tPKyy0PfHGYiMAAHkp49dgx3l404qQmmkovIr6jhqnwM37awYoD0TzUcTrtgg47xniHRHrdrMuaqAUuIr6hcip8WQGkTYORM9kTMZqnPt/IyB4xTBhzG+zp7mhx1zTr0gtb4QpwEfENNYTyIws7UlxWzuOXnISJDYdOVUI6bZrjOC+ZdVkTdaGIiG+oNhV+bsFo5q7fw+97baBr4fxjj62cddlzkuNPL2x9AxhrbYtdLDk52S5btqzFricifiYjBXbPI6fdaM6bEUCs3c7HPe4iOKiVdwe1McuttcnVH1cLXER8R8VU+CdWdSWrAJ7s+DzBpsxrVhdsLPWBi4hP+WFrFrOW7uSWQZaT2A1leHU/d10U4CLiM44Ul/HnD9bSJSaMuy49A/Z51+qCjaUAFxGf8eyXm9ieXcDbNw+jdUigx+8q31TqAxcRn7Byx0FeXbSN3wzrzIjuse4up0UowEXE6xWVlnHv7DXEtw3lgQt6u7ucFqMAFxHPV89u8VMWbCF1Xx7/mHDS0S3S/IACXEQ8Wz27xa/blcNLX29lwuCOnN2rvZuKdA8FuIh4tjp2iy8uLefu91YTEx7Cw2P7HX9uPS13b6cAFxHPVsdu8f9ekMrGPbk8MeEkIsOqdZ3U03L3BRpGKCKerZbd4teuSOGlhYYJvWBUn/jjz/ORFQfroha4iHi+arvFF6WncHfKLmIDD/JwyO9qbl3X0XL3FQpwEfE6zy/YzqbCzjyR9G8izf6a1znxkRUH66IuFBHxKsvTDzJ1czeujJnPOW2XHd1hZ+kdx0+Z9/GZmApwEfEaR4rLuPu91SREhvHQZWdBdrEjvDc+f8xOPL4c2lWpC0VEPFe1YYBPzt3Itqx8nv7VyUR0q+gXL86pdZihr1MLXEQ8U7U9Lhd1nsnrPwRy/YiujOhRZa2ThNE+sT2aMxTgIuKZqgwDzCky3DOvmG5xsdx3frW1TmoZZugPFOAi4pmqtKz/uvsO9heF8sHvBjqWia3Ox29W1kYBLiKeqaJlPeenNXx8cBB/OPdETk6KcndVHkUBLiIea3fEeTy0NpQBncKZdHZ3d5fjcTQKRUQ8Unm55e73VlNcWs5zVwwgKFBxVZ1+IiLikV5dtI3vt2Tz8MV96RbXxt3leCQFuIh4nJ8zD/P0F5sY3TeeK0/p5O5yPJb6wEXEoxRuT2HyjAKiWrXhn5edjDHG3SV5LLXARcRzZKTw+OyvSM2N4JmEx2l3cK67K/JoCnARaXm17JQzb/kqpmeN4ebYDzgjfLFfTYt3hgJcRFpWLTvl7Mkp5N4Vg+nfOo17Orzpd9PinaEAF5GWVcNOOWXllj+8s4qi8iD+NaELIb1u8atVBZ2lm5gi0rJCIsEEgS39pZX90sIt/JiWzVND1tItui8kTXF3lV5BLXARaTkZKY61u20pEAi97+KnktN47qtNjItexOXFD/jsBsTNQQEuIi2navcJZRzMLWDyrJV0Civg8cQXMAa/W9O7KZoU4MaYKGPMbGPMRmPMBmPMqa4qTER8UJWNhm1AGPesH0VWXhFTTttCROCRo8eFRLqpQO/S1D7wF4C51tpfGWNCgDAX1CQivqrK2t2v7R3DV6sMfxnbh5NafXbsccU57qnPyzjdAjfGRAJnAK8CWGuLrbWHXFSXiPiqpHGsjH+UJ34I5Ly+8dw4susxLXMNH2y4prTATwD2A9OMMQOA5cBka21+1YOMMROBiQCdO3duwuVExBccKijmjrdX0iEylGd+NcAxVd6Pd9Vpiqb0gQcBg4GXrbWDgHzg/uoHWWtfsdYmW2uT4+LimnA5EfF21jqWiN2XW8iLvxlMZFjw0W8mVWxSrPBusKYEeAaQYa1dUvH1bByBLiJSo6nfpvHVhn08cEEfBnSKcnc5Xs/pALfW7gF2GmN6VTw0CvjZJVWJiM9ZnJbN019s4sKTOnDDyK7uLscnNHUUyp3AjIoRKGnADU0vSUR8zb7Dhdw5cyVd2oXxpJaIdZkmBbi1dhWQ7JpSRMQXlZaVc+fMleQWljD9d0OJCA2u/yRpEM3EFBHn1LIkbHVPfbGJJdsO8I9LT6J3h7YtVJx/0GJWItJ4lUvClhVA2jTofZdj8k21IYCfrMnklW/TuGZ4FyYMTjr2fA0ZbDIFuIg0XvUlYX9+yrFAVdq0X5aB3bw3l3tnr2Fw5yj+Mrbv0XOrh7+WjXWaulBEpPGqzpwksGJ1QX5ZiOpwYQm3Tl9OWEgQL189hJCgKlFTw3rg4hwFuIg0XuXMyZ6ToNOljvW9AQLDKO8wmj/MWkX6gQJe/M0g4tuGHnuups27jLpQRMR5edtg7/xj1vd+fmNv5m9M5W/j+jGsW8zx52javMsowEWk4SpvPoZEOjZm+GVtb4Ay5m4L5V+LU7l8SBLXntql5nMrQ1vB3WQKcBFpmKo3Hyu3RKtic1F3/rRhEAM6RfHoJf2PnayjG5fNQn3gItIwVW8+VnaZVDhYGsFN2x4gLBimXj2E0ODA2s/VjUuXUYCLSMNUv/nY7z6I7E+JDeT29PvZU9KOqUMX0yEytP5zdePSJdSFIiINU9PNx5hh/H3WV/yYP4D/6zyFwf1va/i50mQKcBFpuGo3H6dnDGB6ViATe6Zx2Zjb6g5m3bh0OQW4iDjlu9T9PJKynrN7xXHfdRdCgFYYbGnqAxeRRtuyL4/bZ6ygR1wb/nXVIAIV3m6hABeRRjmYX8zv3lhKq6AA/nddspaHdSN1oYhIgxWWlDFx+jJ25xQy8+bhdGoXVv9J0mzUAheRBq3tXV5uuXf2GpZuP8j/XT6AIV2inXoecR0FuIi/q5wlmfqi489awvfZLzeTsjqTe8b04uIBiU4/j7iOAlzE3zVgluS7S3cyZeEWrkzuxO1ndXf6ecS1FOAi/q762t4hkcd8++tN+3jgw7Wc3jOWxy7tX/uGxJpt2eIU4CL+LmmcY0s0EwSUOVYZrOj+WLcrh9tnrKBXfAQvXz2E4MA6IqPqGuFarKpFaBSKiDj2s6y2q87OsHO5ftpSosNCeP2GU2jTqgFxodmWLUotcBE5rvsjO2o01772EyVl5bxx4ym0r76rjngEtcBF5JjFpvJiRnPDZ+3YnZPLjJuG0aN9hLurk1qoBS4iDknjKB70L25bGM/6zMNMuWowQ7q0c3dVUgcFuIi/qWWyTVm55U/vrea71CyemHAS5/aNd1OB0lAKcBF/UstkG2stf/14HXNWZ3L/Bb25osPK40Nesyw9jvrARfxJTZNtksbxzLxNzFiyg1vP7M6t3dcfv38laE9LD6QWuIg/qWGyzSvfbuXFhVu5amhn7ju/V80hr1mWHkkBLuJPqk22mZ4xgH98tpGxJyfwWOVO8jXNqNQsS4/kPV0oGSnaT0/EFSom28xensFfPlrNuX3a89yVA49uylDb/pXa09LjGGtti10sOTnZLlu2rPEnVt54KStwfPqr/02kST5Zk8nvZ65kZI9Y/nttMqHBge4uSepgjFlurU2u/rh3dKGo/03EZeau283kWasY0iWaqdcMUXh7Me8IcPW/ibjEvPV7uOPtlQxIimTaDUMJC/GeXlQ5nnf869XWJyciDbZg414mvb2Cfh0jeePGoQ1bnEo8mvf8C2qVMxGnzd+wl9veWkHvDm1588ah2ojYR3hHF4qIOG3e+j3c+tZy+iRE8NbvhhHZWuHtKxTgIj5s7ro93D5jBX1jy3lz0GwiD3zu7pLEhZoc4MaYQGPMSmPMJ64oSERcI2V1JpPeXsFJceVMj7+eyPQXtNmwj3FFC3wysMEFzyMiNXFiEal3l+1k8qyVDOkSzfRhX9KWbMc3NAzXpzQpwI0xScBFwP9cU07N1mfmsGLHwea8hIjnyUiBry+CRZcft3pgXd78cTv3zl7DaT1ieeOGobTpPErDcH1UU0ehPA/cC9S6ZYcxZiIwEaBz586NvoC1lkdS1rNu12FeuXYIp/eMc7JUES9SdfZxpSqrB9bEWstLX2/l6S82cW6f9kz5zWBC937qOKf3XY59LzUM16c43QI3xowF9llrl9d1nLX2FWttsrU2OS6u8eFrjOHFs7PoEnaQG6ct4fO1u50tWcR7VJ19XKmO1rO1lic+38jTX2zikoGJvHz1EEd4V679vfF5hbcPakoXykhgnDFmOzALOMcY85ZLqqoqI4X2q67inY43c3LrTUyasYx35s3R4vLi26rOPg5oBQkX1roGUOmOFO6fOpVXvk3j2lO78OwVAwkODNASFH7A6QC31j5grU2y1nYFfg0ssNZe7bLKKlW8CSOD8pl+woOc1mYl9y0I4MX3Z2E3N7xfUMSrVF329bR34exPawzvI9tSuHXGCt7Z3ok749/nb4PTCKhcVVBLUPg8zx8HXuVNGBZQxP+6PsolUQt5evdveSTzFspKC9WyEN+UNA5OmVJrt8ehgmKumZ3D/Jwh/D3xZf4UPw2zZ96x51dZ+1vdJ77HJVPprbVfA1+74rmOU/km3DIV9nxFCMU822UKccGH+e/+8ewvi+XZkUMJbZaLi3imXYeOcP1rP5F+MJopXZ/jorYLam5lawkKn+Yda6FUvgkrNnUISBjNg0D8Nxt4bO2p7Ps8mv9eW0x0eIi7KxVpduszc7hh2lKOFJfx+o3DGZE/HDL2Kaz9kHds6FCHT9Zk8sd3V5MU1ZppN5xCl5hwlz6/iCf5dvN+bntrOZGtg5l2w1B6lS6sebMT7WDlU7x7Q4c6jD05kRk3DeNAQTETXvqB5ekH3F2SSLN4a3E6N7y+lC4x4Xw4aSS9OkTUPNKkcgx5Iyb/iHfy+gAHOKVrO96/bQRtQoO46r9L+HjVLueeSEMTxQOVlVv+PudnHvpoHWeeGMe7t55KfNuKuz41jTTR8EG/4RMBDtA9rg0f3T6SgZ2imDxrFc9+uZny8kZ0D6nVIh4ot7CEW6Yv47Xvt3HDyK7899rkYzdiqGmkiYYP+g3vuInZQNHhIbz1u2E8+OFa/jU/ldS9uTxz+QDCG7LzSE2tFvUdSnOro686PTufm99cxtb9+Tw6vh/XnNq15ueofvNSO1j5DZ8KcICQoACe+tXJ9OoQwT8+28C2rHz+e20yndqF1X1iwmhIm3b0ZpBaLdLcqq53kjbtmLHaP2zJ4va3VwAw/cahjOgR27jn1ogUv+AzXShVGWO46fRuTLthKJmHjjD+xe/5fktW3Sdp0oO0tBp+67PW8r/v0rjmtZ+Ia9OKjyeNbHx4i9/wyQCvdOaJcXx8x2nEhIdwzatLmPrNVuocNlnPzDcRl6raV00gBQHR/H7WKh77dAPn9mnPB7eP0LBYqZNPBzjACbHhfDRpJBf0T+CJzzcy6e0V5BaWuLssEUdDofddYIJIK4pnwpwEPlm9i3vG9OI/Vw/RxsNSL58PcIDwVkFM+c0gHrigN3PX7WH8lO/ZuOewu8sSgeIcPj04jHGpz7O3JIrXRy5j0tk9MMa4uzLxAn4R4ODoF7/lzO68ffNwcotKueTF73lv2c6Gnazx4dIUtbx/ikrLeCR1DJN2PEDP0B182utuzhw02E1FijfymwCvNLxbDJ/+/jQGdYrmntlr+OO0OeT9MLn2cK5rfLiCXepTy/tne1Y+v3r5R15fE8D1sZ/yTrf7SQzRLGJpHL8LcID2EaG8ddMw7hpazkeb4OK5/Vj35Z9rDuLaZrVp4o805AO8hvfPx6t2Mfbfi9hxoICpw5fzSOLLhASUQnkRrH5Q7yVpML8McIDAAMNdnb5gZrcHOGJbcenmx3jlm9TjZ2/WNqtN05X9W0M/wKu8f3KJ4Y/rxjB51ip6d4jgs8mnMyZ5YJWRKEDOOjUIpMH8NsABSBjNsMhtfN7zTs5pu4J/rO3Nb/+3hMxDR44eU9P48IwUyNvm2OoKNPHHHzX0A7zi/bMs+kEu2PY6H20OYPKonsyaOJyOUa2Pvr8i+x89Rw0CaSCfm4nZKBX/80Tvnsd/zk7mvT0n88ic9Zz//Lf8bXw/LhnY0TEaoOqstqqz5wJCIPFC6HGLxo77mwbO3C0qLeP5dScy9dtAkqLDeO/WgQzpEn3sQZXvnarLwqpBIA3g3wEOv4SzAa7oBMO6teOP767mD++s5vO1e3j80pOIi2h19PiqLa/yYgg/QeHtjyrHcGek1Dptfd2uHP707mo27c3lyuROPDR4OxH7/gKBNaxPovVLxAlev6FDcygrt7y6KI1n5m2mTasgHr64L+MGJGJ2zfllazfKi49dQF/8S9XfxKq9D4pKy3hxwRZe+nor7cJDePKykzm7zeJajxepT20bOvhnC7ye3UoCAwwTz+jO2b3ac/fsNUyetYqUxSt5LOxWEoJ2gwmChAuhp7pO/ErV900tq1eu2HGQ+2avIXVfHhMGdeSvF/clKiwElmq1S3E9/7uJ2Yjhfz3jI/jgthE8dFEfvt9RwnkbX+CNrLGUlZeDQf8D+pPq75uQyGNGJ+XGjOaRlPVc9vIP5BeVMu2GU3j2yoGO8Aat0S3Nwv9a4I1c9zswwHDTCes4r+cdPLjrNh7OvJUPDp7D421W0b/Ws8TnVH/fFOfAyJnYzHl8XjCav80KY1/udq4d3oW7x/Q6fh0T9XFLM/C/FrgzLaHUqXRplcn0E/7CC52eZldJe8YtvpyHP15HToEWxvILNbxvtrY6h2vXXsPtcwOJbdOKj24fyd/G9699ESqtdiku5p83MRuzY3dGCiy6wjFLDoAAcno+yDO7rmDGknSiwkK47/xeXD6kEwEBNSxApN3BPZMz/y4V5+TFjGbKphN5dVEaoUGB/OG8E7n21C4EBfpfe0haRm03Mf0zwBtj6R2Ofs9KiRfCWZ8CsD4zh4c/Xs+y9IP079iWhy7qy/BuMUePrTpSgUDodx8MeLxl65fj1TGCpC5l5Zb3lu3kmXmbycor4vIhSdx7fu9jh5mKNIPaAlxNhvpU/9W5xy2/fKtfYiTv3XoqL/x6IAfyivn1K4uZ+OYy0vbnOQ6o2m9KGfz8VPNOkdbiWg3jxDII36XuZ+y/F3H/B2vpEhPGh7eP4OnLByi8xa3UAm+IBvy6XVhSxquLtvHSwi0UlpZzRXIn7uq7jfgVE4Cyowf2nOToB22OGjXOuGEa8bNam5HDk3M3smhLFknRrbnv/N6MPTnh6Hrd6iKTFqAulBaSlVfElAVbmLEkncAAw3XddzIx8AFiAg/UHRZNDYLqXT3N9UHhK+r5eW/em8vzX23ms7V7iA4L5s5zevLb4Z1pFRR47HPoQ1NagAK8he08UMBzX27mo1W7CA2yXNctjZtP60q71hwfHK4IAoWJS2zZl8u/5m9hzppMwkOCuHFkV24+o1vNI0v0oSktRDMxW1indmE8e+VAbj+7By/MT+U/awyvb7X8JvpTbo59jw5p046GbCPHpteopnHGnv7rvQfVt25XDi8u3MLc9XtoHRzIbWd25+bTuxEdHlL7SQ1c0EqkuagF3kJS9+by0vszSdnRgUBTzqVRC7gpOYyeo/7ZPK1nT2+Re0B91loWbcnilW/T+C41i4hWQVw/sis3jDyBdnUFd1Ue9CEkvkstcDfrGR/Bc+M68IcFk5m650JmHzyXd74M4ZydS7lx5AhGjpiJ2ePCIHBFq745uaI+J8OzsKSMOaszeXXRNjbuySUuohX3jOnFNad2oW1jd4KvZSVCkZagAG8JVYKm8zkv8PjuefwxKpC30k/kzR+3c/WrS+ge15brRtzNpbEdiXDFNev69d4TWo1N7X6o2oKv2h1Vh12HjjBjcTqzlu7kQH4xPdu34anLTmb8oMRjb06KeAl1oTS3eroKCkvK+HTNbt74cTtrMnJoHRzIxQMS+PXQzgzqFHV0uJqz126OG6au0pQPkvpuIFY8d0n70SzIG8rMn3bwzeb9GGBUn3iuH9GVEd1jmvbzFWkh6kJpbrWFUW1dBRXHhyaM5rIh47hsSBKrdh5i5pIdzFmTybvLMujRvg0TBnfkkoEdSYxq3fgaavr13pO6VprS/VBHC97uTGH9Vw/wQfYIUg7lklW6nA5tQ7nz7B5ccUonkqLD6nhiEe+hFrgr1NWqrel7UGcrOK+olDmrM/lgRQZLtx/EGBh2QjvGnpzIBf07ENOmhtl/DW1Ze1ILvKmqfWBt3Z/HJ6t388mS5aTmRhBiShjV9icu6xvKWWMf0lol4rU0Drw5NfDX+V9axo0YP5yenc+HK3eRsjqTtP35BAYYhp3QjvP6xnNe3/ijrcnGjEn2hD5wF7DWsj7zMPN+3su89XvYuCcXY+CUBMvFAf/j4rbziWpV7t0fUiIowJtXY1u1TrSCrbVs3JPLJ2symbd+L6n7HOut9O4QwZm94jgzOpXkbVcTYnO9v2Vdh8OFJfywJYuvN+3nm8372Z1TSICB5K7tGNOvAxedlECHyFCf+ZASgWYIcGNMJ+BNIB6wwCvW2hfqOsdnAxwaHxgNOb62m5C757Gt9Wi+PNCPhRv3syz9ACVlltZBluR22Qzv1o7hg0bSLzGS0OBGjq7wsODLKShhxY6DLN6WzeKt2azdlUO5hYhWQZzWM5aze7dnVO/2NXcrifiI5gjwBCDBWrvCGBMBLAcusdb+XNs5Ph3grtaQvvPed0FxDnkxo/nhyFB+2JrNjxu3semAY2RFSGAA/Tq2ZVCnaE5Kakv/xEi6xbUhsKZ1y6tf0w3L3xaWlLFxTy5rd+WwLiOHFTsO/vKbRnCgYVCnaIZ3j+G0HrEM6hxFsPq0xU+4fBSKtXY3sLvi77nGmA1AR6DWAJdGqG3J06qPrX8SKKNN2jRGj5zJ6MHAkavI7hDEsiODWBH1J1YcNMxYkk7R9+UAhAYH0D2uDSfGR9CjfRtOiA2nS0wYnduFEVHT8rcxw1zaErfWkp1fTHp2Aduz8tmenU/q3jw278tle1Y+5RXtiaiwYAbGFTOubypDTuzOwMEXEhbSyLerh/02IeJqLhlGaIzpCgwCltTwvYnARIDOnTu74nL+oeowuYAQyN8G0QMdLe+yAjBBYEsdx1YL+JggGBPxDWO69YdTplBaVs7W/fms25XDz7sPs3lvLj9uzebDlbuOuWREyPkkmL7EB2cTG3SImKAcohduoW2P7bQJDSI8JIiQoADHf4EBVA6hthaKS8spKiunqKScvKJScgtLyC0s5UB+MVl5RWTlFbEnp5DdOYUUlZb/cs0AA11iwjkxvg0XnZRA34S29O8YSVL+V5gfKn4b2N4KjoyCnrc0bvec6hN9QIEuPqXJNzGNMW2Ab4DHrbUf1HWsulAaKSMFUqfC3vmOLd2qdJsQEgkbn2/U8MTq8opKSc/OJz27gB0HCtiTU0jmjuXszc4mu7Qt2WVRHCkPbdJLaBsaRGybVrQLD6FDZCiJUa1JiAylS0wYXWLCSYpuXfMsyOqjaqBxN2dr2klp79e+MXxS/E6zTOQxxgQD7wMz6gtvcULlSoW7K/bjrNwNvXJ4YMyw41uU9e18XqVboU3SOPolRtIvMbLKAf2OOaYw/nxyC0vJKyolv6iUotJyikvLKSkrP+ZpQ4ICaFXROo9oFUxEaBBtQoOc76dOGA1b/1dlL1IaN/Go+kQfi+dMYBJxkabcxDTAG8ABa+1dDTlHLXAnuHLijTPP5c5+5IUXwe7PqjwQAInnO7a1a+xIH/CdCUzid5qjBT4SuAZYa4xZVfHYn621n9V+ijRaTet8O6u2G6O1PbcTC0a5VM9bYN/XFTUHgAmAzM8cXSENqaX6VH1X/RxFPERTRqEsArQSUEuoGkRNaRFX71YIiaw7oFt63ZSa1nKpDN38bY7wrqmWhv5MtPSr+BgNpPUmlS3i1BcdfzZ29/nKQOw5yfFncU7du7MnjHYEPTT/jjO1vbakcY4+/x631FxLU38mIl5MAe5NausCqUtGimNERvVATBpXf0BXD/zmbL3W99pqq8WZn4mIj9Byst6ksZsg1NeH3ZD+9ZbqdmjIa6upFu1LKX5MAe5NGntDsyF92J7SL+zszVpX3uQV8TJajdCX+dLa3yJ+TDvy+CO1TkV8mgLc13lKF4mIuJxGoYiIeCkFuIiIl1KAi4h4KQW4iIiXUoCLiHgpBbiIiJdq0Yk8xpj9QLqTp8cCWS4sx5185bX4yusAvRZP5Suvpamvo4u1Nq76gy0a4E1hjFlW00wkb+Qrr8VXXgfotXgqX3ktzfU61IUiIuKlFOAiIl7KmwL8FXcX4EK+8lp85XWAXoun8pXX0iyvw2v6wEVE5Fje1AIXEZEqFOAiIl7KqwLcGPOoMWaNMWaVMWaeMSbR3TU5yxjztDFmY8Xr+dAYE+XumpxhjLncGLPeGFNujPHK4V7GmPONMZuMMVuMMfe7ux5nGWNeM8bsM8asc3ctTWGM6WSMWWiM+bnivTXZ3TU5yxgTaoz5yRizuuK1/M2lz+9NfeDGmLbW2sMVf/890Ndae6uby3KKMWY0sMBaW2qMeRLAWnufm8tqNGNMH6AcmArcba31qi2XjDGBwGbgPCADWApcZa392a2FOcEYcwaQB7xpre3v7nqcZYxJABKstSuMMRHAcuASL/03MUC4tTbPGBMMLAImW2sXu+L5vaoFXhneFcIB7/n0qcZaO89aW1rx5WIgyZ31OMtau8Fau8nddTTBUGCLtTbNWlsMzALGu7kmp1hrvwUOuLuOprLW7rbWrqj4ey6wAejo3qqcYx3yKr4MrvjPZbnlVQEOYIx53BizE/gt8Fd31+MiNwKfu7sIP9UR2Fnl6wy8NCx8kTGmKzAIWOLmUpxmjAk0xqwC9gFfWmtd9lo8LsCNMV8ZY9bV8N94AGvtg9baTsAM4A73Vlu3+l5LxTEPAqU4Xo9HasjrEHE1Y0wb4H3grmq/fXsVa22ZtXYgjt+yhxpjXNa95XF7Ylprz23goTOAz4CHm7GcJqnvtRhjrgfGAqOsB9+MaMS/iTfaBXSq8nVSxWPiRhX9xe8DM6y1H7i7Hlew1h4yxiwEzgdccqPZ41rgdTHG9Kzy5Xhgo7tqaSpjzPnAvcA4a22Bu+vxY0uBnsaYE4wxIcCvgRQ31+TXKm78vQpssNY+6+56msIYE1c5wswY0xrHzXKX5Za3jUJ5H+iFY9RDOnCrtdYrW0vGmC1AKyC74qHF3jiixhhzKfBvIA44BKyy1o5xa1GNZIy5EHgeCARes9Y+7t6KnGOMmQmchWPp0r3Aw9baV91alBOMMacB3wFrcfy/DvBna+1n7qvKOcaYk4E3cLy3AoB3rbV/d9nze1OAi4jIUV7VhSIiIkcpwEVEvJQCXETESynARUS8lAJcRMRLKcBFRLyUAlxExEv9P8OxiYphHNgeAAAAAElFTkSuQmCC\n",
      "text/plain": [
       "<Figure size 432x288 with 1 Axes>"
      ]
     },
     "metadata": {
      "needs_background": "light"
     },
     "output_type": "display_data"
    }
   ],
   "source": [
    "# A hipérbole gerada se adequa muito bem aos dados.\n",
    "xs = np.linspace(-3,3,101)\n",
    "xs_poly = poly_features.transform(xs.reshape(-1,1))\n",
    "ys = lin_reg.predict(xs_poly)\n",
    "plt.plot(xs, ys)\n",
    "plt.scatter(X,y, color='orange', s=10)"
   ]
  },
  {
   "cell_type": "markdown",
   "id": "5efd5878-5848-4d1a-9fd4-5fa738c71eaf",
   "metadata": {},
   "source": [
    "<h2 style='font-size:30px'> Learning Curves</h2>\n",
    "<div> \n",
    "    <ul style='font-size:20px'> \n",
    "        <li>\n",
    "            Para estudarmos a qualidade do modelo conforme aumentamos o número de instâncias de treino, existem as learning curves. No scikit-learn, uma validação cruzada gradativa ocorrerá. Para cada fold feito, o modelo será treinado em fatias cada vez maiores do conjunto de treino e testado neste e nos dados de validação.\n",
    "        </li>\n",
    "    </ul>\n",
    "</div>"
   ]
  },
  {
   "cell_type": "code",
<<<<<<< HEAD
   "execution_count": 16,
=======
   "execution_count": 134,
>>>>>>> ee96da2e50360e4430253a8b671829fa9db1024b
   "id": "e78df913-3b60-4a4c-a256-bf1569a06591",
   "metadata": {},
   "outputs": [
    {
     "name": "stderr",
     "output_type": "stream",
     "text": [
      "/home/veiga/.local/lib/python3.8/site-packages/sklearn/model_selection/_validation.py:1646: RuntimeWarning: Removed duplicate entries from 'train_sizes'. Number of ticks will be less than the size of 'train_sizes': 80 instead of 100.\n",
      "  warnings.warn(\n"
     ]
    }
   ],
   "source": [
    "from sklearn.model_selection import learning_curve\n",
    "# O objeto 'learning_curve' retornará o tamanho da fatia do conjunto de treino e as pontuações de treino e validação.\n",
    "# Nota: estamos usando a variável independente sem a transformação polinomial!\n",
    "train_sizes, train_scores, test_scores= learning_curve(lin_reg, X, y, \n",
    "                                                       train_sizes=np.linspace(0.01,1,100), random_state=42,\n",
    "                                                       cv=5, scoring='neg_mean_squared_error')\n",
    "\n",
    "# Como queremos ter apenas uma visão geral da performance, extrairemos a média das pontuações dos folds com cada tamanho de fatia\n",
    "# de treino.\n",
    "train_scores = np.sqrt(-train_scores).mean(axis=1)\n",
    "test_scores = np.sqrt(-test_scores).mean(axis=1)"
   ]
  },
  {
   "cell_type": "code",
<<<<<<< HEAD
   "execution_count": 23,
=======
   "execution_count": 135,
>>>>>>> ee96da2e50360e4430253a8b671829fa9db1024b
   "id": "2a42741b-4874-4809-bf0d-5a0fe677d89c",
   "metadata": {},
   "outputs": [
    {
     "data": {
      "text/plain": [
<<<<<<< HEAD
       "<matplotlib.legend.Legend at 0x7f54ecd614f0>"
      ]
     },
     "execution_count": 23,
     "metadata": {},
     "output_type": "execute_result"
    },
    {
     "data": {
      "image/png": "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\n",
      "text/plain": [
       "<Figure size 432x288 with 1 Axes>"
      ]
     },
     "metadata": {
      "needs_background": "light"
     },
     "output_type": "display_data"
    }
   ],
   "source": [
    "# Plotando as curvas de aprendizado.\n",
    "plt.plot(train_sizes, train_scores, label='Train')\n",
    "plt.plot(train_sizes,test_scores, label='Test')\n",
    "plt.legend()"
   ]
  },
  {
   "cell_type": "markdown",
   "id": "a74efc7f-800f-4b75-9252-e3c2586859aa",
   "metadata": {},
   "source": [
    "<p style='color:red'> apagar depois (célula abaixo)"
   ]
  },
  {
   "cell_type": "markdown",
   "id": "558dc72b-5087-4756-a549-65c77f395c3a",
   "metadata": {},
   "source": [
    "<div> \n",
    "    <ul style='font-size:20px'> \n",
    "        <li>\n",
    "            Com poucas instâncias de treino, o modelo tem um baixo índice de erro entre elas, mas um alto valor para o conjunto de teste. Conforme os dados disponíveis crescem,a taxa de erro no treinamento tende a crescer, enquanto que na validação cai. Em certo ponto, ambas as curvas atingem um plateau, em que não conseguem atingir índices melhores ou piores.\n",
    "        </li>\n",
    "    </ul>\n",
    "</div>"
   ]
  },
  {
   "cell_type": "code",
   "execution_count": 30,
   "id": "f991ad0a-37e5-4ad6-913e-15f205e9f131",
   "metadata": {},
   "outputs": [
    {
     "name": "stderr",
     "output_type": "stream",
     "text": [
      "/home/veiga/.local/lib/python3.8/site-packages/sklearn/model_selection/_validation.py:1646: RuntimeWarning: Removed duplicate entries from 'train_sizes'. Number of ticks will be less than the size of 'train_sizes': 80 instead of 100.\n",
      "  warnings.warn(\n"
     ]
    }
   ],
   "source": [
    "from sklearn.model_selection import learning_curve\n",
    "\n",
    "# Fazendo o mesmo procedimento com 'X_poly'.\n",
    "train_sizes_poly, train_scores_poly, test_scores_poly= learning_curve(lin_reg, X_poly, y, \n",
    "                                                       train_sizes=np.linspace(0.01,1,100), random_state=42,\n",
    "                                                       cv=5, scoring='neg_mean_squared_error')\n",
    "\n",
    "train_scores_poly = np.sqrt(-train_scores_poly).mean(axis=1)\n",
    "test_scores_poly = np.sqrt(-test_scores_poly).mean(axis=1)"
   ]
  },
  {
   "cell_type": "code",
   "execution_count": 33,
   "id": "08492f9c-489c-42bd-8636-83721fd99497",
   "metadata": {},
   "outputs": [
    {
     "data": {
      "text/plain": [
       "0.2856644238016763"
      ]
     },
     "execution_count": 33,
     "metadata": {},
     "output_type": "execute_result"
    }
   ],
   "source": [
    "test_scores_poly[-1]"
   ]
  },
  {
   "cell_type": "code",
   "execution_count": 35,
   "id": "e951e47d-b6f2-4041-b5be-a899d2ca1d83",
   "metadata": {},
   "outputs": [
    {
     "data": {
      "text/plain": [
       "<matplotlib.legend.Legend at 0x7f54ecc1c0d0>"
      ]
     },
     "execution_count": 35,
=======
       "<matplotlib.legend.Legend at 0x7fbbe81b6640>"
      ]
     },
     "execution_count": 135,
>>>>>>> ee96da2e50360e4430253a8b671829fa9db1024b
     "metadata": {},
     "output_type": "execute_result"
    },
    {
     "data": {
<<<<<<< HEAD
      "image/png": "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\n",
=======
      "image/png": "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\n",
>>>>>>> ee96da2e50360e4430253a8b671829fa9db1024b
      "text/plain": [
       "<Figure size 432x288 with 1 Axes>"
      ]
     },
     "metadata": {
      "needs_background": "light"
     },
     "output_type": "display_data"
    }
   ],
   "source": [
<<<<<<< HEAD
    "# Veja, o plateau é atingido com uma taxa de erro muito menor!\n",
    "plt.plot(train_sizes_poly, train_scores_poly, label='Train')\n",
    "plt.plot(train_sizes_poly,test_scores_poly, label='Test')\n",
    "plt.ylim([0,3])\n",
=======
    "# Plotando as curvas de aprendizado.\n",
    "plt.plot(train_sizes, train_scores, label='Train')\n",
    "plt.plot(train_sizes,test_scores, label='Test')\n",
>>>>>>> ee96da2e50360e4430253a8b671829fa9db1024b
    "plt.legend()"
   ]
  },
  {
   "cell_type": "markdown",
<<<<<<< HEAD
   "id": "551ecead-3360-4491-ac19-df5e174a5bac",
   "metadata": {},
   "source": [
    "<h2 style='font-size:30px'>  Regularized Linear Models</h2>\n",
    "<div> \n",
    "    <ul style='font-size:20px'> \n",
    "        <li>\n",
    "          Os modelos lineares regularizados são versões adapatadas do LinearRegression. O seu intuito é restringir os valores dos coeficientes, evitando assim o vício do algoritmo.\n",
    "        </li>\n",
    "        <li> \n",
    "          É importante frisar que modelos regularizados costumam exigir que os dados com os quais lidarão estejam normalizados!\n",
    "        </li>\n",
    "    </ul>\n",
    "</div>"
=======
   "id": "a74efc7f-800f-4b75-9252-e3c2586859aa",
   "metadata": {},
   "source": [
    "<p style='color:red'> apagar depois (célula abaixo)"
>>>>>>> ee96da2e50360e4430253a8b671829fa9db1024b
   ]
  },
  {
   "cell_type": "markdown",
<<<<<<< HEAD
   "id": "f08aae02-b6f3-4a04-9c05-ea345e8a864f",
   "metadata": {},
   "source": [
    "<h3 style='font-size:30px;font-style:italic'> Ridge Regression</h3>\n",
    "<div> \n",
    "    <ul style='font-size:20px'> \n",
    "        <li>\n",
    "            A regressão Ridge reduz os coeficientes da fórmula. Quanto maior o argumento $\\alpha$, mais regularizada ela estará e, assim, mais próximos de 0 esses números estarão.\n",
    "        </li>\n",
    "        <li> \n",
    "            Podemos fazer essa Regressão usando a equação fechada ou Gradient Descents.\n",
=======
   "id": "558dc72b-5087-4756-a549-65c77f395c3a",
   "metadata": {},
   "source": [
    "<div> \n",
    "    <ul style='font-size:20px'> \n",
    "        <li>\n",
    "            Com poucas instâncias de treino, o modelo tem um baixo índice de erro entre elas, mas um alto valor para o conjunto de teste. Conforme os dados disponíveis crescem,a taxa de erro no treinamento tende a crescer, enquanto que na validação cai. Em certo ponto, ambas as curvas atingem um plateau, em que não conseguem atingir índices melhores ou piores.\n",
>>>>>>> ee96da2e50360e4430253a8b671829fa9db1024b
    "        </li>\n",
    "    </ul>\n",
    "</div>"
   ]
  },
  {
   "cell_type": "code",
<<<<<<< HEAD
   "execution_count": 55,
   "id": "d9b5305c-55fe-4f7d-917b-2d67f7ec4ff4",
   "metadata": {},
   "outputs": [
    {
     "data": {
      "text/plain": [
       "(array([4.00345703]), array([[0.92670825]]))"
      ]
     },
     "execution_count": 55,
     "metadata": {},
     "output_type": "execute_result"
    }
   ],
   "source": [
    "# Closed-form equation.\n",
    "from sklearn.linear_model import Ridge\n",
    "ridge_reg = Ridge(alpha=1, solver='cholesky')\n",
    "ridge_reg.fit(X,y)\n",
    "ridge_reg.intercept_, ridge_reg.coef_"
=======
   "execution_count": 148,
   "id": "f991ad0a-37e5-4ad6-913e-15f205e9f131",
   "metadata": {},
   "outputs": [
    {
     "name": "stderr",
     "output_type": "stream",
     "text": [
      "/Users/felipeveiga/opt/anaconda3/lib/python3.8/site-packages/ipykernel/ipkernel.py:287: DeprecationWarning: `should_run_async` will not call `transform_cell` automatically in the future. Please pass the result to `transformed_cell` argument and any exception that happen during thetransform in `preprocessing_exc_tuple` in IPython 7.17 and above.\n",
      "  and should_run_async(code)\n",
      "/Users/felipeveiga/opt/anaconda3/lib/python3.8/site-packages/sklearn/model_selection/_validation.py:1471: RuntimeWarning: Removed duplicate entries from 'train_sizes'. Number of ticks will be less than the size of 'train_sizes' 80 instead of 100).\n",
      "  warnings.warn(\"Removed duplicate entries from 'train_sizes'. Number \"\n"
     ]
    }
   ],
   "source": [
    "from sklearn.model_selection import learning_curve\n",
    "\n",
    "# Fazendo o mesmo procedimento com 'X_poly'.\n",
    "train_sizes_poly, train_scores_poly, test_scores_poly= learning_curve(lin_reg, X_poly, y, \n",
    "                                                       train_sizes=np.linspace(0.01,1,100), random_state=42,\n",
    "                                                       cv=5, scoring='neg_mean_squared_error')\n",
    "\n",
    "train_scores_poly = np.sqrt(-train_scores_poly).mean(axis=1)\n",
    "test_scores_poly = np.sqrt(-test_scores_poly).mean(axis=1)"
>>>>>>> ee96da2e50360e4430253a8b671829fa9db1024b
   ]
  },
  {
   "cell_type": "code",
<<<<<<< HEAD
   "execution_count": 63,
   "id": "392600f0-0123-4141-b1b8-3d0b8fd7c02d",
   "metadata": {},
   "outputs": [
    {
     "data": {
      "text/plain": [
       "(array([3.99572639]), array([0.69466744]))"
      ]
     },
     "execution_count": 63,
     "metadata": {},
     "output_type": "execute_result"
    }
   ],
   "source": [
    "# Fazendo por SGD.\n",
    "from sklearn.linear_model import SGDRegressor\n",
    "sgd_reg = SGDRegressor(alpha=1, penalty='l2')\n",
    "\n",
    "# Converta 'y' para um array 1-D usando 'ravel'.\n",
    "sgd_reg.fit(X,y.ravel())\n",
    "sgd_reg.intercept_, sgd_reg.coef_"
=======
   "execution_count": 149,
   "id": "e951e47d-b6f2-4041-b5be-a899d2ca1d83",
   "metadata": {},
   "outputs": [
    {
     "name": "stderr",
     "output_type": "stream",
     "text": [
      "/Users/felipeveiga/opt/anaconda3/lib/python3.8/site-packages/ipykernel/ipkernel.py:287: DeprecationWarning: `should_run_async` will not call `transform_cell` automatically in the future. Please pass the result to `transformed_cell` argument and any exception that happen during thetransform in `preprocessing_exc_tuple` in IPython 7.17 and above.\n",
      "  and should_run_async(code)\n"
     ]
    },
    {
     "data": {
      "text/plain": [
       "<matplotlib.legend.Legend at 0x7fbbe90649a0>"
      ]
     },
     "execution_count": 149,
     "metadata": {},
     "output_type": "execute_result"
    },
    {
     "data": {
      "image/png": "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\n",
      "text/plain": [
       "<Figure size 432x288 with 1 Axes>"
      ]
     },
     "metadata": {
      "needs_background": "light"
     },
     "output_type": "display_data"
    }
   ],
   "source": [
    "# Veja, o plateau é atingido com uma taxa de erro muito menor!\n",
    "plt.plot(train_sizes_poly, train_scores_poly, label='Train')\n",
    "plt.plot(train_sizes_poly,test_scores_poly, label='Test')\n",
    "plt.legend()"
>>>>>>> ee96da2e50360e4430253a8b671829fa9db1024b
   ]
  },
  {
   "cell_type": "markdown",
<<<<<<< HEAD
   "id": "78ced128-deee-43e2-a168-90719e8fd370",
   "metadata": {},
   "source": [
    "<h3 style='font-size:30px;font-style:italic'> Lasso Regression</h3>\n",
    "<div> \n",
    "    <ul style='font-size:20px'> \n",
    "        <li>\n",
    "            A Regressão Lasso tende a zerar os coeficientes de variáveis pouco relevantes à previsão.\n",
=======
   "id": "551ecead-3360-4491-ac19-df5e174a5bac",
   "metadata": {},
   "source": [
    "<h2 style='font-size:30px'>  Regularized Linear Models</h2>\n",
    "<div> \n",
    "    <ul style='font-size:20px'> \n",
    "        <li>\n",
    "          Os modelos lineares regularizados são versões adapatadas do LinearRegression. O seu intuito é restringir os valores dos coeficientes, evitando assim o vício do algoritmo.\n",
    "        </li>\n",
    "        <li> \n",
    "          É importante frisar que modelos regularizados costumam exigir que os dados com os quais lidarão estejam normalizados!\n",
>>>>>>> ee96da2e50360e4430253a8b671829fa9db1024b
    "        </li>\n",
    "    </ul>\n",
    "</div>"
   ]
  },
  {
<<<<<<< HEAD
   "cell_type": "code",
   "execution_count": 88,
   "id": "18a4c597-2229-471b-877b-9ee5e8eeeb8b",
   "metadata": {},
   "outputs": [
    {
     "data": {
      "text/plain": [
       "(4.00346104533158, array([0.89706625]))"
      ]
     },
     "execution_count": 88,
     "metadata": {},
     "output_type": "execute_result"
    }
   ],
   "source": [
    "# Closed-form\n",
    "from sklearn.linear_model import Lasso\n",
    "lasso_reg = Lasso(alpha=0.1).fit(X,y.ravel())\n",
    "lasso_reg.intercept_,lasso_reg.coef_"
   ]
  },
  {
   "cell_type": "code",
   "execution_count": 91,
   "id": "2dae81a7-ae82-48ca-b925-83e1141e2bd3",
   "metadata": {},
   "outputs": [
    {
     "data": {
      "text/plain": [
       "(array([3.9803564]), array([0.93417444]))"
      ]
     },
     "execution_count": 91,
     "metadata": {},
     "output_type": "execute_result"
    }
   ],
   "source": [
    "# SGD.\n",
    "sgd_lasso = SGDRegressor(penalty='l1').fit(X, y.ravel())\n",
    "sgd_lasso.intercept_, sgd_lasso.coef_"
=======
   "cell_type": "markdown",
   "id": "f08aae02-b6f3-4a04-9c05-ea345e8a864f",
   "metadata": {},
   "source": [
    "<h3 style='font-size:30px;font-style:italic'> Ridge Regression</h3>\n",
    "<div> \n",
    "    <ul style='font-size:20px'> \n",
    "        <li>\n",
    "            A regressão Ridge reduz os coeficientes da fórmula. Quanto maior o argumento $\\alpha$, mais regularizada ela estará e, assim, mais próximos de 0 esses números estarão.\n",
    "        </li>\n",
    "    </ul>\n",
    "</div>"
>>>>>>> ee96da2e50360e4430253a8b671829fa9db1024b
   ]
  },
  {
   "cell_type": "markdown",
   "id": "c72a2663-026f-4a11-9ef8-625a6886c960",
   "metadata": {},
   "source": [
<<<<<<< HEAD
    "<p style='color:red'> Elastic Net</p>"
=======
    "<p style='color:red'> Seção grifada página 138</p>"
>>>>>>> ee96da2e50360e4430253a8b671829fa9db1024b
   ]
  },
  {
   "cell_type": "code",
   "execution_count": 20,
   "id": "9bc8aaf1-e9fb-48a6-a430-464d9fc156d9",
   "metadata": {},
   "outputs": [],
   "source": [
    "#! mv  /Users/felipeveiga/Desktop/Screen\\ Shot\\ 2022-05-14\\ at\\ 16.24.04.png ./gradient_table.png"
   ]
  }
 ],
 "metadata": {
  "kernelspec": {
   "display_name": "Python 3 (ipykernel)",
   "language": "python",
   "name": "python3"
  },
  "language_info": {
   "codemirror_mode": {
    "name": "ipython",
    "version": 3
   },
   "file_extension": ".py",
   "mimetype": "text/x-python",
   "name": "python",
   "nbconvert_exporter": "python",
   "pygments_lexer": "ipython3",
   "version": "3.8.10"
  }
 },
 "nbformat": 4,
 "nbformat_minor": 5
}
