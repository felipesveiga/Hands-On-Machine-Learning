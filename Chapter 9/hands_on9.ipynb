{
 "cells": [
  {
   "cell_type": "markdown",
   "id": "188c6768-b698-4625-9629-06aa84ecf873",
   "metadata": {},
   "source": [
    "<h1 style='font-size:40px'> Unsupervised Learning Techniques</h1>"
   ]
  },
  {
   "cell_type": "markdown",
   "id": "6236d432-8561-49f3-a974-5cbcf2fba979",
   "metadata": {},
   "source": [
    "<div> \n",
    "    <ul style='font-size:20px'> \n",
    "        <li> \n",
    "            A tarefa do ML Não-Supervisionado é o de distinguir instâncias do dataset conforme as suas características, sem precisar de um valor-alvo.\n",
    "        </li>\n",
    "        <li> \n",
    "            Sua necessidade surge em casos em que não sabemos quantos ou quais tipos de instâncias existem; ou quando o volume de dados é tão grande que seria impossível humanos manualmente os rotularem. \n",
    "        </li>\n",
    "    </ul>\n",
    "</div>"
   ]
  },
  {
   "cell_type": "markdown",
   "id": "e707d887-4cbd-4031-862c-64774b9274ee",
   "metadata": {},
   "source": [
    "<h2 style='font-size:30px'> Tipos de Unsupervised Learning</h2>\n",
    "<div> \n",
    "    <ul style='font-size:20px'> \n",
    "        <li> \n",
    "            <em> Clustering:</em> Busca agrupar as instâncias conforme suas características.\n",
    "        </li>\n",
    "        <li> \n",
    "            <em> Anomaly Detection:</em> Útil para limpeza de datasets. Também é usado como detector de defeitos em linhas de produção e de novas tendências em séries temporais.\n",
    "        </li>\n",
    "        <li> \n",
    "            <em> Density Estimation:</em> Calcula a Probability Density Function (PDF) do processo aleatório que gerou o dataset. É comumente usado em deteção de anomalias.\n",
    "        </li>\n",
    "    </ul>\n",
    "</div>"
   ]
  },
  {
   "cell_type": "markdown",
   "id": "49efb61a-5faa-43e5-bd49-e6e708f232c1",
   "metadata": {},
   "source": [
    "<h2 style='font-size:30px'> Clustering</h2>\n",
    "<h3 style='font-size:30px;font-style:italic'> Aplicações</h3>\n",
    "<div> \n",
    "    <ul style='font-size:20px'> \n",
    "        <li> \n",
    "            <em>Análise de Dados:</em> Os algoritmos de clustering podem encontrar agrupamentos entre as instâncias do dataset, permitindo a nós analisá-los separadamente.\n",
    "        </li>\n",
    "        <li> \n",
    "            <em>Redução de Dimensionalidade:</em> As instâncias do dataset podem ter o seu grau de afinidade com os clusters medido. Dessa forma, o vetor de features é substituído por um vetor com os graus de afinidade. \n",
    "        </li>\n",
    "        <li> \n",
    "            <em>Detecção de Anomalia:</em> Instâncias com baixa compatibilidade com os agrupamentos gerados podem ser rotuladas como exceções. \n",
    "        </li>\n",
    "    </ul>\n",
    "</div>"
   ]
  },
  {
   "cell_type": "markdown",
   "id": "44275bf2-a0ae-4273-a561-d8f3092288c5",
   "metadata": {},
   "source": [
    "<h2 style='font-size:30px'> K-Means</h2>\n",
    "<div> \n",
    "    <ul style='font-size:20px'> \n",
    "        <li> \n",
    "            O K-Means é um algoritmo de clustering muito conhecido. Devemos informar quantos agrupamentos pretendemos identificar ao utilizá-lo.\n",
    "        </li>\n",
    "        <li> \n",
    "            Ele, primeiramente, insere k centróides no plano aleatoriamente. As instâncias de treino são designadas ao núcleo mais próximo, tendo este a sua posição atualizada com a média das coordenadas dos pontos sob seu pertence. Após isso, uma nova fase de designação ocorre com os mesmos procedimentos. Esse processo se repete até que os centróides tenham as suas posições estabilizadas.\n",
    "        </li>\n",
    "    </ul>\n",
    "</div>"
   ]
  },
  {
   "cell_type": "code",
   "execution_count": 6,
   "id": "b8e32e27-1f42-4e0c-b3a6-3657bb289637",
   "metadata": {},
   "outputs": [
    {
     "data": {
      "text/plain": [
       "array([1, 0, 0, 3, 2, 3, 1, 2, 1, 1, 1, 3, 3, 2, 2, 1, 0, 0, 1, 0, 1, 2,\n",
       "       3, 2, 3, 2, 3, 0, 3, 0, 2, 2, 3, 2, 3, 3, 2, 1, 3, 1, 0, 1, 3, 0,\n",
       "       2, 1, 2, 0, 0, 3, 2, 0, 3, 2, 0, 0, 2, 3, 2, 3, 1, 0, 3, 3, 0, 0,\n",
       "       1, 2, 2, 2, 2, 1, 0, 0, 1, 0, 1, 0, 3, 1, 1, 0, 0, 3, 2, 3, 3, 1,\n",
       "       3, 1, 3, 3, 0, 2, 1, 1, 2, 1, 1, 2], dtype=int32)"
      ]
     },
     "execution_count": 6,
     "metadata": {},
     "output_type": "execute_result"
    }
   ],
   "source": [
    "from sklearn.datasets import make_blobs\n",
    "from sklearn.cluster import KMeans\n",
    "X,y = make_blobs(n_samples=100, centers=4)\n",
    "\n",
    "# Fazendo o K-Means identificar as 4 aglomerações criadas.\n",
    "kmeans = KMeans(n_clusters=4, random_state=42).fit(X)\n",
    "\n",
    "# Mostrando as previsões do K-Means.\n",
    "kmeans.predict(X)"
   ]
  },
  {
   "cell_type": "code",
   "execution_count": 9,
   "id": "3e4b8e70-ce47-4e8d-af5e-99aa8317f378",
   "metadata": {},
   "outputs": [
    {
     "data": {
      "text/plain": [
       "array([1, 0, 0, 3, 2, 3, 1, 2, 1, 1, 1, 3, 3, 2, 2, 1, 0, 0, 1, 0, 1, 2,\n",
       "       3, 2, 3, 2, 3, 0, 3, 0, 2, 2, 3, 2, 3, 3, 2, 1, 3, 1, 0, 1, 3, 0,\n",
       "       2, 1, 2, 0, 0, 3, 2, 0, 3, 2, 0, 0, 2, 3, 2, 3, 1, 0, 3, 3, 0, 0,\n",
       "       1, 2, 2, 2, 2, 1, 0, 0, 1, 0, 1, 0, 3, 1, 1, 0, 0, 3, 2, 3, 3, 1,\n",
       "       3, 1, 3, 3, 0, 2, 1, 1, 2, 1, 1, 2], dtype=int32)"
      ]
     },
     "execution_count": 9,
     "metadata": {},
     "output_type": "execute_result"
    }
   ],
   "source": [
    "# As previsões feitas sobre o dataset de treino podem ser visualizadas com o atributo 'labels_'.\n",
    "kmeans.labels_"
   ]
  },
  {
   "cell_type": "code",
   "execution_count": 10,
   "id": "e5d02989-b85e-4f09-aed8-aee3aa452475",
   "metadata": {},
   "outputs": [
    {
     "data": {
      "text/plain": [
       "array([[ 4.05955887, -1.11838989],\n",
       "       [-5.16779115, -8.87428925],\n",
       "       [-2.45843286,  6.14138294],\n",
       "       [ 1.76016733,  2.15369352]])"
      ]
     },
     "execution_count": 10,
     "metadata": {},
     "output_type": "execute_result"
    }
   ],
   "source": [
    "# 'cluster_centers_' revela as coordenadas dos centróides.\n",
    "kmeans.cluster_centers_"
   ]
  },
  {
   "cell_type": "code",
   "execution_count": 12,
   "id": "8a9ca18f-162f-474a-af62-0c930ec92eb2",
   "metadata": {},
   "outputs": [
    {
     "data": {
      "text/plain": [
       "array([[12.42919372,  0.59193303, 15.8375878 , 13.51875337],\n",
       "       [ 1.14903207, 12.86673056, 10.64732843,  4.84303955],\n",
       "       [ 0.7859479 , 12.3152267 , 10.51491467,  4.73439033],\n",
       "       [ 3.43722127, 12.434918  ,  6.31925756,  0.70846129],\n",
       "       [10.10814833, 15.65516195,  0.41846547,  6.13946365]])"
      ]
     },
     "execution_count": 12,
     "metadata": {},
     "output_type": "execute_result"
    }
   ],
   "source": [
    "# O método 'transform' nos revela a distância entre as instâncias e os centróides.\n",
    "\n",
    "# O seu output pode ser usado como substituto das features, configurando uma redução de dimensionalidade.\n",
    "kmeans.transform(X)[:5]"
   ]
  },
  {
   "cell_type": "markdown",
   "id": "ba344a6c-7624-4139-ad87-4e2499e91107",
   "metadata": {},
   "source": [
    "<h3 style='font-size:30px;font-style:italic'> Centroid Initialization Methods</h3>\n",
    "<div> \n",
    "    <ul style='font-size:20px'> \n",
    "        <li> \n",
    "            O K-Means possui o risco de convergir para uma solução sub-ótima. Considerando isso, há diversas maneiras para evitarmos essa situação.\n",
    "        </li>\n",
    "    </ul>\n",
    "</div>"
   ]
  },
  {
   "cell_type": "markdown",
   "id": "cddd6479-af96-4369-a1f6-a01ffa83adc9",
   "metadata": {},
   "source": [
    "<h4 style='font-size:30px;font-style:italic;text-decoration:underline'> n_init</h4>\n",
    "<div> \n",
    "    <ul style='font-size:20px'> \n",
    "        <li> \n",
    "            n_init controla a quantidade de k-means que são executados. O modelo retornado é aquele em que as instâncias tenham a menor distância ao quadrado de seus respectivos centróides (essa métrica pode ser encontrada no atributo <em>inertia_</em>).\n",
    "        </li>\n",
    "    </ul>\n",
    "</div>"
   ]
  },
  {
   "cell_type": "code",
   "execution_count": 23,
   "id": "be22db0f-92af-421c-9ed5-d58317c670f5",
   "metadata": {},
   "outputs": [
    {
     "data": {
      "text/plain": [
       "189.7486358001815"
      ]
     },
     "execution_count": 23,
     "metadata": {},
     "output_type": "execute_result"
    }
   ],
   "source": [
    "# Rodaremos aqui 20 K-Means.\n",
    "kmeans = KMeans(n_clusters=4,n_init=20, random_state=42).fit(X)\n",
    "\n",
    "# A distância ao quadrado média das instâncias aos centróides.\n",
    "kmeans.inertia_"
   ]
  },
  {
   "cell_type": "markdown",
   "id": "5b750f71-1b6e-4dc3-bb83-7499cf07aae5",
   "metadata": {},
   "source": [
    "<h4 style='font-size:30px;font-style:italic;text-decoration:underline'> init</h4>\n",
    "<div> \n",
    "    <ul style='font-size:20px'> \n",
    "        <li> \n",
    "            Se você vier a saber aproximadamente onde os centróides podem se localizar, passe um array do numpy com as coordenadas ao atributo <em> init</em>.\n",
    "        </li>\n",
    "    </ul>\n",
    "</div>"
   ]
  },
  {
   "cell_type": "code",
   "execution_count": 20,
   "id": "376561db-b93e-473f-acb5-df45156925c9",
   "metadata": {},
   "outputs": [
    {
     "data": {
      "text/plain": [
       "<matplotlib.collections.PathCollection at 0x7f4494b28e50>"
      ]
     },
     "execution_count": 20,
     "metadata": {},
     "output_type": "execute_result"
    },
    {
     "data": {
      "image/png": "[encoded data removed]",
      "text/plain": [
       "<Figure size 432x288 with 1 Axes>"
      ]
     },
     "metadata": {
      "needs_background": "light"
     },
     "output_type": "display_data"
    }
   ],
   "source": [
    "# Vamos usar a visualização das instâncias como base para o nosso array.\n",
    "from matplotlib.pyplot import scatter\n",
    "scatter(X[:,0], X[:,1], c=y, s=10)"
   ]
  },
  {
   "cell_type": "code",
   "execution_count": 22,
   "id": "141323ec-66cb-46e3-aa2e-692151893820",
   "metadata": {},
   "outputs": [
    {
     "data": {
      "text/plain": [
       "189.7486358001815"
      ]
     },
     "execution_count": 22,
     "metadata": {},
     "output_type": "execute_result"
    }
   ],
   "source": [
    "import numpy as np\n",
    "init = np.array([[-5, -8], [-3,6], [1, 2.5], [3,0]])\n",
    "kmeans = KMeans(n_clusters=4,init=init, n_init=1).fit(X)\n",
    "kmeans.inertia_"
   ]
  },
  {
   "cell_type": "markdown",
   "id": "be31a93d-2949-404e-b26a-33a24fb71530",
   "metadata": {},
   "source": [
    "<h3 style='font-size:30px;font-style:italic'> Mini-batch K-Means</h3>\n",
    "<div> \n",
    "    <ul style='font-size:20px'> \n",
    "        <li> \n",
    "            Como com o Incremental PCA e o Mini-batch Gradient Descent, o Mini-batch K-Means é recomendável para datasets que não cabem na memória. Em cada iteração, uma pequena parcela dos dados embasam a mudança de posição dos centróides.\n",
    "        </li>\n",
    "        <li> \n",
    "            Apesar de convergir mais rapidamente, esse algoritmo costuma ter inércias piores do que o K-Means tradicional para um mesmo número de clusters. \n",
    "        </li>\n",
    "    </ul>\n",
    "</div>"
   ]
  },
  {
   "cell_type": "code",
   "execution_count": 28,
   "id": "eaffd33b-4fbf-4eba-8083-9cfb76a95c16",
   "metadata": {},
   "outputs": [
    {
     "data": {
      "text/plain": [
       "191.59032965834382"
      ]
     },
     "execution_count": 28,
     "metadata": {},
     "output_type": "execute_result"
    }
   ],
   "source": [
    "from sklearn.cluster import MiniBatchKMeans\n",
    "mini_kmeans = MiniBatchKMeans(n_clusters=4, batch_size=int(len(X)/5)).fit(X)\n",
    "\n",
    "# Observe que a inércia do Mini-batch K-Means ficou pior.\n",
    "mini_kmeans.inertia_"
   ]
  },
  {
   "cell_type": "markdown",
   "id": "45ab4290-2ceb-4511-9579-6db32b0c194d",
   "metadata": {},
   "source": [
    "<p style='color:red'> Finding the Optimal Number of Clusters"
   ]
  }
 ],
 "metadata": {
  "kernelspec": {
   "display_name": "Python 3 (ipykernel)",
   "language": "python",
   "name": "python3"
  },
  "language_info": {
   "codemirror_mode": {
    "name": "ipython",
    "version": 3
   },
   "file_extension": ".py",
   "mimetype": "text/x-python",
   "name": "python",
   "nbconvert_exporter": "python",
   "pygments_lexer": "ipython3",
   "version": "3.8.10"
  }
 },
 "nbformat": 4,
 "nbformat_minor": 5
}
