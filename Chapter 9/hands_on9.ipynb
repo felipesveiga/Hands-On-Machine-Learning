{
 "cells": [
  {
   "cell_type": "markdown",
   "id": "188c6768-b698-4625-9629-06aa84ecf873",
   "metadata": {},
   "source": [
    "<h1 style='font-size:40px'> Unsupervised Learning Techniques</h1>"
   ]
  },
  {
   "cell_type": "markdown",
   "id": "6236d432-8561-49f3-a974-5cbcf2fba979",
   "metadata": {},
   "source": [
    "<div> \n",
    "    <ul style='font-size:20px'> \n",
    "        <li> \n",
    "            A tarefa do ML Não-Supervisionado é o de distinguir instâncias do dataset conforme as suas características, sem precisar de um valor-alvo.\n",
    "        </li>\n",
    "        <li> \n",
    "            Sua necessidade surge em casos em que não sabemos quantos ou que tipos de instâncias existem; ou quando o volume de dados é tão grande que seria impossível humanos manualmente os rotularem. \n",
    "        </li>\n",
    "    </ul>\n",
    "</div>"
   ]
  },
  {
   "cell_type": "markdown",
   "id": "e707d887-4cbd-4031-862c-64774b9274ee",
   "metadata": {},
   "source": [
    "<h2 style='font-size:30px'> Tipos de Unsupervised Learning</h2>\n",
    "<div> \n",
    "    <ul style='font-size:20px'> \n",
    "        <li> \n",
    "            <em> Clustering:</em> Busca agrupar as instâncias conforme suas características.\n",
    "        </li>\n",
    "        <li> \n",
    "            <em> Anomaly Detection:</em> Útil para limpeza de datasets. Também é usado como detector de defeitos em linhas de produção e de novas tendências em séries temporais.\n",
    "        </li>\n",
    "        <li> \n",
    "            <em> Density Estimation:</em> Calcula a Probability Density Function (PDF) do processo aleatório que gerou o dataset. É comumente usado em deteção de anomalias.\n",
    "        </li>\n",
    "    </ul>\n",
    "</div>"
   ]
  },
  {
   "cell_type": "markdown",
   "id": "45ab4290-2ceb-4511-9579-6db32b0c194d",
   "metadata": {},
   "source": [
    "<p style='color:red'> Clustering (grifado)"
   ]
  }
 ],
 "metadata": {
  "kernelspec": {
   "display_name": "Python 3 (ipykernel)",
   "language": "python",
   "name": "python3"
  },
  "language_info": {
   "codemirror_mode": {
    "name": "ipython",
    "version": 3
   },
   "file_extension": ".py",
   "mimetype": "text/x-python",
   "name": "python",
   "nbconvert_exporter": "python",
   "pygments_lexer": "ipython3",
   "version": "3.8.10"
  }
 },
 "nbformat": 4,
 "nbformat_minor": 5
}
