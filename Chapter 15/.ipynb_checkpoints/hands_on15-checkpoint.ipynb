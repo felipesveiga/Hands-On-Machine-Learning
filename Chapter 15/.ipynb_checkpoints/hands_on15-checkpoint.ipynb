{
 "cells": [
  {
   "cell_type": "markdown",
   "id": "1642882c-6867-4b6d-a98d-020ade97d8ac",
   "metadata": {},
   "source": [
    "<h1 style='font-size:40px'> Processing Sequences Using RNNs and CNNs</h1>\n",
    "<div> \n",
    "    <ul style='font-size:20px'>\n",
    "        <li> \n",
    "            As Redes Neurais Recorrentes (RNN's) são uma modalidade de modelos de Deep Learning que demonstraram bastante sucesso em previsões de séries temporais extensas e NLP.\n",
    "        </li>\n",
    "        <li> \n",
    "            No entanto, elas apresentam dois grandes problemas: instabilidade de gradientes e uma memória de curto-prazo bastante limitada.\n",
    "        </li>\n",
    "    </ul>\n",
    "</div>"
   ]
  },
  {
   "cell_type": "markdown",
   "id": "8cf0f8c5-1a11-48f3-9271-aaf6e1ca8766",
   "metadata": {},
   "source": [
    "<h2 style='font-size:30px'> Recurrent Neurons and Layers</h2>\n",
    "<div> \n",
    "    <ul style='font-size:20px'>\n",
    "        <li> \n",
    "            O principal componente das RNN's são os neurônios recorrentes. Eles funcionam de maneira bastante similar às camadas dos MLP's, com o acréscimo de eles somarem o output da última iteração ao produto da função linear.\n",
    "            <center style='margin-top:20px'> \n",
    "                <img src='recurrent_function.png'>\n",
    "            </center>\n",
    "        </li>\n",
    "        <li style='margin-top:20px'> \n",
    "            Podemos ilustrar a passagem do output $y_{t-1}$ por um diagrama.\n",
    "            <center style='margin-top:20px'>\n",
    "                <img src='rnn_unrolled.png'>\n",
    "            </center>\n",
    "        </li>\n",
    "        <li style='margin-top:20px'> \n",
    "            Observe que $Y_{t-1}$ é uma função de $X_{t-1}$ e $Y_{t-2}$. Este, por sua vez, é uma função de $X_{t-2}$ e $Y_{t-3}$. Então, as iterações anteriores sempre impactarão o resultado da atual.\n",
    "        </li>\n",
    "    </ul>\n",
    "</div>"
   ]
  },
  {
   "cell_type": "markdown",
   "id": "36856edd-11bc-476b-84c9-1bb6121f07f7",
   "metadata": {},
   "source": [
    "<h2 style='font-size:30px'> Memory Cell</h2>\n",
    "<div> \n",
    "    <ul style='font-size:20px'>\n",
    "        <li> \n",
    "            As camadas recorrentes também são conhecidas como células de memória, por conta da sua capacidade de memorizar os outputs de iterações anteriores.\n",
    "        </li>\n",
    "        <li> \n",
    "            É distinguido também o significado de state e output de uma memory cell. O state é a função composta $h_{(t)}=f(h_{(t-1)}, x_{(t)})$ que vimos acima e ele nem sempre será o output da célula, como sugere a representação abaixo.\n",
    "            <center style='margin-top:20px'> \n",
    "                <img src='cell_state_outputs.png'>\n",
    "            </center>\n",
    "        </li>\n",
    "    </ul>\n",
    "</div>"
   ]
  },
  {
   "cell_type": "markdown",
   "id": "24f646b7-f913-46a2-a4c5-1efeb59736cc",
   "metadata": {},
   "source": [
    "<p style='color:red'> Input and Output Sequences</p>"
   ]
  }
 ],
 "metadata": {
  "kernelspec": {
   "display_name": "Python 3 (ipykernel)",
   "language": "python",
   "name": "python3"
  },
  "language_info": {
   "codemirror_mode": {
    "name": "ipython",
    "version": 3
   },
   "file_extension": ".py",
   "mimetype": "text/x-python",
   "name": "python",
   "nbconvert_exporter": "python",
   "pygments_lexer": "ipython3",
   "version": "3.12.0"
  }
 },
 "nbformat": 4,
 "nbformat_minor": 5
}
