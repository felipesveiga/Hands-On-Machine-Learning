{
 "cells": [
  {
   "cell_type": "markdown",
   "id": "1642882c-6867-4b6d-a98d-020ade97d8ac",
   "metadata": {},
   "source": [
    "<h1 style='font-size:40px'> Processing Sequences Using RNNs and CNNs</h1>\n",
    "<div> \n",
    "    <ul style='font-size:20px'>\n",
    "        <li> \n",
    "            As Redes Neurais Recorrentes (RNN's) são uma modalidade de modelos de Deep Learning que demonstraram bastante sucesso em previsões de séries temporais extensas e NLP.\n",
    "        </li>\n",
    "        <li> \n",
    "            No entanto, elas apresentam dois grandes problemas: instabilidade de gradientes e uma memória de curto-prazo bastante limitada.\n",
    "        </li>\n",
    "    </ul>\n",
    "</div>"
   ]
  },
  {
   "cell_type": "markdown",
   "id": "8cf0f8c5-1a11-48f3-9271-aaf6e1ca8766",
   "metadata": {},
   "source": [
    "<h2 style='font-size:30px'> Recurrent Neurons and Layers</h2>\n",
    "<div> \n",
    "    <ul style='font-size:20px'>\n",
    "        <li> \n",
    "            O principal componente das RNN's são os neurônios recorrentes. Eles funcionam de maneira bastante similar às camadas dos MLP's, com o acréscimo de eles somarem o output da última iteração ao produto da função linear.\n",
    "            <center style='margin-top:20px'> \n",
    "                <img src='recurrent_function.png'>\n",
    "            </center>\n",
    "        </li>\n",
    "        <li style='margin-top:20px'> \n",
    "            Podemos ilustrar a passagem do output $y_{t-1}$ por um diagrama.\n",
    "            <center style='margin-top:20px'>\n",
    "                <img src='rnn_unrolled.png'>\n",
    "            </center>\n",
    "        </li>\n",
    "        <li style='margin-top:20px'> \n",
    "            Observe que $Y_{t-1}$ é uma função de $X_{t-1}$ e $Y_{t-2}$. Este, por sua vez, é uma função de $X_{t-2}$ e $Y_{t-3}$. Então, as iterações anteriores sempre impactarão o resultado da atual.\n",
    "        </li>\n",
    "    </ul>\n",
    "</div>"
   ]
  },
  {
   "cell_type": "markdown",
   "id": "36856edd-11bc-476b-84c9-1bb6121f07f7",
   "metadata": {},
   "source": [
    "<h2 style='font-size:30px'> Memory Cell</h2>\n",
    "<div> \n",
    "    <ul style='font-size:20px'>\n",
    "        <li> \n",
    "            As camadas recorrentes também são conhecidas como células de memória, por conta da sua capacidade de memorizar os outputs de iterações anteriores.\n",
    "        </li>\n",
    "        <li> \n",
    "            Aqui é distinguido também o significado de state e output de uma memory cell. O state é a função composta $h_{(t)}=f(h_{(t-1)}, x_{(t)})$ que vimos acima e ele nem sempre será o output da célula, como sugere a representação abaixo.\n",
    "            <center style='margin-top:20px'> \n",
    "                <img src='cell_state_outputs.png'>\n",
    "            </center>\n",
    "        </li>\n",
    "    </ul>\n",
    "</div>"
   ]
  },
  {
   "cell_type": "markdown",
   "id": "5e9b3508-fdba-4fda-b053-407f38e5d3c9",
   "metadata": {},
   "source": [
    "<h2 style='font-size:30px'> Input and Output Sequences</h2>\n",
    "<div> \n",
    "    <ul style='font-size:20px'>\n",
    "        <li> \n",
    "            Existem inúmeras modalidades de RNN's, sendo cada uma delas utilizada em tarefas distintas.  \n",
    "        </li>\n",
    "    </ul>\n",
    "</div>"
   ]
  },
  {
   "cell_type": "markdown",
   "id": "0dce02fb-faf3-4095-baad-11c283df3b6e",
   "metadata": {},
   "source": [
    "<h3 style='font-size:30px;font-style:italic'> Sequence-to-Sequence Networks </h3>\n",
    "<div> \n",
    "    <ul style='font-size:20px'> \n",
    "        <li> \n",
    "            Recebe uma sequência de inputs para lançar uma sequência de outputs. Bastante utilizada na previsão de séries temporais.\n",
    "            <center style='margin-top:20px'> \n",
    "                <img src='seq_seq.png'>\n",
    "            </center>\n",
    "        </li>\n",
    "    </ul>\n",
    "</div>"
   ]
  },
  {
   "cell_type": "markdown",
   "id": "81ed4b5f-fa73-4f0b-bba6-7900af1d7236",
   "metadata": {},
   "source": [
    "<h3 style='font-size:30px;font-style:italic'> Sequence-to-Vector Networks </h3>\n",
    "<div> \n",
    "    <ul style='font-size:20px'> \n",
    "        <li> \n",
    "            Essa RNN propõe receber uma sequência de inputs e levar em conta apenas o output da última iteração. \n",
    "        </li> \n",
    "        <li>\n",
    "            Por exemplo, podemos abastecê-la com uma sequência de palavras e fazê-la lançar um score sentimental (0=insatisfeito, 1=muito satisfeito) \n",
    "            <center style='margin-top:20px'> \n",
    "                <img src='seq_vec.png'>\n",
    "            </center>\n",
    "        </li>\n",
    "    </ul>\n",
    "</div>"
   ]
  },
  {
   "cell_type": "markdown",
   "id": "fc819e01-16c0-43c5-9bbb-96ad7d94691b",
   "metadata": {},
   "source": [
    "<h3 style='font-size:30px;font-style:italic'> Vector-to-Sequence Networks </h3>\n",
    "<div> \n",
    "    <ul style='font-size:20px'> \n",
    "        <li> \n",
    "            Capaz de gerar sequências de dados com base no abastecimento de um único vetor. \n",
    "        </li> \n",
    "        <li>\n",
    "            Essa modalidade pode ser usada em sistemas de descrição de fotografias.\n",
    "            <center style='margin-top:20px'> \n",
    "                <img src='vec_seq.png'>\n",
    "            </center>\n",
    "        </li>\n",
    "    </ul>\n",
    "</div>"
   ]
  },
  {
   "cell_type": "markdown",
   "id": "8052b691-611b-4051-943e-ceb9e14abc14",
   "metadata": {},
   "source": [
    "<h3 style='font-size:30px;font-style:italic'> Encoder-Decoder Networks </h3>\n",
    "<div> \n",
    "    <ul style='font-size:20px'> \n",
    "        <li> \n",
    "            É uma rede híbrida que possui uma RNN sequence-to-vector cujo output alimenta outra RNN vector-to-sequence.\n",
    "        </li>\n",
    "        <li>\n",
    "            Pode ser bastante útil em sistemas de tradução de frases.\n",
    "        </li>\n",
    "        <li>\n",
    "            Essa arquitetura inspirou o surgimento dos Transformers, modelos considerados SOTA principalmente no âmbito do NLP. \n",
    "            <center style='margin-top:20px'> \n",
    "                <img src='encoder_decoder.png'>\n",
    "            </center>\n",
    "        </li>\n",
    "    </ul>\n",
    "</div>"
   ]
  },
  {
   "cell_type": "markdown",
   "id": "971daa21-2c74-492d-bf20-5d3d048e18bd",
   "metadata": {},
   "source": [
    "<h2 style='font-size:30px'> Forecasting a Time Series</h2>\n",
    "<div> \n",
    "    <ul style='font-size:20px'>\n",
    "        <li>  \n",
    "            Uma série temporal consiste em uma sequência de dados ao longo de um período de tempo.\n",
    "        </li>\n",
    "        <li>\n",
    "            Essa série pode envolver uma única sequência de dados (univarial), ou várias (multivarial). Por exemplo, poderíamos criar uma RNN para prever o Dividend Yield de uma companhia, ou para estimar o valor de uma série de métricas sobre a sua saúde financeira (Dívida, Lucro, etc).\n",
    "        </li>\n",
    "        <li>\n",
    "            Podemos tanto usar nossos modelos para prever valores futuros da sequência, quanto números passados, no caso de eles constarem como nulos na tabela. Esse último caso de uso leva o nome de imputação.\n",
    "        </li>\n",
    "    </ul>\n",
    "</div>"
   ]
  },
  {
   "cell_type": "code",
   "execution_count": 12,
   "id": "38e7b434-80e1-4f63-9c86-e1e835495b7c",
   "metadata": {},
   "outputs": [],
   "source": [
    "# Vamos fazer uma breve demonstração do uso de RNN's em Séries Temporais.\n",
    "\n",
    "import numpy as np\n",
    "\n",
    "def generate_time_series(batch_size:int, n_steps:int)->np.array:\n",
    "    '''\n",
    "        Gera uma quantidade `batch_size` de séries temporais com `n_steps` de comprimento.\n",
    "        \n",
    "        Parâmetros\n",
    "        ----------\n",
    "        `batch_size`: int\n",
    "            Número de séries temporais.\n",
    "        `n_steps`: int\n",
    "            Tamanho das séries.\n",
    "        \n",
    "        Retorna\n",
    "        -------\n",
    "        Um `np.array` com os dados das séries temporais. Elas serão a soma de duas funções seno mais um noise Gaussiano.\n",
    "    '''\n",
    "    np.random.seed(42)\n",
    "    freq1, freq2, offsets1, offsets2 = np.random.rand(4, batch_size, 1)\n",
    "    time = np.linspace(0, 1, n_steps)\n",
    "    series = .5 * np.sin((time-offsets1) * (freq1*10+10))\n",
    "    series += .2 * np.sin((time-offsets2) * (freq2*10+10))\n",
    "    series += .1 * (np.random.rand(batch_size, n_steps) - 0.5)\n",
    "    return series[..., np.newaxis].astype(np.float32)"
   ]
  },
  {
   "cell_type": "code",
   "execution_count": 13,
   "id": "035c96e4-93a3-4b8e-b1c4-fa6b1f2be852",
   "metadata": {},
   "outputs": [],
   "source": [
    "# Montando 10000 séries temporais de 51 períodos.\n",
    "# Nossa target será o último valor dessas séries.\n",
    "n_steps = 50 \n",
    "series = generate_time_series(10000, n_steps+1)\n",
    "X_train, y_train = series[:7000, :n_steps], series[:7000, -1]\n",
    "X_valid, y_valid = series[7000:9000, :n_steps], series[7000:9000, -1]\n",
    "X_test, y_test = series[9000:, :n_steps], series[9000:, -1]"
   ]
  },
  {
   "cell_type": "markdown",
   "id": "b7b4f27c-04f9-4c22-826c-6089f18a25c4",
   "metadata": {},
   "source": [
    "<div> \n",
    "    <ul style='font-size:20px'>\n",
    "        <li>  \n",
    "            Os dados de séries temporais costumam ser armazenados em matrizes 3-D, do formato $[\\text{n-series, n-steps, dimensionality}]$. No caso de séries multivariais, dimensionality sempre será maior do que 1.\n",
    "        </li>\n",
    "    </ul>\n",
    "</div>"
   ]
  },
  {
   "cell_type": "markdown",
   "id": "ef271b0d-8b42-476d-b47d-e8e18d03623a",
   "metadata": {},
   "source": [
    "<h3 style='font-size:30px;font-style:italic'> Baseline Metrics</h3>\n",
    "<div> \n",
    "    <ul style='font-size:20px'> \n",
    "        <li> \n",
    "            Vamos criar aqui algumas baselines que representarão a menor performance para o modelo.\n",
    "        </li>\n",
    "    </ul>\n",
    "</div>"
   ]
  },
  {
   "cell_type": "markdown",
   "id": "e97ac879-53bb-42a2-b8f5-1455d6564b84",
   "metadata": {},
   "source": [
    "<h4 style='font-size:30px;font-style:italic;text-decoration:underline'> Naïve Approach</h4>\n",
    "<div> \n",
    "    <ul style='font-size:20px'> \n",
    "        <li> \n",
    "            Esse método consiste em avaliar a performance, caso o modelo apenas preveja o último valor de cada série de $X$ (ou o penúltimo número da série como um todo). \n",
    "        </li>\n",
    "    </ul>\n",
    "</div>"
   ]
  },
  {
   "cell_type": "code",
   "execution_count": 14,
   "id": "8f29bd78-c9c9-4952-961c-3d6f1afe4cae",
   "metadata": {},
   "outputs": [
    {
     "data": {
      "text/plain": [
       "<tf.Tensor: shape=(), dtype=float32, numpy=0.014811385>"
      ]
     },
     "execution_count": 14,
     "metadata": {},
     "output_type": "execute_result"
    }
   ],
   "source": [
    "from tensorflow.keras.metrics import mean_squared_error\n",
    "from tensorflow.math import reduce_mean\n",
    "y_pred = X_valid[:, -1]\n",
    "mean_squared_error(y_valid.flatten(), y_pred.flatten())"
   ]
  },
  {
   "cell_type": "markdown",
   "id": "24f646b7-f913-46a2-a4c5-1efeb59736cc",
   "metadata": {},
   "source": [
    "<p style='color:red'> Grifado p.669</p>"
   ]
  }
 ],
 "metadata": {
  "kernelspec": {
   "display_name": "Python 3 (ipykernel)",
   "language": "python",
   "name": "python3"
  },
  "language_info": {
   "codemirror_mode": {
    "name": "ipython",
    "version": 3
   },
   "file_extension": ".py",
   "mimetype": "text/x-python",
   "name": "python",
   "nbconvert_exporter": "python",
   "pygments_lexer": "ipython3",
   "version": "3.11.7"
  }
 },
 "nbformat": 4,
 "nbformat_minor": 5
}
