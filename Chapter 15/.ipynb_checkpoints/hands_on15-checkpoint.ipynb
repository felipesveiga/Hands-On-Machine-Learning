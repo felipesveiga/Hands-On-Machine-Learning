{
 "cells": [
  {
   "cell_type": "markdown",
   "id": "1642882c-6867-4b6d-a98d-020ade97d8ac",
   "metadata": {},
   "source": [
    "<h1 style='font-size:40px'> Processing Sequences Using RNNs and CNNs</h1>\n",
    "<div> \n",
    "    <ul style='font-size:20px'>\n",
    "        <li> \n",
    "            As Redes Neurais Recorrentes (RNN's) são uma modalidade de modelos de Deep Learning que demonstraram bastante sucesso em previsões de séries temporais extensas e NLP.\n",
    "        </li>\n",
    "        <li> \n",
    "            No entanto, elas apresentam dois grandes problemas: instabilidade de gradientes e uma memória de curto-prazo bastante limitada.\n",
    "        </li>\n",
    "    </ul>\n",
    "</div>"
   ]
  },
  {
   "cell_type": "markdown",
   "id": "8cf0f8c5-1a11-48f3-9271-aaf6e1ca8766",
   "metadata": {},
   "source": [
    "<h2 style='font-size:30px'> Recurrent Neurons and Layers</h2>\n",
    "<div> \n",
    "    <ul style='font-size:20px'>\n",
    "        <li> \n",
    "            O principal componente das RNN's são os neurônios recorrentes. Eles funcionam de maneira bastante similar às camadas dos MLP's, com o acréscimo de eles somarem o output da última iteração ao produto da função linear.\n",
    "            <center style='margin-top:20px'> \n",
    "                <img src='recurrent_function.png'>\n",
    "            </center>\n",
    "        </li>\n",
    "        <li style='margin-top:20px'> \n",
    "            Podemos ilustrar a passagem do output $y_{t-1}$ por um diagrama.\n",
    "            <center style='margin-top:20px'>\n",
    "                <img src='rnn_unrolled.png'>\n",
    "            </center>\n",
    "        </li>\n",
    "        <li style='margin-top:20px'> \n",
    "            Observe que $Y_{t-1}$ é uma função de $X_{t-1}$ e $Y_{t-2}$. Este, por sua vez, é uma função de $X_{t-2}$ e $Y_{t-3}$. Então, as iterações anteriores sempre impactarão o resultado da atual.\n",
    "        </li>\n",
    "    </ul>\n",
    "</div>"
   ]
  },
  {
   "cell_type": "markdown",
   "id": "36856edd-11bc-476b-84c9-1bb6121f07f7",
   "metadata": {},
   "source": [
    "<h2 style='font-size:30px'> Memory Cell</h2>\n",
    "<div> \n",
    "    <ul style='font-size:20px'>\n",
    "        <li> \n",
    "            As camadas recorrentes também são conhecidas como células de memória, por conta da sua capacidade de memorizar os outputs de iterações anteriores.\n",
    "        </li>\n",
    "        <li> \n",
    "            Aqui é distinguido também o significado de state e output de uma memory cell. O state é a função composta $h_{(t)}=f(h_{(t-1)}, x_{(t)})$ que vimos acima e ele nem sempre será o output da célula, como sugere a representação abaixo.\n",
    "            <center style='margin-top:20px'> \n",
    "                <img src='cell_state_outputs.png'>\n",
    "            </center>\n",
    "        </li>\n",
    "    </ul>\n",
    "</div>"
   ]
  },
  {
   "cell_type": "markdown",
   "id": "5e9b3508-fdba-4fda-b053-407f38e5d3c9",
   "metadata": {},
   "source": [
    "<h2 style='font-size:30px'> Input and Output Sequences</h2>\n",
    "<div> \n",
    "    <ul style='font-size:20px'>\n",
    "        <li> \n",
    "            Existem inúmeras modalidades de RNN's, sendo cada uma delas utilizada em tarefas distintas.  \n",
    "        </li>\n",
    "    </ul>\n",
    "</div>"
   ]
  },
  {
   "cell_type": "markdown",
   "id": "0dce02fb-faf3-4095-baad-11c283df3b6e",
   "metadata": {},
   "source": [
    "<h3 style='font-size:30px;font-style:italic'> Sequence-to-Sequence Networks </h3>\n",
    "<div> \n",
    "    <ul style='font-size:20px'> \n",
    "        <li> \n",
    "            Recebe uma sequência de inputs para lançar uma sequência de outputs. Bastante utilizada na previsão de séries temporais.\n",
    "            <center style='margin-top:20px'> \n",
    "                <img src='seq_seq.png'>\n",
    "            </center>\n",
    "        </li>\n",
    "    </ul>\n",
    "</div>"
   ]
  },
  {
   "cell_type": "markdown",
   "id": "81ed4b5f-fa73-4f0b-bba6-7900af1d7236",
   "metadata": {},
   "source": [
    "<h3 style='font-size:30px;font-style:italic'> Sequence-to-Vector Networks </h3>\n",
    "<div> \n",
    "    <ul style='font-size:20px'> \n",
    "        <li> \n",
    "            Essa RNN propõe receber uma sequência de inputs e levar em conta apenas o output da última iteração. \n",
    "        </li> \n",
    "        <li>\n",
    "            Por exemplo, podemos abastecê-la com uma sequência de palavras e fazê-la lançar um score sentimental (0=insatisfeito, 1=muito satisfeito) \n",
    "            <center style='margin-top:20px'> \n",
    "                <img src='seq_vec.png'>\n",
    "            </center>\n",
    "        </li>\n",
    "    </ul>\n",
    "</div>"
   ]
  },
  {
   "cell_type": "markdown",
   "id": "fc819e01-16c0-43c5-9bbb-96ad7d94691b",
   "metadata": {},
   "source": [
    "<h3 style='font-size:30px;font-style:italic'> Vector-to-Sequence Networks </h3>\n",
    "<div> \n",
    "    <ul style='font-size:20px'> \n",
    "        <li> \n",
    "            Capaz de gerar sequências de dados com base no abastecimento de um único vetor. \n",
    "        </li> \n",
    "        <li>\n",
    "            Essa modalidade pode ser usada em sistemas de descrição de fotografias.\n",
    "            <center style='margin-top:20px'> \n",
    "                <img src='vec_seq.png'>\n",
    "            </center>\n",
    "        </li>\n",
    "    </ul>\n",
    "</div>"
   ]
  },
  {
   "cell_type": "markdown",
   "id": "8052b691-611b-4051-943e-ceb9e14abc14",
   "metadata": {},
   "source": [
    "<h3 style='font-size:30px;font-style:italic'> Encoder-Decoder Networks </h3>\n",
    "<div> \n",
    "    <ul style='font-size:20px'> \n",
    "        <li> \n",
    "            É uma rede híbrida que possui uma RNN sequence-to-vector cujo output alimenta outra RNN vector-to-sequence.\n",
    "        </li>\n",
    "        <li>\n",
    "            Pode ser bastante útil em sistemas de tradução de frases.\n",
    "        </li>\n",
    "        <li>\n",
    "            Essa arquitetura inspirou o surgmento dos Transformers, modelos considerados SOTA principalmente no âmbito do NLP. \n",
    "            <center style='margin-top:20px'> \n",
    "                <img src='encoder_decoder.png'>\n",
    "            </center>\n",
    "        </li>\n",
    "    </ul>\n",
    "</div>"
   ]
  },
  {
   "cell_type": "markdown",
   "id": "24f646b7-f913-46a2-a4c5-1efeb59736cc",
   "metadata": {},
   "source": [
    "<p style='color:red'> Grifado p.663</p>"
   ]
  }
 ],
 "metadata": {
  "kernelspec": {
   "display_name": "Python 3 (ipykernel)",
   "language": "python",
   "name": "python3"
  },
  "language_info": {
   "codemirror_mode": {
    "name": "ipython",
    "version": 3
   },
   "file_extension": ".py",
   "mimetype": "text/x-python",
   "name": "python",
   "nbconvert_exporter": "python",
   "pygments_lexer": "ipython3",
   "version": "3.11.7"
  }
 },
 "nbformat": 4,
 "nbformat_minor": 5
}
