{
 "cells": [
  {
   "cell_type": "markdown",
   "id": "fb9d226c-dc57-4d07-ae9d-bf8972506b4e",
   "metadata": {},
   "source": [
    "<h1 style='font-size:40px'> Training Models</h1>"
   ]
  },
  {
   "cell_type": "markdown",
   "id": "8cd2616b-f8bb-4bed-be9f-adaeeda1e40c",
   "metadata": {},
   "source": [
    "<h2 style='font-size:30px'> Esclarecimentos</h2>\n",
    "<div> \n",
    "    <ul style='font-size:20px'>\n",
    "        <li> \n",
    "            Este é o meu segundo estudo sobre o quarto capítulo do livro. O objetivo deste registro é, agora, consolidar o meu entendimento sobre a esfera matemática do treinamento em Machine Learning.\n",
    "        </li>\n",
    "    </ul>\n",
    "</div>"
   ]
  },
  {
   "cell_type": "markdown",
   "id": "d73b1e84-4614-494c-9762-6f2573d902a3",
   "metadata": {},
   "source": [
    "<h2 style='font-size:30px'> Notations (p.43)</h2>\n",
    "<div> \n",
    "    <ul style='font-size:20px'>\n",
    "        <li> \n",
    "            m é o tamanho do dataset com o qual avaliamos o modelo.\n",
    "            <ul style='list-style-type:circle'> \n",
    "                <li> \n",
    "                    Se o set de validação tem 5000 instâncias, $m=5000$\n",
    "                </li>\n",
    "            </ul>\n",
    "        </li>\n",
    "        <li style='margin-top:10px'> \n",
    "            $x^{(i)}$ é o vetor com os valores de todas as features independentes da i-ésima instância do dataset. $y^{(i)}$ é a sua variável-alvo.\n",
    "            <ul style='list-style-type:circle'> \n",
    "                <li> \n",
    "                    Se a nona feature do dataset tem como features independentes 200, 4500, 100 e 9 $x^{(9)}=\\begin{bmatrix} 200\\\\4500\\\\1000\\\\9\\end{bmatrix}$. \n",
    "                </li>\n",
    "                <li> \n",
    "                    Caso sua target-variable seja 3, $y^{(9)}=\\begin{bmatrix}3\\end{bmatrix}$\n",
    "                </li>\n",
    "            </ul>\n",
    "        </li>\n",
    "        <li style='margin-top:10px'> \n",
    "            X é a matrix com os valores das features independentes de cada instância. Esses, por sua vez, estão contidos em um vetor-linha, e não coluna. Portanto, para um dataset com 2000 instâncias:\n",
    "            $$\n",
    "                X=\\begin{bmatrix} \n",
    "                (x^{(1)})^{T} \\\\\n",
    "                (x^{(2)})^{T} \\\\\n",
    "                \\vdots \\\\\n",
    "                (x^{(2000)})^{T}\n",
    "                \\end{bmatrix}\n",
    "            $$\n",
    "        </li>\n",
    "        <li style='margin-top:10px'> \n",
    "            $h$ representa o nosso modelo de ML, que, para cada instância, lança uma previsão $ŷ$. Dessa maneira, $h(x^{(i)})=ŷ^{(i)}$\n",
    "             <ul style='list-style-type:circle'> \n",
    "                <li> \n",
    "                    O erro absoluto de um algoritmo regressor será $ŷ^{(i)}-y^{(i)}$\n",
    "                </li>\n",
    "            </ul>\n",
    "        </li>\n",
    "        <li style='margin-top:10px'> \n",
    "            $RMSE(X, h)$, $R^{2}(X,h)$ representam a função custo aplicada no set $X$ com o modelo $h$. \n",
    "        </li>\n",
    "        <li> \n",
    "            $J(\\theta)$ se referirá a qualquer função-custo com nome muito extenso. \n",
    "        </li>\n",
    "    </ul>\n",
    "</div>"
   ]
  },
  {
   "cell_type": "markdown",
   "id": "14e8acb2-9142-4cc9-a0c6-0f8456501f98",
   "metadata": {},
   "source": [
    "<h2 style='font-size:30px'> Métricas de Regressão</h2>\n",
    "<div> \n",
    "    <ul style='font-size:20px'>\n",
    "        <li> \n",
    "             RMSE, também conhecida como Euclidean Norm ou $l_2$ norm. Sua fórmula é:\n",
    "            $$\n",
    "            RMSE(X,h)=\\sqrt{\\frac{1}{m}\\sum_{i=1}^{m}(h(x^{(i)})-y^{(i)})^{2}}\n",
    "            $$\n",
    "        </li>\n",
    "        <li style='margin-top:10px'> \n",
    "            MAE, também conhecida como Manhattan Norm ou $l_1$ norm. Sua fórmula é:\n",
    "            $$\n",
    "                    MAE(X,h)=\\frac{1}{m}\\sum_{i=1}^{m} |h(x^{(i)})-y^{(i)}| \n",
    "            $$\n",
    "        </li>\n",
    "    </ul>\n",
    "</div>"
   ]
  },
  {
   "cell_type": "markdown",
   "id": "642f10c4-aa3b-4e1a-94c6-96e601fd087e",
   "metadata": {},
   "source": [
    "<h2 style='font-size:30px'> Início de Fato do Capítulo</h2>\n",
    "<div> \n",
    "    <ul style='font-size:20px'>\n",
    "        <li> \n",
    "            Neste capítulo, aprenderemos os principais métodos de treinamento em ML, assim como alguns modelos mais simples.\n",
    "        </li>\n",
    "        <li> \n",
    "            Há maneiras mais diretas de alcançarmos os parâmetros ideais do modelo, e outras que envolvem iterações.\n",
    "        </li>\n",
    "    </ul>\n",
    "</div>"
   ]
  },
  {
   "cell_type": "markdown",
   "id": "fd6fb59b-7e9c-4c45-ac63-f5260c0db7ff",
   "metadata": {},
   "source": [
    "<h2 style='font-size:30px'> Linear Regression</h2>\n",
    "<div> \n",
    "    <ul style='font-size:20px'>\n",
    "        <li> \n",
    "            A Regressão Linear é o modelo mais simples do ML. Consiste na soma ponderada de cada feature por um coeficiente. Uma previsão ŷ é dada como:\n",
    "            <p>$\n",
    "                ŷ=\\theta_0 + \\theta_1 x_1 + \\theta_2 x_2 + \\dots + \\theta_n x_n\n",
    "            $ ($\\theta_0$ é o termo de bias).\n",
    "            </p>         \n",
    "        </li>\n",
    "        <li> \n",
    "            Uma maneira mais concisa de formular essa equação é:\n",
    "            $$\n",
    "                ŷ=h_{\\theta}(x)=\\theta \\cdot x\n",
    "            $$\n",
    "            <ul style='list-style-type:circle'> \n",
    "                <li> \n",
    "                    $\\theta$ é o vetor com os coeficientes do modelo.\n",
    "                </li>\n",
    "                <li> \n",
    "                    x é o vetor com os valores das features.\n",
    "                </li>\n",
    "                <li> \n",
    "                    $\\theta \\cdot x$ é o produto escalar entre os vetores mencionados, igual a $\\theta_0 + \\theta_1 x_1 + \\theta_2 x_2 + \\dots + \\theta_n x_n\n",
    "            $\n",
    "                </li>\n",
    "            </ul>\n",
    "        </li>\n",
    "        <li> \n",
    "            Nota: A previsão do modelo ainda pode ser dada como $ŷ=\\theta^{T}x$, que é a multiplicação entre a transposta dos coeficientes e x.\n",
    "        </li>\n",
    "    </ul>\n",
    "</div>"
   ]
  },
  {
   "cell_type": "code",
   "execution_count": 1,
   "id": "84b02d65-c5e2-41af-88b0-240a6d07501a",
   "metadata": {},
   "outputs": [
    {
     "data": {
      "text/plain": [
       "(0.016455765915880542, 0.016455765915880542)"
      ]
     },
     "execution_count": 1,
     "metadata": {},
     "output_type": "execute_result"
    }
   ],
   "source": [
    "import numpy as np\n",
    "theta = np.random.random(size=3)\n",
    "x = np.random.normal(size=3)\n",
    "\n",
    "# Observe como o dot product e a multiplicação matricial se equivalem.\n",
    "theta.dot(x), theta.T@x"
   ]
  },
  {
   "cell_type": "markdown",
   "id": "bd03f35b-7e12-4ea8-9840-07a6dfed8477",
   "metadata": {},
   "source": [
    "<div> \n",
    "    <ul style='font-size:20px'>\n",
    "        <li> \n",
    "             A criação de uma Regressão Linear envolve encontrar o $\\theta$ que minimiza o MSE. Agora, é hora de explorarmos os diferentes métodos para que isso ocorra.        \n",
    "        </li>\n",
    "    </ul>\n",
    "</div>"
   ]
  },
  {
   "cell_type": "markdown",
   "id": "46d21c99-f22f-4ad4-b84e-4f3edd712308",
   "metadata": {},
   "source": [
    "<h2 style='font-size:30px'> The Normal Equation</h2>"
   ]
  },
  {
   "cell_type": "markdown",
   "id": "d1914c93-553b-4b44-8413-dff53028206f",
   "metadata": {},
   "source": [
    "<div> \n",
    "    <ul style='font-size:20px'>\n",
    "        <li> \n",
    "             A Equação Normal é uma maneira direta de alcançarmos o $\\theta$ minimizador do MSE. A sua fórmula é:\n",
    "            $$\n",
    "                \\theta=(X^{T}X)^{-1}X^{T}y\n",
    "            $$\n",
    "            <ul style='list-style-type:circle'> \n",
    "                <li> \n",
    "                    y é o vetor com as target variables.\n",
    "                </li>\n",
    "            </ul>\n",
    "        </li>\n",
    "    </ul>\n",
    "</div>"
   ]
  },
  {
   "cell_type": "code",
   "execution_count": 2,
   "id": "2adb2587-e96d-4b5b-8ae7-4d1333c2b0ea",
   "metadata": {},
   "outputs": [
    {
     "data": {
      "text/plain": [
       "array([[9.97970517],\n",
       "       [4.0322335 ]])"
      ]
     },
     "execution_count": 2,
     "metadata": {},
     "output_type": "execute_result"
    }
   ],
   "source": [
    "# Aplicando a Equação Normal com o Numpy.\n",
    "X = np.random.normal(size=(1000,1))\n",
    "y = 10 + 4*X - np.random.normal(size=(1000,1))\n",
    "\n",
    "# Adicionando a coluna de bias a X.\n",
    "X_b = np.c_[np.ones((1000,1)), X]\n",
    "theta_best = np.linalg.inv(X_b.T@X_b) @ X_b.T @ y\n",
    "theta_best"
   ]
  },
  {
   "cell_type": "code",
   "execution_count": 3,
   "id": "02f8e0d1-36cf-43c3-8d4b-6959bb626488",
   "metadata": {},
   "outputs": [
    {
     "data": {
      "text/plain": [
       "array([[30.14087266]])"
      ]
     },
     "execution_count": 3,
     "metadata": {},
     "output_type": "execute_result"
    }
   ],
   "source": [
    "# Fazendo uma previsão com uma nova instância.\n",
    "X_new = np.array([5])\n",
    "X_new_b = np.c_[np.ones((1,1)), X_new]\n",
    "\n",
    "X_new_b.dot(theta_best)"
   ]
  },
  {
   "cell_type": "code",
   "execution_count": 4,
   "id": "5d2b34e4-7734-4bfe-94d5-8fdf737b701e",
   "metadata": {},
   "outputs": [
    {
     "data": {
      "text/plain": [
       "array([[9.97970517],\n",
       "       [4.0322335 ]])"
      ]
     },
     "execution_count": 4,
     "metadata": {},
     "output_type": "execute_result"
    }
   ],
   "source": [
    "# Essa mesma equação poderia ser escrita com os dot products entre as matrizes.\n",
    "np.linalg.inv(X_b.T.dot(X_b)).dot(X_b.T).dot(y)"
   ]
  },
  {
   "cell_type": "code",
   "execution_count": 5,
   "id": "e400cb21-7938-416d-8abb-228bfbc5e605",
   "metadata": {},
   "outputs": [
    {
     "data": {
      "text/plain": [
       "(array([9.97970517]), array([[4.0322335]]))"
      ]
     },
     "execution_count": 5,
     "metadata": {},
     "output_type": "execute_result"
    }
   ],
   "source": [
    "# O 'LinearRegression' obtém os mesmos parâmetros.\n",
    "from sklearn.linear_model import LinearRegression\n",
    "lin_reg = LinearRegression().fit(X,y)\n",
    "lin_reg.intercept_, lin_reg.coef_"
   ]
  },
  {
   "cell_type": "markdown",
   "id": "fe397930-54b7-4070-a66f-d001487c7b52",
   "metadata": {},
   "source": [
    "<h3 style='font-size:30px;font-style:italic'> Moore-Penrose Inverse</h3>\n",
    "<div> \n",
    "    <ul style='font-size:20px'>\n",
    "        <li> \n",
    "             Uma outra maneira de obtermos os coeficientes da nossa Regressão Linear é com o produto escalar entre a matriz Moore-Penrose de X (conhecida também como pseudoinversa) e y.\n",
    "            $$\n",
    "                \\theta=X^{+}y\n",
    "            $$\n",
    "        </li>\n",
    "    </ul>\n",
    "</div>"
   ]
  },
  {
   "cell_type": "code",
   "execution_count": 6,
   "id": "603d0744-cdf7-4734-8b9a-5417c8e67f62",
   "metadata": {},
   "outputs": [
    {
     "data": {
      "text/plain": [
       "array([[9.97970517],\n",
       "       [4.0322335 ]])"
      ]
     },
     "execution_count": 6,
     "metadata": {},
     "output_type": "execute_result"
    }
   ],
   "source": [
    "# Use 'np.linalg.pinv' para computar a pseudoinversa de X.\n",
    "theta_best = np.linalg.pinv(X_b).dot(y)\n",
    "theta_best"
   ]
  },
  {
   "cell_type": "markdown",
   "id": "9f8c43f5-4553-4a14-b4ff-4cf12d30cfee",
   "metadata": {},
   "source": [
    "<h2 style='font-size:30px'> Computational Complexity</h2>\n",
    "<div> \n",
    "    <ul style='font-size:20px'>\n",
    "        <li> \n",
    "            A Time Complexity para treinamento de uma Regressão Linear com a Normal Equation pode ser de $O(n^{2.4})$ a $O(n^{3})$ e $O(n^{2})$ com a Inversa Moore-Penrose (sendo n o número de features). Ambos os métodos são $O(m)$ (m é o número de instâncias).\n",
    "        </li>\n",
    "        <li> \n",
    "            Com previsões, as duas estratégias têm $O(n)$ e $O(m)$. \n",
    "        </li>\n",
    "    </ul>\n",
    "</div>"
   ]
  },
  {
   "cell_type": "markdown",
   "id": "adfa20fd-c544-425f-b5b6-475275b08d05",
   "metadata": {},
   "source": [
    "<h2 style='font-size:30px'> Gradient Descent</h2>\n",
    "<div> \n",
    "    <ul style='font-size:20px'>\n",
    "        <li> \n",
    "            O autor introduz os conceitos de Descida de Gradiente e learning rates.\n",
    "        </li>\n",
    "    </ul>\n",
    "</div>"
   ]
  },
  {
   "cell_type": "markdown",
   "id": "9ba30555-4c42-4704-ba61-21d3dfd8342b",
   "metadata": {
    "tags": []
   },
   "source": [
    "<h3 style='font-size:30px;font-style:italic'> Batch Gradient Descent</h3>\n",
    "<div> \n",
    "    <ul style='font-size:20px'> \n",
    "        <li> \n",
    "            O Batch Gradient Descent consiste em fazer a descida de gradiente com base em todo o conjunto de treino. O Gradiente de uma MSE para a Regressão Linear é dado como:\n",
    "            <p style='margin-top:10px'>\n",
    "            $$\n",
    "                \\nabla_{\\theta}MSE(\\theta)=\n",
    "                    \\begin{bmatrix} \n",
    "                        \\frac{\\delta}{\\delta\\theta_{0}}MSE(\\theta) \\\\ \n",
    "                        \\frac{\\delta}{\\delta\\theta_{1}}MSE(\\theta) \\\\\n",
    "                        \\vdots \\\\\n",
    "                        \\frac{\\delta}{\\delta\\theta_{n}}MSE(\\theta) \n",
    "                    \\end{bmatrix}                    \n",
    "                    = \\frac{2}{m}X^{T}(X\\theta-y)\n",
    "            $$\n",
    "            </p>\n",
    "        </li>\n",
    "    </ul>\n",
    "</div>"
   ]
  },
  {
   "cell_type": "code",
   "execution_count": 7,
   "id": "99bf40b5-f24a-4f74-884c-0e50852f8f2d",
   "metadata": {
    "tags": []
   },
   "outputs": [
    {
     "data": {
      "text/plain": [
       "array([[9.97970515],\n",
       "       [4.03223348]])"
      ]
     },
     "execution_count": 7,
     "metadata": {},
     "output_type": "execute_result"
    }
   ],
   "source": [
    "# Aplicando a Batch Gradient Descent em código.\n",
    "\n",
    "eta = .01 # learning rate.\n",
    "n_iterations = 1000 # número de iterações total.\n",
    "\n",
    "# Inicialização aleatória dos parâmetros (segundo uma Distribuição Normal).\n",
    "theta = np.random.uniform(size=(2,1))\n",
    "\n",
    "for i in range(n_iterations):\n",
    "    gradient = 2/len(X_b) * X_b.T.dot(X_b.dot(theta) - y)\n",
    "    #print(gradient, end='\\n\\n')\n",
    "    theta -=  eta*gradient\n",
    "theta"
   ]
  },
  {
   "cell_type": "markdown",
   "id": "f21756b1-75fb-4561-b490-8f46169df9e7",
   "metadata": {},
   "source": [
    "<h3 style='font-size:30px;font-style:italic'> Stochastic Gradient Descent</h3>\n",
    "<div> \n",
    "    <ul style='font-size:20px'> \n",
    "        <li> \n",
    "            A Descida de Gradiente Estocástica surge pela demora na computação do Gradiente com o set de treino completo. Esse novo método propõe selecionar uma única instância aleatória para a conta.\n",
    "        </li>\n",
    "        <li> \n",
    "            Observe que, por outro lado, a descida de gradiente será menos regular. Outliers também ganham um peso maior na computação, o dado da iteração pode ser um desses. \n",
    "        </li>\n",
    "        <li> \n",
    "            Como o treinamento é mais instável, raramente alcançaremos a solução ótima, e sim, algo próximo. Uma estratégia para SGD é definir uma alta learning rate no início do fitting, para escaparmos dos mínimos locais, e reduzi-la, gradativamente, a fim de tentarmos nos alocar no mínimo global; se estivermos, de fato, na solução ótima, o vetor de gradiente estará severamente podado pelo menor $\\eta$, impedindo de escaparmos dela.\n",
    "        </li>\n",
    "        <li> \n",
    "            Nota: O scikit-learn oferece uma série de outras estratégias para tratamento das learning rates.\n",
    "        </li>\n",
    "    </ul>\n",
    "</div>"
   ]
  },
  {
   "cell_type": "code",
   "execution_count": 73,
   "id": "91b8f008-8748-4fb3-b1f9-523258ce4eb8",
   "metadata": {},
   "outputs": [],
   "source": [
    "# O treinamento é bastante similar ao de uma Rede Neural. À cada época, uma certa quantidade de instâncias são selecionadas para\n",
    "# o ajuste dos parâmetros.\n",
    "from sklearn.base import RegressorMixin\n",
    "from sklearn.model_selection import train_test_split\n",
    "from sklearn.metrics import mean_squared_error\n",
    "\n",
    "class SGDLinearRegression(RegressorMixin):\n",
    "    # 'theta' stores the LR coefficients.\n",
    "    theta = None\n",
    "    def __init__(self, eta0=.05, epochs=20, validation_split=.1, tol=1e-3, n_iter_no_change=3):\n",
    "        self.eta0 = eta0 # Initial Learning Rate.\n",
    "        self.epochs = epochs  # Number of Epochs.\n",
    "        self.validation_split = validation_split # % of training set held for validation.\n",
    "        self.tol = tol # Tolerance.\n",
    "        self.n_iter_no_change = n_iter_no_change # Number of epochs with no improvement for training halt.\n",
    "        \n",
    "    def fit(self, X, y):\n",
    "        SGDLinearRegression.theta = np.random.rand(X.shape[1],1)\n",
    "        # Segregating training from validation data.\n",
    "        X_train, X_val, y_train, y_val = train_test_split(X,y, test_size = self.validation_split)\n",
    "        # Storing the 'theta' from the best epoch (lowest 'best_mse'). \n",
    "        best_theta, self.best_mse = SGDLinearRegression.theta, np.inf\n",
    "        no_change = 0\n",
    "        for epoch in range(self.epochs):\n",
    "            for i in range(len(X_train)):\n",
    "                # Randomly selecting the epoch's iteration instance.\n",
    "                index = np.random.randint(len(X_train))\n",
    "                xi = X_train[index:index+1]\n",
    "                yi = y_train[index:index+1]\n",
    "                # Computing the gradient based on the instance's data.\n",
    "                gradients = (2 * xi.T.dot(xi.dot(SGDLinearRegression.theta ) - yi))\n",
    "                SGDLinearRegression.theta = SGDLinearRegression.theta - (gradients * self.eta0)\n",
    "            # At the end of the current epoch, the model performs a validation on 'X_val' and 'y_val'.\n",
    "            # If no improvement is occurs, the learning rate is divided by 5.\n",
    "            MSE = mean_squared_error(y_val, X_val.dot(SGDLinearRegression.theta))\n",
    "            if MSE > self.best_mse - self.tol:\n",
    "                no_change+=1\n",
    "                self.eta0 /= 5\n",
    "                # If the number of consecutive epochs with no MSE decay reaches 'n_iter_no_change', training is interrupted and the model\n",
    "                # is re-adjusted with the coefficients from the best epoch.\n",
    "                if no_change == self.n_iter_no_change:\n",
    "                    SGDLinearRegression.theta =  best_theta\n",
    "                    return self\n",
    "            else:\n",
    "                no_change = 0\n",
    "                self.best_mse = MSE\n",
    "                best_theta = SGDLinearRegression.theta            \n",
    "        return self"
   ]
  },
  {
   "cell_type": "markdown",
   "id": "64e55553-7396-45f5-9873-943cf0a4c357",
   "metadata": {},
   "source": [
    "<h3 style='font-size:30px;font-style:italic'> Mini-Batch Gradient Descent</h3>\n",
    "<div> \n",
    "    <ul style='font-size:20px'> \n",
    "        <li> \n",
    "            A Mini-Batch GD surge como um meio termo entre os dois métodos já apresentados. Sua estratégia é medir, à cada iteração, o vetor de gradiente com base em um conjunto de instâncias aleatórias (e não apenas uma, como no SGD).\n",
    "        </li>\n",
    "        <li> \n",
    "            Essa abordagem torna a descida de gradiente mais estável e com uma sensibilidade menor à presença de outliers.\n",
    "        </li>\n",
    "    </ul>\n",
    "</div>"
   ]
  },
  {
   "cell_type": "markdown",
   "id": "92ffb697-ce53-4d98-bfd9-a11d208bb241",
   "metadata": {},
   "source": [
    "<h2 style='font-size:30px'> Polynomial Regression</h2>\n",
    "<div> \n",
    "    <ul style='font-size:20px'>\n",
    "        <li> \n",
    "            Aqui, é apresentada a classe PolynomialFeatures, responsável por aumentar a dimensionalidade do dataset com base no produto entre as features.\n",
    "        </li>\n",
    "    </ul>\n",
    "</div>"
   ]
  },
  {
   "cell_type": "markdown",
   "id": "893f3865-2c8f-424b-92ff-6122d88733d3",
   "metadata": {},
   "source": [
    "<h2 style='font-size:30px'> Learning Curves</h2>\n",
    "<div> \n",
    "    <ul style='font-size:20px'>\n",
    "        <li> \n",
    "            As Curvas de Aprendizado surgem como um recurso para analisarmos, em primeiro lugar, o quanto de instâncias seriam adequadas para que o modelo atinja o seu pleno potencial e, também, se está ocorrendo um under ou overfitting.\n",
    "        </li>\n",
    "    </ul>\n",
    "</div>"
   ]
  },
  {
   "cell_type": "code",
   "execution_count": 9,
   "id": "c87cbaf7-97e9-4044-8dbe-a42c174ed82a",
   "metadata": {},
   "outputs": [],
   "source": [
    "from sklearn.model_selection import learning_curve\n",
    "# Criando novas features.\n",
    "X = np.random.normal(size=(1000,1))\n",
    "y = 2.5*X**2 - 4*X + 5 + np.random.normal()\n",
    "\n",
    "_, train_mse, test_mse = learning_curve(LinearRegression(), X, y, cv=5, scoring='neg_mean_squared_error', \n",
    "                                        train_sizes=np.linspace(.05, .75, 11))"
   ]
  },
  {
   "cell_type": "code",
   "execution_count": 10,
   "id": "42caaeab-0efe-4742-8a95-0a4c9811a2e9",
   "metadata": {},
   "outputs": [
    {
     "data": {
      "text/plain": [
       "<matplotlib.legend.Legend at 0x7f774d340be0>"
      ]
     },
     "execution_count": 10,
     "metadata": {},
     "output_type": "execute_result"
    },
    {
     "data": {
      "image/png": "[encoded data removed]",
      "text/plain": [
       "<Figure size 432x288 with 1 Axes>"
      ]
     },
     "metadata": {
      "needs_background": "light"
     },
     "output_type": "display_data"
    }
   ],
   "source": [
    "import matplotlib.pyplot as plt\n",
    "\n",
    "# Observe, como treinamos uma Regressão Linear em uma função quadrática, recebemos um erro elevado nos sets de treino e teste.\n",
    "# Ou seja, há um underfitting.\n",
    "plt.plot(_, np.sqrt(-train_mse)[:, 0], label='Train')\n",
    "plt.plot(_, np.sqrt(-test_mse)[:, 0], label='Test')\n",
    "plt.legend()"
   ]
  },
  {
   "cell_type": "code",
   "execution_count": 11,
   "id": "8ca35030-d7b2-4d4b-afaa-4c33a040fac5",
   "metadata": {},
   "outputs": [
    {
     "data": {
      "text/plain": [
       "<matplotlib.legend.Legend at 0x7f774cee8760>"
      ]
     },
     "execution_count": 11,
     "metadata": {},
     "output_type": "execute_result"
    },
    {
     "data": {
      "image/png": "[encoded data removed]",
      "text/plain": [
       "<Figure size 432x288 with 1 Axes>"
      ]
     },
     "metadata": {
      "needs_background": "light"
     },
     "output_type": "display_data"
    }
   ],
   "source": [
    "# Agora, forçaremos um overfitting treinando uma árvore de decisão sem regularizações.\n",
    "from sklearn.pipeline import Pipeline\n",
    "from sklearn.preprocessing import PolynomialFeatures\n",
    "from sklearn.tree import DecisionTreeRegressor\n",
    "\n",
    "_, train_mse, test_mse = learning_curve(DecisionTreeRegressor(), X, y, train_sizes=np.linspace(.01, .75, 11), cv=5,\n",
    "                                        scoring='neg_mean_squared_error')\n",
    "\n",
    "# O overfitting pode ser detectado com altas performances no set de treino e baixas no de teste. O resultado poderia ter sido mais\n",
    "# expressivo por aqui, mas fica como um exemplo.\n",
    "plt.plot(_, np.sqrt(-train_mse)[:, 0], label='Train')\n",
    "plt.plot(_, np.sqrt(-test_mse)[:, 0], label='Test')\n",
    "plt.legend()"
   ]
  },
  {
   "cell_type": "markdown",
   "id": "7fbd42a6-88e2-419e-bad8-6084064f9cc3",
   "metadata": {},
   "source": [
    "<h2 style='font-size:30px'> Bias/Variance Tradeoff</h2>\n",
    "<div> \n",
    "    <ul style='font-size:20px'>\n",
    "        <li> \n",
    "            <u>Bias</u>: seria a incapacidade de um modelo de se ajustar à toda complexidade do dataset. Algoritmos como a Regressão Linear têm um alto nível de bias por apenas conseguirem capturar relações estritamente lineares; é provável que haja um underfitting ao usá-los.\n",
    "        </li>\n",
    "        <li> \n",
    "            <u> Variance</u> consiste na elevada variância qualitativa das previsões em diferentes datasets. Isso, normalmente, ocorre pelo uso de um modelo muito complexo, que se superadequa aos padrões do set de treino e, com isso, perde o seu poder de genealização.\n",
    "        </li>\n",
    "    </ul>\n",
    "</div>"
   ]
  },
  {
   "cell_type": "markdown",
   "id": "ee771191-54e9-495e-bc9d-f580ce0b666f",
   "metadata": {},
   "source": [
    "<h2 style='font-size:30px'> Norm</h2>\n",
    "<div> \n",
    "    <ul style='font-size:20px'>\n",
    "        <li> \n",
    "            A norma de um vetor consiste em um número indicando a magnitude desse. É na p-ésima raiz da soma das dimensões de um vetor elevadas à p-ésima potência. Sua notação é $||X||_p$ \n",
    "        </li>\n",
    "        <li> \n",
    "            O valor retornado deve ser sempre positivo. Nós extraímos o módulo de cada dimensão antes de elevá-la à p-ésima potência.\n",
    "        </li>\n",
    "        <li> \n",
    "            Em Machine Learning, costumamos usar a norma L-1 e L-2. Segue abaixo a fórmula geral de uma norma L-p:\n",
    "            $$\n",
    "                ||X||_p=[\\sum_{i=1}^{n}|x_i|^{p}]^{\\frac{1}{p}}\n",
    "            $$\n",
    "        </li>\n",
    "    </ul>\n",
    "</div>"
   ]
  },
  {
   "cell_type": "markdown",
   "id": "2b5ee917-8c5c-4225-af41-441b53c431fa",
   "metadata": {},
   "source": [
    "<h3 style='font-size:30px;font-style:italic'> L-1 Norm</h3>\n",
    "<div> \n",
    "    <ul style='font-size:20px'>\n",
    "        <li> \n",
    "            A Norma L-1 também é conhecida como Distância Manhattan, ou Taxicab norm.\n",
    "            $$\n",
    "            ||X||_1=\\sum_{i=1}^{n}x_i\n",
    "            $$\n",
    "        </li>\n",
    "    </ul>\n",
    "</div>"
   ]
  },
  {
   "cell_type": "code",
   "execution_count": 12,
   "id": "4a879f55-0f4b-4dee-9de3-1c67733a2454",
   "metadata": {},
   "outputs": [
    {
     "data": {
      "text/plain": [
       "8.001847187102745"
      ]
     },
     "execution_count": 12,
     "metadata": {},
     "output_type": "execute_result"
    }
   ],
   "source": [
    "# Usando 'np.linalg.norm' para medir a L-1 norm de um vetor específico.\n",
    "import numpy as np\n",
    "x = np.random.randn(10)\n",
    "np.linalg.norm(x,1)"
   ]
  },
  {
   "cell_type": "markdown",
   "id": "33baf0dc-a05c-4ec7-84c3-c2d854e58de9",
   "metadata": {},
   "source": [
    "<h3 style='font-size:30px;font-style:italic'> L-2 Norm</h3>\n",
    "<div> \n",
    "    <ul style='font-size:20px'>\n",
    "        <li> \n",
    "            A Norma L-1 também é conhecida como Distância Euclidiana.\n",
    "            $$\n",
    "            ||X||_2 = [\\sum_{i=1}^{n}|x_i|^{2}]^{\\frac{1}{2}}\n",
    "            $$\n",
    "        </li>\n",
    "        <li> \n",
    "            Essa norma é usada em treinamentos de modelos também, em que estimamos a Distância Euclidiana entre o valor previsto e o número-alvo.\n",
    "        </li>\n",
    "    </ul>\n",
    "</div>"
   ]
  },
  {
   "cell_type": "code",
   "execution_count": 13,
   "id": "4b4d673c-fe35-4207-b503-8357cc0d4777",
   "metadata": {},
   "outputs": [
    {
     "data": {
      "text/plain": [
       "5.0"
      ]
     },
     "execution_count": 13,
     "metadata": {},
     "output_type": "execute_result"
    }
   ],
   "source": [
    "# A função 'np.linalg.norm' está configurada para medir a norma L-2, por padrão.\n",
    "np.linalg.norm([3,4])"
   ]
  },
  {
   "cell_type": "markdown",
   "id": "76aceb6c-d43c-4755-8855-01f296148943",
   "metadata": {
    "tags": []
   },
   "source": [
    "<h2 style='font-size:30px'> Ridge Regression</h2>\n",
    "<div> \n",
    "    <ul style='font-size:20px'>\n",
    "        <li> \n",
    "            A Regressão Ridge consiste em uma versão regularizada da Regressão Linear.\n",
    "        </li>\n",
    "        <li> \n",
    "            Isso ocorre com a inserção de um termo na fórmula da função-custo: a metade do quadrado da norma l-2 do vetor com os coeficientes (sem o bias) $\\frac{1}{2}(||w||_2)^{2}$. \n",
    "        </li>\n",
    "        <li> \n",
    "            A regularização se dá pela redução dos coeficientes da fórmula. Quanto maior o valor de $\\alpha$, menores esses serão. A fórmula da função-custo final será:\n",
    "            $$\n",
    "                J(\\theta)=MSE(\\theta) + \\alpha\\frac{1}{2}\\sum_{i=1}^{n}|\\theta_i|^{2}\n",
    "            $$\n",
    "        </li>\n",
    "    </ul>\n",
    "</div>"
   ]
  },
  {
   "cell_type": "markdown",
   "id": "b39da2af-62af-4e86-aee1-e360f3932d35",
   "metadata": {},
   "source": [
    "<h3 style='font-size:30px;font-style:italic'> SGD</h3>\n",
    "<div> \n",
    "    <ul style='font-size:20px'>\n",
    "        <li> \n",
    "             O vetor de gradiente da Regressão Ridge tem a seguinte fórmula (w é o vetor de coeficientes sem o termo de bias):\n",
    "            $$\n",
    "                \\nabla J(\\theta)=\\frac{2}{m}X^{T}(X\\theta-y)+\\alpha w\n",
    "            $$\n",
    "        </li>\n",
    "    </ul>\n",
    "</div>"
   ]
  },
  {
   "cell_type": "markdown",
   "id": "eb8baac9-19d5-448d-8d9d-02421b4f63d1",
   "metadata": {},
   "source": [
    "<h3 style='font-size:30px;font-style:italic'> Closed-form Solution</h3>\n",
    "<div> \n",
    "    <ul style='font-size:20px'>\n",
    "        <li> \n",
    "             É possível, também, alcançarmos os melhores coeficientes da Regressão Ridge por meio de uma equação. <strong> A</strong> é uma matriz-identidade com um zero em seu canto superior esquerdo (vetor-coluna do termo de bias).\n",
    "            $$\n",
    "                \\theta=(X^{T}X + \\alpha A)^{-1} X^{T}y\n",
    "            $$\n",
    "        </li>\n",
    "    </ul>\n",
    "</div>"
   ]
  },
  {
   "cell_type": "code",
   "execution_count": 14,
   "id": "b4226328-f231-40c0-b78a-8b3fb8ac3073",
   "metadata": {},
   "outputs": [
    {
     "data": {
      "text/plain": [
       "Ridge()"
      ]
     },
     "execution_count": 14,
     "metadata": {},
     "output_type": "execute_result"
    }
   ],
   "source": [
    "# Ridge com a classe-padrão do scikit-learn.\n",
    "from sklearn.linear_model import Ridge, RidgeClassifier # Curiosidade, há um 'RidgeClassifier' no módulo!\n",
    "Ridge().fit(X_b, y.ravel())"
   ]
  },
  {
   "cell_type": "code",
   "execution_count": 15,
   "id": "d41997a5-aa4a-4c4e-9daf-773663ab107d",
   "metadata": {},
   "outputs": [
    {
     "data": {
      "text/plain": [
       "SGDRegressor()"
      ]
     },
     "execution_count": 15,
     "metadata": {},
     "output_type": "execute_result"
    }
   ],
   "source": [
    "# Ridge por SGD.\n",
    "from sklearn.linear_model import SGDRegressor\n",
    "\n",
    "# Observe, aqui é utilizada a norma L-2 na função-custo.\n",
    "SGDRegressor(penalty='l2').fit(X_b, y.ravel())"
   ]
  },
  {
   "cell_type": "markdown",
   "id": "1212c743-e150-4516-8a6d-44e71556805b",
   "metadata": {},
   "source": [
    "<h2 style='font-size:30px'> Lasso Regression</h2>\n",
    "<div> \n",
    "    <ul style='font-size:20px'>\n",
    "        <li> \n",
    "             A Regressão Lasso é uma outra versão regularizada da Regressão Linear, mas em que é usada a norma L-1 do vetor de coeficientes na função-custo.\n",
    "            $$\n",
    "                J(\\theta)=MSE(\\theta) + \\alpha \\sum_{i=1}^{n}|\\theta_i|\n",
    "            $$\n",
    "        </li>\n",
    "        <li> \n",
    "             Essa modalidade de regressão tende a fazer seleção de features, zerando os pesos daquelas menos relevantes.\n",
    "        </li>\n",
    "    </ul>\n",
    "</div>"
   ]
  },
  {
   "cell_type": "markdown",
   "id": "0f95c4a0-7c91-46f5-8e78-c13c06bc253c",
   "metadata": {},
   "source": [
    "<h3 style='font-size:30px;font-style:italic'> SGD</h3>\n",
    "<div> \n",
    "    <ul style='font-size:20px'>\n",
    "        <li> \n",
    "             A função-custo da Lasso não é diferenciável quando qualquer$\\theta_i=0$. Para a descida de gradiente ocorrer, usamos o subvetor de gradiente:\n",
    "            $$\n",
    "            g(\\theta,J)=\\nabla_{\\theta}MSE(\\theta)+\\alpha \\begin{bmatrix}\n",
    "            sign(\\theta_{1}) \\\\ \n",
    "            sign(\\theta_{2}) \\\\ \n",
    "            \\vdots \\\\\n",
    "            sign(\\theta_{n})\n",
    "            \\end{bmatrix}\n",
    "            $$\n",
    "        </li>\n",
    "        <li> \n",
    "            sign é uma função que extrai o sinal de um número. Ou seja, se for positivo, seu valor é 1; se negativo, -1; e se 0, 0.\n",
    "        </li>\n",
    "    </ul>\n",
    "</div>"
   ]
  },
  {
   "cell_type": "code",
   "execution_count": 16,
   "id": "3c791f4a-e023-40d0-b128-4eb9c097ca38",
   "metadata": {},
   "outputs": [
    {
     "data": {
      "text/plain": [
       "Lasso()"
      ]
     },
     "execution_count": 16,
     "metadata": {},
     "output_type": "execute_result"
    }
   ],
   "source": [
    "# Aplicando a Lasso Regression com a classe Lasso.\n",
    "from sklearn.linear_model import Lasso\n",
    "Lasso().fit(X, y.ravel())"
   ]
  },
  {
   "cell_type": "code",
   "execution_count": 18,
   "id": "4be956a5-e017-49e9-a7f0-b5f1cd0686f1",
   "metadata": {},
   "outputs": [
    {
     "data": {
      "text/plain": [
       "SGDRegressor(penalty='l1')"
      ]
     },
     "execution_count": 18,
     "metadata": {},
     "output_type": "execute_result"
    }
   ],
   "source": [
    "# Agora, usando esse modelo com treinamento por SGD.\n",
    "from sklearn.linear_model import SGDRegressor\n",
    "SGDRegressor(penalty='l1').fit(X,y.ravel())"
   ]
  },
  {
   "cell_type": "markdown",
   "id": "52401307-74b9-446b-a4cd-6a5758874804",
   "metadata": {},
   "source": [
    "<h2 style='font-size:30px'> Elastic Net</h2>\n",
    "<div> \n",
    "    <ul style='font-size:20px'>\n",
    "        <li> \n",
    "             A Elastic Net tenta ser um modelo meio-termo entre a Lasso e Ridge. A preponderância de uma técnica sobre a outra é definida pelo termo r. Segue a função-custo desse modelo:\n",
    "            $$\n",
    "                J(\\theta)=MSE(\\theta)+r\\alpha ||w||_1 + \\frac{1-r}{2}\\alpha(||w||_2)^{2}\n",
    "            $$\n",
    "        </li>\n",
    "        <li> \n",
    "            Quanto maior r, mais enfoque à Lasso será dado; quanto menor esse termo, mais próximo o modelo será da Ridge.\n",
    "        </li>\n",
    "    </ul>\n",
    "</div>"
   ]
  },
  {
   "cell_type": "code",
   "execution_count": 24,
   "id": "21ef6b9a-aa5e-472b-8cf5-9090fb6f1445",
   "metadata": {},
   "outputs": [
    {
     "data": {
      "text/plain": [
       "ElasticNet()"
      ]
     },
     "execution_count": 24,
     "metadata": {},
     "output_type": "execute_result"
    }
   ],
   "source": [
    "# Fazendo um Elastic Net meio a meio com a classe-padrão.\n",
    "from sklearn.linear_model import ElasticNet\n",
    "ElasticNet(l1_ratio=.5).fit(X, y.ravel())"
   ]
  },
  {
   "cell_type": "code",
   "execution_count": 26,
   "id": "2f8ec0e8-ab69-49ab-9f47-2b1027fc6184",
   "metadata": {},
   "outputs": [
    {
     "data": {
      "text/plain": [
       "SGDRegressor(penalty='elasticnet')"
      ]
     },
     "execution_count": 26,
     "metadata": {},
     "output_type": "execute_result"
    }
   ],
   "source": [
    "# Agora, por SGD.\n",
    "SGDRegressor(penalty='elasticnet').fit(X, y.ravel())"
   ]
  },
  {
   "cell_type": "markdown",
   "id": "2ce40d1e-e60b-4f66-b190-8c3b766c1ea1",
   "metadata": {},
   "source": [
    "<h2 style='font-size:30px'> Early Stopping</h2>\n",
    "<div> \n",
    "    <ul style='font-size:20px'>\n",
    "        <li> \n",
    "             A Early Stopping é uma outra técnica de regularização. Ela se dá pela interrupção do treinamento após não conseguirmos melhorar a pontuação de validação por n-epochs.\n",
    "        </li>\n",
    "    </ul>\n",
    "</div>"
   ]
  },
  {
   "cell_type": "markdown",
   "id": "8bb249f4-72ea-44d9-8dbb-bc1fefc40be4",
   "metadata": {},
   "source": [
    "<h2 style='font-size:30px'> Logistic Regression</h2>\n",
    "<div> \n",
    "    <ul style='font-size:20px'>\n",
    "        <li> \n",
    "             A Regressão Logística consiste em uma função sigmóide cujo argumento é uma equação linear. O resultado final sempre será um valor entre 0 e 1, grosseiramente reconhecido como a probabilidade estimada de a instância pertencer à classe positiva. Caso essa seja maior do que 0.5, seu rótulo será 1; caso o contrário, 0.\n",
    "        </li>\n",
    "        <li> \n",
    "            A notação da função logística é $\\sigma(\\cdot)$\n",
    "            $$\n",
    "                \\sigma(x^{T}\\theta)=\\frac{1}{1+exp(-x^{T}\\theta)}\n",
    "            $$\n",
    "        </li>\n",
    "    </ul>\n",
    "</div>"
   ]
  },
  {
   "cell_type": "code",
   "execution_count": 30,
   "id": "29b5bdad-9d8b-4469-ba1a-1d8f61024e2d",
   "metadata": {},
   "outputs": [
    {
     "data": {
      "text/plain": [
       "[<matplotlib.lines.Line2D at 0x7f774b9cdb80>]"
      ]
     },
     "execution_count": 30,
     "metadata": {},
     "output_type": "execute_result"
    },
    {
     "data": {
      "image/png": "[encoded data removed]",
      "text/plain": [
       "<Figure size 432x288 with 1 Axes>"
      ]
     },
     "metadata": {
      "needs_background": "light"
     },
     "output_type": "display_data"
    }
   ],
   "source": [
    "# Função logística no matplotlib.\n",
    "x = np.linspace(-10, 10, 101)\n",
    "sigma_log = 1 / (1 + np.exp(-x))\n",
    "\n",
    "plt.plot(x, sigma_log)"
   ]
  },
  {
   "cell_type": "markdown",
   "id": "7a5540de-8fab-4070-b0b1-ac5a1911129c",
   "metadata": {},
   "source": [
    "<h3 style='font-size:30px;font-style:italic'> Training and Cost Function</h3>\n",
    "<div> \n",
    "    <ul style='font-size:20px'>\n",
    "        <li> \n",
    "             A função-custo da Regressão Logística é a log-loss. Essa faz com que a pontuação para uma probabilidade devidamente calibrada ao seu respectivo valor-alvo seja próxima de 0.\n",
    "            $$\n",
    "                J(\\theta)=-\\frac{1}{m}\\sum_{i=1}^{m}[y^{(i)}\\log{(\\hat{p}^{(i)})} + (1-y^{(i)})\\log{(1-\\hat{p}^{(i)})}]\n",
    "            $$\n",
    "        </li>\n",
    "        <li> \n",
    "            Seguem as derivadas parciais da log-loss:\n",
    "            $$\n",
    "                \\frac{\\partial}{\\partial \\theta_j}J(\\theta)=\\frac{1}{m}\\sum_{i=1}^{m}(\\sigma(\\theta^{T}x^{(i)})-y^{(i)})x_j^{(i)}\n",
    "            $$\n",
    "        </li>\n",
    "    </ul>\n",
    "</div>"
   ]
  },
  {
   "cell_type": "code",
   "execution_count": 45,
   "id": "34e7b27f-facc-4d81-8491-6adba45447d5",
   "metadata": {},
   "outputs": [],
   "source": [
    "# O scikit-learn permite a Regressão Logística retornar apenas a probabilidade lançada pela função logística.\n",
    "from sklearn.datasets import load_wine\n",
    "from sklearn.preprocessing import StandardScaler\n",
    "X,y = load_wine(return_X_y=True)\n",
    "\n",
    "# O dataset é multi-classe, vamos torná-lo binário.\n",
    "y = np.where(y==1, 1, 0)\n",
    "X_scaled = StandardScaler().fit_transform(X)"
   ]
  },
  {
   "cell_type": "markdown",
   "id": "9b59afae-cdae-4abf-8038-2900d1044db0",
   "metadata": {},
   "source": [
    "<div> \n",
    "    <ul style='font-size:20px'>\n",
    "        <li> \n",
    "             É possível regularizar o modelo com as normas L-1 e L-2. Atente-se, no entanto, às compatibilidades entre essas e os solvers.\n",
    "        </li>\n",
    "        <li> \n",
    "            'C' é o inverso de 'alpha'. Quanto maior seu valor, menos regularizado é o modelo.\n",
    "        </li>\n",
    "    </ul>\n",
    "</div>"
   ]
  },
  {
   "cell_type": "code",
   "execution_count": 54,
   "id": "fefb67bf-5ff1-4a70-be12-b4e59d888c9b",
   "metadata": {},
   "outputs": [
    {
     "data": {
      "text/plain": [
       "array([[9.99992266e-01, 7.73371919e-06],\n",
       "       [9.99049998e-01, 9.50001891e-04],\n",
       "       [9.99985374e-01, 1.46259720e-05],\n",
       "       [1.00000000e+00, 9.73438556e-11],\n",
       "       [9.82714227e-01, 1.72857733e-02]])"
      ]
     },
     "execution_count": 54,
     "metadata": {},
     "output_type": "execute_result"
    }
   ],
   "source": [
    "from sklearn.linear_model import LogisticRegression\n",
    "log_reg = LogisticRegression(C=10,solver='lbfgs', penalty='l2')\n",
    "log_reg.fit(X_scaled, y)\n",
    "\n",
    "# A classe retorna as probabilidades computadas para cada classe.\n",
    "log_reg.predict_proba(X_scaled)[:5]"
   ]
  },
  {
   "cell_type": "markdown",
   "id": "dee40823-ce25-45ff-881f-597d418a0dd3",
   "metadata": {},
   "source": [
    "<h2 style='font-size:30px'> Softmax Regression</h2>\n",
    "<div> \n",
    "    <ul style='font-size:20px'>\n",
    "        <li> \n",
    "             A Softmax Regression, ou Multinomial Logistic Regression, é a versão da Regressão Logística voltada a classificações multi-classe. Para cada classe, uma equação linear é gerada, tendo os seus coeficientes armazenados como vetores-linha da matriz-parâmetro $\\Theta$. \n",
    "        </li>\n",
    "        <li> \n",
    "            Os dados de cada instância são multiplicados com $\\Theta$, produzindo um vetor com os scores da entidade para cada classe. Segue a equação do score da instância x para a classe k:\n",
    "            $$\n",
    "                s_k(x)=x^{T}\\theta^{(k)}\n",
    "            $$\n",
    "        </li>\n",
    "    </ul>\n",
    "</div>"
   ]
  },
  {
   "cell_type": "markdown",
   "id": "dbc5ac6f-024b-452d-9edc-c6c822fc877b",
   "metadata": {},
   "source": [
    "<h3 style='font-size:30px;font-style:italic'> Softmax Function</h3>\n",
    "<div> \n",
    "    <ul style='font-size:20px'>\n",
    "        <li> \n",
    "             A probabilidade de a entidade x pertencer à classe k é dada pela seguinte equação. É extraída a função exponencial em função do score dividida pela soma das exponenciais para todos os scores.\n",
    "            $$\n",
    "            \\hat{p}_k=\\sigma{(s(x))}_k=\\frac{\\exp(s_k(x))}{\\sum_{j=1}^{K}\\exp(s_j(x))}\n",
    "            $$\n",
    "        </li>\n",
    "    </ul>\n",
    "</div>"
   ]
  },
  {
   "cell_type": "markdown",
   "id": "4c86e33e-e644-4b95-864d-c1d5d74adc3d",
   "metadata": {},
   "source": [
    "<script src=\"https://cdnjs.cloudflare.com/ajax/libs/mathjax/2.7.5/MathJax.js?config=TeX-AMS_SVG-full\" type=\"text/javascript\"></script>\n",
    "<div> \n",
    "    <ul style='font-size:20px'>\n",
    "        <li> \n",
    "             A classe prevista pelo modelo é aquela com a maior probabilidade:\n",
    "            $$\n",
    "                \\hat{y}=\\argmax_{k}\\sigma{(s(x))}_k\n",
    "            $$\n",
    "        </li>\n",
    "    </ul>\n",
    "</div>"
   ]
  },
  {
   "cell_type": "markdown",
   "id": "562ffe8d-3e94-42c9-bc57-97f08feba447",
   "metadata": {},
   "source": [
    "<h3 style='font-size:30px;font-style:italic'> Cross-Entropy</h3>\n",
    "<div> \n",
    "    <ul style='font-size:20px'>\n",
    "        <li> \n",
    "             A Cross-Entropy é a função-custo da Regressão Softmax. A média da soma dos produtos entre as probabilidades-alvo e o log das previstas para cada classe é extraída.\n",
    "            $$\n",
    "            J(\\Theta)=-\\frac{1}{m}\\sum_{i=1}^{m}\\sum_{k=1}^{K}y_k^{(i)}\\log{\\hat{p}_k^{(i)}}\n",
    "            $$\n",
    "        </li>\n",
    "        <li> \n",
    "            $y_k^{(i)}$ é a probabilidade-alvo de a i-ésima instância pertencer à k-ésima classe. Sempre terá como valor 0 ou 1.\n",
    "        </li>\n",
    "        <li> \n",
    "            Segue o vetor de gradiente da Cross-Entropy para a classe k.\n",
    "            $$\n",
    "            \\nabla_{\\theta^{(k)}}J(\\Theta)=\\frac{1}{m}\\sum_{i=1}^{m}(\\hat{p}_k^{(i)}-y_k^{(i)})x^{(i)}\n",
    "            $$\n",
    "        </li>\n",
    "    </ul>\n",
    "</div>"
   ]
  },
  {
   "cell_type": "markdown",
   "id": "5f9c6a83-8dd2-4902-8bd2-85a4c62a6978",
   "metadata": {},
   "source": [
    "<p style='color:red'> Criar um exemplo com a Softmax Regression"
   ]
  }
 ],
 "metadata": {
  "kernelspec": {
   "display_name": "Python 3 (ipykernel)",
   "language": "python",
   "name": "python3"
  },
  "language_info": {
   "codemirror_mode": {
    "name": "ipython",
    "version": 3
   },
   "file_extension": ".py",
   "mimetype": "text/x-python",
   "name": "python",
   "nbconvert_exporter": "python",
   "pygments_lexer": "ipython3",
   "version": "3.8.10"
  }
 },
 "nbformat": 4,
 "nbformat_minor": 5
}
