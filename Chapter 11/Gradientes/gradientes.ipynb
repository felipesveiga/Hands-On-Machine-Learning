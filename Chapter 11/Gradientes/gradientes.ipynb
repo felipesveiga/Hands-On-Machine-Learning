{
 "cells": [
  {
   "cell_type": "markdown",
   "id": "da37a535-f6bb-4e3a-8800-8e51f872093f",
   "metadata": {},
   "source": [
    "<h1 style='font-size:40px'> Gradientes</h1>\n",
    "<div> \n",
    "    <ul style='font-size:20px'> \n",
    "        <li> \n",
    "            Este registro é dedicado às minhas anotações sobre o tema de Gradientes. Me senti obrigado a fazê-lo por não ter entendido a seção de Gradient Clipping, do livro.\n",
    "        </li>\n",
    "    </ul>\n",
    "</div>"
   ]
  },
  {
   "cell_type": "markdown",
   "id": "ccf97cf8-d535-4064-a578-012f5f03a658",
   "metadata": {},
   "source": [
    "<h2 style='font-size:30px'> O que é um gradiente?</h2>\n",
    "<div> \n",
    "    <ul style='font-size:20px'> \n",
    "        <li> \n",
    "            O gradiente consiste em um valor que indica a variação de uma função de múltiplas variáveis em um certo ponto no espaço. É representado como um vetor que contém as derivadas parciais da função para cada input.\n",
    "        </li>\n",
    "        <li> \n",
    "            Tomemos como exemplo a função $f(x,y)=x^{2}\\sin{y}$, seu gradiente seria representado como \n",
    "            $$\n",
    "            \\nabla f(x,y)=\n",
    "            \\begin{bmatrix}\n",
    "                \\frac{\\delta f}{\\delta x} \\\\\n",
    "                \\frac{\\delta f}{\\delta y}\n",
    "            \\end{bmatrix}\n",
    "            =\n",
    "            \\begin{bmatrix}\n",
    "                2x\\sin{y}\\\\\n",
    "                x^{2}\\cos{y}\n",
    "            \\end{bmatrix}\n",
    "            $$\n",
    "        </li>\n",
    "    </ul>\n",
    "</div>"
   ]
  },
  {
   "cell_type": "markdown",
   "id": "b1873882-ff42-45a4-ad7e-a3ec697fd949",
   "metadata": {},
   "source": [
    "<div style=color:red>\n",
    "    <p> https://www.youtube.com/watch?v=_-02ze7tf08</p>\n",
    "    <p> Ver também as explicações sobre Gradient Descent, do livro</p>\n",
    "    <p> Se possível, também assistir ao vídeo https://www.youtube.com/watch?v=tIeHLnjs5U8&list=PLZHQObOWTQDNU6R1_67000Dx_ZCJB-3pi&index=4</p>\n"
   ]
  },
  {
   "cell_type": "code",
   "execution_count": null,
   "id": "f8d89511-e71e-4648-a47d-2d5b8d8c24ca",
   "metadata": {},
   "outputs": [],
   "source": []
  }
 ],
 "metadata": {
  "kernelspec": {
   "display_name": "Python 3 (ipykernel)",
   "language": "python",
   "name": "python3"
  },
  "language_info": {
   "codemirror_mode": {
    "name": "ipython",
    "version": 3
   },
   "file_extension": ".py",
   "mimetype": "text/x-python",
   "name": "python",
   "nbconvert_exporter": "python",
   "pygments_lexer": "ipython3",
   "version": "3.8.10"
  }
 },
 "nbformat": 4,
 "nbformat_minor": 5
}
