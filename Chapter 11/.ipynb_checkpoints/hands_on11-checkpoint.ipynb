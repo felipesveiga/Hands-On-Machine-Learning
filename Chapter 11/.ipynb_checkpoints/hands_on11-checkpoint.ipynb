{
 "cells": [
  {
   "cell_type": "markdown",
   "id": "c9e91510-7582-402a-99b6-255ef2f2b365",
   "metadata": {},
   "source": [
    "<h1 style='font-size:40px'> Training Deep Neural Networks</h1>"
   ]
  },
  {
   "cell_type": "markdown",
   "id": "b7cc4a71-2ec3-4d00-8da6-53407feb1b05",
   "metadata": {},
   "source": [
    "<h2 style='font-size:30px'> Vanishing/Exploding Gradients</h2>\n",
    "<div> \n",
    "    <ul style='font-size:20px'> \n",
    "        <li> \n",
    "            Em NN muito profundas, as camadas inferiores tendem a ter os seus pesos pouco modificados em cada ciclo do otimizador. Esse fenômeno é conhecido como o desaparecimento de gradientes (Gradient Vanishing).\n",
    "        </li>\n",
    "        <li> \n",
    "            Por outro lado, a seção mais superficial do modelo também é capaz de sofrer incoveniências. É comum os seus pesos terem uma alteração muito grande em cada ciclo, situação nomeada como Gradient Explosion.\n",
    "        </li>\n",
    "    </ul>\n",
    "</div>"
   ]
  },
  {
   "cell_type": "markdown",
   "id": "b462f015-2d9d-404d-b8c2-64ef2ec66d05",
   "metadata": {},
   "source": [
    "<h3 style='font-size:30px;font-style:italic'> Glorot and He Initialization</h3>\n",
    "<div> \n",
    "    <ul style='font-size:20px'> \n",
    "        <li> \n",
    "            Xavier Glorot argumenta que as situações descritas podem ser evitadas caso a variância dos inputs e outputs de cada camada seja a mesma. Para que isso possa acontecer, o número de inputs (fan-in) e neurônios (fan-out) deve ser igual.\n",
    "        </li>\n",
    "        <li> \n",
    "            Além disso, a inicialização dos pesos deve ser extraída de uma Distribuição Normal de média 0 e variância ($\\sigma^{2}=\\frac{1}{fan_{avg}}$), ou de uma Uniforme entre -r e +r sendo $r=\\sqrt{\\frac{3}{fan_{avg}}}$\n",
    "            <p style='margin-top:20px'>$$fan_{avg}=\\frac{fan_{in}+fan_{out}}{2}$$</p>\n",
    "        </li>\n",
    "        <li> \n",
    "            Nota: A inicialização LeCun utiliza as mesmas fórmulas que a Glorot, mas trocando $fan_{avg}$ por $fan_{in}$.\n",
    "        </li>\n",
    "    </ul>\n",
    "</div>"
   ]
  },
  {
   "cell_type": "markdown",
   "id": "c51c7049-ce9e-4e43-84d6-587f32d48641",
   "metadata": {},
   "source": [
    "<center> \n",
    "    <img src='initialization1.png'>\n",
    "</center>"
   ]
  },
  {
   "cell_type": "code",
   "execution_count": 13,
   "id": "d58fe18c-925a-4f22-96fb-a2af1ccf6682",
   "metadata": {},
   "outputs": [
    {
     "data": {
      "text/plain": [
       "<keras.layers.core.dense.Dense at 0x7f36edbea9d0>"
      ]
     },
     "execution_count": 13,
     "metadata": {},
     "output_type": "execute_result"
    }
   ],
   "source": [
    "# É possível definir a inicialização para a camada com 'kernel_initializer'.\n",
    "keras.layers.Dense(30, activation='relu' ,kernel_initializer='he_normal')\n",
    "\n",
    "# A customização pode se tornar um pouco mais específica com os objetos do módulo 'initializers'.\n",
    "dense_init = keras.initializers.VarianceScaling(scale=2, mode='fan_avg', distribution='uniform')\n",
    "keras.layers.Dense(30, activation='relu', kernel_initializer=dense_init)"
   ]
  },
  {
   "cell_type": "markdown",
   "id": "adc8d70f-86fa-4e68-9c41-f6c3341527bf",
   "metadata": {},
   "source": [
    "<h3 style='font-size:30px;font-style:italic'> Non Saturating Activation Functions</h3>\n",
    "<h4 style='font-size:30px;font-style:italic;text-decoration:underline'> ReLU</h4>\n",
    "<div> \n",
    "    <ul style='font-size:20px'> \n",
    "        <li> \n",
    "            Foi uma das primeiras funções propostas para substituir a Sigmoid. Tem a vantagem de não saturar com valores positivos e é rápida para se computar.\n",
    "        </li>\n",
    "        <li> \n",
    "            Por outro lado, a ReLU tem inclinação a cometer uma falha grave para learning rates elevadas: matar neurônios. Isso significa que uma boa parte dos TLU's da rede começa a lançar apenas 0 como output.\n",
    "        </li>\n",
    "    </ul>\n",
    "</div>"
   ]
  },
  {
   "cell_type": "markdown",
   "id": "43de18cb-3320-4654-882c-ffbab61a0dd0",
   "metadata": {},
   "source": [
    "<h4 style='font-size:30px;font-style:italic;text-decoration:underline'> Leaky RELU</h4>\n",
    "<div> \n",
    "    <ul style='font-size:20px'> \n",
    "        <li> \n",
    "            A solução para esse infortúnio pode ser providenciada com a Leaky RELU. Com ela, podemos ajustar o parâmetro $\\alpha$, que indica a inclinação da função quando $x<0$.\n",
    "        </li>\n",
    "        <li> \n",
    "            Um paper sugeriu que valores em torno de $\\alpha=0.2$ induziam melhores performances.\n",
    "        </li>\n",
    "    </ul>\n",
    "</div>"
   ]
  },
  {
   "cell_type": "code",
   "execution_count": null,
   "id": "bc1496f5-1295-4694-a9b2-6675ce1247fb",
   "metadata": {},
   "outputs": [],
   "source": [
    "# Aplicando uma LeakyReLU com o módulo 'activations' do Keras.\n",
    "keras.activations.relu(alpha=.2)"
   ]
  },
  {
   "cell_type": "markdown",
   "id": "232f5470-f417-4eca-ad24-b687c3a1ab48",
   "metadata": {},
   "source": [
    "<h4 style='font-size:30px;font-style:italic;text-decoration:underline'> Randomized Leaky RELU (RReLU)</h4>\n",
    "<div> \n",
    "    <ul style='font-size:20px'> \n",
    "        <li> \n",
    "            Variação da Leaky ReLU em que $\\alpha$ é definido aleatoriamente durante o treinamento e fixado como um número médio na fase de testes. Aparentemente, funciona como um redutor do risco de overfitting.\n",
    "        </li>\n",
    "    </ul>\n",
    "</div>"
   ]
  },
  {
   "cell_type": "markdown",
   "id": "476261fd-2a9b-4be5-8dbd-165a5f9a472a",
   "metadata": {},
   "source": [
    "<h4 style='font-size:30px;font-style:italic;text-decoration:underline'> Parametric Leaky RELU (PReLU)</h4>\n",
    "<div> \n",
    "    <ul style='font-size:20px'> \n",
    "        <li> \n",
    "            Nessa outra variação do Leaky ReLU, $\\alpha$ passa a ter o seu valor ajustado pelo próprio treinamento do modelo. Pode ser excelente em grandes datasets de imagens, mas corre o risco de viciar o modelo em dados menores.\n",
    "        </li>\n",
    "    </ul>\n",
    "</div>"
   ]
  },
  {
   "cell_type": "code",
   "execution_count": 26,
   "id": "454e631a-7196-4c00-af8e-08f70f388224",
   "metadata": {},
   "outputs": [
    {
     "data": {
      "text/plain": [
       "<keras.layers.activation.prelu.PReLU at 0x7f36e3012070>"
      ]
     },
     "execution_count": 26,
     "metadata": {},
     "output_type": "execute_result"
    }
   ],
   "source": [
    "# O PReLU deve ser aplicado com o módulo 'layers'.\n",
    "keras.layers.PReLU()"
   ]
  },
  {
   "cell_type": "markdown",
   "id": "2e9e2e12-0e72-4edd-9f0d-59b2f1f70be6",
   "metadata": {},
   "source": [
    "<h4 style='font-size:30px;font-style:italic;text-decoration:underline'> ELU</h4>\n",
    "<div> \n",
    "    <ul style='font-size:20px'> \n",
    "        <li> \n",
    "            A ELU é uma função de ativação recentemente criada com o propósito de superar a ReLU e suas variantes. Podemos afirmar que esse objetivo foi alcançado com um grande sucesso, pois o tempo de treinamento foi reduzido e as redes ELU tiveram uma performance maior no set de teste.\n",
    "        </li>\n",
    "        <li> \n",
    "            O argumento $\\alpha$ indica o valor que ELU tendenciará para argumentos muito baixos.\n",
    "        </li>\n",
    "        <li> \n",
    "            Apenas observe que a fase de teste será mais lenta do que quando essa é feita com a ReLU.\n",
    "        </li>\n",
    "    </ul>\n",
    "</div>\n",
    "<center> \n",
    "    <img src='elu1.png'>\n",
    "</center>"
   ]
  },
  {
   "cell_type": "code",
   "execution_count": 30,
   "id": "db4353c8-6eb8-429e-a688-3b8f5cdc5273",
   "metadata": {},
   "outputs": [
    {
     "data": {
      "text/plain": [
       "Text(0.5, 1.0, 'ELU com alpha=1')"
      ]
     },
     "execution_count": 30,
     "metadata": {},
     "output_type": "execute_result"
    },
    {
     "data": {
      "image/png": "[encoded data removed]",
      "text/plain": [
       "<Figure size 432x288 with 1 Axes>"
      ]
     },
     "metadata": {
      "needs_background": "light"
     },
     "output_type": "display_data"
    }
   ],
   "source": [
    "import numpy as np\n",
    "import matplotlib.pyplot as plt\n",
    "a = 1 * (np.exp(np.linspace(-4,0, 1001, endpoint=False)) - 1)\n",
    "b = np.linspace(0, 4, 1001)\n",
    "a_b=np.concatenate((a,b))\n",
    "plt.plot(np.linspace(-4,4, 2002), a_b)\n",
    "plt.title('ELU com alpha=1')"
   ]
  },
  {
   "cell_type": "markdown",
   "id": "5f11d636-8fbe-45f0-ba84-57fd09fbe418",
   "metadata": {},
   "source": [
    "<h4 style='font-size:30px;font-style:italic;text-decoration:underline'> SELU</h4>\n",
    "<div> \n",
    "    <ul style='font-size:20px'> \n",
    "        <li> \n",
    "            A SELU se propõe a ser a versão escalada da ELU. Tem o potencial de bater todas as outras funções sob as seguintes condições:\n",
    "            <ul style='list-style-type:lower-alpha'> \n",
    "                <li> \n",
    "                    A rede ser inteiramente feita com camadas densas (os neurônios recebem todos os outputs da camada anterior) e consistir em uma Sequential API.\n",
    "                </li>\n",
    "                <li> \n",
    "                    Os inputs estarem normalizados com média 0 e desvio-padrão 1.\n",
    "                </li>\n",
    "                <li> \n",
    "                    A inicialização dos pesos deve ser feita com LeCun normal.\n",
    "                </li>\n",
    "            </ul>\n",
    "        </li>\n",
    "        <li> \n",
    "            Se esses requisitos forem cumpridos, a rede irá se auto-normalizar. Ou seja, os outputs das camadas terão média 0 e std 1.\n",
    "        </li>\n",
    "    </ul>\n",
    "</div>"
   ]
  },
  {
   "cell_type": "code",
   "execution_count": 35,
   "id": "3f12c1ce-3542-4718-ae07-078417026906",
   "metadata": {},
   "outputs": [
    {
     "data": {
      "text/plain": [
       "<keras.layers.core.dense.Dense at 0x7f36d38dc520>"
      ]
     },
     "execution_count": 35,
     "metadata": {},
     "output_type": "execute_result"
    }
   ],
   "source": [
    "# Implementando a SELU com a inicialização 'lecun_normal'\n",
    "keras.layers.Dense(45, activation='selu', kernel_initializer='lecun_normal')"
   ]
  },
  {
   "cell_type": "markdown",
   "id": "a790d9f7-a8f4-4771-9c9d-1882c95cd57c",
   "metadata": {},
   "source": [
    "<h3 style='font-size:30px;font-style:italic'> Batch Normalization</h3>\n",
    "<div> \n",
    "    <ul style='font-size:20px'> \n",
    "        <li> \n",
    "            A Batch Normalization consiste na normalização dos outputs de uma TLU (antes mesmo da aplicação da função de ativação). Funciona como um StandardScaler, do Scikit-Learn.\n",
    "        </li>\n",
    "        <li> \n",
    "            Em treinamento, os batches são normalizados separadamente com as suas respectivas médias e variâncias, por isso, recomenda-se setar um tamanho razoável para eles (mais de 30 instâncias, se possível). Para teste, uma média móvel de todas as médias e desvios-padrões para a dada camada é feita para a normalização dos dados.\n",
    "        </li>\n",
    "    </ul>\n",
    "</div>\n",
    "<center> \n",
    "    <img src='bn1.png'>\n",
    "</center>\n",
    "<div> \n",
    "    <ul style='font-size:20px'> \n",
    "        <li> \n",
    "            Apenas observe que, após a padronização dos dados à moda StandardScaler, os dados são multiplicados por um fator $\\gamma$ e somados por um $\\beta$. Esses são aprendidos durante o treinamento.\n",
    "        </li>\n",
    "    </ul>\n",
    "</div>"
   ]
  },
  {
   "cell_type": "markdown",
   "id": "06a80904-2af2-4e67-9ca2-d3f785e9a5fd",
   "metadata": {},
   "source": [
    "<h4 style='font-size:30px;font-style:italic;text-decoration:underline'> Impactos da BN</h4>\n",
    "<div> \n",
    "    <ul style='font-size:20px'> \n",
    "        <li> \n",
    "            A Batch Normalization é uma outra solução para a questão do desaparecimento/explosão de gradientes.\n",
    "        </li>\n",
    "        <li> \n",
    "            O treinamento é acelerado. Há também a regularização do modelo.\n",
    "        </li>\n",
    "        <li> \n",
    "            A BN torna possível que learning rates maiores alcancem a solução ótima.\n",
    "        </li>\n",
    "        <li> \n",
    "            As previsões podem ser mais devagares com a BN. Caso necessite de estimativas rápidas, recorra primeiro à função de ativação ELU juntamente com a inicialização He.\n",
    "        </li>\n",
    "    </ul>\n",
    "</div>"
   ]
  },
  {
   "cell_type": "markdown",
   "id": "ef7867f7-2634-4607-b856-88d7850a18a7",
   "metadata": {},
   "source": [
    "<h4 style='font-size:30px;font-style:italic;text-decoration:underline'> Implementing Batch Normalization with Keras</h4>\n"
   ]
  },
  {
   "cell_type": "code",
   "execution_count": 36,
   "id": "06cd80f6-b7a1-4768-8b5b-b321df6cdf56",
   "metadata": {},
   "outputs": [],
   "source": [
    "# Os criadores da BN recomendam que ela seja utilizada antes da função de ativação. Por isso, estamos usando TLU's lineares e uma\n",
    "# 'keras.layers.Activation()'.\n",
    "model = keras.models.Sequential([\n",
    "            keras.layers.Input(shape=[8]),\n",
    "            # Queremos que os inputs sejam normalizados logo de início.\n",
    "            keras.layers.BatchNormalization(),\n",
    "            \n",
    "            # Os dados passarão pelos TLU's sem função de ativação, tendo os seus outputs normalizados.\n",
    "            # Só após isso que a função de ativação será posta em ação.\n",
    "            keras.layers.Dense(90, kernel_initializer='he_normal',use_bias=False),\n",
    "            keras.layers.BatchNormalization(),\n",
    "            keras.layers.Activation('elu'),\n",
    "    \n",
    "            keras.layers.Dense(70, kernel_initializer='he_normal',use_bias=False),\n",
    "            keras.layers.BatchNormalization(),\n",
    "            keras.layers.Activation('elu'),\n",
    "    \n",
    "            # Normalizaremos as informações também antes da camada de output.\n",
    "            keras.layers.BatchNormalization(),\n",
    "            keras.layers.Dense(1)\n",
    "])"
   ]
  },
  {
   "cell_type": "markdown",
   "id": "d41e5515-feda-4f7f-8e80-31ff0d374dba",
   "metadata": {},
   "source": [
    "<p style='color:red'> Trecho grifado (p.337)</p>"
   ]
  }
 ],
 "metadata": {
  "kernelspec": {
   "display_name": "Python 3 (ipykernel)",
   "language": "python",
   "name": "python3"
  },
  "language_info": {
   "codemirror_mode": {
    "name": "ipython",
    "version": 3
   },
   "file_extension": ".py",
   "mimetype": "text/x-python",
   "name": "python",
   "nbconvert_exporter": "python",
   "pygments_lexer": "ipython3",
   "version": "3.8.10"
  }
 },
 "nbformat": 4,
 "nbformat_minor": 5
}
