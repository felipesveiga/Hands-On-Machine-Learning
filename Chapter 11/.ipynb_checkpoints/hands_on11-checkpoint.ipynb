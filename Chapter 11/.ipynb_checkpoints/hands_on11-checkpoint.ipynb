{
 "cells": [
  {
   "cell_type": "markdown",
   "id": "c9e91510-7582-402a-99b6-255ef2f2b365",
   "metadata": {},
   "source": [
    "<h1 style='font-size:40px'> Training Deep Neural Networks</h1>"
   ]
  },
  {
   "cell_type": "markdown",
   "id": "b7cc4a71-2ec3-4d00-8da6-53407feb1b05",
   "metadata": {},
   "source": [
    "<h2 style='font-size:30px'> Vanishing/Exploding Gradients</h2>\n",
    "<div> \n",
    "    <ul style='font-size:20px'> \n",
    "        <li> \n",
    "            Em NN muito profundas, as camadas inferiores tendem a ter os seus pesos pouco modificados em cada ciclo do otimizador. Esse fenômeno é conhecido como o desaparecimento de gradientes (Gradient Vanishing).\n",
    "        </li>\n",
    "        <li> \n",
    "            Por outro lado, a seção mais superficial do modelo também é capaz de sofrer incoveniências. É comum os seus pesos terem uma alteração muito grande em cada ciclo, situação nomeada como Gradient Explosion.\n",
    "        </li>\n",
    "    </ul>\n",
    "</div>"
   ]
  },
  {
   "cell_type": "markdown",
   "id": "b462f015-2d9d-404d-b8c2-64ef2ec66d05",
   "metadata": {},
   "source": [
    "<h3 style='font-size:30px;font-style:italic'> Glorot and He Initialization</h3>\n",
    "<div> \n",
    "    <ul style='font-size:20px'> \n",
    "        <li> \n",
    "            Xavier Glorot argumenta que as situações descritas podem ser evitadas caso a variância dos inputs e outputs de cada camada seja a mesma. Para que isso possa acontecer, o número de inputs (fan-in) e neurônios (fan-out) deve ser igual.\n",
    "        </li>\n",
    "        <li> \n",
    "            Além disso, a inicialização dos pesos deve ser extraída de uma Distribuição Normal de média 0 e variância ($\\sigma^{2}=\\frac{1}{fan_{avg}}$), ou de uma Uniforme entre -r e +r sendo $r=\\sqrt{\\frac{3}{fan_{avg}}}$\n",
    "            <p style='margin-top:20px'>$$fan_{avg}=\\frac{fan_{in}+fan_{out}}{2}$$</p>\n",
    "        </li>\n",
    "        <li> \n",
    "            Nota: A inicialização LeCun utiliza as mesmas fórmulas que a Glorot, mas trocando $fan_{avg}$ por $fan_{in}$.\n",
    "        </li>\n",
    "    </ul>\n",
    "</div>"
   ]
  },
  {
   "cell_type": "markdown",
   "id": "c51c7049-ce9e-4e43-84d6-587f32d48641",
   "metadata": {},
   "source": [
    "<center> \n",
    "    <img src='initialization1.png'>\n",
    "</center>"
   ]
  },
  {
   "cell_type": "code",
   "execution_count": 13,
   "id": "d58fe18c-925a-4f22-96fb-a2af1ccf6682",
   "metadata": {},
   "outputs": [
    {
     "data": {
      "text/plain": [
       "<keras.layers.core.dense.Dense at 0x7f36edbea9d0>"
      ]
     },
     "execution_count": 13,
     "metadata": {},
     "output_type": "execute_result"
    }
   ],
   "source": [
    "# É possível definir a inicialização para a camada com 'kernel_initializer'.\n",
    "keras.layers.Dense(30, activation='relu' ,kernel_initializer='he_normal')\n",
    "\n",
    "# A customização pode se tornar um pouco mais específica com os objetos do módulo 'initializers'.\n",
    "dense_init = keras.initializers.VarianceScaling(scale=2, mode='fan_avg', distribution='uniform')\n",
    "keras.layers.Dense(30, activation='relu', kernel_initializer=dense_init)"
   ]
  },
  {
   "cell_type": "markdown",
   "id": "adc8d70f-86fa-4e68-9c41-f6c3341527bf",
   "metadata": {},
   "source": [
    "<h3 style='font-size:30px;font-style:italic'> Non Saturating Activation Functions</h3>\n",
    "<h4 style='font-size:30px;font-style:italic;text-decoration:underline'> ReLU</h4>\n",
    "<div> \n",
    "    <ul style='font-size:20px'> \n",
    "        <li> \n",
    "            Foi uma das primeiras funções propostas para substituir a Sigmoid. Tem a vantagem de não saturar com valores positivos e é rápida para se computar.\n",
    "        </li>\n",
    "        <li> \n",
    "            Por outro lado, a ReLU tem inclinação a cometer uma falha grave para learning rates elevadas: matar neurônios. Isso significa que uma boa parte dos TLU's da rede começa a lançar apenas 0 como output.\n",
    "        </li>\n",
    "    </ul>\n",
    "</div>"
   ]
  },
  {
   "cell_type": "markdown",
   "id": "43de18cb-3320-4654-882c-ffbab61a0dd0",
   "metadata": {},
   "source": [
    "<h4 style='font-size:30px;font-style:italic;text-decoration:underline'> Leaky RELU</h4>\n",
    "<div> \n",
    "    <ul style='font-size:20px'> \n",
    "        <li> \n",
    "            A solução para esse infortúnio pode ser providenciada com a Leaky RELU. Com ela, podemos ajustar o parâmetro $\\alpha$, que indica a inclinação da função quando $x<0$.\n",
    "        </li>\n",
    "        <li> \n",
    "            Um paper sugeriu que valores em torno de $\\alpha=0.2$ induziam melhores performances.\n",
    "        </li>\n",
    "    </ul>\n",
    "</div>"
   ]
  },
  {
   "cell_type": "code",
   "execution_count": null,
   "id": "bc1496f5-1295-4694-a9b2-6675ce1247fb",
   "metadata": {},
   "outputs": [],
   "source": [
    "# Aplicando uma LeakyReLU com o módulo 'activations' do Keras.\n",
    "keras.activations.relu(alpha=.2)"
   ]
  },
  {
   "cell_type": "markdown",
   "id": "232f5470-f417-4eca-ad24-b687c3a1ab48",
   "metadata": {},
   "source": [
    "<h4 style='font-size:30px;font-style:italic;text-decoration:underline'> Randomized Leaky RELU (RReLU)</h4>\n",
    "<div> \n",
    "    <ul style='font-size:20px'> \n",
    "        <li> \n",
    "            Variação da Leaky ReLU em que $\\alpha$ é definido aleatoriamente durante o treinamento e fixado como um número médio na fase de testes. Aparentemente, funciona como um redutor do risco de overfitting.\n",
    "        </li>\n",
    "    </ul>\n",
    "</div>"
   ]
  },
  {
   "cell_type": "markdown",
   "id": "476261fd-2a9b-4be5-8dbd-165a5f9a472a",
   "metadata": {},
   "source": [
    "<h4 style='font-size:30px;font-style:italic;text-decoration:underline'> Parametric Leaky RELU (PReLU)</h4>\n",
    "<div> \n",
    "    <ul style='font-size:20px'> \n",
    "        <li> \n",
    "            Nessa outra variação do Leaky ReLU, $\\alpha$ passa a ter o seu valor ajustado pelo próprio treinamento do modelo. Pode ser excelente em grandes datasets de imagens, mas corre o risco de viciar o modelo em dados menores.\n",
    "        </li>\n",
    "    </ul>\n",
    "</div>"
   ]
  },
  {
   "cell_type": "code",
   "execution_count": 26,
   "id": "454e631a-7196-4c00-af8e-08f70f388224",
   "metadata": {},
   "outputs": [
    {
     "data": {
      "text/plain": [
       "<keras.layers.activation.prelu.PReLU at 0x7f36e3012070>"
      ]
     },
     "execution_count": 26,
     "metadata": {},
     "output_type": "execute_result"
    }
   ],
   "source": [
    "# O PReLU deve ser aplicado com o módulo 'layers'.\n",
    "keras.layers.PReLU()"
   ]
  },
  {
   "cell_type": "markdown",
   "id": "2e9e2e12-0e72-4edd-9f0d-59b2f1f70be6",
   "metadata": {},
   "source": [
    "<h4 style='font-size:30px;font-style:italic;text-decoration:underline'> ELU</h4>\n",
    "<div> \n",
    "    <ul style='font-size:20px'> \n",
    "        <li> \n",
    "            A ELU é uma função de ativação recentemente criada com o propósito de superar a ReLU e suas variantes. Podemos afirmar que esse objetivo foi alcançado com um grande sucesso, pois o tempo de treinamento foi reduzido e as redes ELU tiveram uma performance maior no set de teste.\n",
    "        </li>\n",
    "        <li> \n",
    "            O argumento $\\alpha$ indica o valor que ELU tendenciará para argumentos muito baixos.\n",
    "        </li>\n",
    "        <li> \n",
    "            Apenas observe que a fase de teste será mais lenta do que quando essa é feita com a ReLU.\n",
    "        </li>\n",
    "    </ul>\n",
    "</div>\n",
    "<center> \n",
    "    <img src='elu1.png'>\n",
    "</center>"
   ]
  },
  {
   "cell_type": "code",
   "execution_count": 30,
   "id": "db4353c8-6eb8-429e-a688-3b8f5cdc5273",
   "metadata": {},
   "outputs": [
    {
     "data": {
      "text/plain": [
       "Text(0.5, 1.0, 'ELU com alpha=1')"
      ]
     },
     "execution_count": 30,
     "metadata": {},
     "output_type": "execute_result"
    },
    {
     "data": {
      "image/png": "[encoded data removed]",
      "text/plain": [
       "<Figure size 432x288 with 1 Axes>"
      ]
     },
     "metadata": {
      "needs_background": "light"
     },
     "output_type": "display_data"
    }
   ],
   "source": [
    "import numpy as np\n",
    "import matplotlib.pyplot as plt\n",
    "a = 1 * (np.exp(np.linspace(-4,0, 1001, endpoint=False)) - 1)\n",
    "b = np.linspace(0, 4, 1001)\n",
    "a_b=np.concatenate((a,b))\n",
    "plt.plot(np.linspace(-4,4, 2002), a_b)\n",
    "plt.title('ELU com alpha=1')"
   ]
  },
  {
   "cell_type": "markdown",
   "id": "5f11d636-8fbe-45f0-ba84-57fd09fbe418",
   "metadata": {},
   "source": [
    "<h4 style='font-size:30px;font-style:italic;text-decoration:underline'> SELU</h4>\n",
    "<div> \n",
    "    <ul style='font-size:20px'> \n",
    "        <li> \n",
    "            A SELU se propõe a ser a versão escalada da ELU. Tem o potencial de bater todas as outras funções sob as seguintes condições:\n",
    "            <ul style='list-style-type:lower-alpha'> \n",
    "                <li> \n",
    "                    A rede ser inteiramente feita com camadas densas (os neurônios recebem todos os outputs da camada anterior) e consistir em uma Sequential API.\n",
    "                </li>\n",
    "                <li> \n",
    "                    Os inputs estarem normalizados com média 0 e desvio-padrão 1.\n",
    "                </li>\n",
    "                <li> \n",
    "                    A inicialização dos pesos deve ser feita com LeCun normal.\n",
    "                </li>\n",
    "            </ul>\n",
    "        </li>\n",
    "        <li> \n",
    "            Se esses requisitos forem cumpridos, a rede irá se auto-normalizar. Ou seja, os outputs das camadas terão média 0 e std 1.\n",
    "        </li>\n",
    "    </ul>\n",
    "</div>"
   ]
  },
  {
   "cell_type": "code",
   "execution_count": 35,
   "id": "3f12c1ce-3542-4718-ae07-078417026906",
   "metadata": {},
   "outputs": [
    {
     "data": {
      "text/plain": [
       "<keras.layers.core.dense.Dense at 0x7f36d38dc520>"
      ]
     },
     "execution_count": 35,
     "metadata": {},
     "output_type": "execute_result"
    }
   ],
   "source": [
    "# Implementando a SELU com a inicialização 'lecun_normal'\n",
    "keras.layers.Dense(45, activation='selu', kernel_initializer='lecun_normal')"
   ]
  },
  {
   "cell_type": "markdown",
   "id": "a790d9f7-a8f4-4771-9c9d-1882c95cd57c",
   "metadata": {},
   "source": [
    "<h3 style='font-size:30px;font-style:italic'> Batch Normalization</h3>\n",
    "<div> \n",
    "    <ul style='font-size:20px'> \n",
    "        <li> \n",
    "            A Batch Normalization consiste na normalização dos outputs de uma TLU (antes mesmo da aplicação da função de ativação). Funciona como um StandardScaler, do Scikit-Learn.\n",
    "        </li>\n",
    "        <li> \n",
    "            Em treinamento, os batches são normalizados separadamente com as suas respectivas médias e variâncias, por isso, recomenda-se setar um tamanho razoável para eles (mais de 30 instâncias, se possível). Para teste, uma média móvel de todas as médias e desvios-padrões para a dada camada é feita para a normalização dos dados.\n",
    "        </li>\n",
    "    </ul>\n",
    "</div>\n",
    "<center> \n",
    "    <img src='bn1.png'>\n",
    "</center>\n",
    "<div> \n",
    "    <ul style='font-size:20px'> \n",
    "        <li> \n",
    "            Apenas observe que, após a padronização dos dados à moda StandardScaler, os dados são multiplicados por um fator $\\gamma$ e somados por um $\\beta$. Esses são aprendidos durante o treinamento.\n",
    "        </li>\n",
    "    </ul>\n",
    "</div>"
   ]
  },
  {
   "cell_type": "markdown",
   "id": "06a80904-2af2-4e67-9ca2-d3f785e9a5fd",
   "metadata": {},
   "source": [
    "<h4 style='font-size:30px;font-style:italic;text-decoration:underline'> Impactos da BN</h4>\n",
    "<div> \n",
    "    <ul style='font-size:20px'> \n",
    "        <li> \n",
    "            A Batch Normalization é uma outra solução para a questão do desaparecimento/explosão de gradientes.\n",
    "        </li>\n",
    "        <li> \n",
    "            O treinamento é acelerado. Há também a regularização do modelo.\n",
    "        </li>\n",
    "        <li> \n",
    "            A BN torna possível que learning rates maiores alcancem a solução ótima.\n",
    "        </li>\n",
    "        <li> \n",
    "            As previsões podem ser mais devagares com a BN. Caso necessite de estimativas rápidas, recorra primeiro à função de ativação ELU juntamente com a inicialização He.\n",
    "        </li>\n",
    "    </ul>\n",
    "</div>"
   ]
  },
  {
   "cell_type": "markdown",
   "id": "ef7867f7-2634-4607-b856-88d7850a18a7",
   "metadata": {},
   "source": [
    "<h4 style='font-size:30px;font-style:italic;text-decoration:underline'> Implementing Batch Normalization with Keras</h4>\n"
   ]
  },
  {
   "cell_type": "code",
   "execution_count": 36,
   "id": "06cd80f6-b7a1-4768-8b5b-b321df6cdf56",
   "metadata": {},
   "outputs": [],
   "source": [
    "# Os criadores da BN recomendam que ela seja utilizada antes da função de ativação. Por isso, estamos usando TLU's lineares e \n",
    "# 'keras.layers.Activation()'.\n",
    "model = keras.models.Sequential([\n",
    "            keras.layers.Input(shape=[8]),\n",
    "            # Queremos que os inputs sejam normalizados logo de início.\n",
    "            keras.layers.BatchNormalization(),\n",
    "            \n",
    "            # Os dados passarão pelos TLU's sem função de ativação, tendo os seus outputs normalizados.\n",
    "            # Como a BatchNormalization disponibiliza um termo de offset, podemos desconsiderar o uso do parâmetro de bias das camadas.\n",
    "            # Só após isso que a função de ativação será posta em ação.\n",
    "            keras.layers.Dense(90, kernel_initializer='he_normal',use_bias=False),\n",
    "            keras.layers.BatchNormalization(),\n",
    "            keras.layers.Activation('elu'),\n",
    "    \n",
    "            keras.layers.Dense(70, kernel_initializer='he_normal',use_bias=False),\n",
    "            keras.layers.BatchNormalization(),\n",
    "            keras.layers.Activation('elu'),\n",
    "    \n",
    "            # Normalizaremos as informações também antes da camada de output.\n",
    "            keras.layers.BatchNormalization(),\n",
    "            keras.layers.Dense(1)\n",
    "])"
   ]
  },
  {
   "cell_type": "markdown",
   "id": "e9bdc24a-33bf-48aa-9bb5-46311c1d7b14",
   "metadata": {},
   "source": [
    "<h3 style='font-size:30px;font-style:italic'> Gradient Clipping</h3>\n",
    "<div> \n",
    "    <ul style='font-size:20px'> \n",
    "        <li> \n",
    "            O Recorte de Gradientes é outra maneira de impedirmos a explosão de gradiente. Há duas maneiras de fazermos isso. \n",
    "        </li>\n",
    "    </ul>\n",
    "</div>"
   ]
  },
  {
   "cell_type": "markdown",
   "id": "0434a5d3-6308-46f3-ad76-6188dacc8d09",
   "metadata": {},
   "source": [
    "<h3 style='font-size:30px;font-style:italic'> clipvalue</h3>\n",
    "<div> \n",
    "    <ul style='font-size:20px'> \n",
    "        <li> \n",
    "             As derivadas parciais do vetor de gradiente serão recortadas caso seus módulos superem \"clipvalue\". Por exemplo, o vetor $\\begin{bmatrix} 10 \\\\ 0.2 \\\\ -5\\end{bmatrix}$ ficará $\\begin{bmatrix} 1 \\\\ 0.2 \\\\ -1\\end{bmatrix}$ caso clipvalue=1.\n",
    "        </li>\n",
    "    </ul>\n",
    "</div>"
   ]
  },
  {
   "cell_type": "markdown",
   "id": "3a64d71c-7f78-4473-b9a4-923438a8ca56",
   "metadata": {},
   "source": [
    "<h3 style='font-size:30px;font-style:italic'> clipnorm</h3>\n",
    "<div> \n",
    "    <ul style='font-size:20px'> \n",
    "        <li> \n",
    "             Observe que, porém, o recorte por clipvalue altera a orientação do vetor de gradiente. Se preferir preservar isso, use a opção clipnorm. \n",
    "        </li>\n",
    "        <li> \n",
    "            Caso ao menos um dos módulos das derivadas direcionais ultrapasse o threshold definido, o vetor inteiro é normalizado pela norma L-2. Por exemplo, o vetor $\\begin{bmatrix} 10\\\\0.2\\\\-5\\end{bmatrix}$ ficará como $\\begin{bmatrix}  0.89428412 \\\\ 0.01788568 \\\\ -0.44714206 \\end{bmatrix}$\n",
    "        </li>\n",
    "    </ul>\n",
    "</div>"
   ]
  },
  {
   "cell_type": "markdown",
   "id": "bb4e541c-16e7-4e24-9012-c62ad8917855",
   "metadata": {},
   "source": [
    "<h2 style='font-size:30px'> Reusing Pretrained Layers</h2>\n",
    "<div> \n",
    "    <ul style='font-size:20px'> \n",
    "        <li> \n",
    "             O treinamento de uma rede neural é algo custoso tanto em termos de tempo, quanto de processamento. Considerando isso, foi criada a possibilidade de usarmos camadas de NN já existentes e inseri-las em nosso modelo. Observe que o uso dessa técnica surte efeitos mais significativos em redes neurais convolucionais profundas. \n",
    "        </li>\n",
    "        <li> \n",
    "            O ideal é que a rede neural da qual herdaremos as camadas tenha sido criada para uma tarefa similar à nossa. Por exemplo, seria interessante coletarmos as hidden layers de um modelo geral de classificação de animais para uma rede de identificação de cães vira-lata (binária). Quanto mais próximo foi o propósito do algoritmo-base do de nosso modelo, mais camadas podemos usar!\n",
    "        </li>\n",
    "        <li> \n",
    "            É importante lembrar que, usualmente, a camada de output do modelo-base não é apropriada à nossa missão. Por isso, considere trocá-la.\n",
    "        </li>\n",
    "    </ul>\n",
    "</div>"
   ]
  },
  {
   "cell_type": "markdown",
   "id": "a9fc9b3d-f3fe-4215-8edd-9f69dc81e312",
   "metadata": {},
   "source": [
    "<h3 style='font-size:30px;font-style:italic'> Conselhos para Transfer Learning</h3>\n",
    "<div> \n",
    "    <ul style='font-size:20px'> \n",
    "        <li> \n",
    "             Congele os coeficientes das camadas herdadas nas primeiras seções de fitting. Se porventura não obtiver a performance almejada, descongele-os aos poucos.\n",
    "        </li>\n",
    "        <li> \n",
    "            Não use learning rates muito elevadas para não provocar alterações bruscas nos coeficientes das camadas herdadas.\n",
    "        </li>\n",
    "        <li> \n",
    "            Com bastantes dados, podemos descongelar ou criar novas camadas no modelo.\n",
    "        </li>\n",
    "    </ul>\n",
    "</div>"
   ]
  },
  {
   "cell_type": "markdown",
   "id": "933e7e5c-940f-45d3-9b53-c86cf8f5d2e4",
   "metadata": {},
   "source": [
    "<h3 style='font-size:30px;font-style:italic'> Transfer Learning With Keras</h3>\n",
    "<div> \n",
    "    <ul style='font-size:20px'> \n",
    "        <li> \n",
    "             Simularemos o uso do Transfer Learning com o dataset Fashion MNIST. Pegaremos as camadas de uma rede treinada em todo o dataset a fim de criar um modelo que diferencie sandálias de sapatos.\n",
    "        </li>\n",
    "    </ul>\n",
    "</div>"
   ]
  },
  {
   "cell_type": "code",
   "execution_count": 2,
   "id": "9a5ccf64-e1d5-4054-9d90-e41da09c2476",
   "metadata": {},
   "outputs": [
    {
     "name": "stderr",
     "output_type": "stream",
     "text": [
      "2022-11-25 08:36:04.656135: W tensorflow/stream_executor/platform/default/dso_loader.cc:64] Could not load dynamic library 'libcudart.so.11.0'; dlerror: libcudart.so.11.0: cannot open shared object file: No such file or directory; LD_LIBRARY_PATH: /u01/app/oracle/product/11.2.0/xe/lib:/lib:/usr/local/lib:\n",
      "2022-11-25 08:36:04.656164: I tensorflow/stream_executor/cuda/cudart_stub.cc:29] Ignore above cudart dlerror if you do not have a GPU set up on your machine.\n"
     ]
    }
   ],
   "source": [
    "import tensorflow.keras as keras\n",
    "from keras.datasets import fashion_mnist\n",
    "\n",
    "# Carregando os dados.\n",
    "(X_train, y_train), (X_test, y_test) = fashion_mnist.load_data()"
   ]
  },
  {
   "cell_type": "code",
   "execution_count": 10,
   "id": "4a0d2ea9-7fa9-4bd1-9143-7406b4dbae48",
   "metadata": {},
   "outputs": [],
   "source": [
    "# Alterando as escalas das features.\n",
    "X_train_scaled, X_test_scaled = X_train/255, X_test/255"
   ]
  },
  {
   "cell_type": "code",
   "execution_count": 8,
   "id": "93a48e34-3889-4e88-a3dd-eb26e7e3d98a",
   "metadata": {},
   "outputs": [
    {
     "name": "stdout",
     "output_type": "stream",
     "text": [
      "Epoch 1/50\n",
      "3334/3334 [==============================] - 11s 3ms/step - loss: 0.6419 - val_loss: 0.5807\n",
      "Epoch 2/50\n",
      "3334/3334 [==============================] - 10s 3ms/step - loss: 0.4521 - val_loss: 0.4844\n",
      "Epoch 3/50\n",
      "3334/3334 [==============================] - 10s 3ms/step - loss: 0.4167 - val_loss: 0.4354\n",
      "Epoch 4/50\n",
      "3334/3334 [==============================] - 10s 3ms/step - loss: 0.3940 - val_loss: 0.4323\n",
      "Epoch 5/50\n",
      "3334/3334 [==============================] - 10s 3ms/step - loss: 0.3798 - val_loss: 0.4527\n",
      "Epoch 6/50\n",
      "3334/3334 [==============================] - 10s 3ms/step - loss: 0.3663 - val_loss: 0.3958\n",
      "Epoch 7/50\n",
      "3334/3334 [==============================] - 10s 3ms/step - loss: 0.3560 - val_loss: 0.4123\n",
      "Epoch 8/50\n",
      "3334/3334 [==============================] - 10s 3ms/step - loss: 0.3465 - val_loss: 0.3940\n",
      "Epoch 9/50\n",
      "3334/3334 [==============================] - 10s 3ms/step - loss: 0.3383 - val_loss: 0.3839\n",
      "Epoch 10/50\n",
      "3334/3334 [==============================] - 12s 3ms/step - loss: 0.3317 - val_loss: 0.3937\n",
      "Epoch 11/50\n",
      "3334/3334 [==============================] - 11s 3ms/step - loss: 0.3252 - val_loss: 0.3686\n",
      "Epoch 12/50\n",
      "3334/3334 [==============================] - 11s 3ms/step - loss: 0.3179 - val_loss: 0.3702\n",
      "Epoch 13/50\n",
      "3334/3334 [==============================] - 10s 3ms/step - loss: 0.3125 - val_loss: 0.3590\n",
      "Epoch 14/50\n",
      "3334/3334 [==============================] - 10s 3ms/step - loss: 0.3075 - val_loss: 0.3630\n",
      "Epoch 15/50\n",
      "3334/3334 [==============================] - 10s 3ms/step - loss: 0.3022 - val_loss: 0.4092\n",
      "Epoch 16/50\n",
      "3334/3334 [==============================] - 10s 3ms/step - loss: 0.2977 - val_loss: 0.3709\n",
      "Epoch 17/50\n",
      "3334/3334 [==============================] - 10s 3ms/step - loss: 0.2938 - val_loss: 0.3613\n",
      "Epoch 18/50\n",
      "3334/3334 [==============================] - 10s 3ms/step - loss: 0.2885 - val_loss: 0.3751\n"
     ]
    },
    {
     "data": {
      "text/plain": [
       "<keras.callbacks.History at 0x7fb8282f51c0>"
      ]
     },
     "execution_count": 8,
     "metadata": {},
     "output_type": "execute_result"
    }
   ],
   "source": [
    "# Agora, treinando uma Sequential API simples.\n",
    "model_A = keras.models.Sequential([\n",
    "        keras.layers.Flatten(input_shape=X_train_scaled.shape[1:]),\n",
    "        keras.layers.Dense(30, activation='elu',\n",
    "                           kernel_initializer=keras.initializers.LecunNormal(seed=42)),\n",
    "\n",
    "        keras.layers.Dense(30, activation='elu',\n",
    "                           kernel_initializer=keras.initializers.LecunNormal(seed=42)),\n",
    "    \n",
    "        keras.layers.Dense(30, activation='elu',\n",
    "                           kernel_initializer=keras.initializers.LecunNormal(seed=42)),\n",
    "    \n",
    "        keras.layers.Dense(10, activation='softmax')\n",
    "])\n",
    "\n",
    "model_A.compile(optimizer=keras.optimizers.SGD(), loss='sparse_categorical_crossentropy')\n",
    "model_A.fit(X_train_scaled, y_train, \n",
    "            batch_size=18, epochs=50, callbacks=keras.callbacks.EarlyStopping(patience=5), \n",
    "            validation_data=(X_test_scaled, y_test))"
   ]
  },
  {
   "cell_type": "code",
   "execution_count": 13,
   "id": "061a1021-4a1a-4305-a305-dac9bfdb062a",
   "metadata": {},
   "outputs": [],
   "source": [
    "# Agora, clonaremos a arquitetura da rede. Isso é importante pois treinar a nossa nova NN com as camadas herdadas mudará o model_A.\n",
    "model_A_clone = keras.models.clone_model(model_A)\n",
    "\n",
    "# 'clone_model' não copia os weights das TLU's. Teremos que fazer isso manualmente\n",
    "model_A_clone.set_weights(model_A.weights)"
   ]
  },
  {
   "cell_type": "code",
   "execution_count": 129,
   "id": "d3ea5a7c-52fc-453b-a185-ffee1f28f8c0",
   "metadata": {},
   "outputs": [],
   "source": [
    "# Criando nosso novo modelo voltado à noss tarefa binária. Não copiaremos a camada de output, pois essa foi criada para lanãr 10\n",
    "# probabilidades.\n",
    "model_B = keras.models.Sequential(model_A_clone.layers[:-1])\n",
    "\n",
    "# Camada de output com um único neurônio.\n",
    "model_B.add(keras.layers.Dense(1, activation='sigmoid'))"
   ]
  },
  {
   "cell_type": "markdown",
   "id": "1e89e0f2-420d-430a-86bc-a6fb0f774b19",
   "metadata": {},
   "source": [
    "<div> \n",
    "    <ul style='font-size:20px'> \n",
    "        <li> \n",
    "             Outra coisa necessária a ser feita é impossibilitar o treinamento das camadas herdadas. Isso porque, uma vez que a output layer foi inicializada aleatoriamente, essa cometerá naturalmente equívocos por causa de seus weights mal ajustados.\n",
    "        </li>\n",
    "        <li> \n",
    "            Para impedir que a backpropagation erroneamente culpe os erros da output layer nas camadas herdadas, congelaremos os seus coeficientes.\n",
    "        </li>\n",
    "    </ul>\n",
    "</div>"
   ]
  },
  {
   "cell_type": "code",
   "execution_count": 130,
   "id": "5a1cdd11-73fb-4921-b100-43eedab82d72",
   "metadata": {},
   "outputs": [],
   "source": [
    "for layer in model_B.layers[:-1]:\n",
    "    layer.trainable = False"
   ]
  },
  {
   "cell_type": "code",
   "execution_count": 131,
   "id": "608ccc1b-595c-465a-a732-d3e225b882f0",
   "metadata": {},
   "outputs": [],
   "source": [
    "# Agora, compilando o modelo. Como se trata de uma classificação binária, vou alterar a métrica para ROC-AUC.\n",
    "model_B.compile(optimizer=keras.optimizers.SGD(learning_rate=.05), loss=keras.losses.BinaryCrossentropy(),\n",
    "               metrics=keras.metrics.AUC())"
   ]
  },
  {
   "cell_type": "code",
   "execution_count": 132,
   "id": "d3476a8c-d695-43a6-9c54-c0d1c72c770a",
   "metadata": {},
   "outputs": [],
   "source": [
    "# Criando os datasets apenas para o nosso propósito.\n",
    "train_idx = np.where((y_train==5) | (y_train==7))\n",
    "test_idx = np.where((y_test==5) | (y_test==7))\n",
    "\n",
    "# A classe positiva será a sandália; a negativa, sapato.\n",
    "X_train_B = X_train_scaled[train_idx]\n",
    "y_train_B = (y_train[train_idx]==5).astype('int')\n",
    "\n",
    "X_test_B = X_test_scaled[test_idx]\n",
    "y_test_B = (y_test[test_idx]==5).astype('int')"
   ]
  },
  {
   "cell_type": "code",
   "execution_count": 133,
   "id": "77082259-a3fe-47e1-8bd6-e7528ccd6a43",
   "metadata": {},
   "outputs": [
    {
     "name": "stdout",
     "output_type": "stream",
     "text": [
      "Epoch 1/10\n",
      "375/375 [==============================] - 4s 7ms/step - loss: 0.1098 - auc_1: 0.9954 - val_loss: 0.0865 - val_auc_1: 0.9958\n",
      "Epoch 2/10\n",
      "375/375 [==============================] - 2s 5ms/step - loss: 0.0636 - auc_1: 0.9976 - val_loss: 0.0836 - val_auc_1: 0.9957\n",
      "Epoch 3/10\n",
      "375/375 [==============================] - 2s 5ms/step - loss: 0.0592 - auc_1: 0.9976 - val_loss: 0.0829 - val_auc_1: 0.9958\n",
      "Epoch 4/10\n",
      "375/375 [==============================] - 2s 5ms/step - loss: 0.0574 - auc_1: 0.9976 - val_loss: 0.0825 - val_auc_1: 0.9960\n",
      "Epoch 5/10\n",
      "375/375 [==============================] - 2s 5ms/step - loss: 0.0563 - auc_1: 0.9976 - val_loss: 0.0827 - val_auc_1: 0.9960\n",
      "Epoch 6/10\n",
      "375/375 [==============================] - 2s 5ms/step - loss: 0.0556 - auc_1: 0.9976 - val_loss: 0.0828 - val_auc_1: 0.9960\n",
      "Epoch 7/10\n",
      "375/375 [==============================] - 2s 5ms/step - loss: 0.0552 - auc_1: 0.9976 - val_loss: 0.0829 - val_auc_1: 0.9959\n",
      "Epoch 8/10\n",
      "375/375 [==============================] - 2s 5ms/step - loss: 0.0547 - auc_1: 0.9975 - val_loss: 0.0830 - val_auc_1: 0.9960\n",
      "Epoch 9/10\n",
      "375/375 [==============================] - 2s 5ms/step - loss: 0.0544 - auc_1: 0.9976 - val_loss: 0.0830 - val_auc_1: 0.9960\n",
      "Epoch 10/10\n",
      "375/375 [==============================] - 2s 5ms/step - loss: 0.0540 - auc_1: 0.9976 - val_loss: 0.0832 - val_auc_1: 0.9960\n"
     ]
    },
    {
     "data": {
      "text/plain": [
       "<keras.callbacks.History at 0x7fb7cb9958b0>"
      ]
     },
     "execution_count": 133,
     "metadata": {},
     "output_type": "execute_result"
    }
   ],
   "source": [
    "# Treinando o model_B (apenas camada de output).\n",
    "model_B.fit(X_train_B, y_train_B, epochs=10, validation_data=[X_test_B, y_test_B])"
   ]
  },
  {
   "cell_type": "code",
   "execution_count": 134,
   "id": "be59274b-71b2-4bf5-876b-df2cfa71649c",
   "metadata": {},
   "outputs": [],
   "source": [
    "# Com a camada de output ajustada, conseguimos fazer um treinamento pleno. Vamos descongelar os weights das hidden layers.\n",
    "for layer in model_B.layers[:-1]:\n",
    "    layer.trainable = True"
   ]
  },
  {
   "cell_type": "code",
   "execution_count": 135,
   "id": "64118a99-ddf2-4e9a-a5f5-2bc32084b88e",
   "metadata": {},
   "outputs": [
    {
     "name": "stdout",
     "output_type": "stream",
     "text": [
      "Epoch 1/20\n",
      "750/750 [==============================] - 7s 7ms/step - loss: 0.0538 - auc_2: 0.9976 - val_loss: 0.0830 - val_auc_2: 0.9961\n",
      "Epoch 2/20\n",
      "750/750 [==============================] - 4s 6ms/step - loss: 0.0537 - auc_2: 0.9976 - val_loss: 0.0829 - val_auc_2: 0.9961\n",
      "Epoch 3/20\n",
      "750/750 [==============================] - 4s 6ms/step - loss: 0.0535 - auc_2: 0.9976 - val_loss: 0.0828 - val_auc_2: 0.9960\n",
      "Epoch 4/20\n",
      "750/750 [==============================] - 4s 5ms/step - loss: 0.0535 - auc_2: 0.9976 - val_loss: 0.0827 - val_auc_2: 0.9960\n",
      "Epoch 5/20\n",
      "750/750 [==============================] - 4s 5ms/step - loss: 0.0534 - auc_2: 0.9976 - val_loss: 0.0825 - val_auc_2: 0.9961\n",
      "Epoch 6/20\n",
      "750/750 [==============================] - 4s 5ms/step - loss: 0.0533 - auc_2: 0.9976 - val_loss: 0.0824 - val_auc_2: 0.9961\n",
      "Epoch 7/20\n",
      "750/750 [==============================] - 4s 5ms/step - loss: 0.0532 - auc_2: 0.9977 - val_loss: 0.0823 - val_auc_2: 0.9961\n",
      "Epoch 8/20\n",
      "750/750 [==============================] - 4s 5ms/step - loss: 0.0530 - auc_2: 0.9977 - val_loss: 0.0824 - val_auc_2: 0.9961\n",
      "Epoch 9/20\n",
      "750/750 [==============================] - 4s 6ms/step - loss: 0.0531 - auc_2: 0.9977 - val_loss: 0.0821 - val_auc_2: 0.9961\n",
      "Epoch 10/20\n",
      "750/750 [==============================] - 4s 6ms/step - loss: 0.0530 - auc_2: 0.9977 - val_loss: 0.0820 - val_auc_2: 0.9961\n",
      "Epoch 11/20\n",
      "750/750 [==============================] - 4s 5ms/step - loss: 0.0529 - auc_2: 0.9977 - val_loss: 0.0819 - val_auc_2: 0.9961\n",
      "Epoch 12/20\n",
      "750/750 [==============================] - 4s 6ms/step - loss: 0.0528 - auc_2: 0.9977 - val_loss: 0.0818 - val_auc_2: 0.9961\n",
      "Epoch 13/20\n",
      "750/750 [==============================] - 4s 6ms/step - loss: 0.0527 - auc_2: 0.9978 - val_loss: 0.0817 - val_auc_2: 0.9961\n",
      "Epoch 14/20\n",
      "750/750 [==============================] - 4s 6ms/step - loss: 0.0527 - auc_2: 0.9977 - val_loss: 0.0816 - val_auc_2: 0.9961\n",
      "Epoch 15/20\n",
      "750/750 [==============================] - 4s 6ms/step - loss: 0.0526 - auc_2: 0.9978 - val_loss: 0.0816 - val_auc_2: 0.9961\n",
      "Epoch 16/20\n",
      "750/750 [==============================] - 4s 6ms/step - loss: 0.0525 - auc_2: 0.9978 - val_loss: 0.0815 - val_auc_2: 0.9961\n",
      "Epoch 17/20\n",
      "750/750 [==============================] - 4s 6ms/step - loss: 0.0524 - auc_2: 0.9978 - val_loss: 0.0814 - val_auc_2: 0.9961\n",
      "Epoch 18/20\n",
      "750/750 [==============================] - 4s 5ms/step - loss: 0.0524 - auc_2: 0.9978 - val_loss: 0.0813 - val_auc_2: 0.9961\n",
      "Epoch 19/20\n",
      "750/750 [==============================] - 5s 6ms/step - loss: 0.0523 - auc_2: 0.9978 - val_loss: 0.0813 - val_auc_2: 0.9961\n",
      "Epoch 20/20\n",
      "750/750 [==============================] - 5s 6ms/step - loss: 0.0522 - auc_2: 0.9978 - val_loss: 0.0812 - val_auc_2: 0.9962\n"
     ]
    },
    {
     "data": {
      "text/plain": [
       "<keras.callbacks.History at 0x7fb7cb79c880>"
      ]
     },
     "execution_count": 135,
     "metadata": {},
     "output_type": "execute_result"
    }
   ],
   "source": [
    "# A fim de preservar os coeficientes das camadas herdadas, use uma learning rate mais baixa.\n",
    "model_B.compile(optimizer=keras.optimizers.SGD(learning_rate=1e-4), loss=keras.losses.BinaryCrossentropy(), \n",
    "                metrics=keras.metrics.AUC())\n",
    "\n",
    "model_B.fit(X_train_B, y_train_B, epochs=20, validation_data=[X_test_B, y_test_B], batch_size=16)"
   ]
  },
  {
   "cell_type": "code",
   "execution_count": 136,
   "id": "454bbe18-762f-42d0-90f0-0569cd61e797",
   "metadata": {},
   "outputs": [
    {
     "name": "stdout",
     "output_type": "stream",
     "text": [
      "63/63 [==============================] - 0s 4ms/step\n"
     ]
    },
    {
     "data": {
      "text/plain": [
       "0.996196"
      ]
     },
     "execution_count": 136,
     "metadata": {},
     "output_type": "execute_result"
    }
   ],
   "source": [
    "from sklearn.metrics import roc_auc_score\n",
    "roc_auc_score(y_test_B,model_B.predict(X_test_B))"
   ]
  },
  {
   "cell_type": "markdown",
   "id": "72f1ab11-0536-4a5b-ae7c-df9e17ffe467",
   "metadata": {},
   "source": [
    "<h2 style='font-size:30px'> Unsupervised Pretraining</h2>\n",
    "<div> \n",
    "    <ul style='font-size:20px'> \n",
    "        <li> \n",
    "             O pretreinamento não-supervisionado consiste em uma estratégia de contigência para situações em que você possui uma dataset com muitas instâncias sem rótulo e Transfer Learning não é possível.\n",
    "        </li>\n",
    "        <li> \n",
    "            O treinamento deve ser feito por camada, congelando todas as demais. A Hidden Layer é fittada com o output de sua predecessora usando um algoritmo de detecção de features (Restricted Boltzmann Machines ou Autoencoders).\n",
    "        </li>\n",
    "        <li> \n",
    "            Ao término desse procedimento, adicione a output layer e faça um treinamento comum em sua rede como um todo com o uso das instâncias rotuladas.\n",
    "        </li>\n",
    "    </ul>\n",
    "</div>"
   ]
  },
  {
   "cell_type": "markdown",
   "id": "084b664e-a6bc-4007-ba42-275b07de849a",
   "metadata": {},
   "source": [
    "<h2 style='font-size:30px'> Pretraining On An Auxiliary Task</h2>\n",
    "<div> \n",
    "    <ul style='font-size:20px'> \n",
    "        <li> \n",
    "            Essa é uma outra estratégia para situações em que possuímos poucas instâncias nomeadas no dataset. É como se fosse um Transfer Learning caseiro.\n",
    "        </li>\n",
    "        <li> \n",
    "            Se dá pela criação de uma primeira rede neural voltada a uma tarefa auxiliar à sua em pauta. Esse modelo aprenderá a reconhecer padrões dos seus dados que poderão ser úteis ao seu projeto principal. Ao final, copie parte de suas camadas mais profundas ao seu modelo principal.\n",
    "        </li>\n",
    "    </ul>\n",
    "</div>"
   ]
  },
  {
   "cell_type": "markdown",
   "id": "fe9ef385-ec46-4555-994b-03815c523213",
   "metadata": {},
   "source": [
    "<h2 style='font-size:30px'> Faster Optimizers</h2>\n",
    "<div> \n",
    "    <ul style='font-size:20px'> \n",
    "        <li> \n",
    "             Até agora, o principal otimizador que usamos em modelagem foi a Stochastic Gradient Descent. Apesar de sua popularidade, essa não é a técnica mais veloz para se alcançar as configurações-ótimas. \n",
    "        </li>\n",
    "    </ul>\n",
    "</div>"
   ]
  },
  {
   "cell_type": "markdown",
   "id": "11e45bdc-2206-45e2-9836-2fc8fcfe23a2",
   "metadata": {},
   "source": [
    "<h3 style='font-size:30px;font-style:italic'> Momentum Optimization</h3>\n",
    "<div> \n",
    "    <ul style='font-size:20px'> \n",
    "        <li> \n",
    "             A Momentum Optmization soma ao $\\theta$ o vetor de momento. A fórmula deste é (k é o número da iteração):\n",
    "            $$\n",
    "                m^{k}=\\beta m^{k-1} - \\eta \\nabla_{\\theta}J(\\theta^{k-1})\n",
    "            $$\n",
    "        </li>\n",
    "        <li> \n",
    "            $\\beta$ servirá como um limitador da influência do vetor de momento anterior, assim como $\\eta$ restringe o valor de $\\nabla_{\\theta}J(\\theta)$.\n",
    "        </li>\n",
    "        <li> \n",
    "            Assim, a atualização dos coeficientes se dará como:\n",
    "            <p style='margin-left:300px'>\n",
    "            $\\theta^{k}=\\theta^{k-1}+m^{k}$ | $\\theta^{k}=\\theta^{k-1}+(\\beta m^{k-1} - \\eta \\nabla_{\\theta}J(\\theta^{k-1}))$\n",
    "            </p>\n",
    "        </li>\n",
    "    </ul>\n",
    "</div>"
   ]
  },
  {
   "cell_type": "markdown",
   "id": "6a0aa308-fa7c-4218-8905-c7424e048578",
   "metadata": {},
   "source": [
    "<h4 style='font-size:30px;font-style:italic;text-decoration:underline'> Análise das Iterações</h4>"
   ]
  },
  {
   "cell_type": "markdown",
   "id": "d2f231fe-90a0-414c-a314-27acb719dd62",
   "metadata": {},
   "source": [
    "<h5 style='font-size:25px;font-style:italic;text-decoration:underline'> 1a</h5>"
   ]
  },
  {
   "cell_type": "markdown",
   "id": "376be79d-061f-49d6-9b57-0523dd48e176",
   "metadata": {},
   "source": [
    "<p style='font-size:20px'> \n",
    "    $m^{1}=\\beta 0 - \\eta \\nabla_{\\theta}J(\\theta^{0})$\n",
    "</p>\n",
    "<p style='font-size:20px'> \n",
    "    $\\theta^{1}=\\theta^{0}+m^{1}=\\theta^{0}- \\eta \\nabla_{\\theta}J(\\theta^{0})$ (Como uma SGD comum)\n",
    "</p>"
   ]
  },
  {
   "cell_type": "markdown",
   "id": "b7485cb3-ddcc-479c-85e6-1ae357c3fd2e",
   "metadata": {},
   "source": [
    "<h5 style='font-size:25px;font-style:italic;text-decoration:underline'> 2a</h5>\n",
    "<p style='font-size:20px'> \n",
    "    $m^{2}=\\beta m^{1} - \\eta \\nabla_{\\theta}J(\\theta^{1})=\\beta (- \\eta \\nabla_{\\theta}J(\\theta^{0})) - \\eta \\nabla_{\\theta}J(\\theta^{1})$\n",
    "</p>\n",
    "<p style='font-size:20px'> \n",
    "    $\\theta^{2}=\\theta^{1}+m^{2}=\\theta^{1}+ \\beta (- \\eta \\nabla_{\\theta}J(\\theta^{0})) - \\eta \\nabla_{\\theta}J(\\theta^{1})$\n",
    "</p>"
   ]
  },
  {
   "cell_type": "markdown",
   "id": "5bcc6d7e-13eb-42a5-ba3c-64c8da4c1731",
   "metadata": {},
   "source": [
    "<h5 style='font-size:25px;font-style:italic;text-decoration:underline'> 3a</h5>\n",
    "<p style='font-size:20px'> \n",
    "    $m^{3}=\\beta m^{2} - \\eta \\nabla_{\\theta}J(\\theta^{2})=\\beta [\\beta (- \\eta \\nabla_{\\theta}J(\\theta^{0})) - \\eta \\nabla_{\\theta}J(\\theta^{1})] - \\eta \\nabla_{\\theta}J(\\theta^{2})$\n",
    "</p>\n",
    "<p style='font-size:20px'> \n",
    "    $\\theta^{3}=\\theta^{2}+m^{3}=\\theta^{2}+ \\beta [\\beta (- \\eta \\nabla_{\\theta}J(\\theta^{0})) - \\eta \\nabla_{\\theta}J(\\theta^{1})] - \\eta \\nabla_{\\theta}J(\\theta^{2})$\n",
    "</p>"
   ]
  },
  {
   "cell_type": "code",
   "execution_count": null,
   "id": "f3fb7f7d-af2d-476e-a3b7-543a75d50815",
   "metadata": {},
   "outputs": [],
   "source": [
    "# A implementação da Momentum Optimization se dá com a classe SGD, do módulo 'optimizers' do Keras.\n",
    "keras.optimizers.SGD(learning_rate=1e-4, momentum=True,)"
   ]
  },
  {
   "cell_type": "markdown",
   "id": "7c26666d-1ee8-4580-97ec-327a79e3d882",
   "metadata": {},
   "source": [
    "<h3 style='font-size:30px;font-style:italic'> Nesterov Accelerated Gradient</h3>\n",
    "<div> \n",
    "    <ul style='font-size:20px'> \n",
    "        <li> \n",
    "             Yurii Nesterov propôs uma pequena alteração da Momentum Optimization: medimos o vetor de gradiente em $\\theta + \\beta m$. Esse ajuste quase sempre faz o treinamento ser mais rápido do que a última estratégia apresentada.\n",
    "            <div style='margin-left:350px'>\n",
    "                <p> $m^{k+1}=m^{k}-\\eta \\nabla_{\\theta}{J(\\theta^{k}+\\beta m^{k})}$</p>\n",
    "                <p> $\\theta^{k+1}=\\theta^{k}+m^{k+1}$</p>\n",
    "            </div>\n",
    "                </li>\n",
    "    </ul>\n",
    "</div>"
   ]
  },
  {
   "cell_type": "code",
   "execution_count": 143,
   "id": "e0bb2ea2-258b-42de-aa1f-49d288ecff20",
   "metadata": {},
   "outputs": [
    {
     "data": {
      "text/plain": [
       "<keras.optimizers.optimizer_v2.gradient_descent.SGD at 0x7fb811bdae50>"
      ]
     },
     "execution_count": 143,
     "metadata": {},
     "output_type": "execute_result"
    }
   ],
   "source": [
    "# Para usar a NAG, defina o argumento 'nesterov' como True.\n",
    "keras.optimizers.SGD(learning_rate=1e-4, momentum=.9, nesterov=True)"
   ]
  },
  {
   "cell_type": "markdown",
   "id": "cb0b35f7-35ea-4c02-b9d3-d622f924febc",
   "metadata": {},
   "source": [
    "<h3 style='font-size:30px;font-style:italic'> AdaGrad</h3>\n",
    "<div> \n",
    "    <ul style='font-size:20px'> \n",
    "        <li> \n",
    "             Todos os algoritmos de otimização vistos até então mantêm a sua $\\eta$ constante com o evoluir do treinamento. Isso pode ser considerado um fator limitador, pois pode nos fazer rodear o ponto do mínimo global várias vezes até que paremos nele. Foi considerando essa situação que a AdaGrad Optimization foi concebida. \n",
    "        </li>\n",
    "        <li> \n",
    "            Com essa, a learning rate é reduzida ao longo das iterações com o objetivo de aterrisarmos no mínimo global mais rapidamente. Seu valor é dividido pelo vetor $\\vec{s}$, que contém a soma do quadrado das derivadas parciais de todas as iterações feitas até o dado momento. Observe que o quociente resultante será um vetor, o que faz com que cada $\\theta$ da rede tenha a sua própria learning rate!\n",
    "        </li>\n",
    "            <div>\n",
    "                <center> $\\theta^{k+1}=\\theta^{k}-\\eta^{k+1}{\\nabla_{\\theta}J(\\theta^{k})}$ </center>\n",
    "                <center> $\\eta^{k+1}=\\frac{\\eta^{k}}{\\sqrt{s^{k+1}+\\epsilon}}$ ($\\epsilon$ é um número positivo pequeno que evita divisões por 0.</center>\n",
    "                <center> $s^{k+1}=s^{k}+\\nabla_{\\theta}J(\\theta^{k})\\odot \\nabla_{\\theta}J(\\theta^{k})$ ($\\odot$ é a multiplicação element-wise)</center>\n",
    "        </div>\n",
    "        <li style='margin-top:10px'> \n",
    "            Apesar de sua estratégia ser interessante, o AdaGrad costuma interromper o treinamento antes de alcançar o mínimo local. Por outro lado, sua lógica baseou a criação de outros otimizadores de maior qualidade.\n",
    "        </li>\n",
    "    </ul>\n",
    "</div>"
   ]
  },
  {
   "cell_type": "markdown",
   "id": "af66aa16-6b3f-4948-933d-a021b801b884",
   "metadata": {},
   "source": [
    "<h3 style='font-size:30px;font-style:italic'> RMSProp</h3>\n",
    "<div> \n",
    "    <ul style='font-size:20px'> \n",
    "        <li> \n",
    "             Se nos atentarmos às equações da AdaGrad, perceberemos que seu criador poderia ter recorrido a uma estratégia encontrada na Momentum Opt e NAG: o uso de um argumento $\\beta$ que reduz, gradativamente, a influência das derivadas parciais anteriores na geração de $\\theta$. A RMSProp, basicamente, aplica esse ajuste:\n",
    "            <div>    \n",
    "                <center>$\\theta^{k+1}=\\theta^{k}-\\eta^{k+1}\\nabla_{\\theta}J(\\theta^{k})$</center>\n",
    "                <center> $\\eta^{k+1}=\\frac{\\eta^{k}}{\\sqrt{s^{k+1}+\\epsilon}}$</center>\n",
    "                <center> $s^{k+1}=\\beta{s^{k}}+(1-\\beta)\\nabla_{\\theta}{J(\\theta^{k})}\\odot\\nabla_{\\theta}{J(\\theta^{k})}$</center>\n",
    "            </div>\n",
    "        </li>\n",
    "        <li> \n",
    "             O uso de $\\beta$ desacelerará o crescimento de $\\vec{s}$ e, consequentemente, o decaimento de $\\vec{\\eta}.$\n",
    "        </li>\n",
    "    </ul>\n",
    "</div>"
   ]
  },
  {
   "cell_type": "markdown",
   "id": "fe36aa88-3176-4343-a36d-881b891760c7",
   "metadata": {},
   "source": [
    "<h3 style='font-size:30px;font-style:italic'> Adam</h3>\n",
    "<div> \n",
    "    <ul style='font-size:20px'> \n",
    "        <li> \n",
    "             A Adaptive Moment Estimation tenta ser uma combinação da Momentum Optimization e RMSProp. Ou seja, a atualização dos coeficientes ocorre considerando os gradientes anteriores e com uma learning rate adaptativa. A criação dos vetores $\\vec{m}$ e $\\vec{s}$ acontece com betas distintos.\n",
    "            <div>\n",
    "                <center> \n",
    "                        $m^{k+1}=\\beta_{1}m^{k}-(1-\\beta_{1})\\nabla_{\\theta}{J(\\theta^{k})}$\n",
    "                </center>\n",
    "                <center style='margin-top:10px'> \n",
    "                        $\\hat{m}^{k+1}=\\frac{m^{k+1}}{1-\\beta_{1}^{t}}$\n",
    "                </center>\n",
    "                <center style='margin-top:10px'> \n",
    "                        $s^{k+1}=\\beta_{2}s^{k}+(1-\\beta_{2})\\nabla_{\\theta}{J(\\theta^{k})}$\n",
    "                </center>\n",
    "                <center style='margin-top:10px'> \n",
    "                        $\\hat{s}^{k+1}=\\frac{s^{k+1}}{1-\\beta_{2}^{t}}$\n",
    "                </center>\n",
    "                <center style='margin-top:10px'> \n",
    "                        $\\eta^{k+1}=\\frac{\\eta^{k}}{\\sqrt{\\hat{s}^{k+1}+\\epsilon}}$\n",
    "                </center>\n",
    "                <center style='margin-top:10px'> \n",
    "                        $\\theta^{k+1}=\\theta+\\eta^{k+1}\\hat{m}^{k+1}$\n",
    "                </center>\n",
    "            </div>\n",
    "        </li>\n",
    "        <li> \n",
    "            Uma variante interessante de Adam seria a Nadam, que, assim como NAG, computa os gradientes em $\\theta+\\beta\\hat{m}$\n",
    "        </li>\n",
    "    </ul>\n",
    "</div>"
   ]
  },
  {
   "cell_type": "markdown",
   "id": "c11ea7b2-9263-4d93-b9d3-7ff85e781b41",
   "metadata": {},
   "source": [
    "<h2 style='font-size:30px'> Training Sparse Models</h2>\n",
    "<div> \n",
    "    <ul style='font-size:20px'> \n",
    "        <li> \n",
    "             É possível que precisemos de uma rede neural esparsa (com um número maior de coeficientes 0) por questões de memória, por exemplo. A primeira estratégia que poderíamos pensar seria recorrer à regularização $l1$, mas essa pode não zerar neurônios o bastante.\n",
    "        </li>\n",
    "        <li> \n",
    "            A melhor solução seria usar o otimizador FTRL, desenvolvido por Yurii Nesterov e  colaboradores do Google. Esse possui uma classe pronta no Keras.\n",
    "        </li>\n",
    "    </ul>\n",
    "</div>"
   ]
  },
  {
   "cell_type": "code",
   "execution_count": 4,
   "id": "7bcca37f-7f3d-4af1-bbf0-41843dd74319",
   "metadata": {},
   "outputs": [
    {
     "data": {
      "text/plain": [
       "<keras.optimizers.optimizer_v2.ftrl.Ftrl at 0x7f7a05929fa0>"
      ]
     },
     "execution_count": 4,
     "metadata": {},
     "output_type": "execute_result"
    }
   ],
   "source": [
    "# Otimizador FTRL:\n",
    "keras.optimizers.Ftrl()"
   ]
  },
  {
   "cell_type": "markdown",
   "id": "ce05f307-5399-4c33-b3ac-6d6fcd488e57",
   "metadata": {},
   "source": [
    "<h2 style='font-size:30px'> Learning Rate Scheduling</h2>\n",
    "<div> \n",
    "    <ul style='font-size:20px'> \n",
    "        <li> \n",
    "             Aprenderemos aqui estratégias de alterações da Learning Rate. Acredito que essas são mais apropriadas quando usamos otimizadores que não alteram o seu valor (como SGD ou NAG).\n",
    "        </li>\n",
    "    </ul>\n",
    "</div>"
   ]
  },
  {
   "cell_type": "markdown",
   "id": "b75ce9b5-0036-442b-964f-a7af67ad1fac",
   "metadata": {},
   "source": [
    "<h3 style='font-size:30px;font-style:italic'> Power Scheduling</h3>\n",
    "<div> \n",
    "    <ul style='font-size:20px'> \n",
    "        <li> \n",
    "             A cada s steps (atualizações do gradiente, não epochs), a learning rate é reduzida para $\\frac{\\eta_{0}}{2}$; após mais s steps, para $\\frac{\\eta_{0}}{3}$, e assim por diante.\n",
    "        </li>\n",
    "    </ul>\n",
    "</div>"
   ]
  },
  {
   "cell_type": "code",
   "execution_count": 8,
   "id": "fc63b762-304c-4eed-ad8a-f85211919441",
   "metadata": {},
   "outputs": [
    {
     "data": {
      "text/plain": [
       "<keras.optimizers.optimizer_v2.gradient_descent.SGD at 0x7f7a04e2afd0>"
      ]
     },
     "execution_count": 8,
     "metadata": {},
     "output_type": "execute_result"
    }
   ],
   "source": [
    "# Power Scheduling é implementado com o uso de 'decay' - o inverso do número de steps - em qualquer otimizador.\n",
    "keras.optimizers.SGD(.001, momentum=.9, decay=1e-4)"
   ]
  },
  {
   "cell_type": "markdown",
   "id": "03b1a3cc-6641-42f2-8a25-669a457caf7d",
   "metadata": {},
   "source": [
    "<h3 style='font-size:30px;font-style:italic'> Exponential Scheduling</h3>\n",
    "<div> \n",
    "    <ul style='font-size:20px'> \n",
    "        <li> \n",
    "            Propõe a redução exponencial da Learning Rate em função da quantidade de steps realizados. O $\\eta_0$ será multiplicado por um fator $\\alpha$ elevado pelo quociente do número do step atual dividido por um threshold de número de steps t.\n",
    "            <center> \n",
    "                $\\eta(s)=\\eta_{0}\\alpha^{\\frac{s}{t}}$\n",
    "            </center>\n",
    "        </li>\n",
    "        <li> \n",
    "            Por exemplo, podemos usar uma Exponential Scheduling com um $\\eta_0=0.01$, $\\alpha=0.95$ e t=100 steps:\n",
    "            <center> $\\eta(s)=0.01 \\times 0.95^{\\frac{s}{100}}$</center>\n",
    "        </li>\n",
    "    </ul>\n",
    "</div>"
   ]
  },
  {
   "cell_type": "code",
   "execution_count": null,
   "id": "da258d53-72f9-4978-b845-864b588b270d",
   "metadata": {},
   "outputs": [],
   "source": [
    "# Exponential Decay como classe do tf.keras (os schedules não são achados no Keras puro!)\n",
    "keras.optimizers.schedules.ExponentialDecay()"
   ]
  },
  {
   "cell_type": "markdown",
   "id": "acf58126-fcea-42d7-b1c0-0d2dc90d278c",
   "metadata": {},
   "source": [
    "<h3 style='font-size:30px;font-style:italic'> Piecewise Constant Scheduling</h3>\n",
    "<div> \n",
    "    <ul style='font-size:20px'> \n",
    "        <li> \n",
    "            Estratégia mais manual de escolha e $\\eta$. Escolha o intervalo de steps e a sua respectiva learning rate.\n",
    "        </li>\n",
    "        <li> \n",
    "            Por exemplo, do step 1 ao 500, $\\eta=0.05$; do 501 ao 1000, $\\eta=0.01$; do 1001 até o final, $\\eta=0.005$.\n",
    "        </li>\n",
    "    </ul>\n",
    "</div>"
   ]
  },
  {
   "cell_type": "code",
   "execution_count": 7,
   "id": "c64c5174-26dd-4871-8907-152da330745a",
   "metadata": {},
   "outputs": [
    {
     "data": {
      "text/plain": [
       "<keras.optimizers.schedules.learning_rate_schedule.PiecewiseConstantDecay at 0x7f7a04f2b7c0>"
      ]
     },
     "execution_count": 7,
     "metadata": {},
     "output_type": "execute_result"
    }
   ],
   "source": [
    "# Implementação da Piecewise Constant Scheduling no Keras.\n",
    "keras.optimizers.schedules.PiecewiseConstantDecay(boundaries=[500, 1000], values=[.05, .01, .005])"
   ]
  },
  {
   "cell_type": "markdown",
   "id": "7460c18d-77f4-404b-8178-077202ae0dfb",
   "metadata": {},
   "source": [
    "<h3 style='font-size:30px;font-style:italic'> Performance Scheduling</h3>\n",
    "<div> \n",
    "    <ul style='font-size:20px'> \n",
    "        <li> \n",
    "            Reduza a learning rate atual por um fator $\\alpha$ quando o score de validação não é melhorado por n epochs (não steps)!\n",
    "        </li>\n",
    "    </ul>\n",
    "</div>"
   ]
  },
  {
   "cell_type": "code",
   "execution_count": null,
   "id": "28e921da-65de-4b00-aad4-c40611846c5b",
   "metadata": {},
   "outputs": [],
   "source": [
    "# 'ReduceLROnPlateau' é um callback que exerce o papel de Performance Scheduling.\n",
    "keras.callbacks.ReduceLROnPlateau()"
   ]
  },
  {
   "cell_type": "markdown",
   "id": "81cfbfe2-6fe8-4fc2-a74f-fbae2c2758f1",
   "metadata": {},
   "source": [
    "<h3 style='font-size:30px;font-style:italic'> Schedulers Customizáveis</h3>\n",
    "<div> \n",
    "    <ul style='font-size:20px'> \n",
    "        <li> \n",
    "            Se preferir criar um scheduler, gere a sua lógica por meio de uma função e passe-a como argumento do callback LearningRateScheduler.\n",
    "        </li>\n",
    "    </ul>\n",
    "</div>"
   ]
  },
  {
   "cell_type": "code",
   "execution_count": 10,
   "id": "108e0d49-70ef-48b6-a086-3240d097a6a0",
   "metadata": {},
   "outputs": [
    {
     "data": {
      "text/plain": [
       "<keras.callbacks.LearningRateScheduler at 0x7f7a04e08cd0>"
      ]
     },
     "execution_count": 10,
     "metadata": {},
     "output_type": "execute_result"
    }
   ],
   "source": [
    "def my_scheduler(lr, epoch):\n",
    "    if epoch<50:\n",
    "        return lr\n",
    "    else:\n",
    "        return lr/5\n",
    "\n",
    "# Criando o callback juntamente com o scheduler.\n",
    "keras.callbacks.LearningRateScheduler(my_scheduler)"
   ]
  },
  {
   "cell_type": "markdown",
   "id": "7f734c23-04df-4787-8288-d223e9f3d3d2",
   "metadata": {},
   "source": [
    "<h2 style='font-size:30px'> Avoiding Overfitting Through Regularization</h2>\n",
    "<div> \n",
    "    <ul style='font-size:20px'> \n",
    "        <li> \n",
    "             A alta flexibilidade das redes neurais vem com um custo: sua alta propensão a overfitting. Considerando isso, nesta seção, lidaremos com algumas estratégias de regularização.\n",
    "        </li>\n",
    "        <li> \n",
    "            Cabe salientar que nós já aprendemos alguns regularizadores para NN's (Early Stopping e Batch Normalization).\n",
    "        </li>\n",
    "    </ul>\n",
    "</div>"
   ]
  },
  {
   "cell_type": "markdown",
   "id": "f2aa35e7-fded-4c52-ae93-f443d72bafd2",
   "metadata": {},
   "source": [
    "<h3 style='font-size:30px;font-style:italic'> $l1$ and $l2$ Regularization</h3>\n",
    "<div> \n",
    "    <ul style='font-size:20px'> \n",
    "        <li> \n",
    "            O Keras nos permite acrescentar as normas $l1$ e $l2$ à função loss.\n",
    "        </li>\n",
    "        <li> \n",
    "            As normas podem ser a respeito:\n",
    "            <ul style='list-style-type:circle'> \n",
    "                <li> \n",
    "                    Dos pesos da hidden layer (chamados também de kernel): kernel_regularizer.\n",
    "                </li>\n",
    "                <li> \n",
    "                    Da bias da hidden layer: bias_regularizer.\n",
    "                </li>\n",
    "                <li> \n",
    "                    Do output da hidden layer: activity_regularizer.\n",
    "                </li>\n",
    "            </ul>\n",
    "        </li>\n",
    "    </ul>\n",
    "</div>"
   ]
  },
  {
   "cell_type": "code",
   "execution_count": 31,
   "id": "a2397d1e-d991-4c0a-88b9-a8e5c91f158a",
   "metadata": {},
   "outputs": [
    {
     "data": {
      "text/plain": [
       "<keras.regularizers.L1L2 at 0x7f79efe75b50>"
      ]
     },
     "execution_count": 31,
     "metadata": {},
     "output_type": "execute_result"
    }
   ],
   "source": [
    "# Note, é possível aplicar Elastic Net à função-custo:\n",
    "keras.regularizers.l1_l2()"
   ]
  },
  {
   "cell_type": "code",
   "execution_count": 30,
   "id": "2a9fe057-f774-4fa1-bf41-1588e9c76cf5",
   "metadata": {},
   "outputs": [],
   "source": [
    "# Montar uma rede neural com todas as estratégias apresentadas até o momento pode deixar o nosso código poluído.\n",
    "# Foi considerando isso que o Aurélien nos aconselhou a usarmos um wrapper de classes - o functools.partial - que encapsula \n",
    "# um objeto parcialmente configurado. Para aplicá-lo na rede neural, basta mencioná-lo.\n",
    "from functools import partial\n",
    "\n",
    "# Criando uma 'Dense' layer pré-definida. Vamos deixar o argumento 'units' em aberto.\n",
    "RegularizedDense = partial(keras.layers.Dense, activation='elu', kernel_initializer='he_normal', \n",
    "                           kernel_regularizer=keras.regularizers.l2(.1))\n",
    "\n",
    "model = keras.models.Sequential([\n",
    "        keras.layers.Flatten(input_shape=[28,28]),\n",
    "        # Agora, mencionando apenas o objeto 'partial' criado.\n",
    "        RegularizedDense(units = 30),\n",
    "        RegularizedDense(units=50),\n",
    "        RegularizedDense(units=50),\n",
    "        RegularizedDense(units=10, activation='softmax', kernel_initializer='glorot_uniform')\n",
    "])"
   ]
  },
  {
   "cell_type": "markdown",
   "id": "e1bed39c-874c-4723-96a2-1b1694be8598",
   "metadata": {},
   "source": [
    "<h2 style='font-size:30px'> Dropout</h2>\n",
    "<div> \n",
    "    <ul style='font-size:20px'> \n",
    "        <li> \n",
    "             Dropout é uma das técnicas de regularização mais populares em Deep Learning. Consiste em desconsiderar certos neurônios durante um certo step do treinamento dada uma probabilidade 'rate' de isso ocorrer.\n",
    "        </li>\n",
    "    </ul>\n",
    "</div>"
   ]
  },
  {
   "cell_type": "code",
   "execution_count": 35,
   "id": "4822d0e1-81d5-45d3-aa99-2b8ebc816f15",
   "metadata": {},
   "outputs": [
    {
     "data": {
      "text/plain": [
       "<keras.layers.regularization.dropout.Dropout at 0x7f79efd9adc0>"
      ]
     },
     "execution_count": 35,
     "metadata": {},
     "output_type": "execute_result"
    }
   ],
   "source": [
    "# Géron afirma que definindo 'rate'=.5 produz bons resultados.\n",
    "keras.layers.Dropout(rate=.5)"
   ]
  },
  {
   "cell_type": "markdown",
   "id": "d41e5515-feda-4f7f-8e80-31ff0d374dba",
   "metadata": {},
   "source": [
    "<p style='color:red'> Continuar Dropout</p>"
   ]
  }
 ],
 "metadata": {
  "kernelspec": {
   "display_name": "Python 3 (ipykernel)",
   "language": "python",
   "name": "python3"
  },
  "language_info": {
   "codemirror_mode": {
    "name": "ipython",
    "version": 3
   },
   "file_extension": ".py",
   "mimetype": "text/x-python",
   "name": "python",
   "nbconvert_exporter": "python",
   "pygments_lexer": "ipython3",
   "version": "3.8.10"
  }
 },
 "nbformat": 4,
 "nbformat_minor": 5
}
