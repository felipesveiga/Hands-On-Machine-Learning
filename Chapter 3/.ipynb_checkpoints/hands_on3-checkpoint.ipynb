{
 "cells": [
  {
   "cell_type": "markdown",
   "id": "b9db2df7-7afa-4a34-92e0-5d121ef02675",
   "metadata": {},
   "source": [
    "<h1 style='font-size:40px'> Classification</h1>\n",
    "<h2 style='font-size:30px'> Apresentação do dataset</h2>\n",
    "<div>\n",
    "    <ul style='font-size:20px'>\n",
    "        <li>\n",
    "            Neste capítulo, lidaremos com dataset MNIST, que contém 70 mil imagens de algarismos escritos à mão por estudantes do Ensino Médio americano e empregados do escritório de censos dos EUA.\n",
    "        </li>\n",
    "    </ul>\n",
    "</div>"
   ]
  },
  {
   "cell_type": "code",
   "execution_count": 1,
   "id": "fc508a88-851a-443f-812f-394cd8393def",
   "metadata": {},
   "outputs": [],
   "source": [
    "from sklearn.datasets import fetch_openml\n",
    "mnist = fetch_openml('mnist_784', version=1)"
   ]
  },
  {
   "cell_type": "code",
   "execution_count": 2,
   "id": "b48bf0a7-9b80-49d8-a495-87812fae0d1c",
   "metadata": {},
   "outputs": [],
   "source": [
    "# Extraindo os dados de treino e teste. Cada coluna de 'X' é a intensidade do pixel da foto do dígito. \n",
    "# Como as imagens são 28x28, temos um total de 784 pixels e colunas.\n",
    "X = mnist.data\n",
    "y = mnist.target.astype(int)"
   ]
  },
  {
   "cell_type": "markdown",
   "id": "d92105a3-5e8e-44e7-b605-fc9775e8487c",
   "metadata": {},
   "source": [
    "<h3 style='font-size:30px;font-style:italic'> Conhecendo os dados</h3>"
   ]
  },
  {
   "cell_type": "code",
   "execution_count": 3,
   "id": "632a5250-d1ff-495b-9957-b46e32c5ba46",
   "metadata": {},
   "outputs": [
    {
     "data": {
      "text/plain": [
       "<matplotlib.image.AxesImage at 0x7f4abe714340>"
      ]
     },
     "execution_count": 3,
     "metadata": {},
     "output_type": "execute_result"
    },
    {
     "data": {
      "image/png": "[encoded data removed]",
      "text/plain": [
       "<Figure size 432x288 with 1 Axes>"
      ]
     },
     "metadata": {
      "needs_background": "light"
     },
     "output_type": "display_data"
    }
   ],
   "source": [
    "# Vamos analisar a imagem de um dos dígitos do dataset utilizando o matplotlib.\n",
    "import matplotlib.pyplot as plt\n",
    "from matplotlib.cm import binary\n",
    "import numpy as np\n",
    "\n",
    "# Obtendo os pixels do primeiro número do dataset.\n",
    "some_digit_image = X.iloc[0].values.reshape(28,28)\n",
    "\n",
    "# Tudo indica que se trata de um cinco.\n",
    "plt.imshow(some_digit_image, cmap=binary, interpolation='nearest')"
   ]
  },
  {
   "cell_type": "code",
   "execution_count": 4,
   "id": "b271f295-60d2-4348-a14d-55324b959780",
   "metadata": {},
   "outputs": [
    {
     "data": {
      "text/plain": [
       "5"
      ]
     },
     "execution_count": 4,
     "metadata": {},
     "output_type": "execute_result"
    }
   ],
   "source": [
    "# E, de fato, o dígito em questão é um 5.\n",
    "y[0]"
   ]
  },
  {
   "cell_type": "markdown",
   "id": "c3970b08-6359-42be-a388-ef9edb25e1fb",
   "metadata": {},
   "source": [
    "<h3 style='font-size:30px;font-style:italic'> Segregação de dados</h3>\n",
    "<div>\n",
    "    <ul style='font-size:20px'>\n",
    "        <li>\n",
    "            Os dados de <em>mnist</em> já estão ordenados de maneira que as 60 mil primeiras ocorrências sejam destinadas a treino e as outras 10 mil instâncias para teste.\n",
    "        </li>\n",
    "    </ul>\n",
    "</div>"
   ]
  },
  {
   "cell_type": "code",
   "execution_count": 5,
   "id": "c5fbbe6a-a381-4fa5-9d3e-b616a1a3a3a4",
   "metadata": {},
   "outputs": [],
   "source": [
    "# Um unpacking de tuplas será o suficiente para essa operação.\n",
    "X_train, X_test, y_train, y_test = X.iloc[:60000], X.iloc[60000:], y.iloc[:60000], y.iloc[60000:]"
   ]
  },
  {
   "cell_type": "markdown",
   "id": "6f3acc67-791d-4722-b931-5a4b443b59d5",
   "metadata": {},
   "source": [
    "<h2 style='font-size:30px'> Training a Binary Classifier</h2>\n",
    "<div>\n",
    "    <ul style='font-size:20px'>\n",
    "        <li>\n",
    "            Vamos começar o capítulo com uma tarefa simples: criar um classificador que identifique quando a imagem se refere a um número definido x, e quando ela não representa X. Neste caso, estamos diante de um trabalho de classificação binária.\n",
    "        </li>\n",
    "    </ul>\n",
    "</div>"
   ]
  },
  {
   "cell_type": "code",
   "execution_count": 6,
   "id": "b7d4dc83-3819-4c12-aa1a-667b009f09a3",
   "metadata": {},
   "outputs": [],
   "source": [
    "# O autor escolheu identificar as ocorrências de 5 e não-5.\n",
    "\n",
    "# Os novos datasets terão valores booleanos. True para 5 e False para não-5\n",
    "y_train_5 = y_train == 5\n",
    "y_test_5 = y_test == 5"
   ]
  },
  {
   "cell_type": "markdown",
   "id": "33b37652-01dc-4aad-ad81-cf12f598cca6",
   "metadata": {},
   "source": [
    "<div>\n",
    "    <ul style='font-size:20px'>\n",
    "        <li>\n",
    "            Para começar a nossa tarefa, vamos utilizar o Stochastic Gradient Descent (SGD), do módulo sklearn.linear_model. Ele é bastante eficaz em lidar com datasets grandes.\n",
    "        </li>\n",
    "    </ul>\n",
    "</div>"
   ]
  },
  {
   "cell_type": "code",
   "execution_count": 19,
   "id": "cd7e04b7-8978-4a23-903b-4baf2c4f83af",
   "metadata": {},
   "outputs": [
    {
     "name": "stderr",
     "output_type": "stream",
     "text": [
      "/home/veiga/.local/lib/python3.8/site-packages/sklearn/base.py:450: UserWarning: X does not have valid feature names, but SGDClassifier was fitted with feature names\n",
      "  warnings.warn(\n"
     ]
    },
    {
     "data": {
      "text/plain": [
       "array([ True])"
      ]
     },
     "execution_count": 19,
     "metadata": {},
     "output_type": "execute_result"
    }
   ],
   "source": [
    "from sklearn.linear_model import SGDClassifier\n",
    "sgd_clf = SGDClassifier(random_state=42)\n",
    "sgd_clf.fit(X_train, y_train_5)\n",
    "\n",
    "# Prevendo o valor da primeira instância de X (5). O classificador adivinha com sucesso.\n",
    "sgd_clf.predict(X.iloc[0].values.reshape(1,-1))"
   ]
  },
  {
   "cell_type": "markdown",
   "id": "d4b45bb3-8b0b-46b4-80e4-bed5bc2b0e6b",
   "metadata": {},
   "source": [
    "<h2 style='font-size:30px'> Performance Measures</h2>\n",
    "<div>\n",
    "    <ul style='font-size:20px'>\n",
    "        <li>\n",
    "            Aqui, o autor faz uma breve demosntração sobre como a acurácia pode não ser a métrica de qualidade mais adequada com datasets desbalanceados.\n",
    "        </li>\n",
    "    </ul>\n",
    "</div>"
   ]
  },
  {
   "cell_type": "code",
   "execution_count": 27,
   "id": "233bc736-5d3c-425b-83c0-967e62926514",
   "metadata": {},
   "outputs": [
    {
     "data": {
      "text/plain": [
       "0.9570333333333334"
      ]
     },
     "execution_count": 27,
     "metadata": {},
     "output_type": "execute_result"
    }
   ],
   "source": [
    "# Realizando uma validação cruzada cuja métrica de performance é o score do modelo. \n",
    "from sklearn.model_selection import cross_val_score\n",
    "cross_val_score(sgd_clf, X_train, y_train_5,cv=3, scoring='accuracy').mean()"
   ]
  },
  {
   "cell_type": "code",
   "execution_count": 25,
   "id": "f1109239-c9e3-4fa4-afd1-2c11f49dc338",
   "metadata": {},
   "outputs": [],
   "source": [
    "# Agora, vamos criar um Dummy Classifier caseiro com a classe pré-definida BaseEstimator.\n",
    "# Ele sempre previrá que o número não é 5.\n",
    "from sklearn.base import BaseEstimator\n",
    "import numpy as np\n",
    "class Never5Classifier(BaseEstimator):\n",
    "    # Algo que eu havia esquecido sobre POO, podemos fazer uma classe sem um __init__.\n",
    "    def fit(self, X, y=None):\n",
    "        return self\n",
    "    \n",
    "    def predict(self, X):\n",
    "        return np.zeros((len(X),1), dtype='bool' )\n"
   ]
  },
  {
   "cell_type": "code",
   "execution_count": 26,
   "id": "fcfbd001-c5c5-4585-8b9c-e44c70794579",
   "metadata": {},
   "outputs": [
    {
     "data": {
      "text/plain": [
       "0.90965"
      ]
     },
     "execution_count": 26,
     "metadata": {},
     "output_type": "execute_result"
    }
   ],
   "source": [
    "# Agora, vamos fazer uma validação cruzada com esse classificador 'burro'\n",
    "never_5_clf = Never5Classifier()\n",
    "\n",
    "# Veja, mesmo sendo dogmático, Never5Classifier tem uma taxa de acerto de quase 91%.\n",
    "cross_val_score(never_5_clf, X_train, y_train_5, cv=3 ,scoring='accuracy').mean()"
   ]
  },
  {
   "cell_type": "markdown",
   "id": "60d10065-1276-408b-86e3-a981a2d6716f",
   "metadata": {},
   "source": [
    "<h3 style='font-size:30px;font-style:italic'> Confusion Matrix</h3>\n",
    "<div>\n",
    "    <ul style='font-size:20px'>\n",
    "        <li>\n",
    "            A matriz de confusão é uma represetação visual que contabiliza o número de classificações (certas ou erradas) feitas pelo modelo. Como apontado pelo autor, se quiséssemos saber quantas vezes o algoritmo confundiu 5 com 3, basta olharmos a terceira coluna da quinta linha da matriz. \n",
    "        </li>\n",
    "    </ul>\n",
    "</div>"
   ]
  },
  {
   "cell_type": "code",
   "execution_count": 30,
   "id": "6154f8c8-1cee-4755-a06e-1224077dd6ac",
   "metadata": {},
   "outputs": [],
   "source": [
    "# Prevendo os valores-alvo do dataset de treino com cross_val_predict\n",
    "from sklearn.model_selection import cross_val_predict\n",
    "y_train_pred = cross_val_predict(sgd_clf,X_train, y_train_5, cv=3)"
   ]
  },
  {
   "cell_type": "code",
   "execution_count": 35,
   "id": "a6ffc5eb-d566-4e14-a996-7166bdd3c215",
   "metadata": {},
   "outputs": [
    {
     "data": {
      "text/plain": [
       "array([[53892,   687],\n",
       "       [ 1891,  3530]])"
      ]
     },
     "execution_count": 35,
     "metadata": {},
     "output_type": "execute_result"
    }
   ],
   "source": [
    "# As linhas representam a classe verdadeira; já as colunas, a classe prevista pelo modelo.\n",
    "\n",
    "# Nesse caso, temos mais de 50 mil valores não-5 previstos como não-5 e 3530 5's rotulados como 5.\n",
    "from sklearn.metrics import confusion_matrix\n",
    "confusion_matrix(y_train_5, y_train_pred)"
   ]
  },
  {
   "cell_type": "code",
   "execution_count": 52,
   "id": "d45da494-a4d0-443c-b98a-393983160d21",
   "metadata": {},
   "outputs": [
    {
     "data": {
      "text/plain": [
       "<AxesSubplot:>"
      ]
     },
     "execution_count": 52,
     "metadata": {},
     "output_type": "execute_result"
    },
    {
     "data": {
      "image/png": "[encoded data removed]",
      "text/plain": [
       "<Figure size 432x288 with 2 Axes>"
      ]
     },
     "metadata": {
      "needs_background": "light"
     },
     "output_type": "display_data"
    }
   ],
   "source": [
    "# Podemos utilizar um mapa de calor do seaborn para melhorar a visualização dos dados.\n",
    "import seaborn as sns\n",
    "sns.heatmap(confusion_matrix(y_train_5, y_train_pred), annot=True, fmt='.5g')"
   ]
  },
  {
   "cell_type": "markdown",
   "id": "0162bff3-8dc8-4d03-ad7c-93e6f98fa9de",
   "metadata": {},
   "source": [
    "<div>\n",
    "    <ul style='font-size:20px'>\n",
    "        <li>\n",
    "            A partir da matriz de confusão, podemos estimar novas métricas qualitativas sobre o modelo. Por exemplo, entre as instâncias classificadas como positivas (1), qual a porcentagem delas é realmente positiva (Precision)? Ou, de todas as instâncias positivas do dataset, qual a porcentagem delas foi que o modelo conseguiu rotular como tal (Recall)? \n",
    "        </li>\n",
    "    </ul>\n",
    "</div>\n",
    "<center> \n",
    "    <img src='precision_recall1.png'>\n",
    "</center>"
   ]
  },
  {
   "cell_type": "markdown",
   "id": "8c83269f-cbd9-49e8-95e0-57f29bdbcc53",
   "metadata": {},
   "source": [
    "<h3 style='font-size:30px;font-style:italic'> Precision and Recall</h3>"
   ]
  },
  {
   "cell_type": "code",
   "execution_count": 56,
   "id": "fe93634f-5965-4a28-9c18-6d1b4346dcc5",
   "metadata": {},
   "outputs": [
    {
     "name": "stdout",
     "output_type": "stream",
     "text": [
      "Precisão do modelo: 83.71%\n",
      "Recall do modelo: 65.12%\n"
     ]
    }
   ],
   "source": [
    "# Medindo as novas métricas aprendidas com o sklearn.metrics\n",
    "from sklearn.metrics import recall_score, precision_score\n",
    "print(f'Precisão do modelo: {precision_score(y_train_5,y_train_pred) :.2%}')\n",
    "print(f'Recall do modelo: {recall_score(y_train_5,y_train_pred) :.2%}')"
   ]
  },
  {
   "cell_type": "markdown",
   "id": "17f41af4-9a0a-406d-b419-c1cfef214753",
   "metadata": {},
   "source": [
    "<h3 style='font-size:30px;font-style:italic'> F1-Score</h3>\n",
    "<div>\n",
    "    <ul style='font-size:20px'>\n",
    "        <li>\n",
    "            O F1-Score é a média harmônica entre precision e recall. Diferentemente de uma média comum, esse índice dá um peso maior a valores pequenos.\n",
    "        </li>\n",
    "    </ul>\n",
    "</div>"
   ]
  },
  {
   "cell_type": "code",
   "execution_count": 77,
   "id": "479f5782-c011-426a-9129-f686c65e00a7",
   "metadata": {},
   "outputs": [
    {
     "name": "stdout",
     "output_type": "stream",
     "text": [
      "F1-Score do modelo: 73.25%\n"
     ]
    }
   ],
   "source": [
    "from sklearn.metrics import f1_score\n",
    "print(f'F1-Score do modelo: {f1_score(y_train_5,y_train_pred) :.2%}')"
   ]
  },
  {
   "cell_type": "markdown",
   "id": "a2dc06c9-d84d-48be-a2d4-d0556b391a46",
   "metadata": {},
   "source": [
    "<h3 style='font-size:30px;font-style:italic'> Precision/Recall Tradeoff</h3>\n",
    "<div>\n",
    "    <ul style='font-size:20px'>\n",
    "        <li>\n",
    "            Neste tópico, o autor discorre sobre a inevitável correlação negativa entre precision e recall. Quando queremos aumentar o valor de um dos índices, teremos que sacrificar parte do desempenho do outro.\n",
    "        </li>\n",
    "        <li>\n",
    "            Para ilustrar como isso ocorre, é apresentada a função de pontuação da chamada <em>decision_function</em>. Os modelos de classificação aplicam essa função para cada instância a ser rotulada, o que se resulta em um número. Esse valor pode ser maior ou menor do que o threshold escolhido. Caso seja mais alto, a instância será agrupada na classe positiva; caso o contrário, na classe negativa.  \n",
    "        </li>\n",
    "        <li>\n",
    "            O scikit-learn não nos permite ajustar esse thresolhd ao criarmos o modelo, mas podemos ajustá-lo, manualmente, com uma simples expressão comparativa. \n",
    "        </li>\n",
    "    </ul>\n",
    "</div>"
   ]
  },
  {
   "cell_type": "code",
   "execution_count": 98,
   "id": "dd85556a-8e05-40da-b350-8e2591022669",
   "metadata": {},
   "outputs": [
    {
     "name": "stderr",
     "output_type": "stream",
     "text": [
      "/home/veiga/.local/lib/python3.8/site-packages/sklearn/base.py:450: UserWarning: X does not have valid feature names, but SGDClassifier was fitted with feature names\n",
      "  warnings.warn(\n"
     ]
    },
    {
     "data": {
      "text/plain": [
       "array([2164.22030239])"
      ]
     },
     "execution_count": 98,
     "metadata": {},
     "output_type": "execute_result"
    }
   ],
   "source": [
    "# Ao invés de invocarmos 'predict', chamaremos o método 'decision_function' ao SGDClassifier.\n",
    "# Qual é o valor da função de decisão na nossa instância 'some_digit_image'?\n",
    "y_scores = sgd_clf.decision_function(some_digit_image.reshape(1,-1))\n",
    "y_scores"
   ]
  },
  {
   "cell_type": "code",
   "execution_count": 99,
   "id": "765489a6-bda9-47c9-8ace-259da7e5ad85",
   "metadata": {},
   "outputs": [
    {
     "data": {
      "text/plain": [
       "array([ True])"
      ]
     },
     "execution_count": 99,
     "metadata": {},
     "output_type": "execute_result"
    }
   ],
   "source": [
    "# Definindo o threshold como 0, como o classificador rotulará a instância?\n",
    "thresold = 0\n",
    "y_some_digit_pred = y_scores > thresold\n",
    "y_some_digit_pred"
   ]
  },
  {
   "cell_type": "code",
   "execution_count": 100,
   "id": "78fc45eb-f103-4c12-bbc4-e2405814ce26",
   "metadata": {},
   "outputs": [
    {
     "data": {
      "text/plain": [
       "array([False])"
      ]
     },
     "execution_count": 100,
     "metadata": {},
     "output_type": "execute_result"
    }
   ],
   "source": [
    "# Agora, o thresolhd será elevado a 8000. Como sera a previsão?\n",
    "thresold = 8000\n",
    "y_some_digit_pred = y_scores > thresold\n",
    "y_some_digit_pred"
   ]
  },
  {
   "cell_type": "markdown",
   "id": "cda73e14-8e32-4283-82a3-d810debf465f",
   "metadata": {},
   "source": [
    "<div> \n",
    "    <ul style='font-size:20px'> \n",
    "        <li>\n",
    "            Isso constata que, aumentar o thresolhd diminui o recall do modelo.\n",
    "        </li>\n",
    "    </ul>\n",
    "</div>"
   ]
  },
  {
   "cell_type": "code",
   "execution_count": 104,
   "id": "737756a4-59d5-4677-9f5c-a92391ef7734",
   "metadata": {},
   "outputs": [],
   "source": [
    "# O 'cross_val_predict' é capaz de nos retornar a pontuação da decision function do modelo.\n",
    "# Basta definirmos o 'method' como 'decision_function'.\n",
    "\n",
    "y_scores = cross_val_predict(sgd_clf, X_train, y_train_5, cv=3, method='decision_function')"
   ]
  },
  {
   "cell_type": "code",
   "execution_count": 107,
   "id": "496168bb-ad13-4fbf-a9f9-c917e44e3935",
   "metadata": {},
   "outputs": [],
   "source": [
    "# O scikit-learn têm um método capaz de nos mostrar as variações de precision conforme o thresolhd visualmente.\n",
    "from sklearn.metrics import precision_recall_curve\n",
    "\n",
    "# A função nos retorna os índices e seus respectivos thresholds.\n",
    "precisions, recalls, thresholds = precision_recall_curve(y_train_5, y_scores)"
   ]
  },
  {
   "cell_type": "code",
   "execution_count": 115,
   "id": "802ee718-e0fe-4395-80a9-8a4e4a79fa2e",
   "metadata": {},
   "outputs": [
    {
     "data": {
      "text/plain": [
       "<matplotlib.legend.Legend at 0x7f4a9d086100>"
      ]
     },
     "execution_count": 115,
     "metadata": {},
     "output_type": "execute_result"
    },
    {
     "data": {
      "image/png": "[encoded data removed]",
      "text/plain": [
       "<Figure size 432x288 with 1 Axes>"
      ]
     },
     "metadata": {
      "needs_background": "light"
     },
     "output_type": "display_data"
    }
   ],
   "source": [
    "import matplotlib.pyplot as plt\n",
    "# É comum a curva de precision sofrer pequenas quedas quando o threshold aumenta.\n",
    "plt.plot(thresholds, precisions[:-1], linestyle='--', label='Precision')\n",
    "plt.plot(thresholds, recalls[:-1], linestyle='-', label='Recall')\n",
    "plt.legend()"
   ]
  },
  {
   "cell_type": "code",
   "execution_count": 119,
   "id": "2da226e0-5f8a-466d-93a9-7efb19120822",
   "metadata": {},
   "outputs": [
    {
     "data": {
      "text/plain": [
       "Text(0, 0.5, 'Precision')"
      ]
     },
     "execution_count": 119,
     "metadata": {},
     "output_type": "execute_result"
    },
    {
     "data": {
      "image/png": "[encoded data removed]",
      "text/plain": [
       "<Figure size 432x288 with 1 Axes>"
      ]
     },
     "metadata": {
      "needs_background": "light"
     },
     "output_type": "display_data"
    }
   ],
   "source": [
    "# Outra maneira de se plotar os dados, só que sem os thresholds.\n",
    "plt.plot(recalls, precisions)\n",
    "plt.xlabel('Recall')\n",
    "plt.ylabel('Precision')"
   ]
  },
  {
   "cell_type": "code",
   "execution_count": 138,
   "id": "dbf9725d-c3ea-429f-b326-e9114972987e",
   "metadata": {},
   "outputs": [
    {
     "name": "stdout",
     "output_type": "stream",
     "text": [
      "57075\n"
     ]
    },
    {
     "data": {
      "text/plain": [
       "3370.019499143957"
      ]
     },
     "execution_count": 138,
     "metadata": {},
     "output_type": "execute_result"
    }
   ],
   "source": [
    "# Supondo que quiséssemos ter no mínimo 90% de precisão. Qual threshold escolher?\n",
    "\n",
    "# np.argmax retorna o primeiro índice do valor máximo (como a condição passada entre parênteses é booleana,\n",
    "# o índice será o do primeiro True que aparecer)\n",
    "\n",
    "# Ok, o primeiro threshold que nos dará mais de 90% de precisão está na posição 57075 de 'thresolhds'.\n",
    "print(np.argmax(precisions>=0.9))\n",
    "\n",
    "threshold_90_precision = thresholds[np.argmax(precisions>0.9)]\n",
    "threshold_90_precision"
   ]
  },
  {
   "cell_type": "code",
   "execution_count": 144,
   "id": "0c55886a-9a04-4aa4-899b-fb384174a910",
   "metadata": {},
   "outputs": [
    {
     "data": {
      "text/plain": [
       "array([False, False, False, ...,  True, False, False])"
      ]
     },
     "execution_count": 144,
     "metadata": {},
     "output_type": "execute_result"
    }
   ],
   "source": [
    "# Agora, fazendo previsões usando o threshold escolhido.\n",
    "y_train_pred_90 = (y_scores >= threshold_90_precision)\n",
    "y_train_pred_90"
   ]
  },
  {
   "cell_type": "code",
   "execution_count": 148,
   "id": "a49f15eb-694c-4e68-866a-5875fb6a96ae",
   "metadata": {},
   "outputs": [
    {
     "name": "stdout",
     "output_type": "stream",
     "text": [
      "Precisão: 90.00%\n",
      "Recall: 48.00%\n"
     ]
    }
   ],
   "source": [
    "# Por questões de verificação, calculando a precision e recall dessas previsões.\n",
    "print(f'Precisão: {precision_score(y_train_5, y_train_pred_90) :.2%}')\n",
    "print(f'Recall: {recall_score(y_train_5, y_train_pred_90) :.2%}')"
   ]
  },
  {
   "cell_type": "markdown",
   "id": "68095a26-dbd3-4407-b745-b5e840464172",
   "metadata": {},
   "source": [
    "<div> \n",
    "    <ul style='font-size:20px'> \n",
    "        <li>\n",
    "            O autor nos adverte que, no entanto, não é recomendável priorizarmos precision em  prejuízo a recall. \n",
    "        </li>\n",
    "    </ul>\n",
    "</div>"
   ]
  },
  {
   "cell_type": "markdown",
   "id": "b904fcd6-bae6-4d0b-b174-5002438932bd",
   "metadata": {},
   "source": [
    "<p style='color:red'> Continuar a partr the ROC Curve página 99</p>"
   ]
  }
 ],
 "metadata": {
  "kernelspec": {
   "display_name": "Python 3 (ipykernel)",
   "language": "python",
   "name": "python3"
  },
  "language_info": {
   "codemirror_mode": {
    "name": "ipython",
    "version": 3
   },
   "file_extension": ".py",
   "mimetype": "text/x-python",
   "name": "python",
   "nbconvert_exporter": "python",
   "pygments_lexer": "ipython3",
   "version": "3.8.10"
  }
 },
 "nbformat": 4,
 "nbformat_minor": 5
}
