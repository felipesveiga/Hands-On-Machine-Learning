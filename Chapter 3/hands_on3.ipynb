{
 "cells": [
  {
   "cell_type": "markdown",
   "id": "b9db2df7-7afa-4a34-92e0-5d121ef02675",
   "metadata": {},
   "source": [
    "<h1 style='font-size:40px'> Classification</h1>\n",
    "<h2 style='font-size:30px'> Apresentação do dataset</h2>\n",
    "<div>\n",
    "    <ul style='font-size:20px'>\n",
    "        <li>\n",
    "            Neste capítulo, lidaremos com dataset MNIST, que contém 70 mil imagens de algarismos escritos à mão por estudantes do Ensino Médio americano e empregados do escritório de censos dos EUA.\n",
    "        </li>\n",
    "    </ul>\n",
    "</div>"
   ]
  },
  {
   "cell_type": "code",
   "execution_count": 1,
   "id": "fc508a88-851a-443f-812f-394cd8393def",
   "metadata": {},
   "outputs": [],
   "source": [
    "from sklearn.datasets import fetch_openml\n",
    "mnist = fetch_openml('mnist_784', version=1)"
   ]
  },
  {
   "cell_type": "code",
   "execution_count": 2,
   "id": "b48bf0a7-9b80-49d8-a495-87812fae0d1c",
   "metadata": {},
   "outputs": [],
   "source": [
    "# Extraindo os dados de treino e teste. Cada coluna de 'X' é a intensidade do pixel da foto do dígito. \n",
    "# Como as imagens são 28x28, temos um total de 784 pixels e colunas.\n",
    "X = mnist.data\n",
    "y = mnist.target.astype(int)"
   ]
  },
  {
   "cell_type": "markdown",
   "id": "d92105a3-5e8e-44e7-b605-fc9775e8487c",
   "metadata": {},
   "source": [
    "<h3 style='font-size:30px;font-style:italic'> Conhecendo os dados</h3>"
   ]
  },
  {
   "cell_type": "code",
   "execution_count": 3,
   "id": "632a5250-d1ff-495b-9957-b46e32c5ba46",
   "metadata": {},
   "outputs": [
    {
     "data": {
      "text/plain": [
       "<matplotlib.image.AxesImage at 0x7f242b859460>"
      ]
     },
     "execution_count": 3,
     "metadata": {},
     "output_type": "execute_result"
    },
    {
     "data": {
      "image/png": "[encoded data removed]",
      "text/plain": [
       "<Figure size 432x288 with 1 Axes>"
      ]
     },
     "metadata": {
      "needs_background": "light"
     },
     "output_type": "display_data"
    }
   ],
   "source": [
    "# Vamos analisar a imagem de um dos dígitos do dataset utilizando o matplotlib.\n",
    "import matplotlib.pyplot as plt\n",
    "from matplotlib.cm import binary\n",
    "import numpy as np\n",
    "\n",
    "# Obtendo os pixels do primeiro número do dataset.\n",
    "some_digit_image = X.iloc[0].values.reshape(28,28)\n",
    "\n",
    "# Tudo indica que se trata de um cinco.\n",
    "plt.imshow(some_digit_image, cmap=binary, interpolation='nearest')"
   ]
  },
  {
   "cell_type": "code",
   "execution_count": 4,
   "id": "b271f295-60d2-4348-a14d-55324b959780",
   "metadata": {},
   "outputs": [
    {
     "data": {
      "text/plain": [
       "5"
      ]
     },
     "execution_count": 4,
     "metadata": {},
     "output_type": "execute_result"
    }
   ],
   "source": [
    "# E, de fato, o dígito em questão é um 5.\n",
    "y[0]"
   ]
  },
  {
   "cell_type": "markdown",
   "id": "c3970b08-6359-42be-a388-ef9edb25e1fb",
   "metadata": {},
   "source": [
    "<h3 style='font-size:30px;font-style:italic'> Segregação de dados</h3>\n",
    "<div>\n",
    "    <ul style='font-size:20px'>\n",
    "        <li>\n",
    "            Os dados de <em>mnist</em> já estão ordenados de maneira que as 60 mil primeiras ocorrências sejam destinadas a treino e as outras 10 mil instâncias para teste.\n",
    "        </li>\n",
    "    </ul>\n",
    "</div>"
   ]
  },
  {
   "cell_type": "code",
   "execution_count": 5,
   "id": "c5fbbe6a-a381-4fa5-9d3e-b616a1a3a3a4",
   "metadata": {},
   "outputs": [],
   "source": [
    "# Um unpacking de tuplas será o suficiente para essa operação.\n",
    "X_train, X_test, y_train, y_test = X.iloc[:60000], X.iloc[60000:], y.iloc[:60000], y.iloc[60000:]"
   ]
  },
  {
   "cell_type": "markdown",
   "id": "6f3acc67-791d-4722-b931-5a4b443b59d5",
   "metadata": {},
   "source": [
    "<h2 style='font-size:30px'> Training a Binary Classifier</h2>\n",
    "<div>\n",
    "    <ul style='font-size:20px'>\n",
    "        <li>\n",
    "            Vamos começar o capítulo com uma tarefa simples: criar um classificador que identifique quando a imagem se refere a um número definido x, e quando ela não representa X. Neste caso, estamos diante de um trabalho de classificação binária.\n",
    "        </li>\n",
    "    </ul>\n",
    "</div>"
   ]
  },
  {
   "cell_type": "code",
   "execution_count": 6,
   "id": "b7d4dc83-3819-4c12-aa1a-667b009f09a3",
   "metadata": {},
   "outputs": [],
   "source": [
    "# O autor escolheu identificar as ocorrências de 5 e não-5.\n",
    "\n",
    "# Os novos datasets terão valores booleanos. True para 5 e False para não-5\n",
    "y_train_5 = y_train == 5\n",
    "y_test_5 = y_test == 5"
   ]
  },
  {
   "cell_type": "markdown",
   "id": "33b37652-01dc-4aad-ad81-cf12f598cca6",
   "metadata": {},
   "source": [
    "<div>\n",
    "    <ul style='font-size:20px'>\n",
    "        <li>\n",
    "            Para começar a nossa tarefa, vamos utilizar o Stochastic Gradient Descent (SGD), do módulo sklearn.linear_model. Ele é bastante eficaz em lidar com datasets grandes.\n",
    "        </li>\n",
    "    </ul>\n",
    "</div>"
   ]
  },
  {
   "cell_type": "code",
   "execution_count": 7,
   "id": "cd7e04b7-8978-4a23-903b-4baf2c4f83af",
   "metadata": {},
   "outputs": [
    {
     "name": "stderr",
     "output_type": "stream",
     "text": [
      "/home/veiga/.local/lib/python3.8/site-packages/sklearn/base.py:450: UserWarning: X does not have valid feature names, but SGDClassifier was fitted with feature names\n",
      "  warnings.warn(\n"
     ]
    },
    {
     "data": {
      "text/plain": [
       "array([ True])"
      ]
     },
     "execution_count": 7,
     "metadata": {},
     "output_type": "execute_result"
    }
   ],
   "source": [
    "from sklearn.linear_model import SGDClassifier\n",
    "sgd_clf = SGDClassifier(random_state=42)\n",
    "sgd_clf.fit(X_train, y_train_5)\n",
    "\n",
    "# Prevendo o valor da primeira instância de X (5). O classificador adivinha com sucesso.\n",
    "sgd_clf.predict(X.iloc[0].values.reshape(1,-1))"
   ]
  },
  {
   "cell_type": "markdown",
   "id": "d4b45bb3-8b0b-46b4-80e4-bed5bc2b0e6b",
   "metadata": {},
   "source": [
    "<h2 style='font-size:30px'> Performance Measures</h2>\n",
    "<div>\n",
    "    <ul style='font-size:20px'>\n",
    "        <li>\n",
    "            Aqui, o autor faz uma breve demosntração sobre como a acurácia pode não ser a métrica de qualidade mais adequada com datasets desbalanceados.\n",
    "        </li>\n",
    "    </ul>\n",
    "</div>"
   ]
  },
  {
   "cell_type": "code",
   "execution_count": 8,
   "id": "233bc736-5d3c-425b-83c0-967e62926514",
   "metadata": {},
   "outputs": [
    {
     "data": {
      "text/plain": [
       "0.9570333333333334"
      ]
     },
     "execution_count": 8,
     "metadata": {},
     "output_type": "execute_result"
    }
   ],
   "source": [
    "# Realizando uma validação cruzada cuja métrica de performance é o score do modelo. \n",
    "from sklearn.model_selection import cross_val_score\n",
    "cross_val_score(sgd_clf, X_train, y_train_5,cv=3, scoring='accuracy').mean()"
   ]
  },
  {
   "cell_type": "code",
   "execution_count": 9,
   "id": "f1109239-c9e3-4fa4-afd1-2c11f49dc338",
   "metadata": {},
   "outputs": [],
   "source": [
    "# Agora, vamos criar um Dummy Classifier caseiro com a classe pré-definida BaseEstimator.\n",
    "# Ele sempre previrá que o número não é 5.\n",
    "from sklearn.base import BaseEstimator\n",
    "import numpy as np\n",
    "class Never5Classifier(BaseEstimator):\n",
    "    # Algo que eu havia esquecido sobre POO, podemos fazer uma classe sem um __init__.\n",
    "    def fit(self, X, y=None):\n",
    "        return self\n",
    "    \n",
    "    def predict(self, X):\n",
    "        return np.zeros((len(X),1), dtype='bool' )\n"
   ]
  },
  {
   "cell_type": "code",
   "execution_count": 10,
   "id": "fcfbd001-c5c5-4585-8b9c-e44c70794579",
   "metadata": {},
   "outputs": [
    {
     "data": {
      "text/plain": [
       "0.90965"
      ]
     },
     "execution_count": 10,
     "metadata": {},
     "output_type": "execute_result"
    }
   ],
   "source": [
    "# Agora, vamos fazer uma validação cruzada com esse classificador 'burro'\n",
    "never_5_clf = Never5Classifier()\n",
    "\n",
    "# Veja, mesmo sendo dogmático, Never5Classifier tem uma taxa de acerto de quase 91%.\n",
    "cross_val_score(never_5_clf, X_train, y_train_5, cv=3 ,scoring='accuracy').mean()"
   ]
  },
  {
   "cell_type": "markdown",
   "id": "60d10065-1276-408b-86e3-a981a2d6716f",
   "metadata": {},
   "source": [
    "<h3 style='font-size:30px;font-style:italic'> Confusion Matrix</h3>\n",
    "<div>\n",
    "    <ul style='font-size:20px'>\n",
    "        <li>\n",
    "            A matriz de confusão é uma represetação visual que contabiliza o número de classificações (certas ou erradas) feitas pelo modelo. Como apontado pelo autor, se quiséssemos saber quantas vezes o algoritmo confundiu 5 com 3, basta olharmos a terceira coluna da quinta linha da matriz. \n",
    "        </li>\n",
    "    </ul>\n",
    "</div>"
   ]
  },
  {
   "cell_type": "code",
   "execution_count": 11,
   "id": "6154f8c8-1cee-4755-a06e-1224077dd6ac",
   "metadata": {},
   "outputs": [],
   "source": [
    "# Prevendo os valores-alvo do dataset de treino com cross_val_predict\n",
    "from sklearn.model_selection import cross_val_predict\n",
    "y_train_pred = cross_val_predict(sgd_clf,X_train, y_train_5, cv=3)"
   ]
  },
  {
   "cell_type": "code",
   "execution_count": 12,
   "id": "a6ffc5eb-d566-4e14-a996-7166bdd3c215",
   "metadata": {},
   "outputs": [
    {
     "data": {
      "text/plain": [
       "array([[53892,   687],\n",
       "       [ 1891,  3530]])"
      ]
     },
     "execution_count": 12,
     "metadata": {},
     "output_type": "execute_result"
    }
   ],
   "source": [
    "# As linhas representam a classe verdadeira; já as colunas, a classe prevista pelo modelo.\n",
    "\n",
    "# Nesse caso, temos mais de 50 mil valores não-5 previstos como não-5 e 3530 5's rotulados como 5.\n",
    "from sklearn.metrics import confusion_matrix\n",
    "confusion_matrix(y_train_5, y_train_pred)"
   ]
  },
  {
   "cell_type": "code",
   "execution_count": 13,
   "id": "d45da494-a4d0-443c-b98a-393983160d21",
   "metadata": {},
   "outputs": [
    {
     "data": {
      "text/plain": [
       "<AxesSubplot:>"
      ]
     },
     "execution_count": 13,
     "metadata": {},
     "output_type": "execute_result"
    },
    {
     "data": {
      "image/png": "[encoded data removed]",
      "text/plain": [
       "<Figure size 432x288 with 2 Axes>"
      ]
     },
     "metadata": {
      "needs_background": "light"
     },
     "output_type": "display_data"
    }
   ],
   "source": [
    "# Podemos utilizar um mapa de calor do seaborn para melhorar a visualização dos dados.\n",
    "import seaborn as sns\n",
    "sns.heatmap(confusion_matrix(y_train_5, y_train_pred), annot=True, fmt='.5g')"
   ]
  },
  {
   "cell_type": "markdown",
   "id": "0162bff3-8dc8-4d03-ad7c-93e6f98fa9de",
   "metadata": {},
   "source": [
    "<div>\n",
    "    <ul style='font-size:20px'>\n",
    "        <li>\n",
    "            A partir da matriz de confusão, podemos estimar novas métricas qualitativas sobre o modelo. Por exemplo, entre as instâncias classificadas como positivas (1), qual a porcentagem delas é realmente positiva (Precision)? Ou, de todas as instâncias positivas do dataset, qual a porcentagem delas foi que o modelo conseguiu rotular como tal (Recall)? \n",
    "        </li>\n",
    "    </ul>\n",
    "</div>\n",
    "<center> \n",
    "    <img src='precision_recall1.png'>\n",
    "</center>"
   ]
  },
  {
   "cell_type": "markdown",
   "id": "8c83269f-cbd9-49e8-95e0-57f29bdbcc53",
   "metadata": {},
   "source": [
    "<h3 style='font-size:30px;font-style:italic'> Precision and Recall</h3>"
   ]
  },
  {
   "cell_type": "code",
   "execution_count": 14,
   "id": "fe93634f-5965-4a28-9c18-6d1b4346dcc5",
   "metadata": {},
   "outputs": [
    {
     "name": "stdout",
     "output_type": "stream",
     "text": [
      "Precisão do modelo: 83.71%\n",
      "Recall do modelo: 65.12%\n"
     ]
    }
   ],
   "source": [
    "# Medindo as novas métricas aprendidas com o sklearn.metrics\n",
    "from sklearn.metrics import recall_score, precision_score\n",
    "print(f'Precisão do modelo: {precision_score(y_train_5,y_train_pred) :.2%}')\n",
    "print(f'Recall do modelo: {recall_score(y_train_5,y_train_pred) :.2%}')"
   ]
  },
  {
   "cell_type": "markdown",
   "id": "17f41af4-9a0a-406d-b419-c1cfef214753",
   "metadata": {},
   "source": [
    "<h3 style='font-size:30px;font-style:italic'> F1-Score</h3>\n",
    "<div>\n",
    "    <ul style='font-size:20px'>\n",
    "        <li>\n",
    "            O F1-Score é a média harmônica entre precision e recall. Diferentemente de uma média comum, esse índice dá um peso maior a valores pequenos.\n",
    "        </li>\n",
    "    </ul>\n",
    "</div>"
   ]
  },
  {
   "cell_type": "code",
   "execution_count": 15,
   "id": "479f5782-c011-426a-9129-f686c65e00a7",
   "metadata": {},
   "outputs": [
    {
     "name": "stdout",
     "output_type": "stream",
     "text": [
      "F1-Score do modelo: 73.25%\n"
     ]
    }
   ],
   "source": [
    "from sklearn.metrics import f1_score\n",
    "print(f'F1-Score do modelo: {f1_score(y_train_5,y_train_pred) :.2%}')"
   ]
  },
  {
   "cell_type": "markdown",
   "id": "a2dc06c9-d84d-48be-a2d4-d0556b391a46",
   "metadata": {},
   "source": [
    "<h3 style='font-size:30px;font-style:italic'> Precision/Recall Tradeoff</h3>\n",
    "<div>\n",
    "    <ul style='font-size:20px'>\n",
    "        <li>\n",
    "            Neste tópico, o autor discorre sobre a inevitável correlação negativa entre precision e recall. Quando queremos aumentar o valor de um dos índices, teremos que sacrificar parte do desempenho do outro.\n",
    "        </li>\n",
    "        <li>\n",
    "            Para ilustrar como isso ocorre, é apresentada a função de pontuação da chamada <em>decision_function</em>. Os modelos de classificação aplicam essa função para cada instância a ser rotulada, o que se resulta em um número. Esse valor pode ser maior ou menor do que o threshold escolhido. Caso seja mais alto, a instância será agrupada na classe positiva; caso o contrário, na classe negativa.  \n",
    "        </li>\n",
    "        <li>\n",
    "            O scikit-learn não nos permite ajustar esse threshold ao criarmos o modelo, mas podemos ajustá-lo, manualmente, com uma simples expressão comparativa. \n",
    "        </li>\n",
    "    </ul>\n",
    "</div>"
   ]
  },
  {
   "cell_type": "code",
   "execution_count": 16,
   "id": "dd85556a-8e05-40da-b350-8e2591022669",
   "metadata": {},
   "outputs": [
    {
     "name": "stderr",
     "output_type": "stream",
     "text": [
      "/home/veiga/.local/lib/python3.8/site-packages/sklearn/base.py:450: UserWarning: X does not have valid feature names, but SGDClassifier was fitted with feature names\n",
      "  warnings.warn(\n"
     ]
    },
    {
     "data": {
      "text/plain": [
       "array([2164.22030239])"
      ]
     },
     "execution_count": 16,
     "metadata": {},
     "output_type": "execute_result"
    }
   ],
   "source": [
    "# Ao invés de invocarmos 'predict', chamaremos o método 'decision_function' ao SGDClassifier.\n",
    "# Qual é o valor da função de decisão na nossa instância 'some_digit_image'?\n",
    "y_scores = sgd_clf.decision_function(some_digit_image.reshape(1,-1))\n",
    "y_scores"
   ]
  },
  {
   "cell_type": "code",
   "execution_count": 17,
   "id": "765489a6-bda9-47c9-8ace-259da7e5ad85",
   "metadata": {},
   "outputs": [
    {
     "data": {
      "text/plain": [
       "array([ True])"
      ]
     },
     "execution_count": 17,
     "metadata": {},
     "output_type": "execute_result"
    }
   ],
   "source": [
    "# Definindo o threshold como 0, como o classificador rotulará a instância?\n",
    "thresold = 0\n",
    "y_some_digit_pred = y_scores > thresold\n",
    "y_some_digit_pred"
   ]
  },
  {
   "cell_type": "code",
   "execution_count": 18,
   "id": "78fc45eb-f103-4c12-bbc4-e2405814ce26",
   "metadata": {},
   "outputs": [
    {
     "data": {
      "text/plain": [
       "array([False])"
      ]
     },
     "execution_count": 18,
     "metadata": {},
     "output_type": "execute_result"
    }
   ],
   "source": [
    "# Agora, o thresolhd será elevado a 8000. Como sera a previsão?\n",
    "thresold = 8000\n",
    "y_some_digit_pred = y_scores > thresold\n",
    "y_some_digit_pred"
   ]
  },
  {
   "cell_type": "markdown",
   "id": "cda73e14-8e32-4283-82a3-d810debf465f",
   "metadata": {},
   "source": [
    "<div> \n",
    "    <ul style='font-size:20px'> \n",
    "        <li>\n",
    "            Isso constata que, aumentar o thresolhd diminui o recall do modelo.\n",
    "        </li>\n",
    "    </ul>\n",
    "</div>"
   ]
  },
  {
   "cell_type": "code",
   "execution_count": 19,
   "id": "737756a4-59d5-4677-9f5c-a92391ef7734",
   "metadata": {},
   "outputs": [],
   "source": [
    "# O 'cross_val_predict' é capaz de nos retornar a pontuação da decision function do modelo.\n",
    "# Basta definirmos  'method' como 'decision_function'.\n",
    "\n",
    "y_scores = cross_val_predict(sgd_clf, X_train, y_train_5, cv=3, method='decision_function')"
   ]
  },
  {
   "cell_type": "code",
   "execution_count": 20,
   "id": "496168bb-ad13-4fbf-a9f9-c917e44e3935",
   "metadata": {},
   "outputs": [],
   "source": [
    "# O scikit-learn tem um método capaz de nos mostrar as variações de precision de acordo com o thresolhd visualmente.\n",
    "from sklearn.metrics import precision_recall_curve\n",
    "\n",
    "# A função nos retorna os índices e seus respectivos thresholds.\n",
    "precisions, recalls, thresholds = precision_recall_curve(y_train_5, y_scores)"
   ]
  },
  {
   "cell_type": "code",
   "execution_count": 21,
   "id": "802ee718-e0fe-4395-80a9-8a4e4a79fa2e",
   "metadata": {},
   "outputs": [
    {
     "data": {
      "text/plain": [
       "<matplotlib.legend.Legend at 0x7f2428c67550>"
      ]
     },
     "execution_count": 21,
     "metadata": {},
     "output_type": "execute_result"
    },
    {
     "data": {
      "image/png": "[encoded data removed]",
      "text/plain": [
       "<Figure size 432x288 with 1 Axes>"
      ]
     },
     "metadata": {
      "needs_background": "light"
     },
     "output_type": "display_data"
    }
   ],
   "source": [
    "import matplotlib.pyplot as plt\n",
    "# É comum a curva de precision sofrer pequenas quedas enquanto o threshold aumenta.\n",
    "plt.plot(thresholds, precisions[:-1], linestyle='--', label='Precision')\n",
    "plt.plot(thresholds, recalls[:-1], linestyle='-', label='Recall')\n",
    "plt.legend()"
   ]
  },
  {
   "cell_type": "code",
   "execution_count": 22,
   "id": "2da226e0-5f8a-466d-93a9-7efb19120822",
   "metadata": {},
   "outputs": [
    {
     "data": {
      "text/plain": [
       "Text(0, 0.5, 'Precision')"
      ]
     },
     "execution_count": 22,
     "metadata": {},
     "output_type": "execute_result"
    },
    {
     "data": {
      "image/png": "[encoded data removed]",
      "text/plain": [
       "<Figure size 432x288 with 1 Axes>"
      ]
     },
     "metadata": {
      "needs_background": "light"
     },
     "output_type": "display_data"
    }
   ],
   "source": [
    "# Outra maneira de se plotar os dados, só que sem os thresholds.\n",
    "plt.plot(recalls, precisions)\n",
    "plt.xlabel('Recall')\n",
    "plt.ylabel('Precision')"
   ]
  },
  {
   "cell_type": "code",
   "execution_count": 23,
   "id": "dbf9725d-c3ea-429f-b326-e9114972987e",
   "metadata": {},
   "outputs": [
    {
     "name": "stdout",
     "output_type": "stream",
     "text": [
      "57075\n"
     ]
    },
    {
     "data": {
      "text/plain": [
       "3370.019499143957"
      ]
     },
     "execution_count": 23,
     "metadata": {},
     "output_type": "execute_result"
    }
   ],
   "source": [
    "# Supondo que quiséssemos ter no mínimo 90% de precisão. Qual threshold escolher?\n",
    "\n",
    "# np.argmax retorna o primeiro índice do valor máximo (como a condição passada entre parênteses é booleana,\n",
    "# o índice será o do primeiro True que aparecer)\n",
    "\n",
    "# Ok, o primeiro threshold que nos dará mais de 90% de precisão está na posição 57075 de 'thresolhds'.\n",
    "print(np.argmax(precisions>=0.9))\n",
    "\n",
    "threshold_90_precision = thresholds[np.argmax(precisions>0.9)]\n",
    "threshold_90_precision"
   ]
  },
  {
   "cell_type": "code",
   "execution_count": 24,
   "id": "0c55886a-9a04-4aa4-899b-fb384174a910",
   "metadata": {},
   "outputs": [
    {
     "data": {
      "text/plain": [
       "array([False, False, False, ...,  True, False, False])"
      ]
     },
     "execution_count": 24,
     "metadata": {},
     "output_type": "execute_result"
    }
   ],
   "source": [
    "# Agora, fazendo previsões usando o threshold escolhido.\n",
    "y_train_pred_90 = (y_scores >= threshold_90_precision)\n",
    "y_train_pred_90"
   ]
  },
  {
   "cell_type": "code",
   "execution_count": 25,
   "id": "a49f15eb-694c-4e68-866a-5875fb6a96ae",
   "metadata": {},
   "outputs": [
    {
     "name": "stdout",
     "output_type": "stream",
     "text": [
      "Precisão: 90.00%\n",
      "Recall: 48.00%\n"
     ]
    }
   ],
   "source": [
    "# Por questões de verificação, calculando a precision e recall dessas previsões.\n",
    "print(f'Precisão: {precision_score(y_train_5, y_train_pred_90) :.2%}')\n",
    "print(f'Recall: {recall_score(y_train_5, y_train_pred_90) :.2%}')"
   ]
  },
  {
   "cell_type": "markdown",
   "id": "68095a26-dbd3-4407-b745-b5e840464172",
   "metadata": {},
   "source": [
    "<div> \n",
    "    <ul style='font-size:20px'> \n",
    "        <li>\n",
    "            O autor nos adverte que, no entanto, não é recomendável priorizarmos precision em  prejuízo a recall. \n",
    "        </li>\n",
    "    </ul>\n",
    "</div>"
   ]
  },
  {
   "cell_type": "markdown",
   "id": "85cd4e3e-0f49-40ee-a44e-9fb1d6eaa780",
   "metadata": {},
   "source": [
    "<h3 style='font-size:30px;font-style:italic'> The ROC Curve</h3>\n",
    "<div> \n",
    "    <ul style='font-size:20px'> \n",
    "        <li>\n",
    "             A curva ROC mostra a relação entre a taxa de positivos verdadeiros (aka. recall) versus a taxa de falsos positivos.\n",
    "        </li>\n",
    "        <li>\n",
    "            A taxa de falsos positivos pode ser entendida também como 1 - (taxa de negativos verdadeiros (aka. specificity))\n",
    "        </li>\n",
    "    </ul>\n",
    "</div>"
   ]
  },
  {
   "cell_type": "code",
   "execution_count": 26,
   "id": "2045f32d-fefc-434e-add9-f4e11f288a65",
   "metadata": {},
   "outputs": [
    {
     "data": {
      "image/png": "[encoded data removed]",
      "text/plain": [
       "<Figure size 432x288 with 1 Axes>"
      ]
     },
     "metadata": {
      "needs_background": "light"
     },
     "output_type": "display_data"
    }
   ],
   "source": [
    "# Novamente, o sklearn.metrics tem uma função pronta para plotagem de ROC Curves.\n",
    "from sklearn.metrics import roc_curve\n",
    "fpr, tpr, thresholds = roc_curve(y_train_5, y_scores)\n",
    "\n",
    "plt.plot(fpr, tpr)\n",
    "plt.plot([0,1], [0,1], 'k--')\n",
    "plt.xlim([0,1])\n",
    "plt.xlabel('False Positive Rate')\n",
    "plt.ylabel('True Positive Rate')\n",
    "plt.grid(True)"
   ]
  },
  {
   "cell_type": "markdown",
   "id": "1de05d4d-19b0-4b3e-8861-84610a689dd9",
   "metadata": {},
   "source": [
    "<div> \n",
    "    <ul style='font-size:20px'> \n",
    "        <li>\n",
    "            A linha tracejada indica as taxas obtidas por um classificador meramente aleatório.\n",
    "        </li>\n",
    "        <li>\n",
    "            O ideal para os classificadores binários é que a área sob a ROC Curve fique o mais próxima o possível de 1.\n",
    "        </li>\n",
    "    </ul>\n",
    "</div>"
   ]
  },
  {
   "cell_type": "code",
   "execution_count": 27,
   "id": "b0ff790e-3584-4e67-a27d-4b2df6fbab41",
   "metadata": {},
   "outputs": [
    {
     "data": {
      "text/plain": [
       "0.9604938554008616"
      ]
     },
     "execution_count": 27,
     "metadata": {},
     "output_type": "execute_result"
    }
   ],
   "source": [
    "# Coumputando a area under the curve de nosso modelo.\n",
    "from sklearn.metrics import roc_auc_score\n",
    "\n",
    "roc_auc_score(y_train_5, y_scores)"
   ]
  },
  {
   "cell_type": "markdown",
   "id": "5562595a-ff0c-415e-a41c-53d01d94ea49",
   "metadata": {},
   "source": [
    "<div> \n",
    "    <ul style='font-size:20px'> \n",
    "        <li>\n",
    "            O autor recomenda que a PR Curve seja utilizada apenas com datasets com poucas classes positivas; ou quando nos importamos mais com falsos positivos do que com falsos negativos. Caso o contrário, use ROC Curve.\n",
    "        </li>\n",
    "    </ul>\n",
    "</div>"
   ]
  },
  {
   "cell_type": "markdown",
   "id": "784a67a9-84c4-435d-9399-0a68d245cb13",
   "metadata": {},
   "source": [
    "<h3 style='font-size:30px;font-style:italic'> Teste com o RandomForest</h3>\n",
    "<div> \n",
    "    <ul style='font-size:20px'> \n",
    "        <li>\n",
    "             O autor tentará comparar a ROC Curve e a AUC de uma Random Forest com as já mensuradas. \n",
    "        </li>\n",
    "        <li>\n",
    "            No entanto, o RandomForestClassifier não tem decision_function imbutida. Ao invés disso, ele nos retorna as probabilidades de classe em um array. Para cada instância, uma linha com as probabilidades de classe aparecem.\n",
    "        </li>\n",
    "    </ul>\n",
    "</div>"
   ]
  },
  {
   "cell_type": "code",
   "execution_count": 28,
   "id": "ef7dab16-c552-4b7d-a06c-30da27101671",
   "metadata": {},
   "outputs": [
    {
     "data": {
      "text/plain": [
       "array([[0.11, 0.89],\n",
       "       [0.99, 0.01],\n",
       "       [0.96, 0.04],\n",
       "       ...,\n",
       "       [0.02, 0.98],\n",
       "       [0.92, 0.08],\n",
       "       [0.94, 0.06]])"
      ]
     },
     "execution_count": 28,
     "metadata": {},
     "output_type": "execute_result"
    }
   ],
   "source": [
    "from sklearn.ensemble import RandomForestClassifier\n",
    "forest_clf = RandomForestClassifier(random_state=42)\n",
    "y_probas_forest = cross_val_predict(forest_clf, X_train, y_train_5, cv=3, method='predict_proba')\n",
    "\n",
    "# Como já dito, o array retornado nos dá uma coluna para cada classe. No entanto, 'roc_curve' admite um array unidimensional apenas.\n",
    "y_probas_forest"
   ]
  },
  {
   "cell_type": "code",
   "execution_count": 29,
   "id": "f3fc38ae-dfd6-40ff-95cc-e8acc6913956",
   "metadata": {},
   "outputs": [],
   "source": [
    "# Considerando isso, vamos selecionar apenas as probabilidades de classe positiva.\n",
    "y_scores_forest = y_probas_forest[:,1]\n",
    "fpr_forest, tpr_forest, thresholds_forest = roc_curve(y_train_5, y_scores_forest)"
   ]
  },
  {
   "cell_type": "code",
   "execution_count": 30,
   "id": "356afa90-8276-411e-91d5-db39eb0a23d9",
   "metadata": {},
   "outputs": [
    {
     "data": {
      "text/plain": [
       "<matplotlib.legend.Legend at 0x7f2428703f70>"
      ]
     },
     "execution_count": 30,
     "metadata": {},
     "output_type": "execute_result"
    },
    {
     "data": {
      "image/png": "[encoded data removed]",
      "text/plain": [
       "<Figure size 432x288 with 1 Axes>"
      ]
     },
     "metadata": {
      "needs_background": "light"
     },
     "output_type": "display_data"
    }
   ],
   "source": [
    "# Com isso, estamos prontos para fazermos a comparação.\n",
    "plt.plot(fpr, tpr, label='SGD')\n",
    "plt.plot(fpr_forest, tpr_forest, label='RandomForest')\n",
    "plt.plot([0,1], [0,1], linestyle='--', color='k')\n",
    "plt.xlabel('False Positive Rate')\n",
    "plt.ylabel('True Positive Rate (Recall)')\n",
    "# Visivelmente, a Random Forest tem um auc_score maior.\n",
    "plt.legend()"
   ]
  },
  {
   "cell_type": "code",
   "execution_count": 31,
   "id": "0484755f-f36a-47f0-a183-0455edb3252f",
   "metadata": {},
   "outputs": [
    {
     "name": "stdout",
     "output_type": "stream",
     "text": [
      "AUC Score SGD: 0.9604938554008616\n",
      "AUC Score Random Forest: 0.9983436731328145\n"
     ]
    }
   ],
   "source": [
    "# AUC Scores do modelo.\n",
    "print(f'AUC Score SGD: {roc_auc_score(y_train_5, y_scores)}')\n",
    "print(f'AUC Score Random Forest: {roc_auc_score(y_train_5, y_scores_forest)}')"
   ]
  },
  {
   "cell_type": "code",
   "execution_count": 32,
   "id": "91a2b035-73d2-4790-8fc9-3cbb30d129a6",
   "metadata": {},
   "outputs": [],
   "source": [
    "# A fim de termos uma avaliação completa da Random Forest, vamos calcular sua precision e recall.\n",
    "\n",
    "# Lembre-se, essa métricas são calculadas com base nas previsões reais do modelo, e não em suas 'decision_function''s ou 'predict_proba''s.\n",
    "forest_predict = cross_val_predict(forest_clf, X_train, y_train_5, cv=3, method='predict')\n",
    "forest_precision = precision_score(y_train_5, forest_predict)\n",
    "forest_recall = recall_score(y_train_5, forest_predict)"
   ]
  },
  {
   "cell_type": "code",
   "execution_count": 33,
   "id": "e7b1d74c-d300-4018-8676-fa8b1a7a0121",
   "metadata": {},
   "outputs": [
    {
     "name": "stdout",
     "output_type": "stream",
     "text": [
      "Precisão Random Forest: 0.9905083315756169\n",
      "Recall Random Forest: 0.8662608374838591\n"
     ]
    }
   ],
   "source": [
    "# A Random Forest novamente bate o SGDClassifier.\n",
    "print(f'Precisão Random Forest: {forest_precision}')\n",
    "print(f'Recall Random Forest: {forest_recall}')"
   ]
  },
  {
   "cell_type": "markdown",
   "id": "318ad96b-7943-4684-ae10-95898cba5f72",
   "metadata": {},
   "source": [
    "<h2 style='font-size:30px'> Multiclass Classification</h2>\n",
    "<div>\n",
    "    <ul style='font-size:20px'>\n",
    "        <li>\n",
    "            Com relação às multiplas classificações, existem algoritmos capazes de lidar com várias categorias diretamente (como o Naive Bayes ou o próprio Random Forest). Por outro lado, alguns outros são construídos para apenas serem usados em situações de classificação binária (como o SVM e classificadores Lineares).\n",
    "        </li>\n",
    "    </ul>\n",
    "</div>"
   ]
  },
  {
   "cell_type": "markdown",
   "id": "68e276e0-c396-45dc-a1f5-0256bba84183",
   "metadata": {},
   "source": [
    "<h3 style='font-size:30px;font-style:italic'> One versus All (OvA)</h3>\n",
    "<div> \n",
    "    <ul style='font-size:20px'> \n",
    "        <li>\n",
    "            Apesar disso, ainda conseguimos usar classificadores binários em situações de classificações múltiplas. Na estratégia <em>One versus All</em>, para cada categoria, é criado um classificador responsável por identificar dados que são pertencentes ou não a ela (ex: 5's e não-5's; 3's e não-3's). Quando esses modelos confrontarem uma instância nunca vista, aquele com a maior pontuação de decision_function é o que a rotulará com a sua respectiva categoria. Ou seja, se o classificador de 5's tiver o maior valor, a instância será rotulada como 5.\n",
    "        </li>\n",
    "        <li>\n",
    "            A desvantagem dessa abordagem é que cada classificador será alimentado com uma cópia completa do dataset de treino. Para modelos como o SVM, isso pode gerar fases de treino muito lentas.\n",
    "        </li>\n",
    "    </ul>\n",
    "</div>"
   ]
  },
  {
   "cell_type": "markdown",
   "id": "05b230d7-0950-43d5-bb4e-8ed4d8702614",
   "metadata": {},
   "source": [
    "<h3 style='font-size:30px;font-style:italic'> One versus One (OvO)</h3>\n",
    "<div> \n",
    "    <ul style='font-size:20px'>\n",
    "        <li>\n",
    "            A abordagem One vs One cria um classificador binário para cada par de categoria existente. No contexto de nosso dataset, haverá um modelo de previsão de 1's ou 2', de 4 ou 6', e assim por diante. Quando uma instância for classificada, a categoria que lhe for mais atribuída será o seu rótulo.\n",
    "        </li>\n",
    "        <li>\n",
    "            Apesar de serem numericamente mais abundantes, os modelos precisarão apenas ser alimentados com a seção do dataset que lida com o seu par de categorias.\n",
    "        </li>\n",
    "    </ul>\n",
    "</div>"
   ]
  },
  {
   "cell_type": "code",
   "execution_count": 34,
   "id": "33550544-cd32-45e6-98ed-b10e1aaca452",
   "metadata": {},
   "outputs": [
    {
     "name": "stderr",
     "output_type": "stream",
     "text": [
      "/home/veiga/.local/lib/python3.8/site-packages/sklearn/base.py:450: UserWarning: X does not have valid feature names, but SGDClassifier was fitted with feature names\n",
      "  warnings.warn(\n"
     ]
    },
    {
     "data": {
      "text/plain": [
       "array([3])"
      ]
     },
     "execution_count": 34,
     "metadata": {},
     "output_type": "execute_result"
    }
   ],
   "source": [
    "# O scikit-learn é capaz de escolher quais dessas estratégias utilizar por conta própria. Com exceção das SVM, todos os modelos\n",
    "# rodam com OvA.\n",
    "\n",
    "# Usando o Stochastic Gradient Descent para fazer uma previsão múltipla. O que ele faz por baixo dos panos é criar um modelo\n",
    "# para cada categoria existente em uma estratégia OvA. Aquele que retornar o maior número de 'decisio_function' rotulará a instância\n",
    "# com sua respectiva classe.\n",
    "sgd_clf.fit(X_train, y_train)\n",
    "sgd_clf.predict(some_digit_image.reshape(1,-1))"
   ]
  },
  {
   "cell_type": "code",
   "execution_count": 35,
   "id": "ba1e6902-3017-455e-a6ce-0ef3c3cd5d10",
   "metadata": {},
   "outputs": [
    {
     "name": "stdout",
     "output_type": "stream",
     "text": [
      "[[-31893.03095419 -34419.69069632  -9530.63950739   1823.73154031\n",
      "  -22320.14822878  -1385.80478895 -26188.91070951 -16147.51323997\n",
      "   -4604.35491274 -12050.767298  ]]\n"
     ]
    },
    {
     "name": "stderr",
     "output_type": "stream",
     "text": [
      "/home/veiga/.local/lib/python3.8/site-packages/sklearn/base.py:450: UserWarning: X does not have valid feature names, but SGDClassifier was fitted with feature names\n",
      "  warnings.warn(\n",
      "/home/veiga/.local/lib/python3.8/site-packages/sklearn/base.py:450: UserWarning: X does not have valid feature names, but SGDClassifier was fitted with feature names\n",
      "  warnings.warn(\n"
     ]
    },
    {
     "data": {
      "text/plain": [
       "3"
      ]
     },
     "execution_count": 35,
     "metadata": {},
     "output_type": "execute_result"
    }
   ],
   "source": [
    "# Para comprovar que 10 SGD's foram rodados, vamos invocar 'decision_function'. Recebemos um array com 10 elementos.\n",
    "print(sgd_clf.decision_function(some_digit_image.reshape(1,-1)))\n",
    "\n",
    "# O método 'np.argmax' também nos indica qual rótulo foi conferido.\n",
    "np.argmax(sgd_clf.decision_function(some_digit_image.reshape(1,-1)))"
   ]
  },
  {
   "cell_type": "code",
   "execution_count": 36,
   "id": "ac71592d-7cdc-4c95-8bca-4c574578ab14",
   "metadata": {},
   "outputs": [
    {
     "data": {
      "text/plain": [
       "array([0, 1, 2, 3, 4, 5, 6, 7, 8, 9])"
      ]
     },
     "execution_count": 36,
     "metadata": {},
     "output_type": "execute_result"
    }
   ],
   "source": [
    "# O atributo 'classes_' nos mostra as categorias-alvo do dataset.\n",
    "sgd_clf.classes_"
   ]
  },
  {
   "cell_type": "markdown",
   "id": "451743d3-673c-4fa7-9593-920bef23fe51",
   "metadata": {},
   "source": [
    "<h3 style='font-size:30px;font-style:italic'> sklearn.multiclass</h3>\n",
    "<div> \n",
    "    <ul style='font-size:20px'>\n",
    "        <li>\n",
    "            Podemos configurar um classificador binário para fazer um OvA ou OvO com as classes OneVsOneClassifier e OneVsRestClassifier.\n",
    "        </li>\n",
    "    </ul>\n",
    "</div>"
   ]
  },
  {
   "cell_type": "code",
   "execution_count": 37,
   "id": "022b9d2c-a95c-4739-b386-c57119977972",
   "metadata": {},
   "outputs": [
    {
     "name": "stderr",
     "output_type": "stream",
     "text": [
      "/home/veiga/.local/lib/python3.8/site-packages/sklearn/base.py:450: UserWarning: X does not have valid feature names, but OneVsOneClassifier was fitted with feature names\n",
      "  warnings.warn(\n"
     ]
    },
    {
     "data": {
      "text/plain": [
       "array([5])"
      ]
     },
     "execution_count": 37,
     "metadata": {},
     "output_type": "execute_result"
    }
   ],
   "source": [
    "# Fazendo um SGD OvO.\n",
    "from sklearn.multiclass import OneVsOneClassifier\n",
    "ovo_clf = OneVsOneClassifier(SGDClassifier(random_state=42))\n",
    "ovo_clf.fit(X_train, y_train)\n",
    "\n",
    "# Veja! Agora o modelo acertou a classe.\n",
    "ovo_clf.predict(some_digit_image.reshape(1,-1))"
   ]
  },
  {
   "cell_type": "code",
   "execution_count": 38,
   "id": "26310bd4-948d-4ce6-ab16-3eedc823c964",
   "metadata": {},
   "outputs": [
    {
     "data": {
      "text/plain": [
       "45"
      ]
     },
     "execution_count": 38,
     "metadata": {},
     "output_type": "execute_result"
    }
   ],
   "source": [
    "# Por ser OvO, 45 SGDClassifiers foram criados.\n",
    "len(ovo_clf.estimators_)"
   ]
  },
  {
   "cell_type": "markdown",
   "id": "98dd84cb-5eca-4e18-812e-394ee68f0c7d",
   "metadata": {},
   "source": [
    "<h3 style='font-size:30px;font-style:italic'> Modelos para múltiplas classificações</h3>\n",
    "<div> \n",
    "    <ul style='font-size:20px'>\n",
    "        <li>\n",
    "            Como dito, o RandomForestClassifier admite fazer classificações com várias categorias.\n",
    "        </li>\n",
    "    </ul>\n",
    "</div>"
   ]
  },
  {
   "cell_type": "code",
   "execution_count": 39,
   "id": "7f76a16f-1e62-4506-9f8c-c46b7f278bc4",
   "metadata": {},
   "outputs": [
    {
     "name": "stderr",
     "output_type": "stream",
     "text": [
      "/home/veiga/.local/lib/python3.8/site-packages/sklearn/base.py:450: UserWarning: X does not have valid feature names, but RandomForestClassifier was fitted with feature names\n",
      "  warnings.warn(\n"
     ]
    },
    {
     "data": {
      "text/plain": [
       "array([5])"
      ]
     },
     "execution_count": 39,
     "metadata": {},
     "output_type": "execute_result"
    }
   ],
   "source": [
    "from sklearn.ensemble import RandomForestClassifier\n",
    "forest_clf = RandomForestClassifier()\n",
    "forest_clf.fit(X_train, y_train)\n",
    "forest_clf.predict(some_digit_image.reshape(1,-1))"
   ]
  },
  {
   "cell_type": "code",
   "execution_count": 40,
   "id": "f910de53-ba08-4568-af2d-ef05eb7e3025",
   "metadata": {},
   "outputs": [
    {
     "name": "stderr",
     "output_type": "stream",
     "text": [
      "/home/veiga/.local/lib/python3.8/site-packages/sklearn/base.py:450: UserWarning: X does not have valid feature names, but RandomForestClassifier was fitted with feature names\n",
      "  warnings.warn(\n"
     ]
    },
    {
     "data": {
      "text/plain": [
       "array([[0.  , 0.  , 0.01, 0.08, 0.  , 0.86, 0.  , 0.02, 0.03, 0.  ]])"
      ]
     },
     "execution_count": 40,
     "metadata": {},
     "output_type": "execute_result"
    }
   ],
   "source": [
    "# Um único RandomForest nos oferece todas as probabilidades de classificação.\n",
    "forest_clf.predict_proba(some_digit_image.reshape(1,-1))"
   ]
  },
  {
   "cell_type": "markdown",
   "id": "ae02f494-5d8a-4760-b193-4af2697fd165",
   "metadata": {},
   "source": [
    "<h2 style='font-size:30px'> Error Analysis</h2> \n",
    "<div> \n",
    "    <ul style='font-size:20px'> \n",
    "        <li>\n",
    "            Esta seção é dedicada à análise das espécies de erro que nossos modelos podem fazer. Tal tarefa é bastante importante na tunagem de algoritmos.\n",
    "        </li>\n",
    "    </ul>\n",
    "</div>"
   ]
  },
  {
   "cell_type": "code",
   "execution_count": 41,
   "id": "7bfbc698-85d5-40a6-825b-3ca4b30c62b2",
   "metadata": {},
   "outputs": [
    {
     "data": {
      "text/plain": [
       "array([[5577,    0,   22,    5,    8,   43,   36,    6,  225,    1],\n",
       "       [   0, 6400,   37,   24,    4,   44,    4,    7,  212,   10],\n",
       "       [  27,   27, 5220,   92,   73,   27,   67,   36,  378,   11],\n",
       "       [  22,   17,  117, 5227,    2,  203,   27,   40,  403,   73],\n",
       "       [  12,   14,   41,    9, 5182,   12,   34,   27,  347,  164],\n",
       "       [  27,   15,   30,  168,   53, 4444,   75,   14,  535,   60],\n",
       "       [  30,   15,   42,    3,   44,   97, 5552,    3,  131,    1],\n",
       "       [  21,   10,   51,   30,   49,   12,    3, 5684,  195,  210],\n",
       "       [  17,   63,   48,   86,    3,  126,   25,   10, 5429,   44],\n",
       "       [  25,   18,   30,   64,  118,   36,    1,  179,  371, 5107]])"
      ]
     },
     "execution_count": 41,
     "metadata": {},
     "output_type": "execute_result"
    }
   ],
   "source": [
    "# As matrizes de confusão sã um instrumento adequado para esse procedimento.\n",
    "from sklearn.preprocessing import StandardScaler\n",
    "\n",
    "# Buscando melhora de performance, vamos colocar os valores independetes dentro de uma mesma escala.\n",
    "scaler = StandardScaler()\n",
    "X_train_scaled = scaler.fit_transform(X_train.astype(np.float64))\n",
    "\n",
    "# Fazendo a matriz de confusão.\n",
    "y_train_pred = cross_val_predict(sgd_clf, X_train_scaled, y_train, cv=3)\n",
    "conf_mx = confusion_matrix(y_train, y_train_pred)\n",
    "conf_mx"
   ]
  },
  {
   "cell_type": "code",
   "execution_count": 42,
   "id": "e64f9a67-525f-440c-96c0-a2f5848fc60c",
   "metadata": {},
   "outputs": [
    {
     "data": {
      "text/plain": [
       "<matplotlib.image.AxesImage at 0x7f242841df40>"
      ]
     },
     "execution_count": 42,
     "metadata": {},
     "output_type": "execute_result"
    },
    {
     "data": {
      "image/png": "[encoded data removed]",
      "text/plain": [
       "<Figure size 288x288 with 1 Axes>"
      ]
     },
     "metadata": {
      "needs_background": "light"
     },
     "output_type": "display_data"
    }
   ],
   "source": [
    "# O heatmap criado com o matplotlib já nos revela. O número total de 5's corretamente identificados é\n",
    "# menor do que os demais.\n",
    "\n",
    "# Isso pode se dar por duas razões. É capaz de haver, um menor número absoluto de 5's no dataset;\n",
    "# ou o SGDClassifier está de fato pecando em identificá-los.\n",
    "plt.matshow(conf_mx)"
   ]
  },
  {
   "cell_type": "code",
   "execution_count": 43,
   "id": "52d81fdd-8db8-4c5e-b9e2-b40a383ce1c6",
   "metadata": {},
   "outputs": [
    {
     "data": {
      "text/plain": [
       "array([[5923],\n",
       "       [6742],\n",
       "       [5958],\n",
       "       [6131],\n",
       "       [5842],\n",
       "       [5421],\n",
       "       [5918],\n",
       "       [6265],\n",
       "       [5851],\n",
       "       [5949]])"
      ]
     },
     "execution_count": 43,
     "metadata": {},
     "output_type": "execute_result"
    }
   ],
   "source": [
    "# O autor argumenta que, na verdade, ambos os problemas existem. Primeiramente, vamos tentar enxergar\n",
    "# a taxa de erro na classificação de cada classe.\n",
    "\n",
    "# Somando o número de instâncias de cada classe. \n",
    "# 'keepdims' preserva o caráter bidimensional da matriz.\n",
    "row_sums = conf_mx.sum(axis=1, keepdims=True)\n",
    "row_sums"
   ]
  },
  {
   "cell_type": "code",
   "execution_count": 44,
   "id": "65f7c6fd-fe0c-4b62-9d28-e6c1373809c9",
   "metadata": {},
   "outputs": [
    {
     "data": {
      "text/plain": [
       "<matplotlib.image.AxesImage at 0x7f24283fe8b0>"
      ]
     },
     "execution_count": 44,
     "metadata": {},
     "output_type": "execute_result"
    },
    {
     "data": {
      "image/png": "[encoded data removed]",
      "text/plain": [
       "<Figure size 288x288 with 1 Axes>"
      ]
     },
     "metadata": {
      "needs_background": "light"
     },
     "output_type": "display_data"
    }
   ],
   "source": [
    "# Obtendo a porcentagem de erros.\n",
    "norm_conf_mx = conf_mx / row_sums\n",
    "\n",
    "# Preenchendo as diagonais da matriz com 0, de modo que possamos enxergar apenas os erros.\n",
    "np.fill_diagonal(norm_conf_mx, 0)\n",
    "plt.matshow(norm_conf_mx )"
   ]
  },
  {
   "cell_type": "markdown",
   "id": "6917ccf2-74fc-402f-880c-fe9b402dc2fc",
   "metadata": {},
   "source": [
    "<div> \n",
    "    <ul style='font-size:20px'> \n",
    "        <li>\n",
    "            O algoritmo confunde bastante 5s com 8s. Para corrigir esse problema, o autor menciona uma série de estratégias, como editar as imagens usando bibliotecas como o Pillow ou OpenCV; ou criando uma coluna com o número de 'loops fechados' (8 tem dois, 6 tem um e 5 tem nenhum).\n",
    "        </li>\n",
    "        <li>\n",
    "            Uma outra forma, mais demorada, seria analisarmos individualmente os erros cometidos.\n",
    "        </li>\n",
    "    </ul>\n",
    "</div>"
   ]
  },
  {
   "cell_type": "code",
   "execution_count": 51,
   "id": "71e771b8-fb5f-4be5-9123-fbb4252344d5",
   "metadata": {},
   "outputs": [],
   "source": [
    "from matplotlib.cm import binary\n",
    "def plot_digits(instances, images_per_row=10, **options):\n",
    "    size = 28\n",
    "    images_per_row = min(len(instances), images_per_row)\n",
    "    # This is equivalent to n_rows = ceil(len(instances) / images_per_row):\n",
    "    n_rows = (len(instances) - 1) // images_per_row + 1\n",
    "\n",
    "    # Append empty images to fill the end of the grid, if needed:\n",
    "    n_empty = n_rows * images_per_row - len(instances)\n",
    "    padded_instances = np.concatenate([instances, np.zeros((n_empty, size * size))], axis=0)\n",
    "\n",
    "    # Reshape the array so it's organized as a grid containing 28×28 images:\n",
    "    image_grid = padded_instances.reshape((n_rows, images_per_row, size, size))\n",
    "\n",
    "    # Combine axes 0 and 2 (vertical image grid axis, and vertical image axis),\n",
    "    # and axes 1 and 3 (horizontal axes). We first need to move the axes that we\n",
    "    # want to combine next to each other, using transpose(), and only then we\n",
    "    # can reshape:\n",
    "    big_image = image_grid.transpose(0, 2, 1, 3).reshape(n_rows * size,\n",
    "                                                         images_per_row * size)\n",
    "    # Now that we have a big image, we just need to show it:\n",
    "    plt.imshow(big_image, cmap = binary, **options)\n",
    "    plt.axis(\"off\")"
   ]
  },
  {
   "cell_type": "code",
   "execution_count": 54,
   "id": "ca0ba9ac-b2d9-4012-b6d7-7124cb9ef2a1",
   "metadata": {},
   "outputs": [
    {
     "data": {
      "image/png": "[encoded data removed]",
      "text/plain": [
       "<Figure size 576x576 with 4 Axes>"
      ]
     },
     "metadata": {
      "needs_background": "light"
     },
     "output_type": "display_data"
    }
   ],
   "source": [
    "# Obtendo os casos em que 3s foram classificados como 3 ou 5s ou 5s como 5 ou 3.\n",
    "cl_a, cl_b = 3,5\n",
    "X_aa = X_train[(y_train == cl_a) & (y_train_pred == cl_a)]\n",
    "X_ab = X_train[(y_train == cl_a) & (y_train_pred == cl_b)]\n",
    "X_ba = X_train[(y_train == cl_b) & (y_train_pred == cl_a)]\n",
    "X_bb = X_train[(y_train == cl_b) & (y_train_pred == cl_b)]\n",
    "\n",
    "plt.figure(figsize=(8,8))\n",
    "plt.subplot(221);plot_digits(X_aa[:25], images_per_row=5)\n",
    "plt.subplot(222);plot_digits(X_ab[:25], images_per_row=5)\n",
    "plt.subplot(223);plot_digits(X_ba[:25], images_per_row=5)\n",
    "plt.subplot(224);plot_digits(X_bb[:25], images_per_row=5)"
   ]
  },
  {
   "cell_type": "markdown",
   "id": "dee4ddf8-6fc6-40ea-bb43-26927cc56f05",
   "metadata": {},
   "source": [
    "<div> \n",
    "    <ul style='font-size:20px'> \n",
    "        <li> \n",
    "            A diagonal principal mostra as imagens devidamente classificadas (3 e 5, respectivamente); a complementar, os erros do modelo (seguindo a mesma ordem).\n",
    "        </li>\n",
    "        <li>\n",
    "            Não podemos discordar que exisitem dígitos que realmente estão mal escritos. No entanto, o SGDClassifier ainda comete erros grosseiros; é necessário lembrar que se trata de um simples modelo linear. Talvez precisaríamos de algo mais sofisticado se quisermos obter diminuir esses defeitos.\n",
    "        </li>\n",
    "    </ul>\n",
    "</div>"
   ]
  },
  {
   "cell_type": "markdown",
   "id": "55be2b9c-50eb-4dcc-b200-022c5a7c5b34",
   "metadata": {},
   "source": [
    "<h2 style='font-size:30px'> Multilabel Classification</h2>\n",
    "<div> \n",
    "    <ul style='font-size:20px'> \n",
    "        <li> \n",
    "            Muitas vezes, precisaremos construir modelos que nos retornem mais de um output binário. No contexto do reconhecimento de imagem, um algoritmo pode ser treinado para reconhecer se uma pessoa tem pele clara e cabelo loiro, por exemplo.\n",
    "        </li>\n",
    "        <li>\n",
    "            Com isso, ao apresentar uma pessoa negra de cabelo castanho, o modelo deve retornar [0,0].\n",
    "        </li>\n",
    "    </ul>\n",
    "</div>"
   ]
  },
  {
   "cell_type": "code",
   "execution_count": 57,
   "id": "7b8ec7ec-98ea-49c3-ba93-98b443d2b92d",
   "metadata": {},
   "outputs": [
    {
     "name": "stderr",
     "output_type": "stream",
     "text": [
      "/home/veiga/.local/lib/python3.8/site-packages/sklearn/base.py:450: UserWarning: X does not have valid feature names, but KNeighborsClassifier was fitted with feature names\n",
      "  warnings.warn(\n"
     ]
    },
    {
     "data": {
      "text/plain": [
       "array([[False,  True]])"
      ]
     },
     "execution_count": 57,
     "metadata": {},
     "output_type": "execute_result"
    }
   ],
   "source": [
    "from sklearn.neighbors import KNeighborsClassifier\n",
    "\n",
    "# O KNN deve identificar se o número é grande (7,8 ou 9) e se ele é ímpar.\n",
    "y_train_large = (y_train >=7)\n",
    "y_train_odd = (y_train %2 == 1)\n",
    "\n",
    "# Ambos os arrays de valores-alvo devem ser concatenados.\n",
    "y_multiabel = np.c_[y_train_large, y_train_odd]\n",
    "knn_clf = KNeighborsClassifier().fit(X_train, y_multiabel)\n",
    "\n",
    "# O previsor retornou que o nosso dígito (5) não é grande e que ele é ímpar. Perfeito!\n",
    "knn_clf.predict(some_digit_image.reshape(1,-1))"
   ]
  },
  {
   "cell_type": "code",
   "execution_count": 62,
   "id": "84926f24-ebc9-4487-a5cd-547bcc89a303",
   "metadata": {},
   "outputs": [
    {
     "name": "stdout",
     "output_type": "stream",
     "text": [
      "0.976410265560605\n",
      "0.9778357403921755\n"
     ]
    }
   ],
   "source": [
    "# A avaliação dos modelos de multilabel classification é bastante simples.\n",
    "y_train_knn_pred = cross_val_predict(knn_clf, X_train, y_multiabel, cv=3)\n",
    "\n",
    "# Tendo 'average' como marco, ambas as classes terão o mesmo peso no cálculo do f1_score.\n",
    "print(f1_score(y_multiabel,y_train_knn_pred, average='macro'))\n",
    "\n",
    "# Ao setarmos esse argumento como 'weighted', o label com maior presença no dataset terá um peso mais significativo.\n",
    "# Por exemplo, se houver mais números ímpares do que 7,8 e 9s, a adivinhação daqueles impactará mais no f1_score.\n",
    "print(f1_score(y_multiabel,y_train_knn_pred, average='weighted'))"
   ]
  },
  {
   "cell_type": "markdown",
   "id": "6ab73c94-3d26-451c-ae0f-ddad2984927b",
   "metadata": {},
   "source": [
    "<h2 style='font-size:30px'>Multioutput Classification </h2>\n",
    "<div> \n",
    "    <ul style='font-size:20px'> \n",
    "        <li> \n",
    "            Consiste em fazer o seu modelo retornar mais de um output. No entanto, este não precisa ser binário.\n",
    "        </li>\n",
    "    </ul>\n",
    "</div>"
   ]
  },
  {
   "cell_type": "code",
   "execution_count": 70,
   "id": "d9df6c84-1759-417e-a457-ae1ced74df83",
   "metadata": {},
   "outputs": [],
   "source": [
    "# Como exemplo, o autor sugere criar um limpador de imagens, que reduziria a intensidade de pixels que atrapalham, de alguma\n",
    "# maneira, a visualização do dígito.\n",
    "import numpy as np\n",
    "# Isso se configura como uma Multioutput Classification pois os pixels modificados podem ter valores que vão de 0 a 255.\n",
    "\n",
    "# Criando imagens borradas.\n",
    "noise = np.random.randint(0,100, (len(X_train), 784))\n",
    "X_train_mod = X_train + noise\n",
    "\n",
    "noise_ = np.random.randint(0,100, (len(X_test), 784))\n",
    "X_test_mod = X_test + noise_\n",
    "\n",
    "# O output esperado são os valores verdadeiros das variáveis independentes (que produzam imagens sem borros). \n",
    "y_train_mod = X_train\n",
    "y_test_mod = X_test"
   ]
  },
  {
   "cell_type": "code",
   "execution_count": 88,
   "id": "44b0dd52-455f-49b7-9876-7774a2dba823",
   "metadata": {},
   "outputs": [
    {
     "data": {
      "text/plain": [
       "<matplotlib.image.AxesImage at 0x7f2419119460>"
      ]
     },
     "execution_count": 88,
     "metadata": {},
     "output_type": "execute_result"
    },
    {
     "data": {
      "image/png": "[encoded data removed]",
      "text/plain": [
       "<Figure size 432x288 with 1 Axes>"
      ]
     },
     "metadata": {
      "needs_background": "light"
     },
     "output_type": "display_data"
    }
   ],
   "source": [
    "# Um exemplo de imagem borrada.\n",
    "plt.imshow(X_test_mod.iloc[20].values.reshape(28,28), cmap=binary)"
   ]
  },
  {
   "cell_type": "code",
   "execution_count": 89,
   "id": "c7205090-a3e5-4be1-a2df-81bee19491c1",
   "metadata": {},
   "outputs": [
    {
     "name": "stderr",
     "output_type": "stream",
     "text": [
      "/home/veiga/.local/lib/python3.8/site-packages/sklearn/base.py:450: UserWarning: X does not have valid feature names, but KNeighborsClassifier was fitted with feature names\n",
      "  warnings.warn(\n"
     ]
    }
   ],
   "source": [
    "# Criando um KNN para a correção.\n",
    "from sklearn.neighbors import KNeighborsClassifier\n",
    "knn_clf = KNeighborsClassifier()\n",
    "knn_clf.fit(X_train_mod, y_train_mod)\n",
    "clean_digit = knn_clf.predict(X_test.iloc[20].values.reshape(1,-1))"
   ]
  },
  {
   "cell_type": "code",
   "execution_count": 91,
   "id": "d0ac253e-d970-443c-9d3f-6cf7a8d818b0",
   "metadata": {},
   "outputs": [
    {
     "data": {
      "text/plain": [
       "<matplotlib.image.AxesImage at 0x7f241904e730>"
      ]
     },
     "execution_count": 91,
     "metadata": {},
     "output_type": "execute_result"
    },
    {
     "data": {
      "image/png": "[encoded data removed]",
      "text/plain": [
       "<Figure size 432x288 with 2 Axes>"
      ]
     },
     "metadata": {
      "needs_background": "light"
     },
     "output_type": "display_data"
    }
   ],
   "source": [
    "# Veja como ficou!\n",
    "plt.subplot(121)\n",
    "plt.imshow(X_test_mod.iloc[20].values.reshape(28,28), cmap=binary)\n",
    "plt.subplot(122)\n",
    "plt.imshow(clean_digit.reshape(28,28), cmap=binary)"
   ]
  },
  {
   "cell_type": "markdown",
   "id": "7820addd-18c9-4e56-908b-9eefa3e06b4c",
   "metadata": {},
   "source": [
    "<div> \n",
    "    <ul style='font-size:20px'> \n",
    "        <li> \n",
    "            Apesar de sua natureza parecer excêntrica, acabamos de ver como a Multioutput Classification é usada em tarefas cotidianas. É bem concebível criar um software de correção de imagens usando Machine Learning!\n",
    "        </li>\n",
    "    </ul>\n",
    "</div>"
   ]
  }
 ],
 "metadata": {
  "kernelspec": {
   "display_name": "Python 3 (ipykernel)",
   "language": "python",
   "name": "python3"
  },
  "language_info": {
   "codemirror_mode": {
    "name": "ipython",
    "version": 3
   },
   "file_extension": ".py",
   "mimetype": "text/x-python",
   "name": "python",
   "nbconvert_exporter": "python",
   "pygments_lexer": "ipython3",
   "version": "3.8.10"
  }
 },
 "nbformat": 4,
 "nbformat_minor": 5
}
