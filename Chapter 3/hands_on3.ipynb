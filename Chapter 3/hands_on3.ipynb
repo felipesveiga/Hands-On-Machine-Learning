{
 "cells": [
  {
   "cell_type": "markdown",
   "id": "b9db2df7-7afa-4a34-92e0-5d121ef02675",
   "metadata": {},
   "source": [
    "<h1 style='font-size:40px'> Classification</h1>\n",
    "<h2 style='font-size:30px'> Apresentação do dataset</h2>\n",
    "<div>\n",
    "    <ul style='font-size:20px'>\n",
    "        <li>\n",
    "            Neste capítulo, lidaremos com dataset MNIST, que contém 70 mil imagens de algarismos escritos à mão por estudantes do Ensino Médio americano e empregados do escritório de censos dos EUA.\n",
    "        </li>\n",
    "    </ul>\n",
    "</div>"
   ]
  },
  {
   "cell_type": "code",
   "execution_count": 1,
   "id": "fc508a88-851a-443f-812f-394cd8393def",
   "metadata": {},
   "outputs": [],
   "source": [
    "from sklearn.datasets import fetch_openml\n",
    "mnist = fetch_openml('mnist_784', version=1)"
   ]
  },
  {
   "cell_type": "code",
   "execution_count": 2,
   "id": "b48bf0a7-9b80-49d8-a495-87812fae0d1c",
   "metadata": {},
   "outputs": [],
   "source": [
    "# Extraindo os dados de treino e teste. Cada coluna de 'X' é a intensidade do pixel da foto do dígito. \n",
    "# Como as imagens são 28x28, temos um total de 784 pixels e colunas.\n",
    "X = mnist.data\n",
    "y = mnist.target.astype(int)"
   ]
  },
  {
   "cell_type": "markdown",
   "id": "d92105a3-5e8e-44e7-b605-fc9775e8487c",
   "metadata": {},
   "source": [
    "<h3 style='font-size:30px;font-style:italic'> Conhecendo os dados</h3>"
   ]
  },
  {
   "cell_type": "code",
   "execution_count": 3,
   "id": "632a5250-d1ff-495b-9957-b46e32c5ba46",
   "metadata": {},
   "outputs": [
    {
     "data": {
      "text/plain": [
       "<matplotlib.image.AxesImage at 0x7f4abe714340>"
      ]
     },
     "execution_count": 3,
     "metadata": {},
     "output_type": "execute_result"
    },
    {
     "data": {
      "image/png": "[encoded data removed]",
      "text/plain": [
       "<Figure size 432x288 with 1 Axes>"
      ]
     },
     "metadata": {
      "needs_background": "light"
     },
     "output_type": "display_data"
    }
   ],
   "source": [
    "# Vamos analisar a imagem de um dos dígitos do dataset utilizando o matplotlib.\n",
    "import matplotlib.pyplot as plt\n",
    "from matplotlib.cm import binary\n",
    "import numpy as np\n",
    "\n",
    "# Obtendo os pixels do primeiro número do dataset.\n",
    "some_digit_image = X.iloc[0].values.reshape(28,28)\n",
    "\n",
    "# Tudo indica que se trata de um cinco.\n",
    "plt.imshow(some_digit_image, cmap=binary, interpolation='nearest')"
   ]
  },
  {
   "cell_type": "code",
   "execution_count": 4,
   "id": "b271f295-60d2-4348-a14d-55324b959780",
   "metadata": {},
   "outputs": [
    {
     "data": {
      "text/plain": [
       "5"
      ]
     },
     "execution_count": 4,
     "metadata": {},
     "output_type": "execute_result"
    }
   ],
   "source": [
    "# E, de fato, o dígito em questão é um 5.\n",
    "y[0]"
   ]
  },
  {
   "cell_type": "markdown",
   "id": "c3970b08-6359-42be-a388-ef9edb25e1fb",
   "metadata": {},
   "source": [
    "<h3 style='font-size:30px;font-style:italic'> Segregação de dados</h3>\n",
    "<div>\n",
    "    <ul style='font-size:20px'>\n",
    "        <li>\n",
    "            Os dados de <em>mnist</em> já estão ordenados de maneira que as 60 mil primeiras ocorrências sejam destinadas a treino e as outras 10 mil instâncias para teste.\n",
    "        </li>\n",
    "    </ul>\n",
    "</div>"
   ]
  },
  {
   "cell_type": "code",
   "execution_count": 5,
   "id": "c5fbbe6a-a381-4fa5-9d3e-b616a1a3a3a4",
   "metadata": {},
   "outputs": [],
   "source": [
    "# Um unpacking de tuplas será o suficiente para essa operação.\n",
    "X_train, X_test, y_train, y_test = X.iloc[:60000], X.iloc[60000:], y.iloc[:60000], y.iloc[60000:]"
   ]
  },
  {
   "cell_type": "markdown",
   "id": "6f3acc67-791d-4722-b931-5a4b443b59d5",
   "metadata": {},
   "source": [
    "<h2 style='font-size:30px'> Training a Binary Classifier</h2>\n",
    "<div>\n",
    "    <ul style='font-size:20px'>\n",
    "        <li>\n",
    "            Vamos começar o capítulo com uma tarefa simples: criar um classificador que identifique quando a imagem se refere a um número definido x, e quando ela não representa X. Neste caso, estamos diante de um trabalho de classificação binária.\n",
    "        </li>\n",
    "    </ul>\n",
    "</div>"
   ]
  },
  {
   "cell_type": "code",
   "execution_count": 6,
   "id": "b7d4dc83-3819-4c12-aa1a-667b009f09a3",
   "metadata": {},
   "outputs": [],
   "source": [
    "# O autor escolheu identificar as ocorrências de 5 e não-5.\n",
    "\n",
    "# Os novos datasets terão valores booleanos. True para 5 e False para não-5\n",
    "y_train_5 = y_train == 5\n",
    "y_test_5 = y_test == 5"
   ]
  },
  {
   "cell_type": "markdown",
   "id": "33b37652-01dc-4aad-ad81-cf12f598cca6",
   "metadata": {},
   "source": [
    "<div>\n",
    "    <ul style='font-size:20px'>\n",
    "        <li>\n",
    "            Para começar a nossa tarefa, vamos utilizar o Stochastic Gradient Descent (SGD), do módulo sklearn.linear_model. Ele é bastante eficaz em lidar com datasets grandes.\n",
    "        </li>\n",
    "    </ul>\n",
    "</div>"
   ]
  },
  {
   "cell_type": "code",
   "execution_count": 19,
   "id": "cd7e04b7-8978-4a23-903b-4baf2c4f83af",
   "metadata": {},
   "outputs": [
    {
     "name": "stderr",
     "output_type": "stream",
     "text": [
      "/home/veiga/.local/lib/python3.8/site-packages/sklearn/base.py:450: UserWarning: X does not have valid feature names, but SGDClassifier was fitted with feature names\n",
      "  warnings.warn(\n"
     ]
    },
    {
     "data": {
      "text/plain": [
       "array([ True])"
      ]
     },
     "execution_count": 19,
     "metadata": {},
     "output_type": "execute_result"
    }
   ],
   "source": [
    "from sklearn.linear_model import SGDClassifier\n",
    "sgd_clf = SGDClassifier(random_state=42)\n",
    "sgd_clf.fit(X_train, y_train_5)\n",
    "\n",
    "# Prevendo o valor da primeira instância de X (5). O classificador adivinha com sucesso.\n",
    "sgd_clf.predict(X.iloc[0].values.reshape(1,-1))"
   ]
  },
  {
   "cell_type": "markdown",
   "id": "d4b45bb3-8b0b-46b4-80e4-bed5bc2b0e6b",
   "metadata": {},
   "source": [
    "<h2 style='font-size:30px'> Performance Measures</h2>\n",
    "<div>\n",
    "    <ul style='font-size:20px'>\n",
    "        <li>\n",
    "            Aqui, o autor faz uma breve demosntração sobre como a acurácia poe não ser a métrica de qualidade mais adequada com datasets desbalanceados.\n",
    "        </li>\n",
    "    </ul>\n",
    "</div>"
   ]
  },
  {
   "cell_type": "code",
   "execution_count": 27,
   "id": "233bc736-5d3c-425b-83c0-967e62926514",
   "metadata": {},
   "outputs": [
    {
     "data": {
      "text/plain": [
       "0.9570333333333334"
      ]
     },
     "execution_count": 27,
     "metadata": {},
     "output_type": "execute_result"
    }
   ],
   "source": [
    "# Realizando uma validação cruzada cuja métrica de performance é o score do modelo. \n",
    "from sklearn.model_selection import cross_val_score\n",
    "cross_val_score(sgd_clf, X_train, y_train_5,cv=3, scoring='accuracy').mean()"
   ]
  },
  {
   "cell_type": "code",
   "execution_count": 25,
   "id": "f1109239-c9e3-4fa4-afd1-2c11f49dc338",
   "metadata": {},
   "outputs": [],
   "source": [
    "# Agora, vamos criar um Dummy Classifier caseiro com a classe pré-definida BaseEstimator.\n",
    "# Ele sempre previrá que o número não é 5.\n",
    "from sklearn.base import BaseEstimator\n",
    "import numpy as np\n",
    "class Never5Classifier(BaseEstimator):\n",
    "    # Algo que eu havia esquecido sobre POO, podemos fazer uma classe sem um __init__.\n",
    "    def fit(self, X, y=None):\n",
    "        return self\n",
    "    \n",
    "    def predict(self, X):\n",
    "        return np.zeros((len(X),1), dtype='bool' )\n"
   ]
  },
  {
   "cell_type": "code",
   "execution_count": 26,
   "id": "fcfbd001-c5c5-4585-8b9c-e44c70794579",
   "metadata": {},
   "outputs": [
    {
     "data": {
      "text/plain": [
       "0.90965"
      ]
     },
     "execution_count": 26,
     "metadata": {},
     "output_type": "execute_result"
    }
   ],
   "source": [
    "# Agora, vamos fazer uma validação cruzada com esse classificador 'burro'\n",
    "never_5_clf = Never5Classifier()\n",
    "\n",
    "# Veja, mesmo sendo dogmático, Never5Classifier tem uma taxa de acerto de quase 91%.\n",
    "cross_val_score(never_5_clf, X_train, y_train_5, cv=3 ,scoring='accuracy').mean()"
   ]
  },
  {
   "cell_type": "markdown",
   "id": "b904fcd6-bae6-4d0b-b174-5002438932bd",
   "metadata": {},
   "source": [
    "<p style='color:red'> Partir para a aplicação Stochastic Gradient Descent</p>"
   ]
  }
 ],
 "metadata": {
  "kernelspec": {
   "display_name": "Python 3 (ipykernel)",
   "language": "python",
   "name": "python3"
  },
  "language_info": {
   "codemirror_mode": {
    "name": "ipython",
    "version": 3
   },
   "file_extension": ".py",
   "mimetype": "text/x-python",
   "name": "python",
   "nbconvert_exporter": "python",
   "pygments_lexer": "ipython3",
   "version": "3.8.10"
  }
 },
 "nbformat": 4,
 "nbformat_minor": 5
}
