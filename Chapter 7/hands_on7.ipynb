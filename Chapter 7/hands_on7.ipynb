{
 "cells": [
  {
   "cell_type": "markdown",
   "id": "1a1d68fc-44e9-44dc-b46c-8b0c20003b41",
   "metadata": {},
   "source": [
    "<h1 style='font-size:40px'> Ensemble Learning and Random Forests</h1>"
   ]
  }
 ],
 "metadata": {
  "kernelspec": {
   "display_name": "Python 3 (ipykernel)",
   "language": "python",
   "name": "python3"
  },
  "language_info": {
   "codemirror_mode": {
    "name": "ipython",
    "version": 3
   },
   "file_extension": ".py",
   "mimetype": "text/x-python",
   "name": "python",
   "nbconvert_exporter": "python",
   "pygments_lexer": "ipython3",
   "version": "3.8.10"
  }
 },
 "nbformat": 4,
 "nbformat_minor": 5
}
