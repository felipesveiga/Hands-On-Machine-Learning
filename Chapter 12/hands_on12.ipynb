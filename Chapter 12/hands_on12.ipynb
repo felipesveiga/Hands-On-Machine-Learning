{
 "cells": [
  {
   "cell_type": "markdown",
   "id": "da9bd146-d458-49fe-a33e-c432ddd18ec3",
   "metadata": {},
   "source": [
    "<h1 style='font-size:40px'> Custom Models and Training with TensorFlow</h1>"
   ]
  },
  {
   "cell_type": "markdown",
   "id": "89e16877-5c58-47cd-b034-c461ae8b360c",
   "metadata": {},
   "source": [
    "<div> \n",
    "    <ul style='font-size:20px'> \n",
    "        <li> \n",
    "            Exploraremos as outras funcionalidades contidas no TensorFlow. Seu ecossistema possui módulos para tratar os mais diversos problemas do Machine Learning. Segue o diagrama apresentado pelo livro:\n",
    "            <center style='margin-top:10px'> \n",
    "                <img src='tf_diag.png'>\n",
    "            </center>\n",
    "        </li>\n",
    "    </ul>\n",
    "</div>"
   ]
  },
  {
   "cell_type": "markdown",
   "id": "2d521d7e-aee9-44f6-abc7-85c53cd49893",
   "metadata": {},
   "source": [
    "<h2 style='font-size:30px'> Using TensorFlow Like Numpy</h2>\n",
    "<div> \n",
    "    <ul style='font-size:20px'> \n",
    "        <li> \n",
    "            O TensorFlow contém funcionalidades muito próximas das do numpy. No caso, somos capazes de criar tensores (espécies de matrizes) e executar certas operações matemáticas.\n",
    "        </li>\n",
    "    </ul>\n",
    "</div>"
   ]
  },
  {
   "cell_type": "code",
   "execution_count": 8,
   "id": "39abffd3-189c-4465-982c-8a50bf8ae170",
   "metadata": {},
   "outputs": [
    {
     "data": {
      "text/plain": [
       "<tf.Tensor: shape=(3, 2), dtype=int32, numpy=\n",
       "array([[0, 1],\n",
       "       [2, 3],\n",
       "       [4, 5]], dtype=int32)>"
      ]
     },
     "execution_count": 8,
     "metadata": {},
     "output_type": "execute_result"
    }
   ],
   "source": [
    "# Criando um tensor com `tf.constant`.\n",
    "\n",
    "# A particularidade desse objeto é a sua imutabilidade (não pode ser alterado in-place).\n",
    "import tensorflow as tf\n",
    "tf.constant(range(6), shape=(3,2))"
   ]
  },
  {
   "cell_type": "code",
   "execution_count": 5,
   "id": "e0f36d44-0488-4857-baeb-28b1d31bc91e",
   "metadata": {},
   "outputs": [
    {
     "data": {
      "text/plain": [
       "<tf.Tensor: shape=(), dtype=int32, numpy=23>"
      ]
     },
     "execution_count": 5,
     "metadata": {},
     "output_type": "execute_result"
    }
   ],
   "source": [
    "# Os tensores admitem receberem números soltos também.\n",
    "tf.constant(23)"
   ]
  },
  {
   "cell_type": "code",
   "execution_count": 15,
   "id": "c038638a-f613-4c53-a37d-e4e95ec1a006",
   "metadata": {},
   "outputs": [
    {
     "name": "stdout",
     "output_type": "stream",
     "text": [
      "tf.sqrt: [[0.    1.    1.414]\n",
      " [1.732 2.    2.236]\n",
      " [2.45  2.646 2.828]\n",
      " [3.    3.162 3.316]]\n",
      "\n",
      "L2: [11.23  12.88  14.625]\n"
     ]
    }
   ],
   "source": [
    "# A maior parte das funções do Numpy também são encontradas no TF. Essas podem ter nomes um pouco distintos, ou ainda estarem\n",
    "# dentro do módulo `tensorflow.math`.\n",
    "t = tf.constant(range(12), dtype=tf.float16, shape=(4,3))\n",
    "print(f'tf.sqrt: {tf.sqrt(t)}', end='\\n\\n')\n",
    "\n",
    "# A norma l-2 é encontrada no em `math`.\n",
    "from tensorflow.math import reduce_euclidean_norm\n",
    "print(f'L2: {reduce_euclidean_norm(t, axis=0)}')"
   ]
  },
  {
   "cell_type": "markdown",
   "id": "eb75fbf6-0f90-4dbf-be39-a6299d321392",
   "metadata": {},
   "source": [
    "<h3 style='font-size:30px;font-style:italic'> Keras' Low-Level API</h3>\n",
    "<div> \n",
    "    <ul style='font-size:20px'> \n",
    "        <li> \n",
    "             O Keras também contém certas funcionalidades voltadas à manipulação de matrizes em <em> keras.backend</em>. É útil usá-lo quando queremos que haja portabilidade de nosso código com outras implementações Keras.\n",
    "        </li>\n",
    "    </ul>\n",
    "</div>"
   ]
  },
  {
   "cell_type": "code",
   "execution_count": 37,
   "id": "fef9698e-b7e0-4775-843b-89fa6875c9a1",
   "metadata": {},
   "outputs": [
    {
     "data": {
      "text/plain": [
       "<tf.Tensor: shape=(4, 3), dtype=float16, numpy=\n",
       "array([[  0.,   1.,   4.],\n",
       "       [  9.,  16.,  25.],\n",
       "       [ 36.,  49.,  64.],\n",
       "       [ 81., 100., 121.]], dtype=float16)>"
      ]
     },
     "execution_count": 37,
     "metadata": {},
     "output_type": "execute_result"
    }
   ],
   "source": [
    "# É costumaz se referir ao módulo como 'K'.\n",
    "import tensorflow.keras.backend as K\n",
    "K.square(t)"
   ]
  },
  {
   "cell_type": "markdown",
   "id": "571860d8-9fa3-4caa-ba60-e700a4485828",
   "metadata": {},
   "source": [
    "<h3 style='font-size:30px;font-style:italic'> Tensors and NumPy</h3>\n",
    "<div> \n",
    "    <ul style='font-size:20px'> \n",
    "        <li> \n",
    "            Tensores TF podem se originar a partir de arrays do numpy e vice-versa.\n",
    "        </li>\n",
    "    </ul>\n",
    "</div>"
   ]
  },
  {
   "cell_type": "code",
   "execution_count": 40,
   "id": "3206b0da-f385-4302-8f3e-5308ff4f5de1",
   "metadata": {},
   "outputs": [
    {
     "data": {
      "text/plain": [
       "22.5"
      ]
     },
     "execution_count": 40,
     "metadata": {},
     "output_type": "execute_result"
    }
   ],
   "source": [
    "# Conseguimos, inclusive, aplicar funções do numpy diretamente em tensores!\n",
    "import numpy as np\n",
    "np.linalg.norm(t)"
   ]
  },
  {
   "cell_type": "code",
   "execution_count": 42,
   "id": "a0ad002f-416a-4891-bc09-c5a6247a60d3",
   "metadata": {},
   "outputs": [
    {
     "data": {
      "text/plain": [
       "<tf.Tensor: shape=(10,), dtype=int64, numpy=array([10, 11, 12, 13, 14, 15, 16, 17, 18, 19])>"
      ]
     },
     "execution_count": 42,
     "metadata": {},
     "output_type": "execute_result"
    }
   ],
   "source": [
    "# Criando um tensor com um array.\n",
    "a = np.arange(10)\n",
    "tf.constant(a)"
   ]
  },
  {
   "cell_type": "markdown",
   "id": "f60b784a-f672-4ff3-9eb0-a14c2d14d66d",
   "metadata": {},
   "source": [
    "<h3 style='font-size:30px;font-style:italic'> Type Conversions</h3>\n",
    "<div> \n",
    "    <ul style='font-size:20px'> \n",
    "        <li> \n",
    "            Diferentemente do numpy, o TensorFlow não faz adaptações de data types em seus procedimentos. Isso significa que manipular um array de integer com um de float, por exemplo, resultará em erro.\n",
    "        </li>\n",
    "    </ul>\n",
    "</div>"
   ]
  },
  {
   "cell_type": "code",
   "execution_count": 54,
   "id": "6adabd58-12e6-4567-827a-3862e641283b",
   "metadata": {},
   "outputs": [
    {
     "ename": "InvalidArgumentError",
     "evalue": "cannot compute AddV2 as input #1(zero-based) was expected to be a half tensor but is a float tensor [Op:AddV2]",
     "output_type": "error",
     "traceback": [
      "\u001b[0;31m---------------------------------------------------------------------------\u001b[0m",
      "\u001b[0;31mInvalidArgumentError\u001b[0m                      Traceback (most recent call last)",
      "\u001b[0;32m/tmp/ipykernel_23919/1444564877.py\u001b[0m in \u001b[0;36m<module>\u001b[0;34m\u001b[0m\n\u001b[1;32m      2\u001b[0m \u001b[0;34m\u001b[0m\u001b[0m\n\u001b[1;32m      3\u001b[0m \u001b[0;31m# 'float16'+ 'float32'.\u001b[0m\u001b[0;34m\u001b[0m\u001b[0;34m\u001b[0m\u001b[0;34m\u001b[0m\u001b[0m\n\u001b[0;32m----> 4\u001b[0;31m \u001b[0mt\u001b[0m\u001b[0;34m+\u001b[0m\u001b[0mt2\u001b[0m\u001b[0;34m\u001b[0m\u001b[0;34m\u001b[0m\u001b[0m\n\u001b[0m",
      "\u001b[0;32m~/.local/lib/python3.8/site-packages/tensorflow/python/util/traceback_utils.py\u001b[0m in \u001b[0;36merror_handler\u001b[0;34m(*args, **kwargs)\u001b[0m\n\u001b[1;32m    151\u001b[0m     \u001b[0;32mexcept\u001b[0m \u001b[0mException\u001b[0m \u001b[0;32mas\u001b[0m \u001b[0me\u001b[0m\u001b[0;34m:\u001b[0m\u001b[0;34m\u001b[0m\u001b[0;34m\u001b[0m\u001b[0m\n\u001b[1;32m    152\u001b[0m       \u001b[0mfiltered_tb\u001b[0m \u001b[0;34m=\u001b[0m \u001b[0m_process_traceback_frames\u001b[0m\u001b[0;34m(\u001b[0m\u001b[0me\u001b[0m\u001b[0;34m.\u001b[0m\u001b[0m__traceback__\u001b[0m\u001b[0;34m)\u001b[0m\u001b[0;34m\u001b[0m\u001b[0;34m\u001b[0m\u001b[0m\n\u001b[0;32m--> 153\u001b[0;31m       \u001b[0;32mraise\u001b[0m \u001b[0me\u001b[0m\u001b[0;34m.\u001b[0m\u001b[0mwith_traceback\u001b[0m\u001b[0;34m(\u001b[0m\u001b[0mfiltered_tb\u001b[0m\u001b[0;34m)\u001b[0m \u001b[0;32mfrom\u001b[0m \u001b[0;32mNone\u001b[0m\u001b[0;34m\u001b[0m\u001b[0;34m\u001b[0m\u001b[0m\n\u001b[0m\u001b[1;32m    154\u001b[0m     \u001b[0;32mfinally\u001b[0m\u001b[0;34m:\u001b[0m\u001b[0;34m\u001b[0m\u001b[0;34m\u001b[0m\u001b[0m\n\u001b[1;32m    155\u001b[0m       \u001b[0;32mdel\u001b[0m \u001b[0mfiltered_tb\u001b[0m\u001b[0;34m\u001b[0m\u001b[0;34m\u001b[0m\u001b[0m\n",
      "\u001b[0;32m~/.local/lib/python3.8/site-packages/tensorflow/python/framework/ops.py\u001b[0m in \u001b[0;36mraise_from_not_ok_status\u001b[0;34m(e, name)\u001b[0m\n\u001b[1;32m   7162\u001b[0m \u001b[0;32mdef\u001b[0m \u001b[0mraise_from_not_ok_status\u001b[0m\u001b[0;34m(\u001b[0m\u001b[0me\u001b[0m\u001b[0;34m,\u001b[0m \u001b[0mname\u001b[0m\u001b[0;34m)\u001b[0m\u001b[0;34m:\u001b[0m\u001b[0;34m\u001b[0m\u001b[0;34m\u001b[0m\u001b[0m\n\u001b[1;32m   7163\u001b[0m   \u001b[0me\u001b[0m\u001b[0;34m.\u001b[0m\u001b[0mmessage\u001b[0m \u001b[0;34m+=\u001b[0m \u001b[0;34m(\u001b[0m\u001b[0;34m\" name: \"\u001b[0m \u001b[0;34m+\u001b[0m \u001b[0mname\u001b[0m \u001b[0;32mif\u001b[0m \u001b[0mname\u001b[0m \u001b[0;32mis\u001b[0m \u001b[0;32mnot\u001b[0m \u001b[0;32mNone\u001b[0m \u001b[0;32melse\u001b[0m \u001b[0;34m\"\"\u001b[0m\u001b[0;34m)\u001b[0m\u001b[0;34m\u001b[0m\u001b[0;34m\u001b[0m\u001b[0m\n\u001b[0;32m-> 7164\u001b[0;31m   \u001b[0;32mraise\u001b[0m \u001b[0mcore\u001b[0m\u001b[0;34m.\u001b[0m\u001b[0m_status_to_exception\u001b[0m\u001b[0;34m(\u001b[0m\u001b[0me\u001b[0m\u001b[0;34m)\u001b[0m \u001b[0;32mfrom\u001b[0m \u001b[0;32mNone\u001b[0m  \u001b[0;31m# pylint: disable=protected-access\u001b[0m\u001b[0;34m\u001b[0m\u001b[0;34m\u001b[0m\u001b[0m\n\u001b[0m\u001b[1;32m   7165\u001b[0m \u001b[0;34m\u001b[0m\u001b[0m\n\u001b[1;32m   7166\u001b[0m \u001b[0;34m\u001b[0m\u001b[0m\n",
      "\u001b[0;31mInvalidArgumentError\u001b[0m: cannot compute AddV2 as input #1(zero-based) was expected to be a half tensor but is a float tensor [Op:AddV2]"
     ]
    }
   ],
   "source": [
    "t2 = tf.constant(range(10, 22), shape=(4,3), dtype=tf.float32)\n",
    "\n",
    "# 'float16'+ 'float32'.\n",
    "t+t2"
   ]
  },
  {
   "cell_type": "code",
   "execution_count": 59,
   "id": "bdc3d806-702f-4185-aaa8-05ec969ac7cb",
   "metadata": {},
   "outputs": [
    {
     "data": {
      "text/plain": [
       "<tf.Tensor: shape=(4, 3), dtype=float16, numpy=\n",
       "array([[10., 12., 14.],\n",
       "       [16., 18., 20.],\n",
       "       [22., 24., 26.],\n",
       "       [28., 30., 32.]], dtype=float16)>"
      ]
     },
     "execution_count": 59,
     "metadata": {},
     "output_type": "execute_result"
    }
   ],
   "source": [
    "# Use `cast` para alterar o data type do tensor.\n",
    "t + tf.cast(t2, tf.float16)"
   ]
  },
  {
   "cell_type": "markdown",
   "id": "f31df0fd-d9a4-4f19-83e5-945ab2221c5e",
   "metadata": {},
   "source": [
    "<h3 style='font-size:30px;font-style:italic'> Variables</h3>\n",
    "<div> \n",
    "    <ul style='font-size:20px'> \n",
    "        <li> \n",
    "            <em>tf.variable</em> é também um tensor, mas que admite alterações in-place.\n",
    "        </li>\n",
    "    </ul>\n",
    "</div>"
   ]
  },
  {
   "cell_type": "code",
   "execution_count": 116,
   "id": "3cc864dd-768f-4dff-8f6b-6732255fb2df",
   "metadata": {},
   "outputs": [
    {
     "data": {
      "text/plain": [
       "<tf.Variable 'Variable:0' shape=(4, 4) dtype=float32, numpy=\n",
       "array([[ 1.,  2.,  3.,  4.],\n",
       "       [ 2.,  4.,  6.,  8.],\n",
       "       [ 3.,  6.,  9., 12.],\n",
       "       [ 4.,  8., 12., 16.]], dtype=float32)>"
      ]
     },
     "execution_count": 116,
     "metadata": {},
     "output_type": "execute_result"
    }
   ],
   "source": [
    "# Criando uma variável.\n",
    "v = tf.Variable([[i*a for i in range(1,5)] for a in range(1,5)], dtype=tf.float32)\n",
    "v"
   ]
  },
  {
   "cell_type": "code",
   "execution_count": 117,
   "id": "949998b6-1138-42a1-ac5b-268d6da170d2",
   "metadata": {},
   "outputs": [
    {
     "data": {
      "text/plain": [
       "<tf.Variable 'Variable:0' shape=(4, 4) dtype=float32, numpy=\n",
       "array([[ 1., 20.,  3.,  4.],\n",
       "       [ 2.,  4.,  6.,  8.],\n",
       "       [ 3.,  6.,  9., 12.],\n",
       "       [ 4.,  8., 12., 16.]], dtype=float32)>"
      ]
     },
     "execution_count": 117,
     "metadata": {},
     "output_type": "execute_result"
    }
   ],
   "source": [
    "# Usando `assign` para modificar a posição [0,1].\n",
    "v[0,1].assign(20)\n",
    "v"
   ]
  },
  {
   "cell_type": "code",
   "execution_count": 118,
   "id": "c42758e4-956c-48dc-89cf-8d6ffd7323e1",
   "metadata": {},
   "outputs": [
    {
     "data": {
      "text/plain": [
       "<tf.Variable 'UnreadVariable' shape=(4, 4) dtype=float32, numpy=\n",
       "array([[  1.,  20.,   3.,   4.],\n",
       "       [  2., 100.,   6.,   8.],\n",
       "       [  3.,   6.,   9.,  12.],\n",
       "       [  4.,   8., 200.,  16.]], dtype=float32)>"
      ]
     },
     "execution_count": 118,
     "metadata": {},
     "output_type": "execute_result"
    }
   ],
   "source": [
    "# `scatter_nd_update` modifica múltiplos elementos de uma só vez.\n",
    "v.scatter_nd_update(indices=[[1,1], [3,2]], updates=[100, 200])"
   ]
  },
  {
   "cell_type": "markdown",
   "id": "099ed184-8c18-44fc-bac1-64e93a408a53",
   "metadata": {},
   "source": [
    "<h3 style='font-size:30px;font-style:italic'> Other Data Structures</h3>\n",
    "<div> \n",
    "    <ul style='font-size:20px'> \n",
    "        <li> \n",
    "             Veremos por aqui outros objetos de ordenação importantes para a biblioteca:\n",
    "        </li>\n",
    "    </ul>\n",
    "</div>"
   ]
  },
  {
   "cell_type": "markdown",
   "id": "5fb70e36-7228-43c4-b8a4-ffdb107c0d41",
   "metadata": {},
   "source": [
    "<h4 style='font-size:30px;font-style:italic;text-decoration:underline'> SparseTensor</h4>\n",
    "<div> \n",
    "    <ul style='font-size:20px'> \n",
    "        <li> \n",
    "            Equivalente a uma matriz esparsa do scipy. O módulo <em> tf.sparse</em> contém funções próprias para esse obejto.\n",
    "        </li>\n",
    "    </ul>\n",
    "</div>"
   ]
  },
  {
   "cell_type": "code",
   "execution_count": 133,
   "id": "06647cb0-f4b4-43e5-b0a0-889d0b592956",
   "metadata": {},
   "outputs": [
    {
     "data": {
      "text/plain": [
       "<tensorflow.python.framework.sparse_tensor.SparseTensor at 0x7fb60d4206a0>"
      ]
     },
     "execution_count": 133,
     "metadata": {},
     "output_type": "execute_result"
    }
   ],
   "source": [
    "# Criando uma matriz identidade. Bastante apropriada para ser armazenada como um SparseTensor.\n",
    "sparse = tf.SparseTensor(indices=[[i,i] for i in range(5)], values=[1 for i in range(5)], dense_shape=[5,5])\n",
    "sparse"
   ]
  },
  {
   "cell_type": "code",
   "execution_count": 132,
   "id": "a440df2e-71d4-44ec-a2a7-1669de3f0440",
   "metadata": {},
   "outputs": [
    {
     "data": {
      "text/plain": [
       "<tf.Tensor: shape=(5, 5), dtype=int32, numpy=\n",
       "array([[1, 0, 0, 0, 0],\n",
       "       [0, 1, 0, 0, 0],\n",
       "       [0, 0, 1, 0, 0],\n",
       "       [0, 0, 0, 1, 0],\n",
       "       [0, 0, 0, 0, 1]], dtype=int32)>"
      ]
     },
     "execution_count": 132,
     "metadata": {},
     "output_type": "execute_result"
    }
   ],
   "source": [
    "# Tornando o tensor denso.\n",
    "tf.sparse.to_dense(sparse)"
   ]
  },
  {
   "cell_type": "markdown",
   "id": "0c78449e-8ca2-4321-8be2-f214870e8ff3",
   "metadata": {},
   "source": [
    "<p style='color:red'> Tensor arrays</p>"
   ]
  }
 ],
 "metadata": {
  "kernelspec": {
   "display_name": "Python 3 (ipykernel)",
   "language": "python",
   "name": "python3"
  },
  "language_info": {
   "codemirror_mode": {
    "name": "ipython",
    "version": 3
   },
   "file_extension": ".py",
   "mimetype": "text/x-python",
   "name": "python",
   "nbconvert_exporter": "python",
   "pygments_lexer": "ipython3",
   "version": "3.8.10"
  }
 },
 "nbformat": 4,
 "nbformat_minor": 5
}
