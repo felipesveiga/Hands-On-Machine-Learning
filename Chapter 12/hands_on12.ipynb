{
 "cells": [
  {
   "cell_type": "markdown",
   "id": "da9bd146-d458-49fe-a33e-c432ddd18ec3",
   "metadata": {},
   "source": [
    "<h1 style='font-size:40px'> Custom Models and Training with TensorFlow</h1>"
   ]
  },
  {
   "cell_type": "markdown",
   "id": "89e16877-5c58-47cd-b034-c461ae8b360c",
   "metadata": {},
   "source": [
    "<div> \n",
    "    <ul style='font-size:20px'> \n",
    "        <li> \n",
    "            Exploraremos as outras funcionalidades contidas no TensorFlow. Seu ecossistema possui módulos para tratar os mais diversos problemas do Machine Learning. Segue o diagrama apresentado pelo livro:\n",
    "            <center style='margin-top:10px'> \n",
    "                <img src='tf_diag.png'>\n",
    "            </center>\n",
    "        </li>\n",
    "    </ul>\n",
    "</div>"
   ]
  },
  {
   "cell_type": "markdown",
   "id": "2d521d7e-aee9-44f6-abc7-85c53cd49893",
   "metadata": {},
   "source": [
    "<h2 style='font-size:30px'> Using TensorFlow Like Numpy</h2>"
   ]
  },
  {
   "cell_type": "markdown",
   "id": "0c78449e-8ca2-4321-8be2-f214870e8ff3",
   "metadata": {},
   "source": [
    "<p style='color:red'> Using TensorFlow Like Numpy</p>"
   ]
  }
 ],
 "metadata": {
  "kernelspec": {
   "display_name": "Python 3 (ipykernel)",
   "language": "python",
   "name": "python3"
  },
  "language_info": {
   "codemirror_mode": {
    "name": "ipython",
    "version": 3
   },
   "file_extension": ".py",
   "mimetype": "text/x-python",
   "name": "python",
   "nbconvert_exporter": "python",
   "pygments_lexer": "ipython3",
   "version": "3.8.10"
  }
 },
 "nbformat": 4,
 "nbformat_minor": 5
}
